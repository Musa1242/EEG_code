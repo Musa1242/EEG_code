{
 "cells": [
  {
   "cell_type": "code",
   "execution_count": 1,
   "outputs": [],
   "source": [
    "import mne\n",
    "import matplotlib\n",
    "import pathlib\n",
    "import PyQt5\n",
    "import matplotlib.pyplot as plt\n",
    "from matplotlib.dates import DateFormatter\n",
    "from matplotlib.ticker import FuncFormatter\n",
    "import numpy as np\n",
    "matplotlib.use('Qt5Agg')\n",
    "import pandas as pd\n",
    "import sklearn\n",
    "from sklearn.tree import DecisionTreeClassifier\n",
    "from sklearn import svm\n",
    "import string, time, os\n",
    "\n"
   ],
   "metadata": {
    "collapsed": false,
    "pycharm": {
     "name": "#%%\n"
    }
   }
  },
  {
   "cell_type": "code",
   "execution_count": null,
   "outputs": [],
   "source": [
    "path_to_file = \"P01_fp-epo.fif\"\n",
    "p1_data = mne.read_epochs(path_to_file, proj=True, preload=True, verbose=None)\n",
    "epochs = mne.read_epochs(path_to_file, proj=True, preload=True, verbose=None)\n",
    "p1_cong = p1_data[\"fp_congruent\"].get_data()*1e6\n",
    "print(p1_cong.shape)\n",
    "p1_incong = p1_data[\"fp_incongruent\"].get_data()*1e6\n",
    "print(p1_incong.shape)\n",
    "ch_names = epochs.info[\"ch_names\"]\n",
    "print(ch_names)\n",
    "\n",
    "ch_idx1 = ch_names.index(\"Fp1\") #Pz, Cz, Oz\n",
    "ch_idx2 = ch_names.index(\"Pz\")\n",
    "ch_idx4 = ch_names.index(\"Oz\")\n",
    "\n",
    "ch_idx3 = ch_names.index(\"Cz\")\n",
    "\n",
    "\n",
    "p1_avg1fp1 = np.mean(p1_cong[:,ch_idx1,:],axis=0)\n",
    "p1_avg1pz = np.mean(p1_cong[:,ch_idx2,:],axis=0)\n",
    "p1_avg1cz = np.mean(p1_cong[:,ch_idx3,:],axis=0)\n",
    "p1_avg1oz = np.mean(p1_cong[:,ch_idx4,:],axis=0)\n",
    "print(p1_avg1fp1.shape)\n",
    "print(p1_avg1pz.shape)\n",
    "print(p1_avg1cz.shape)\n",
    "print(p1_avg1oz.shape)\n",
    "\n",
    "\n",
    "\n",
    "p1_avg2fp1 = np.mean(p1_incong[:,ch_idx1,:],axis=0)\n",
    "print(p1_avg2fp1.shape)\n",
    "p1_avg2pz = np.mean(p1_incong[:,ch_idx2,:],axis=0)\n",
    "print(p1_avg2pz.shape)\n",
    "p1_avg2cz = np.mean(p1_incong[:,ch_idx3,:],axis=0)\n",
    "print(p1_avg2cz.shape)\n",
    "p1_avg2oz = np.mean(p1_incong[:,ch_idx4,:],axis=0)\n",
    "print(p1_avg2oz.shape)\n"
   ],
   "metadata": {
    "collapsed": false,
    "pycharm": {
     "name": "#%%\n"
    }
   }
  },
  {
   "cell_type": "code",
   "execution_count": null,
   "outputs": [],
   "source": [
    "plt.figure()\n",
    "plt.plot(p1_avg1fp1, color = \"blue\")\n",
    "plt.plot(p1_avg2fp1, color = \"red\")\n",
    "plt.show()"
   ],
   "metadata": {
    "collapsed": false,
    "pycharm": {
     "name": "#%%\n"
    }
   }
  },
  {
   "cell_type": "code",
   "execution_count": null,
   "outputs": [],
   "source": [
    "col_maxc1fp1 = p1_avg1fp1.max(axis=0)\n",
    "col_maxc1fp1"
   ],
   "metadata": {
    "collapsed": false,
    "pycharm": {
     "name": "#%%\n"
    }
   }
  },
  {
   "cell_type": "code",
   "execution_count": null,
   "outputs": [],
   "source": [
    "col_maxin1fp1 = p1_avg2fp1.max(axis=0)\n",
    "col_maxin1fp1"
   ],
   "metadata": {
    "collapsed": false,
    "pycharm": {
     "name": "#%%\n"
    }
   }
  },
  {
   "cell_type": "code",
   "execution_count": null,
   "outputs": [],
   "source": [
    "plt.figure()\n",
    "plt.plot(p1_avg1pz, color = \"blue\")\n",
    "plt.plot(p1_avg2pz, color = \"red\")\n",
    "plt.show()"
   ],
   "metadata": {
    "collapsed": false,
    "pycharm": {
     "name": "#%%\n"
    }
   }
  },
  {
   "cell_type": "code",
   "execution_count": null,
   "outputs": [],
   "source": [
    "col_maxc1pz = p1_avg1pz.max(axis=0)\n",
    "col_maxc1pz"
   ],
   "metadata": {
    "collapsed": false,
    "pycharm": {
     "name": "#%%\n"
    }
   }
  },
  {
   "cell_type": "code",
   "execution_count": null,
   "outputs": [],
   "source": [
    "col_maxin1pz = p1_avg2pz.max(axis=0)\n",
    "col_maxin1pz"
   ],
   "metadata": {
    "collapsed": false,
    "pycharm": {
     "name": "#%%\n"
    }
   }
  },
  {
   "cell_type": "code",
   "execution_count": null,
   "outputs": [],
   "source": [
    "plt.figure()\n",
    "plt.plot(p1_avg1cz, color = \"blue\")\n",
    "plt.plot(p1_avg2cz, color = \"red\")\n",
    "plt.show()"
   ],
   "metadata": {
    "collapsed": false,
    "pycharm": {
     "name": "#%%\n"
    }
   }
  },
  {
   "cell_type": "code",
   "execution_count": null,
   "outputs": [],
   "source": [
    "col_maxc1cz = p1_avg1cz.max(axis=0)\n",
    "col_maxc1cz"
   ],
   "metadata": {
    "collapsed": false,
    "pycharm": {
     "name": "#%%\n"
    }
   }
  },
  {
   "cell_type": "code",
   "execution_count": null,
   "outputs": [],
   "source": [
    "col_maxin1cz = p1_avg2cz.max(axis=0)\n",
    "col_maxin1cz"
   ],
   "metadata": {
    "collapsed": false,
    "pycharm": {
     "name": "#%%\n"
    }
   }
  },
  {
   "cell_type": "code",
   "execution_count": null,
   "outputs": [],
   "source": [
    "plt.figure()\n",
    "plt.plot(p1_avg1oz, color = \"blue\")\n",
    "plt.plot(p1_avg2oz, color = \"red\")\n",
    "plt.show()"
   ],
   "metadata": {
    "collapsed": false,
    "pycharm": {
     "name": "#%%\n"
    }
   }
  },
  {
   "cell_type": "code",
   "execution_count": null,
   "outputs": [],
   "source": [
    "col_maxc1oz = p1_avg1oz.max(axis=0)\n",
    "col_maxc1oz"
   ],
   "metadata": {
    "collapsed": false,
    "pycharm": {
     "name": "#%%\n"
    }
   }
  },
  {
   "cell_type": "code",
   "execution_count": null,
   "outputs": [],
   "source": [
    "col_maxin1oz = p1_avg2oz.max(axis=0)\n",
    "col_maxin1oz"
   ],
   "metadata": {
    "collapsed": false,
    "pycharm": {
     "name": "#%%\n"
    }
   }
  },
  {
   "cell_type": "code",
   "execution_count": null,
   "outputs": [],
   "source": [
    "data1 =pd.DataFrame({'pnumber' : ['1cong', '1incong'],\n",
    "       'fp1' : [col_maxc1fp1, col_maxin1fp1],\n",
    "        'pz' : [col_maxc1pz, col_maxin1pz],\n",
    "        'cz' : [col_maxc1cz, col_maxin1cz],\n",
    "        'oz' : [col_maxc1oz, col_maxin1oz]\n",
    "        })\n",
    "df1 = pd.DataFrame(data=data1)\n",
    "df1.head()"
   ],
   "metadata": {
    "collapsed": false,
    "pycharm": {
     "name": "#%%\n"
    }
   }
  },
  {
   "cell_type": "markdown",
   "source": [
    "################Participant 2#########"
   ],
   "metadata": {
    "collapsed": false,
    "pycharm": {
     "name": "#%% md\n"
    }
   }
  },
  {
   "cell_type": "code",
   "execution_count": null,
   "outputs": [],
   "source": [
    "path_to_file2 = \"P02_fp-epo.fif\"\n",
    "p2_data = mne.read_epochs(path_to_file2, proj=True, preload=True, verbose=None)\n",
    "p2_cong = p2_data[\"fp_congruent\"].get_data() * 1e6\n",
    "print(p2_cong.shape)\n",
    "p2_incong = p2_data[\"fp_incongruent\"].get_data() * 1e6\n",
    "print(p2_incong.shape)\n",
    "epochs2 = mne.read_epochs(path_to_file2, proj=True, preload=True, verbose=None)\n",
    "ch_names = epochs2.info[\"ch_names\"]\n",
    "ch_idx21 = ch_names.index(\"Fp1\") #Pz, Cz, Oz\n",
    "ch_idx22 = ch_names.index(\"Pz\")\n",
    "ch_idx23 = ch_names.index(\"Cz\")\n",
    "ch_idx24 = ch_names.index(\"Oz\")\n",
    "\n",
    "\n",
    "p2_avg1fp1 = np.mean(p2_cong[:,ch_idx21,:],axis=0)\n",
    "p2_avg1pz = np.mean(p2_cong[:,ch_idx22,:],axis=0)\n",
    "p2_avg1cz = np.mean(p2_cong[:,ch_idx23,:],axis=0)\n",
    "p2_avg1oz = np.mean(p2_cong[:,ch_idx24,:],axis=0)\n",
    "\n",
    "print(p2_avg1fp1.shape)\n",
    "print(p2_avg1pz.shape)\n",
    "print(p2_avg1cz.shape)\n",
    "print(p2_avg1oz.shape)\n",
    "p2_avg2fp1 = np.mean(p2_incong[:, ch_idx21, :], axis=0)\n",
    "p2_avg2pz = np.mean(p2_incong[:,ch_idx22,:],axis=0)\n",
    "p2_avg2cz = np.mean(p2_incong[:,ch_idx23,:],axis=0)\n",
    "p2_avg2oz = np.mean(p2_incong[:,ch_idx24,:],axis=0)\n",
    "print(p2_avg2fp1.shape)\n",
    "print(p2_avg2pz.shape)\n",
    "print(p2_avg2cz.shape)\n",
    "print(p2_avg2oz.shape)\n",
    "\n"
   ],
   "metadata": {
    "collapsed": false,
    "pycharm": {
     "name": "#%%\n"
    }
   }
  },
  {
   "cell_type": "code",
   "execution_count": null,
   "outputs": [],
   "source": [
    "plt.figure()\n",
    "plt.plot(p2_avg1fp1, color = \"blue\")\n",
    "plt.plot(p2_avg2fp1, color = \"red\")\n",
    "plt.show()"
   ],
   "metadata": {
    "collapsed": false,
    "pycharm": {
     "name": "#%%\n"
    }
   }
  },
  {
   "cell_type": "code",
   "execution_count": null,
   "outputs": [],
   "source": [
    "col_maxc2fp1 = p2_avg1fp1.max(axis=0)\n",
    "col_maxc2fp1"
   ],
   "metadata": {
    "collapsed": false,
    "pycharm": {
     "name": "#%%\n"
    }
   }
  },
  {
   "cell_type": "code",
   "execution_count": null,
   "outputs": [],
   "source": [
    "col_maxin2fp1 = p2_avg2fp1.max(axis=0)\n",
    "col_maxin2fp1"
   ],
   "metadata": {
    "collapsed": false,
    "pycharm": {
     "name": "#%%\n"
    }
   }
  },
  {
   "cell_type": "code",
   "execution_count": null,
   "outputs": [],
   "source": [
    "plt.figure()\n",
    "plt.plot(p2_avg1pz, color = \"blue\")\n",
    "plt.plot(p2_avg2pz, color = \"red\")\n",
    "plt.show()"
   ],
   "metadata": {
    "collapsed": false,
    "pycharm": {
     "name": "#%%\n"
    }
   }
  },
  {
   "cell_type": "code",
   "execution_count": null,
   "outputs": [],
   "source": [
    "col_maxc2pz = p2_avg1pz.max(axis=0)\n",
    "col_maxc2pz"
   ],
   "metadata": {
    "collapsed": false,
    "pycharm": {
     "name": "#%%\n"
    }
   }
  },
  {
   "cell_type": "code",
   "execution_count": null,
   "outputs": [],
   "source": [
    "col_maxin2pz = p2_avg2pz.max(axis=0)\n",
    "col_maxin2pz"
   ],
   "metadata": {
    "collapsed": false,
    "pycharm": {
     "name": "#%%\n"
    }
   }
  },
  {
   "cell_type": "code",
   "execution_count": null,
   "outputs": [],
   "source": [
    "plt.figure()\n",
    "plt.plot(p2_avg1cz, color = \"blue\")\n",
    "plt.plot(p2_avg2cz, color = \"red\")\n",
    "plt.show()"
   ],
   "metadata": {
    "collapsed": false,
    "pycharm": {
     "name": "#%%\n"
    }
   }
  },
  {
   "cell_type": "code",
   "execution_count": null,
   "outputs": [],
   "source": [
    "col_maxc2cz = p2_avg1cz.max(axis=0)\n",
    "col_maxc2cz"
   ],
   "metadata": {
    "collapsed": false,
    "pycharm": {
     "name": "#%%\n"
    }
   }
  },
  {
   "cell_type": "code",
   "execution_count": null,
   "outputs": [],
   "source": [
    "col_maxin2cz = p2_avg2cz.max(axis=0)\n",
    "col_maxin2cz"
   ],
   "metadata": {
    "collapsed": false,
    "pycharm": {
     "name": "#%%\n"
    }
   }
  },
  {
   "cell_type": "code",
   "execution_count": null,
   "outputs": [],
   "source": [
    "plt.figure()\n",
    "plt.plot(p2_avg1oz, color = \"blue\")\n",
    "plt.plot(p2_avg2oz, color = \"red\")\n",
    "plt.show()\n"
   ],
   "metadata": {
    "collapsed": false,
    "pycharm": {
     "name": "#%%\n"
    }
   }
  },
  {
   "cell_type": "code",
   "execution_count": null,
   "outputs": [],
   "source": [
    "col_maxc2oz = p2_avg1oz.max(axis=0)\n",
    "col_maxc2oz"
   ],
   "metadata": {
    "collapsed": false,
    "pycharm": {
     "name": "#%%\n"
    }
   }
  },
  {
   "cell_type": "code",
   "execution_count": null,
   "outputs": [],
   "source": [
    "col_maxin2oz = p2_avg2oz.max(axis=0)\n",
    "col_maxin2oz"
   ],
   "metadata": {
    "collapsed": false,
    "pycharm": {
     "name": "#%%\n"
    }
   }
  },
  {
   "cell_type": "code",
   "execution_count": null,
   "outputs": [],
   "source": [
    "data2 = pd.DataFrame({'pnumber' : ['2cong', '2incong'],\n",
    "       'fp1' : [col_maxc2fp1, col_maxin2fp1],\n",
    "        'pz' : [col_maxc2pz, col_maxin2pz],\n",
    "        'cz' : [col_maxc2cz, col_maxin2cz],\n",
    "        'oz' : [col_maxc2oz, col_maxin2oz]\n",
    "        })\n",
    "\n",
    "df2 = pd.DataFrame(data=data2)\n",
    "df2.head()"
   ],
   "metadata": {
    "collapsed": false,
    "pycharm": {
     "name": "#%%\n"
    }
   }
  },
  {
   "cell_type": "markdown",
   "source": [
    "##############Participant3##########"
   ],
   "metadata": {
    "collapsed": false,
    "pycharm": {
     "name": "#%% md\n"
    }
   }
  },
  {
   "cell_type": "code",
   "execution_count": null,
   "outputs": [],
   "source": [
    "path_to_file3 = \"P03_fp-epo.fif\"\n",
    "p3_data = mne.read_epochs(path_to_file3, proj=True, preload=True, verbose=None)\n",
    "p3_cong = p3_data[\"fp_congruent\"].get_data() * 1e6\n",
    "print(p3_cong.shape)\n",
    "p3_incong = p3_data[\"fp_incongruent\"].get_data() * 1e6\n",
    "print(p3_incong.shape)\n",
    "epochs3 = mne.read_epochs(path_to_file3, proj=True, preload=True, verbose=None)\n",
    "#\n",
    "ch_names = epochs3.info[\"ch_names\"]\n",
    "ch_idx31 = ch_names.index(\"Fp1\") #Pz, Cz, Oz\n",
    "ch_idx32 = ch_names.index(\"Pz\")\n",
    "ch_idx33 = ch_names.index(\"Cz\")\n",
    "ch_idx34 = ch_names.index(\"Oz\")\n",
    "\n",
    "\n",
    "\n",
    "p3_avg1fp1 = np.mean(p3_cong[:,ch_idx31,:],axis=0)\n",
    "p3_avg1pz = np.mean(p3_cong[:,ch_idx32,:],axis=0)\n",
    "p3_avg1cz = np.mean(p3_cong[:,ch_idx33,:],axis=0)\n",
    "p3_avg1oz = np.mean(p3_cong[:,ch_idx34,:],axis=0)\n",
    "print(p3_avg1fp1.shape)\n",
    "print(p3_avg1pz.shape)\n",
    "print(p3_avg1cz.shape)\n",
    "print(p3_avg1oz.shape)\n",
    "#\n",
    "p3_avg2fp1 = np.mean(p3_incong[:, ch_idx31, :], axis=0)\n",
    "p3_avg2pz = np.mean(p3_incong[:,ch_idx32,:],axis=0)\n",
    "p3_avg2cz = np.mean(p3_incong[:,ch_idx33,:],axis=0)\n",
    "p3_avg2oz = np.mean(p3_incong[:,ch_idx34,:],axis=0)\n",
    "print(p3_avg2fp1.shape)\n",
    "print(p3_avg2pz.shape)\n",
    "print(p3_avg2cz.shape)\n",
    "print(p3_avg2oz.shape)\n",
    "\n",
    "\n"
   ],
   "metadata": {
    "collapsed": false,
    "pycharm": {
     "name": "#%%\n"
    }
   }
  },
  {
   "cell_type": "code",
   "execution_count": null,
   "outputs": [],
   "source": [
    "plt.figure()\n",
    "plt.plot(p3_avg1fp1, color = \"blue\")\n",
    "plt.plot(p3_avg2fp1, color = \"red\")\n",
    "plt.show()"
   ],
   "metadata": {
    "collapsed": false,
    "pycharm": {
     "name": "#%%\n"
    }
   }
  },
  {
   "cell_type": "code",
   "execution_count": null,
   "outputs": [],
   "source": [
    "col_maxc3fp1 = p3_avg1fp1.max(axis=0)\n",
    "col_maxc3fp1"
   ],
   "metadata": {
    "collapsed": false,
    "pycharm": {
     "name": "#%%\n"
    }
   }
  },
  {
   "cell_type": "code",
   "execution_count": null,
   "outputs": [],
   "source": [
    "col_maxin3fp1 = p3_avg2fp1.max(axis=0)\n",
    "col_maxin3fp1"
   ],
   "metadata": {
    "collapsed": false,
    "pycharm": {
     "name": "#%%\n"
    }
   }
  },
  {
   "cell_type": "code",
   "execution_count": null,
   "outputs": [],
   "source": [
    "plt.figure()\n",
    "plt.plot(p3_avg1pz, color = \"blue\")\n",
    "plt.plot(p3_avg2pz, color = \"red\")\n",
    "plt.show()"
   ],
   "metadata": {
    "collapsed": false,
    "pycharm": {
     "name": "#%%\n"
    }
   }
  },
  {
   "cell_type": "code",
   "execution_count": null,
   "outputs": [],
   "source": [
    "col_maxc3pz = p3_avg1pz.max(axis=0)\n",
    "col_maxc3pz"
   ],
   "metadata": {
    "collapsed": false,
    "pycharm": {
     "name": "#%%\n"
    }
   }
  },
  {
   "cell_type": "code",
   "execution_count": null,
   "outputs": [],
   "source": [
    "col_maxin3pz = p3_avg2pz.max(axis=0)\n",
    "col_maxin3pz"
   ],
   "metadata": {
    "collapsed": false,
    "pycharm": {
     "name": "#%%\n"
    }
   }
  },
  {
   "cell_type": "code",
   "execution_count": null,
   "outputs": [],
   "source": [
    "plt.figure()\n",
    "plt.plot(p3_avg1cz, color = \"blue\")\n",
    "plt.plot(p3_avg2cz, color = \"red\")\n",
    "plt.show()"
   ],
   "metadata": {
    "collapsed": false,
    "pycharm": {
     "name": "#%%\n"
    }
   }
  },
  {
   "cell_type": "code",
   "execution_count": null,
   "outputs": [],
   "source": [
    "col_maxc3cz = p3_avg1cz.max(axis=0)\n",
    "col_maxc3cz"
   ],
   "metadata": {
    "collapsed": false,
    "pycharm": {
     "name": "#%%\n"
    }
   }
  },
  {
   "cell_type": "code",
   "execution_count": null,
   "outputs": [],
   "source": [
    "col_maxin3cz = p3_avg2cz.max(axis=0)\n",
    "col_maxin3cz"
   ],
   "metadata": {
    "collapsed": false,
    "pycharm": {
     "name": "#%%\n"
    }
   }
  },
  {
   "cell_type": "code",
   "execution_count": null,
   "outputs": [],
   "source": [
    "plt.figure()\n",
    "plt.plot(p3_avg1oz, color = \"blue\")\n",
    "plt.plot(p3_avg2oz, color = \"red\")\n",
    "plt.show()"
   ],
   "metadata": {
    "collapsed": false,
    "pycharm": {
     "name": "#%%\n"
    }
   }
  },
  {
   "cell_type": "code",
   "execution_count": null,
   "outputs": [],
   "source": [
    "col_maxc3oz = p3_avg1oz.max(axis=0)\n",
    "col_maxc3oz"
   ],
   "metadata": {
    "collapsed": false,
    "pycharm": {
     "name": "#%%\n"
    }
   }
  },
  {
   "cell_type": "code",
   "execution_count": null,
   "outputs": [],
   "source": [
    "col_maxin3oz = p3_avg2oz.max(axis=0)\n",
    "col_maxin3oz"
   ],
   "metadata": {
    "collapsed": false,
    "pycharm": {
     "name": "#%%\n"
    }
   }
  },
  {
   "cell_type": "code",
   "execution_count": null,
   "outputs": [],
   "source": [
    "data3 = pd.DataFrame({'pnumber' : ['3cong', '3incong'],\n",
    "       'fp1' : [col_maxc3fp1, col_maxin3fp1],\n",
    "        'pz' : [col_maxc3pz, col_maxin3pz],\n",
    "        'cz' : [col_maxc3cz, col_maxin3cz],\n",
    "        'oz' : [col_maxc3oz, col_maxin3oz]\n",
    "        })\n",
    "\n",
    "df3 = pd.DataFrame(data=data3)\n",
    "df3.head()"
   ],
   "metadata": {
    "collapsed": false,
    "pycharm": {
     "name": "#%%\n"
    }
   }
  },
  {
   "cell_type": "code",
   "execution_count": null,
   "outputs": [],
   "source": [
    "dataA = pd.concat([data2, data3], axis=0, ignore_index=True)\n",
    "dfA = pd.DataFrame(data=dataA)\n",
    "dfA.head()"
   ],
   "metadata": {
    "collapsed": false,
    "pycharm": {
     "name": "#%%\n"
    }
   }
  },
  {
   "cell_type": "code",
   "execution_count": null,
   "outputs": [],
   "source": [
    "dataB = pd.concat([data1, dataA], axis=0, ignore_index=True)\n",
    "dfB = pd.DataFrame(data=dataB)\n",
    "dfB"
   ],
   "metadata": {
    "collapsed": false,
    "pycharm": {
     "name": "#%%\n"
    }
   }
  },
  {
   "cell_type": "markdown",
   "source": [
    "###############Participant4############"
   ],
   "metadata": {
    "collapsed": false,
    "pycharm": {
     "name": "#%% md\n"
    }
   }
  },
  {
   "cell_type": "code",
   "execution_count": null,
   "outputs": [],
   "source": [
    "path_to_file4 = \"P04_fp-epo.fif\"\n",
    "p4_data = mne.read_epochs(path_to_file4, proj=True, preload=True, verbose=None)\n",
    "p4_cong = p4_data[\"fp_congruent\"].get_data() * 1e6\n",
    "print(p4_cong.shape)\n",
    "p4_incong = p4_data[\"fp_incongruent\"].get_data() * 1e6\n",
    "print(p4_incong.shape)\n",
    "epochs4 = mne.read_epochs(path_to_file4, proj=True, preload=True, verbose=None)\n",
    "#\n",
    "ch_names4 = epochs4.info[\"ch_names\"]\n",
    "ch_idx41 = ch_names.index(\"Fp1\") #Pz, Cz, Oz\n",
    "ch_idx42 = ch_names.index(\"Pz\")\n",
    "ch_idx43 = ch_names.index(\"Cz\")\n",
    "ch_idx44 = ch_names.index(\"Oz\")\n",
    "\n",
    "\n",
    "p4_avg1fp1 = np.mean(p4_cong[:,ch_idx41,:],axis=0)\n",
    "p4_avg1pz = np.mean(p4_cong[:,ch_idx42,:],axis=0)\n",
    "p4_avg1cz = np.mean(p4_cong[:,ch_idx43,:],axis=0)\n",
    "p4_avg1oz = np.mean(p4_cong[:,ch_idx44,:],axis=0)\n",
    "print(p4_avg1fp1.shape)\n",
    "print(p4_avg1pz.shape)\n",
    "print(p4_avg1cz.shape)\n",
    "print(p4_avg1oz.shape)\n",
    "#\n",
    "p4_avg2fp1 = np.mean(p4_incong[:, ch_idx41, :], axis=0)\n",
    "p4_avg2pz = np.mean(p4_incong[:,ch_idx42,:],axis=0)\n",
    "p4_avg2cz = np.mean(p4_incong[:,ch_idx43,:],axis=0)\n",
    "p4_avg2oz = np.mean(p4_incong[:,ch_idx44,:],axis=0)\n",
    "print(p4_avg2fp1.shape)\n",
    "print(p4_avg2pz.shape)\n",
    "print(p4_avg2cz.shape)\n",
    "print(p4_avg2oz.shape)\n"
   ],
   "metadata": {
    "collapsed": false,
    "pycharm": {
     "name": "#%%\n"
    }
   }
  },
  {
   "cell_type": "code",
   "execution_count": null,
   "outputs": [],
   "source": [
    "plt.figure()\n",
    "plt.plot(p4_avg1fp1, color = \"blue\")\n",
    "plt.plot(p4_avg2fp1, color = \"red\")\n",
    "plt.show()"
   ],
   "metadata": {
    "collapsed": false,
    "pycharm": {
     "name": "#%%\n"
    }
   }
  },
  {
   "cell_type": "code",
   "execution_count": null,
   "outputs": [],
   "source": [
    "col_maxc4fp1 = p4_avg1fp1.max(axis=0)\n",
    "col_maxc4fp1"
   ],
   "metadata": {
    "collapsed": false,
    "pycharm": {
     "name": "#%%\n"
    }
   }
  },
  {
   "cell_type": "code",
   "execution_count": null,
   "outputs": [],
   "source": [
    "col_maxin4fp1 = p4_avg2fp1.max(axis=0)\n",
    "col_maxin4fp1"
   ],
   "metadata": {
    "collapsed": false,
    "pycharm": {
     "name": "#%%\n"
    }
   }
  },
  {
   "cell_type": "code",
   "execution_count": null,
   "outputs": [],
   "source": [
    "plt.figure()\n",
    "plt.plot(p4_avg1pz, color = \"blue\")\n",
    "plt.plot(p4_avg2pz, color = \"red\")\n",
    "plt.show()"
   ],
   "metadata": {
    "collapsed": false,
    "pycharm": {
     "name": "#%%\n"
    }
   }
  },
  {
   "cell_type": "code",
   "execution_count": null,
   "outputs": [],
   "source": [
    "col_maxc4pz = p4_avg1pz.max(axis=0)\n",
    "col_maxc4pz"
   ],
   "metadata": {
    "collapsed": false,
    "pycharm": {
     "name": "#%%\n"
    }
   }
  },
  {
   "cell_type": "code",
   "execution_count": null,
   "outputs": [],
   "source": [
    "col_maxin4pz = p4_avg2pz.max(axis=0)\n",
    "col_maxin4pz"
   ],
   "metadata": {
    "collapsed": false,
    "pycharm": {
     "name": "#%%\n"
    }
   }
  },
  {
   "cell_type": "code",
   "execution_count": null,
   "outputs": [],
   "source": [
    "plt.figure()\n",
    "plt.plot(p4_avg1cz, color = \"blue\")\n",
    "plt.plot(p4_avg2cz, color = \"red\")\n",
    "plt.show()"
   ],
   "metadata": {
    "collapsed": false,
    "pycharm": {
     "name": "#%%\n"
    }
   }
  },
  {
   "cell_type": "code",
   "execution_count": null,
   "outputs": [],
   "source": [
    "col_maxc4cz = p4_avg1cz.max(axis=0)\n",
    "col_maxc4cz"
   ],
   "metadata": {
    "collapsed": false,
    "pycharm": {
     "name": "#%%\n"
    }
   }
  },
  {
   "cell_type": "code",
   "execution_count": null,
   "outputs": [],
   "source": [
    "col_maxin4cz = p4_avg2cz.max(axis=0)\n",
    "col_maxin4cz"
   ],
   "metadata": {
    "collapsed": false,
    "pycharm": {
     "name": "#%%\n"
    }
   }
  },
  {
   "cell_type": "code",
   "execution_count": null,
   "outputs": [],
   "source": [
    "plt.figure()\n",
    "plt.plot(p4_avg1oz, color = \"blue\")\n",
    "plt.plot(p4_avg2oz, color = \"red\")\n",
    "plt.show()"
   ],
   "metadata": {
    "collapsed": false,
    "pycharm": {
     "name": "#%%\n"
    }
   }
  },
  {
   "cell_type": "code",
   "execution_count": null,
   "outputs": [],
   "source": [
    "col_maxc4oz = p4_avg1oz.max(axis=0)\n",
    "col_maxc4oz"
   ],
   "metadata": {
    "collapsed": false,
    "pycharm": {
     "name": "#%%\n"
    }
   }
  },
  {
   "cell_type": "code",
   "execution_count": null,
   "outputs": [],
   "source": [
    "col_maxin4oz = p4_avg2oz.max(axis=0)\n",
    "col_maxin4oz"
   ],
   "metadata": {
    "collapsed": false,
    "pycharm": {
     "name": "#%%\n"
    }
   }
  },
  {
   "cell_type": "code",
   "execution_count": null,
   "outputs": [],
   "source": [
    "data4 = pd.DataFrame({'pnumber' : ['4cong', '4incong'],\n",
    "       'fp1' : [col_maxc4fp1, col_maxin4fp1],\n",
    "        'pz' : [col_maxc4pz, col_maxin4pz],\n",
    "        'cz' : [col_maxc4cz, col_maxin4cz],\n",
    "        'oz' : [col_maxc4oz, col_maxin4oz]\n",
    "        })\n",
    "\n",
    "df4 = pd.DataFrame(data=data4)\n",
    "df4.head()"
   ],
   "metadata": {
    "collapsed": false,
    "pycharm": {
     "name": "#%%\n"
    }
   }
  },
  {
   "cell_type": "code",
   "execution_count": null,
   "outputs": [],
   "source": [
    "dataC = pd.concat([dataB, data4], axis=0, ignore_index=True)\n",
    "dfC = pd.DataFrame(data=dataC)\n",
    "dfC"
   ],
   "metadata": {
    "collapsed": false,
    "pycharm": {
     "name": "#%%\n"
    }
   }
  },
  {
   "cell_type": "markdown",
   "source": [
    "################Participant 5##############"
   ],
   "metadata": {
    "collapsed": false,
    "pycharm": {
     "name": "#%% md\n"
    }
   }
  },
  {
   "cell_type": "code",
   "execution_count": null,
   "outputs": [],
   "source": [
    "path_to_file5 = \"P05_fp-epo.fif\"\n",
    "p5_data = mne.read_epochs(path_to_file5, proj=True, preload=True, verbose=None)\n",
    "p5_cong = p5_data[\"fp_congruent\"].get_data() * 1e6\n",
    "print(p5_cong.shape)\n",
    "p5_incong = p5_data[\"fp_incongruent\"].get_data() * 1e6\n",
    "print(p5_incong.shape)\n",
    "epochs5 = mne.read_epochs(path_to_file5, proj=True, preload=True, verbose=None)\n",
    "#\n",
    "ch_names5 = epochs5.info[\"ch_names\"]\n",
    "ch_idx51 = ch_names.index(\"Fp1\") #Pz, Cz, Oz\n",
    "ch_idx52 = ch_names.index(\"Pz\")\n",
    "ch_idx53 = ch_names.index(\"Cz\")\n",
    "ch_idx54 = ch_names.index(\"Oz\")\n",
    "\n",
    "p5_avg1fp1 = np.mean(p5_cong[:,ch_idx51,:],axis=0)\n",
    "p5_avg1pz = np.mean(p5_cong[:,ch_idx52,:],axis=0)\n",
    "p5_avg1cz = np.mean(p5_cong[:,ch_idx53,:],axis=0)\n",
    "p5_avg1oz = np.mean(p5_cong[:,ch_idx54,:],axis=0)\n",
    "\n",
    "print(p5_avg1fp1.shape)\n",
    "print(p5_avg1pz.shape)\n",
    "print(p5_avg1cz.shape)\n",
    "print(p5_avg1oz.shape)\n",
    "#\n",
    "p5_avg2fp1 = np.mean(p5_incong[:, ch_idx51, :], axis=0)\n",
    "p5_avg2pz = np.mean(p5_incong[:,ch_idx52,:],axis=0)\n",
    "p5_avg2cz = np.mean(p5_incong[:,ch_idx53,:],axis=0)\n",
    "p5_avg2oz = np.mean(p5_incong[:,ch_idx54,:],axis=0)\n",
    "print(p5_avg2fp1.shape)\n",
    "print(p5_avg2pz.shape)\n",
    "print(p5_avg2cz.shape)\n",
    "print(p5_avg2oz.shape)\n",
    "\n"
   ],
   "metadata": {
    "collapsed": false,
    "pycharm": {
     "name": "#%%\n"
    }
   }
  },
  {
   "cell_type": "code",
   "execution_count": null,
   "outputs": [],
   "source": [
    "plt.figure()\n",
    "plt.plot(p5_avg1fp1, color = \"blue\")\n",
    "plt.plot(p5_avg2fp1, color = \"red\")\n",
    "plt.show()"
   ],
   "metadata": {
    "collapsed": false,
    "pycharm": {
     "name": "#%%\n"
    }
   }
  },
  {
   "cell_type": "code",
   "execution_count": null,
   "outputs": [],
   "source": [
    "col_maxc5fp1 = p5_avg1fp1.max(axis=0)\n",
    "col_maxc5fp1"
   ],
   "metadata": {
    "collapsed": false,
    "pycharm": {
     "name": "#%%\n"
    }
   }
  },
  {
   "cell_type": "code",
   "execution_count": null,
   "outputs": [],
   "source": [
    "col_maxin5fp1 = p5_avg2fp1.max(axis=0)\n",
    "col_maxin5fp1"
   ],
   "metadata": {
    "collapsed": false,
    "pycharm": {
     "name": "#%%\n"
    }
   }
  },
  {
   "cell_type": "code",
   "execution_count": null,
   "outputs": [],
   "source": [
    "plt.figure()\n",
    "plt.plot(p5_avg1pz, color = \"blue\")\n",
    "plt.plot(p5_avg2pz, color = \"red\")\n",
    "plt.show()"
   ],
   "metadata": {
    "collapsed": false,
    "pycharm": {
     "name": "#%%\n"
    }
   }
  },
  {
   "cell_type": "code",
   "execution_count": null,
   "outputs": [],
   "source": [
    "col_maxc5pz = p5_avg1pz.max(axis=0)\n",
    "col_maxc5pz"
   ],
   "metadata": {
    "collapsed": false,
    "pycharm": {
     "name": "#%%\n"
    }
   }
  },
  {
   "cell_type": "code",
   "execution_count": null,
   "outputs": [],
   "source": [
    "col_maxin5pz = p5_avg2pz.max(axis=0)\n",
    "col_maxin5pz"
   ],
   "metadata": {
    "collapsed": false,
    "pycharm": {
     "name": "#%%\n"
    }
   }
  },
  {
   "cell_type": "code",
   "execution_count": null,
   "outputs": [],
   "source": [
    "plt.figure()\n",
    "plt.plot(p5_avg1cz, color = \"blue\")\n",
    "plt.plot(p5_avg2cz, color = \"red\")\n",
    "plt.show()"
   ],
   "metadata": {
    "collapsed": false,
    "pycharm": {
     "name": "#%%\n"
    }
   }
  },
  {
   "cell_type": "code",
   "execution_count": null,
   "outputs": [],
   "source": [
    "col_maxc5cz = p5_avg1cz.max(axis=0)\n",
    "col_maxc5cz"
   ],
   "metadata": {
    "collapsed": false,
    "pycharm": {
     "name": "#%%\n"
    }
   }
  },
  {
   "cell_type": "code",
   "execution_count": null,
   "outputs": [],
   "source": [
    "col_maxin5cz = p5_avg2cz.max(axis=0)\n",
    "col_maxin5cz"
   ],
   "metadata": {
    "collapsed": false,
    "pycharm": {
     "name": "#%%\n"
    }
   }
  },
  {
   "cell_type": "code",
   "execution_count": null,
   "outputs": [],
   "source": [
    "plt.figure()\n",
    "plt.plot(p5_avg1oz, color = \"blue\")\n",
    "plt.plot(p5_avg2oz, color = \"red\")\n",
    "plt.show()"
   ],
   "metadata": {
    "collapsed": false,
    "pycharm": {
     "name": "#%%\n"
    }
   }
  },
  {
   "cell_type": "code",
   "execution_count": null,
   "outputs": [],
   "source": [
    "col_maxc5oz = p5_avg1oz.max(axis=0)\n",
    "col_maxc5oz"
   ],
   "metadata": {
    "collapsed": false,
    "pycharm": {
     "name": "#%%\n"
    }
   }
  },
  {
   "cell_type": "code",
   "execution_count": null,
   "outputs": [],
   "source": [
    "col_maxin5oz = p5_avg2oz.max(axis=0)\n",
    "col_maxin5oz"
   ],
   "metadata": {
    "collapsed": false,
    "pycharm": {
     "name": "#%%\n"
    }
   }
  },
  {
   "cell_type": "code",
   "execution_count": null,
   "outputs": [],
   "source": [
    "data5 = pd.DataFrame({'pnumber' : ['5cong', '5incong'],\n",
    "       'fp1' : [col_maxc5fp1, col_maxin5fp1],\n",
    "        'pz' : [col_maxc5pz, col_maxin5pz],\n",
    "        'cz' : [col_maxc5cz, col_maxin5cz],\n",
    "        'oz' : [col_maxc5oz, col_maxin5oz]\n",
    "        })\n",
    "\n",
    "df5 = pd.DataFrame(data=data5)\n",
    "df5.head()"
   ],
   "metadata": {
    "collapsed": false,
    "pycharm": {
     "name": "#%%\n"
    }
   }
  },
  {
   "cell_type": "markdown",
   "source": [
    "##################Participant 6#########"
   ],
   "metadata": {
    "collapsed": false,
    "pycharm": {
     "name": "#%% md\n"
    }
   }
  },
  {
   "cell_type": "code",
   "execution_count": null,
   "outputs": [],
   "source": [
    "path_to_file6 = \"P06_fp-epo.fif\"\n",
    "p6_data = mne.read_epochs(path_to_file6, proj=True, preload=True, verbose=None)\n",
    "p6_cong = p6_data[\"fp_congruent\"].get_data() * 1e6\n",
    "print(p6_cong.shape)\n",
    "p6_incong = p6_data[\"fp_incongruent\"].get_data() * 1e6\n",
    "print(p6_incong.shape)\n",
    "epochs6 = mne.read_epochs(path_to_file6, proj=True, preload=True, verbose=None)\n",
    "#\n",
    "ch_names6 = epochs6.info[\"ch_names\"]\n",
    "ch_idx61 = ch_names.index(\"Fp1\") #Pz, Cz, Oz\n",
    "ch_idx62 = ch_names.index(\"Pz\")\n",
    "ch_idx63 = ch_names.index(\"Cz\")\n",
    "ch_idx64 = ch_names.index(\"Oz\")\n",
    "\n",
    "p6_avg1fp1 = np.mean(p6_cong[:,ch_idx61,:],axis=0)\n",
    "p6_avg1pz = np.mean(p6_cong[:,ch_idx62,:],axis=0)\n",
    "p6_avg1cz = np.mean(p6_cong[:,ch_idx63,:],axis=0)\n",
    "p6_avg1oz = np.mean(p6_cong[:,ch_idx64,:],axis=0)\n",
    "print(p6_avg1fp1.shape)\n",
    "print(p6_avg1pz.shape)\n",
    "print(p6_avg1cz.shape)\n",
    "print(p6_avg1oz.shape)\n",
    "#\n",
    "p6_avg2fp1 = np.mean(p6_incong[:, ch_idx61, :], axis=0)\n",
    "p6_avg2pz = np.mean(p6_incong[:,ch_idx62,:],axis=0)\n",
    "p6_avg2cz = np.mean(p6_incong[:,ch_idx63,:],axis=0)\n",
    "p6_avg2oz = np.mean(p6_incong[:,ch_idx64,:],axis=0)\n",
    "print(p6_avg2fp1.shape)\n",
    "print(p6_avg2pz.shape)\n",
    "print(p6_avg2cz.shape)\n",
    "print(p6_avg2oz.shape)\n",
    "\n"
   ],
   "metadata": {
    "collapsed": false,
    "pycharm": {
     "name": "#%%\n"
    }
   }
  },
  {
   "cell_type": "code",
   "execution_count": null,
   "outputs": [],
   "source": [
    "plt.figure()\n",
    "plt.plot(p6_avg1fp1, color = \"blue\")\n",
    "plt.plot(p6_avg2fp1, color = \"red\")\n",
    "plt.show()"
   ],
   "metadata": {
    "collapsed": false,
    "pycharm": {
     "name": "#%%\n"
    }
   }
  },
  {
   "cell_type": "code",
   "execution_count": null,
   "outputs": [],
   "source": [
    "col_maxc6fp1 = p6_avg1fp1.max(axis=0)\n",
    "col_maxc6fp1"
   ],
   "metadata": {
    "collapsed": false,
    "pycharm": {
     "name": "#%%\n"
    }
   }
  },
  {
   "cell_type": "code",
   "execution_count": null,
   "outputs": [],
   "source": [
    "col_maxin6fp1 = p6_avg2fp1.max(axis=0)\n",
    "col_maxin6fp1"
   ],
   "metadata": {
    "collapsed": false,
    "pycharm": {
     "name": "#%%\n"
    }
   }
  },
  {
   "cell_type": "code",
   "execution_count": null,
   "outputs": [],
   "source": [
    "plt.figure()\n",
    "plt.plot(p6_avg1pz, color = \"blue\")\n",
    "plt.plot(p6_avg2pz, color = \"red\")\n",
    "plt.show()"
   ],
   "metadata": {
    "collapsed": false,
    "pycharm": {
     "name": "#%%\n"
    }
   }
  },
  {
   "cell_type": "code",
   "execution_count": null,
   "outputs": [],
   "source": [
    "col_maxc6pz = p6_avg1pz.max(axis=0)\n",
    "col_maxc6pz"
   ],
   "metadata": {
    "collapsed": false,
    "pycharm": {
     "name": "#%%\n"
    }
   }
  },
  {
   "cell_type": "code",
   "execution_count": null,
   "outputs": [],
   "source": [
    "col_maxin6pz = p6_avg2pz.max(axis=0)\n",
    "col_maxin6pz"
   ],
   "metadata": {
    "collapsed": false,
    "pycharm": {
     "name": "#%%\n"
    }
   }
  },
  {
   "cell_type": "code",
   "execution_count": null,
   "outputs": [],
   "source": [
    "plt.figure()\n",
    "plt.plot(p6_avg1cz, color = \"blue\")\n",
    "plt.plot(p6_avg2cz, color = \"red\")\n",
    "plt.show()"
   ],
   "metadata": {
    "collapsed": false,
    "pycharm": {
     "name": "#%%\n"
    }
   }
  },
  {
   "cell_type": "code",
   "execution_count": null,
   "outputs": [],
   "source": [
    "col_maxc6cz = p6_avg1cz.max(axis=0)\n",
    "col_maxc6cz"
   ],
   "metadata": {
    "collapsed": false,
    "pycharm": {
     "name": "#%%\n"
    }
   }
  },
  {
   "cell_type": "code",
   "execution_count": null,
   "outputs": [],
   "source": [
    "col_maxin6cz = p6_avg2cz.max(axis=0)\n",
    "col_maxin6cz"
   ],
   "metadata": {
    "collapsed": false,
    "pycharm": {
     "name": "#%%\n"
    }
   }
  },
  {
   "cell_type": "code",
   "execution_count": null,
   "outputs": [],
   "source": [
    "plt.figure()\n",
    "plt.plot(p6_avg1oz, color = \"blue\")\n",
    "plt.plot(p6_avg2oz, color = \"red\")\n",
    "plt.show()"
   ],
   "metadata": {
    "collapsed": false,
    "pycharm": {
     "name": "#%%\n"
    }
   }
  },
  {
   "cell_type": "code",
   "execution_count": null,
   "outputs": [],
   "source": [
    "col_maxc6oz = p6_avg1oz.max(axis=0)\n",
    "col_maxc6oz"
   ],
   "metadata": {
    "collapsed": false,
    "pycharm": {
     "name": "#%%\n"
    }
   }
  },
  {
   "cell_type": "code",
   "execution_count": null,
   "outputs": [],
   "source": [
    "col_maxin6oz = p6_avg2oz.max(axis=0)\n",
    "col_maxin6oz"
   ],
   "metadata": {
    "collapsed": false,
    "pycharm": {
     "name": "#%%\n"
    }
   }
  },
  {
   "cell_type": "code",
   "execution_count": null,
   "outputs": [],
   "source": [
    "data6 = pd.DataFrame({'pnumber' : ['6cong', '6incong'],\n",
    "       'fp1' : [col_maxc6fp1, col_maxin6fp1],\n",
    "        'pz' : [col_maxc6pz, col_maxin6pz],\n",
    "        'cz' : [col_maxc6cz, col_maxin6cz],\n",
    "        'oz' : [col_maxc6oz, col_maxin6oz]\n",
    "        })\n",
    "\n",
    "df6 = pd.DataFrame(data=data6)\n",
    "df6.head()"
   ],
   "metadata": {
    "collapsed": false,
    "pycharm": {
     "name": "#%%\n"
    }
   }
  },
  {
   "cell_type": "markdown",
   "source": [
    "#################Participant 7#######"
   ],
   "metadata": {
    "collapsed": false,
    "pycharm": {
     "name": "#%% md\n"
    }
   }
  },
  {
   "cell_type": "code",
   "execution_count": null,
   "outputs": [],
   "source": [
    "path_to_file7 = \"P07_fp-epo.fif\"\n",
    "p7_data = mne.read_epochs(path_to_file7, proj=True, preload=True, verbose=None)\n",
    "p7_cong = p7_data[\"fp_congruent\"].get_data() * 1e6\n",
    "print(p7_cong.shape)\n",
    "p7_incong = p7_data[\"fp_incongruent\"].get_data() * 1e6\n",
    "print(p7_incong.shape)\n",
    "epochs7 = mne.read_epochs(path_to_file7, proj=True, preload=True, verbose=None)\n",
    "#\n",
    "ch_names7 = epochs7.info[\"ch_names\"]\n",
    "ch_idx71 = ch_names.index(\"Fp1\") #Pz, Cz, Oz\n",
    "ch_idx72 = ch_names.index(\"Pz\")\n",
    "ch_idx73 = ch_names.index(\"Cz\")\n",
    "ch_idx74 = ch_names.index(\"Oz\")\n",
    "\n",
    "p7_avg1fp1 = np.mean(p7_cong[:,ch_idx71,:],axis=0)\n",
    "p7_avg1pz = np.mean(p7_cong[:,ch_idx72,:],axis=0)\n",
    "p7_avg1cz = np.mean(p7_cong[:,ch_idx73,:],axis=0)\n",
    "p7_avg1oz = np.mean(p7_cong[:,ch_idx74,:],axis=0)\n",
    "print(p7_avg1fp1.shape)\n",
    "print(p7_avg1pz.shape)\n",
    "print(p7_avg1cz.shape)\n",
    "print(p7_avg1oz.shape)\n",
    "#\n",
    "p7_avg2fp1 = np.mean(p7_incong[:, ch_idx71, :], axis=0)\n",
    "p7_avg2pz = np.mean(p7_incong[:,ch_idx72,:],axis=0)\n",
    "p7_avg2cz = np.mean(p7_incong[:,ch_idx73,:],axis=0)\n",
    "p7_avg2oz = np.mean(p7_incong[:,ch_idx74,:],axis=0)\n",
    "print(p7_avg2fp1.shape)\n",
    "print(p7_avg2pz.shape)\n",
    "print(p7_avg2cz.shape)\n",
    "print(p7_avg2oz.shape)\n",
    "\n",
    "\n"
   ],
   "metadata": {
    "collapsed": false,
    "pycharm": {
     "name": "#%%\n"
    }
   }
  },
  {
   "cell_type": "code",
   "execution_count": null,
   "outputs": [],
   "source": [
    "plt.figure()\n",
    "plt.plot(p7_avg1fp1, color = \"blue\")\n",
    "plt.plot(p7_avg2fp1, color = \"red\")\n",
    "plt.show()"
   ],
   "metadata": {
    "collapsed": false,
    "pycharm": {
     "name": "#%%\n"
    }
   }
  },
  {
   "cell_type": "code",
   "execution_count": null,
   "outputs": [],
   "source": [
    "col_maxc7fp1 = p7_avg1fp1.max(axis=0)\n",
    "col_maxc7fp1"
   ],
   "metadata": {
    "collapsed": false,
    "pycharm": {
     "name": "#%%\n"
    }
   }
  },
  {
   "cell_type": "code",
   "execution_count": null,
   "outputs": [],
   "source": [
    "col_maxin7fp1 = p7_avg2fp1.max(axis=0)\n",
    "col_maxin7fp1"
   ],
   "metadata": {
    "collapsed": false,
    "pycharm": {
     "name": "#%%\n"
    }
   }
  },
  {
   "cell_type": "code",
   "execution_count": null,
   "outputs": [],
   "source": [
    "plt.figure()\n",
    "plt.plot(p7_avg1pz, color = \"blue\")\n",
    "plt.plot(p7_avg2pz, color = \"red\")\n",
    "plt.show()"
   ],
   "metadata": {
    "collapsed": false,
    "pycharm": {
     "name": "#%%\n"
    }
   }
  },
  {
   "cell_type": "code",
   "execution_count": null,
   "outputs": [],
   "source": [
    "col_maxc7pz = p7_avg1pz.max(axis=0)\n",
    "col_maxc7pz"
   ],
   "metadata": {
    "collapsed": false,
    "pycharm": {
     "name": "#%%\n"
    }
   }
  },
  {
   "cell_type": "code",
   "execution_count": null,
   "outputs": [],
   "source": [
    "col_maxin7pz = p7_avg2pz.max(axis=0)\n",
    "col_maxin7pz"
   ],
   "metadata": {
    "collapsed": false,
    "pycharm": {
     "name": "#%%\n"
    }
   }
  },
  {
   "cell_type": "code",
   "execution_count": null,
   "outputs": [],
   "source": [
    "plt.figure()\n",
    "plt.plot(p7_avg1cz, color = \"blue\")\n",
    "plt.plot(p7_avg2cz, color = \"red\")\n",
    "plt.show()"
   ],
   "metadata": {
    "collapsed": false,
    "pycharm": {
     "name": "#%%\n"
    }
   }
  },
  {
   "cell_type": "code",
   "execution_count": null,
   "outputs": [],
   "source": [
    "col_maxc7cz = p7_avg1cz.max(axis=0)\n",
    "col_maxc7cz"
   ],
   "metadata": {
    "collapsed": false,
    "pycharm": {
     "name": "#%%\n"
    }
   }
  },
  {
   "cell_type": "code",
   "execution_count": null,
   "outputs": [],
   "source": [
    "col_maxin7cz = p7_avg2cz.max(axis=0)\n",
    "col_maxin7cz"
   ],
   "metadata": {
    "collapsed": false,
    "pycharm": {
     "name": "#%%\n"
    }
   }
  },
  {
   "cell_type": "code",
   "execution_count": null,
   "outputs": [],
   "source": [
    "plt.figure()\n",
    "plt.plot(p7_avg1oz, color = \"blue\")\n",
    "plt.plot(p7_avg2oz, color = \"red\")\n",
    "plt.show()"
   ],
   "metadata": {
    "collapsed": false,
    "pycharm": {
     "name": "#%%\n"
    }
   }
  },
  {
   "cell_type": "code",
   "execution_count": null,
   "outputs": [],
   "source": [
    "col_maxc7oz = p7_avg1oz.max(axis=0)\n",
    "col_maxc7oz"
   ],
   "metadata": {
    "collapsed": false,
    "pycharm": {
     "name": "#%%\n"
    }
   }
  },
  {
   "cell_type": "code",
   "execution_count": null,
   "outputs": [],
   "source": [
    "col_maxin7oz = p7_avg2oz.max(axis=0)\n",
    "col_maxin7oz"
   ],
   "metadata": {
    "collapsed": false,
    "pycharm": {
     "name": "#%%\n"
    }
   }
  },
  {
   "cell_type": "code",
   "execution_count": null,
   "outputs": [],
   "source": [
    "data7 = pd.DataFrame({'pnumber' : ['7cong', '7incong'],\n",
    "       'fp1' : [col_maxc7fp1, col_maxin7fp1],\n",
    "        'pz' : [col_maxc7pz, col_maxin7pz],\n",
    "        'cz' : [col_maxc7cz, col_maxin7cz],\n",
    "        'oz' : [col_maxc7oz, col_maxin7oz]\n",
    "        })\n",
    "\n",
    "df7 = pd.DataFrame(data=data7)\n",
    "df7.head()"
   ],
   "metadata": {
    "collapsed": false,
    "pycharm": {
     "name": "#%%\n"
    }
   }
  },
  {
   "cell_type": "markdown",
   "source": [
    "#######################Participant 8#####################"
   ],
   "metadata": {
    "collapsed": false,
    "pycharm": {
     "name": "#%% md\n"
    }
   }
  },
  {
   "cell_type": "code",
   "execution_count": null,
   "outputs": [],
   "source": [
    "path_to_file8 = \"P08_fp-epo.fif\"\n",
    "p8_data = mne.read_epochs(path_to_file8, proj=True, preload=True, verbose=None)\n",
    "p8_cong = p8_data[\"fp_congruent\"].get_data() * 1e6\n",
    "print(p8_cong.shape)\n",
    "p8_incong = p8_data[\"fp_incongruent\"].get_data() * 1e6\n",
    "print(p8_incong.shape)\n",
    "epochs8 = mne.read_epochs(path_to_file8, proj=True, preload=True, verbose=None)\n",
    "#\n",
    "ch_names8 = epochs8.info[\"ch_names\"]\n",
    "ch_idx81 = ch_names.index(\"Fp1\") #Pz, Cz, Oz\n",
    "ch_idx82 = ch_names.index(\"Pz\")\n",
    "ch_idx83 = ch_names.index(\"Cz\")\n",
    "ch_idx84 = ch_names.index(\"Oz\")\n",
    "\n",
    "p8_avg1fp1 = np.mean(p8_cong[:,ch_idx81,:],axis=0)\n",
    "p8_avg1pz = np.mean(p8_cong[:,ch_idx82,:],axis=0)\n",
    "p8_avg1cz = np.mean(p8_cong[:,ch_idx83,:],axis=0)\n",
    "p8_avg1oz = np.mean(p8_cong[:,ch_idx84,:],axis=0)\n",
    "print(p8_avg1fp1.shape)\n",
    "print(p8_avg1pz.shape)\n",
    "print(p8_avg1cz.shape)\n",
    "print(p8_avg1oz.shape)\n",
    "#\n",
    "p8_avg2fp1 = np.mean(p8_incong[:, ch_idx81, :], axis=0)\n",
    "p8_avg2pz = np.mean(p8_incong[:,ch_idx82,:],axis=0)\n",
    "p8_avg2cz = np.mean(p8_incong[:,ch_idx83,:],axis=0)\n",
    "p8_avg2oz = np.mean(p8_incong[:,ch_idx84,:],axis=0)\n",
    "print(p8_avg2fp1.shape)\n",
    "print(p8_avg2pz.shape)\n",
    "print(p8_avg2cz.shape)\n",
    "print(p8_avg2oz.shape)\n"
   ],
   "metadata": {
    "collapsed": false,
    "pycharm": {
     "name": "#%%\n"
    }
   }
  },
  {
   "cell_type": "code",
   "execution_count": null,
   "outputs": [],
   "source": [
    "plt.figure()\n",
    "plt.plot(p8_avg1fp1, color = \"blue\")\n",
    "plt.plot(p8_avg2fp1, color = \"red\")\n",
    "plt.show()"
   ],
   "metadata": {
    "collapsed": false,
    "pycharm": {
     "name": "#%%\n"
    }
   }
  },
  {
   "cell_type": "code",
   "execution_count": null,
   "outputs": [],
   "source": [
    "col_maxc8fp1 = p8_avg1fp1.max(axis=0)\n",
    "col_maxc8fp1"
   ],
   "metadata": {
    "collapsed": false,
    "pycharm": {
     "name": "#%%\n"
    }
   }
  },
  {
   "cell_type": "code",
   "execution_count": null,
   "outputs": [],
   "source": [
    "col_maxin8fp1 = p8_avg2fp1.max(axis=0)\n",
    "col_maxin8fp1"
   ],
   "metadata": {
    "collapsed": false,
    "pycharm": {
     "name": "#%%\n"
    }
   }
  },
  {
   "cell_type": "code",
   "execution_count": null,
   "outputs": [],
   "source": [
    "plt.figure()\n",
    "plt.plot(p8_avg1pz, color = \"blue\")\n",
    "plt.plot(p8_avg2pz, color = \"red\")\n",
    "plt.show()"
   ],
   "metadata": {
    "collapsed": false,
    "pycharm": {
     "name": "#%%\n"
    }
   }
  },
  {
   "cell_type": "code",
   "execution_count": null,
   "outputs": [],
   "source": [
    "col_maxc8pz = p8_avg1pz.max(axis=0)\n",
    "col_maxc8pz"
   ],
   "metadata": {
    "collapsed": false,
    "pycharm": {
     "name": "#%%\n"
    }
   }
  },
  {
   "cell_type": "code",
   "execution_count": null,
   "outputs": [],
   "source": [
    "col_maxin8pz = p8_avg2pz.max(axis=0)\n",
    "col_maxin8pz"
   ],
   "metadata": {
    "collapsed": false,
    "pycharm": {
     "name": "#%%\n"
    }
   }
  },
  {
   "cell_type": "code",
   "execution_count": null,
   "outputs": [],
   "source": [
    "plt.figure()\n",
    "plt.plot(p8_avg1cz, color = \"blue\")\n",
    "plt.plot(p8_avg2cz, color = \"red\")\n",
    "plt.show()"
   ],
   "metadata": {
    "collapsed": false,
    "pycharm": {
     "name": "#%%\n"
    }
   }
  },
  {
   "cell_type": "code",
   "execution_count": null,
   "outputs": [],
   "source": [
    "col_maxc8cz = p8_avg1cz.max(axis=0)\n",
    "col_maxc8cz"
   ],
   "metadata": {
    "collapsed": false,
    "pycharm": {
     "name": "#%%\n"
    }
   }
  },
  {
   "cell_type": "code",
   "execution_count": null,
   "outputs": [],
   "source": [
    "col_maxin8cz = p8_avg2cz.max(axis=0)\n",
    "col_maxin8cz"
   ],
   "metadata": {
    "collapsed": false,
    "pycharm": {
     "name": "#%%\n"
    }
   }
  },
  {
   "cell_type": "code",
   "execution_count": null,
   "outputs": [],
   "source": [
    "plt.figure()\n",
    "plt.plot(p8_avg1oz, color = \"blue\")\n",
    "plt.plot(p8_avg2oz, color = \"red\")\n",
    "plt.show()"
   ],
   "metadata": {
    "collapsed": false,
    "pycharm": {
     "name": "#%%\n"
    }
   }
  },
  {
   "cell_type": "code",
   "execution_count": null,
   "outputs": [],
   "source": [
    "col_maxc8oz = p8_avg1oz.max(axis=0)\n",
    "col_maxc8oz"
   ],
   "metadata": {
    "collapsed": false,
    "pycharm": {
     "name": "#%%\n"
    }
   }
  },
  {
   "cell_type": "code",
   "execution_count": null,
   "outputs": [],
   "source": [
    "col_maxin8oz = p8_avg2oz.max(axis=0)\n",
    "col_maxin8oz"
   ],
   "metadata": {
    "collapsed": false,
    "pycharm": {
     "name": "#%%\n"
    }
   }
  },
  {
   "cell_type": "code",
   "execution_count": null,
   "outputs": [],
   "source": [
    "data8 = pd.DataFrame({'pnumber' : ['8cong', '8incong'],\n",
    "       'fp1' : [col_maxc8fp1, col_maxin8fp1],\n",
    "        'pz' : [col_maxc8pz, col_maxin8pz],\n",
    "        'cz' : [col_maxc8cz, col_maxin8cz],\n",
    "        'oz' : [col_maxc8oz, col_maxin8oz]\n",
    "        })\n",
    "\n",
    "df8 = pd.DataFrame(data=data8)\n",
    "df8.head()"
   ],
   "metadata": {
    "collapsed": false,
    "pycharm": {
     "name": "#%%\n"
    }
   }
  },
  {
   "cell_type": "markdown",
   "source": [
    "#########################Participant 9##################"
   ],
   "metadata": {
    "collapsed": false,
    "pycharm": {
     "name": "#%% md\n"
    }
   }
  },
  {
   "cell_type": "code",
   "execution_count": null,
   "outputs": [],
   "source": [
    "path_to_file9 = \"P09_fp-epo.fif\"\n",
    "p9_data = mne.read_epochs(path_to_file9, proj=True, preload=True, verbose=None)\n",
    "p9_cong = p9_data[\"fp_congruent\"].get_data() * 1e6\n",
    "print(p9_cong.shape)\n",
    "p9_incong = p9_data[\"fp_incongruent\"].get_data() * 1e6\n",
    "print(p9_incong.shape)\n",
    "epochs9 = mne.read_epochs(path_to_file9, proj=True, preload=True, verbose=None)\n",
    "#\n",
    "ch_names9 = epochs8.info[\"ch_names\"]\n",
    "ch_idx91 = ch_names.index(\"Fp1\") #Pz, Cz, Oz\n",
    "ch_idx92 = ch_names.index(\"Pz\")\n",
    "ch_idx93 = ch_names.index(\"Cz\")\n",
    "ch_idx94 = ch_names.index(\"Oz\")\n",
    "\n",
    "p9_avg1fp1 = np.mean(p9_cong[:,ch_idx91,:],axis=0)\n",
    "p9_avg1pz = np.mean(p9_cong[:,ch_idx92,:],axis=0)\n",
    "p9_avg1cz = np.mean(p9_cong[:,ch_idx93,:],axis=0)\n",
    "p9_avg1oz = np.mean(p9_cong[:,ch_idx94,:],axis=0)\n",
    "print(p9_avg1fp1.shape)\n",
    "print(p9_avg1pz.shape)\n",
    "print(p9_avg1cz.shape)\n",
    "print(p9_avg1oz.shape)\n",
    "#\n",
    "p9_avg2fp1 = np.mean(p9_incong[:, ch_idx91, :], axis=0)\n",
    "p9_avg2pz = np.mean(p9_incong[:,ch_idx92,:],axis=0)\n",
    "p9_avg2cz = np.mean(p9_incong[:,ch_idx93,:],axis=0)\n",
    "p9_avg2oz = np.mean(p9_incong[:,ch_idx94,:],axis=0)\n",
    "print(p9_avg2fp1.shape)\n",
    "print(p9_avg2pz.shape)\n",
    "print(p9_avg2cz.shape)\n",
    "print(p9_avg2oz.shape)\n",
    "\n"
   ],
   "metadata": {
    "collapsed": false,
    "pycharm": {
     "name": "#%%\n"
    }
   }
  },
  {
   "cell_type": "code",
   "execution_count": null,
   "outputs": [],
   "source": [
    "plt.figure()\n",
    "plt.plot(p9_avg1fp1, color = \"blue\")\n",
    "plt.plot(p9_avg2fp1, color = \"red\")\n",
    "plt.show()"
   ],
   "metadata": {
    "collapsed": false,
    "pycharm": {
     "name": "#%%\n"
    }
   }
  },
  {
   "cell_type": "code",
   "execution_count": null,
   "outputs": [],
   "source": [
    "col_maxc9fp1 = p9_avg1fp1.max(axis=0)\n",
    "col_maxc9fp1"
   ],
   "metadata": {
    "collapsed": false,
    "pycharm": {
     "name": "#%%\n"
    }
   }
  },
  {
   "cell_type": "code",
   "execution_count": null,
   "outputs": [],
   "source": [
    "col_maxin9fp1 = p9_avg2fp1.max(axis=0)\n",
    "col_maxin9fp1"
   ],
   "metadata": {
    "collapsed": false,
    "pycharm": {
     "name": "#%%\n"
    }
   }
  },
  {
   "cell_type": "code",
   "execution_count": null,
   "outputs": [],
   "source": [
    "plt.figure()\n",
    "plt.plot(p9_avg1pz, color = \"blue\")\n",
    "plt.plot(p9_avg2pz, color = \"red\")\n",
    "plt.show()"
   ],
   "metadata": {
    "collapsed": false,
    "pycharm": {
     "name": "#%%\n"
    }
   }
  },
  {
   "cell_type": "code",
   "execution_count": null,
   "outputs": [],
   "source": [
    "col_maxc9pz = p9_avg1pz.max(axis=0)\n",
    "col_maxc9pz"
   ],
   "metadata": {
    "collapsed": false,
    "pycharm": {
     "name": "#%%\n"
    }
   }
  },
  {
   "cell_type": "code",
   "execution_count": null,
   "outputs": [],
   "source": [
    "col_maxin9pz = p9_avg2pz.max(axis=0)\n",
    "col_maxin9pz"
   ],
   "metadata": {
    "collapsed": false,
    "pycharm": {
     "name": "#%%\n"
    }
   }
  },
  {
   "cell_type": "code",
   "execution_count": null,
   "outputs": [],
   "source": [
    "plt.figure()\n",
    "plt.plot(p9_avg1cz, color = \"blue\")\n",
    "plt.plot(p9_avg2cz, color = \"red\")\n",
    "plt.show()"
   ],
   "metadata": {
    "collapsed": false,
    "pycharm": {
     "name": "#%%\n"
    }
   }
  },
  {
   "cell_type": "code",
   "execution_count": null,
   "outputs": [],
   "source": [
    "col_maxc9cz = p9_avg1cz.max(axis=0)\n",
    "col_maxc9cz"
   ],
   "metadata": {
    "collapsed": false,
    "pycharm": {
     "name": "#%%\n"
    }
   }
  },
  {
   "cell_type": "code",
   "execution_count": null,
   "outputs": [],
   "source": [
    "col_maxin9cz = p9_avg2cz.max(axis=0)\n",
    "col_maxin9cz"
   ],
   "metadata": {
    "collapsed": false,
    "pycharm": {
     "name": "#%%\n"
    }
   }
  },
  {
   "cell_type": "code",
   "execution_count": null,
   "outputs": [],
   "source": [
    "plt.figure()\n",
    "plt.plot(p9_avg1oz, color = \"blue\")\n",
    "plt.plot(p9_avg2oz, color = \"red\")\n",
    "plt.show()"
   ],
   "metadata": {
    "collapsed": false,
    "pycharm": {
     "name": "#%%\n"
    }
   }
  },
  {
   "cell_type": "code",
   "execution_count": null,
   "outputs": [],
   "source": [
    "col_maxc9oz = p9_avg1oz.max(axis=0)\n",
    "col_maxc9oz"
   ],
   "metadata": {
    "collapsed": false,
    "pycharm": {
     "name": "#%%\n"
    }
   }
  },
  {
   "cell_type": "code",
   "execution_count": null,
   "outputs": [],
   "source": [
    "col_maxin9oz = p9_avg2oz.max(axis=0)\n",
    "col_maxin9oz"
   ],
   "metadata": {
    "collapsed": false,
    "pycharm": {
     "name": "#%%\n"
    }
   }
  },
  {
   "cell_type": "code",
   "execution_count": null,
   "outputs": [],
   "source": [
    "data9 = pd.DataFrame({'pnumber' : ['9cong', '9incong'],\n",
    "       'fp1' : [col_maxc9fp1, col_maxin9fp1],\n",
    "        'pz' : [col_maxc9pz, col_maxin9pz],\n",
    "        'cz' : [col_maxc9cz, col_maxin9cz],\n",
    "        'oz' : [col_maxc9oz, col_maxin9oz]\n",
    "        })\n",
    "\n",
    "df9 = pd.DataFrame(data=data9)\n",
    "df9.head()"
   ],
   "metadata": {
    "collapsed": false,
    "pycharm": {
     "name": "#%%\n"
    }
   }
  },
  {
   "cell_type": "markdown",
   "source": [
    "#########################Participant 11##############"
   ],
   "metadata": {
    "collapsed": false,
    "pycharm": {
     "name": "#%% md\n"
    }
   }
  },
  {
   "cell_type": "code",
   "execution_count": null,
   "outputs": [],
   "source": [
    "path_to_file11 = \"P11_fp-epo.fif\"\n",
    "p11_data = mne.read_epochs(path_to_file11, proj=True, preload=True, verbose=None)\n",
    "p11_cong = p11_data[\"fp_congruent\"].get_data() * 1e6\n",
    "print(p11_cong.shape)\n",
    "p11_incong = p11_data[\"fp_incongruent\"].get_data() * 1e6\n",
    "print(p11_incong.shape)\n",
    "epochs11 = mne.read_epochs(path_to_file11, proj=True, preload=True, verbose=None)\n",
    "#\n",
    "ch_names11 = epochs11.info[\"ch_names\"]\n",
    "ch_idx111 = ch_names.index(\"Fp1\") #Pz, Cz, Oz\n",
    "ch_idx112 = ch_names.index(\"Pz\")\n",
    "ch_idx113 = ch_names.index(\"Cz\")\n",
    "ch_idx114 = ch_names.index(\"Oz\")\n",
    "\n",
    "p11_avg1fp1 = np.mean(p11_cong[:,ch_idx111,:],axis=0)\n",
    "p11_avg1pz = np.mean(p11_cong[:,ch_idx112,:],axis=0)\n",
    "p11_avg1cz = np.mean(p11_cong[:,ch_idx113,:],axis=0)\n",
    "p11_avg1oz = np.mean(p11_cong[:,ch_idx114,:],axis=0)\n",
    "print(p11_avg1fp1.shape)\n",
    "print(p11_avg1pz.shape)\n",
    "print(p11_avg1cz.shape)\n",
    "print(p11_avg1oz.shape)\n",
    "#\n",
    "p11_avg2fp1 = np.mean(p11_incong[:, ch_idx111, :], axis=0)\n",
    "p11_avg2pz = np.mean(p11_incong[:,ch_idx112,:],axis=0)\n",
    "p11_avg2cz = np.mean(p11_incong[:,ch_idx113,:],axis=0)\n",
    "p11_avg2oz = np.mean(p11_incong[:,ch_idx114,:],axis=0)\n",
    "print(p11_avg2fp1.shape)\n",
    "print(p11_avg2pz.shape)\n",
    "print(p11_avg2cz.shape)\n",
    "print(p11_avg2oz.shape)\n",
    "\n",
    "\n"
   ],
   "metadata": {
    "collapsed": false,
    "pycharm": {
     "name": "#%%\n"
    }
   }
  },
  {
   "cell_type": "code",
   "execution_count": null,
   "outputs": [],
   "source": [
    "plt.figure()\n",
    "plt.plot(p11_avg1fp1, color = \"blue\")\n",
    "plt.plot(p11_avg2fp1, color = \"red\")\n",
    "plt.show()"
   ],
   "metadata": {
    "collapsed": false,
    "pycharm": {
     "name": "#%%\n"
    }
   }
  },
  {
   "cell_type": "code",
   "execution_count": null,
   "outputs": [],
   "source": [
    "col_maxc11fp1 = p11_avg1fp1.max(axis=0)\n",
    "col_maxc11fp1"
   ],
   "metadata": {
    "collapsed": false,
    "pycharm": {
     "name": "#%%\n"
    }
   }
  },
  {
   "cell_type": "code",
   "execution_count": null,
   "outputs": [],
   "source": [
    "col_maxin11fp1 = p11_avg2fp1.max(axis=0)\n",
    "col_maxin11fp1"
   ],
   "metadata": {
    "collapsed": false,
    "pycharm": {
     "name": "#%%\n"
    }
   }
  },
  {
   "cell_type": "code",
   "execution_count": null,
   "outputs": [],
   "source": [
    "plt.figure()\n",
    "plt.plot(p11_avg1pz, color = \"blue\")\n",
    "plt.plot(p11_avg2pz, color = \"red\")\n",
    "plt.show()"
   ],
   "metadata": {
    "collapsed": false,
    "pycharm": {
     "name": "#%%\n"
    }
   }
  },
  {
   "cell_type": "code",
   "execution_count": null,
   "outputs": [],
   "source": [
    "col_maxc11pz = p11_avg1pz.max(axis=0)\n",
    "col_maxc11pz"
   ],
   "metadata": {
    "collapsed": false,
    "pycharm": {
     "name": "#%%\n"
    }
   }
  },
  {
   "cell_type": "code",
   "execution_count": null,
   "outputs": [],
   "source": [
    "col_maxin11pz = p11_avg2pz.max(axis=0)\n",
    "col_maxin11pz"
   ],
   "metadata": {
    "collapsed": false,
    "pycharm": {
     "name": "#%%\n"
    }
   }
  },
  {
   "cell_type": "code",
   "execution_count": null,
   "outputs": [],
   "source": [
    "plt.figure()\n",
    "plt.plot(p11_avg1cz, color = \"blue\")\n",
    "plt.plot(p11_avg2cz, color = \"red\")\n",
    "plt.show()"
   ],
   "metadata": {
    "collapsed": false,
    "pycharm": {
     "name": "#%%\n"
    }
   }
  },
  {
   "cell_type": "code",
   "execution_count": null,
   "outputs": [],
   "source": [
    "col_maxc11cz = p11_avg1cz.max(axis=0)\n",
    "col_maxc11cz"
   ],
   "metadata": {
    "collapsed": false,
    "pycharm": {
     "name": "#%%\n"
    }
   }
  },
  {
   "cell_type": "code",
   "execution_count": null,
   "outputs": [],
   "source": [
    "col_maxin11cz = p11_avg2cz.max(axis=0)\n",
    "col_maxin11cz"
   ],
   "metadata": {
    "collapsed": false,
    "pycharm": {
     "name": "#%%\n"
    }
   }
  },
  {
   "cell_type": "code",
   "execution_count": null,
   "outputs": [],
   "source": [
    "plt.figure()\n",
    "plt.plot(p11_avg1oz, color = \"blue\")\n",
    "plt.plot(p11_avg2oz, color = \"red\")\n",
    "plt.show()"
   ],
   "metadata": {
    "collapsed": false,
    "pycharm": {
     "name": "#%%\n"
    }
   }
  },
  {
   "cell_type": "code",
   "execution_count": null,
   "outputs": [],
   "source": [
    "col_maxc11oz = p11_avg1oz.max(axis=0)\n",
    "col_maxc11oz"
   ],
   "metadata": {
    "collapsed": false,
    "pycharm": {
     "name": "#%%\n"
    }
   }
  },
  {
   "cell_type": "code",
   "execution_count": null,
   "outputs": [],
   "source": [
    "col_maxin11oz = p11_avg2oz.max(axis=0)\n",
    "col_maxin11oz"
   ],
   "metadata": {
    "collapsed": false,
    "pycharm": {
     "name": "#%%\n"
    }
   }
  },
  {
   "cell_type": "code",
   "execution_count": null,
   "outputs": [],
   "source": [
    "data11 = pd.DataFrame({'pnumber' : ['11cong', '11incong'],\n",
    "       'fp1' : [col_maxc11fp1, col_maxin11fp1],\n",
    "        'pz' : [col_maxc11pz, col_maxin11pz],\n",
    "        'cz' : [col_maxc11cz, col_maxin11cz],\n",
    "        'oz' : [col_maxc11oz, col_maxin11oz]\n",
    "        })\n",
    "\n",
    "df11 = pd.DataFrame(data=data11)\n",
    "df11.head()"
   ],
   "metadata": {
    "collapsed": false,
    "pycharm": {
     "name": "#%%\n"
    }
   }
  },
  {
   "cell_type": "markdown",
   "source": [
    "#################Participant 12############"
   ],
   "metadata": {
    "collapsed": false,
    "pycharm": {
     "name": "#%% md\n"
    }
   }
  },
  {
   "cell_type": "code",
   "execution_count": null,
   "outputs": [],
   "source": [
    "path_to_file12 = \"P12_fp-epo.fif\"\n",
    "p12_data = mne.read_epochs(path_to_file12, proj=True, preload=True, verbose=None)\n",
    "p12_cong = p12_data[\"fp_congruent\"].get_data() * 1e6\n",
    "print(p12_cong.shape)\n",
    "p12_incong = p12_data[\"fp_incongruent\"].get_data() * 1e6\n",
    "print(p12_incong.shape)\n",
    "epochs12 = mne.read_epochs(path_to_file12, proj=True, preload=True, verbose=None)\n",
    "#\n",
    "ch_names12 = epochs11.info[\"ch_names\"]\n",
    "ch_idx121 = ch_names.index(\"Fp1\") #Pz, Cz, Oz\n",
    "ch_idx122 = ch_names.index(\"Pz\")\n",
    "ch_idx123 = ch_names.index(\"Cz\")\n",
    "ch_idx124 = ch_names.index(\"Oz\")\n",
    "\n",
    "p12_avg1fp1 = np.mean(p12_cong[:,ch_idx121,:],axis=0)\n",
    "p12_avg1pz = np.mean(p12_cong[:,ch_idx122,:],axis=0)\n",
    "p12_avg1cz = np.mean(p12_cong[:,ch_idx123,:],axis=0)\n",
    "p12_avg1oz = np.mean(p12_cong[:,ch_idx124,:],axis=0)\n",
    "print(p12_avg1fp1.shape)\n",
    "print(p12_avg1pz.shape)\n",
    "print(p12_avg1cz.shape)\n",
    "print(p12_avg1oz.shape)\n",
    "#\n",
    "p12_avg2fp1 = np.mean(p12_incong[:, ch_idx121, :], axis=0)\n",
    "p12_avg2pz = np.mean(p12_incong[:,ch_idx122,:],axis=0)\n",
    "p12_avg2cz = np.mean(p12_incong[:,ch_idx123,:],axis=0)\n",
    "p12_avg2oz = np.mean(p12_incong[:,ch_idx124,:],axis=0)\n",
    "print(p12_avg2fp1.shape)\n",
    "print(p12_avg2pz.shape)\n",
    "print(p12_avg2cz.shape)\n",
    "print(p12_avg2oz.shape)\n",
    "\n"
   ],
   "metadata": {
    "collapsed": false,
    "pycharm": {
     "name": "#%%\n"
    }
   }
  },
  {
   "cell_type": "code",
   "execution_count": null,
   "outputs": [],
   "source": [
    "plt.figure()\n",
    "plt.plot(p12_avg1fp1, color = \"blue\")\n",
    "plt.plot(p12_avg2fp1, color = \"red\")\n",
    "plt.show()"
   ],
   "metadata": {
    "collapsed": false,
    "pycharm": {
     "name": "#%%\n"
    }
   }
  },
  {
   "cell_type": "code",
   "execution_count": null,
   "outputs": [],
   "source": [
    "col_maxc12fp1 = p12_avg1fp1.max(axis=0)\n",
    "col_maxc12fp1"
   ],
   "metadata": {
    "collapsed": false,
    "pycharm": {
     "name": "#%%\n"
    }
   }
  },
  {
   "cell_type": "code",
   "execution_count": null,
   "outputs": [],
   "source": [
    "col_maxin12fp1 = p12_avg2fp1.max(axis=0)\n",
    "col_maxin12fp1"
   ],
   "metadata": {
    "collapsed": false,
    "pycharm": {
     "name": "#%%\n"
    }
   }
  },
  {
   "cell_type": "code",
   "execution_count": null,
   "outputs": [],
   "source": [
    "plt.figure()\n",
    "plt.plot(p12_avg1pz, color = \"blue\")\n",
    "plt.plot(p12_avg2pz, color = \"red\")\n",
    "plt.show()"
   ],
   "metadata": {
    "collapsed": false,
    "pycharm": {
     "name": "#%%\n"
    }
   }
  },
  {
   "cell_type": "code",
   "execution_count": null,
   "outputs": [],
   "source": [
    "col_maxc12pz = p12_avg1pz.max(axis=0)\n",
    "col_maxc12pz"
   ],
   "metadata": {
    "collapsed": false,
    "pycharm": {
     "name": "#%%\n"
    }
   }
  },
  {
   "cell_type": "code",
   "execution_count": null,
   "outputs": [],
   "source": [
    "col_maxin12pz = p12_avg2pz.max(axis=0)\n",
    "col_maxin12pz"
   ],
   "metadata": {
    "collapsed": false,
    "pycharm": {
     "name": "#%%\n"
    }
   }
  },
  {
   "cell_type": "code",
   "execution_count": null,
   "outputs": [],
   "source": [
    "plt.figure()\n",
    "plt.plot(p12_avg1cz, color = \"blue\")\n",
    "plt.plot(p12_avg2cz, color = \"red\")\n",
    "plt.show()"
   ],
   "metadata": {
    "collapsed": false,
    "pycharm": {
     "name": "#%%\n"
    }
   }
  },
  {
   "cell_type": "code",
   "execution_count": null,
   "outputs": [],
   "source": [
    "col_maxc12cz = p12_avg1cz.max(axis=0)\n",
    "col_maxc12cz"
   ],
   "metadata": {
    "collapsed": false,
    "pycharm": {
     "name": "#%%\n"
    }
   }
  },
  {
   "cell_type": "code",
   "execution_count": null,
   "outputs": [],
   "source": [
    "col_maxin12cz = p12_avg2cz.max(axis=0)\n",
    "col_maxin12cz"
   ],
   "metadata": {
    "collapsed": false,
    "pycharm": {
     "name": "#%%\n"
    }
   }
  },
  {
   "cell_type": "code",
   "execution_count": null,
   "outputs": [],
   "source": [
    "plt.figure()\n",
    "plt.plot(p12_avg1oz, color = \"blue\")\n",
    "plt.plot(p12_avg2oz, color = \"red\")\n",
    "plt.show()"
   ],
   "metadata": {
    "collapsed": false,
    "pycharm": {
     "name": "#%%\n"
    }
   }
  },
  {
   "cell_type": "code",
   "execution_count": null,
   "outputs": [],
   "source": [
    "col_maxc12oz = p12_avg1oz.max(axis=0)\n",
    "col_maxc12oz"
   ],
   "metadata": {
    "collapsed": false,
    "pycharm": {
     "name": "#%%\n"
    }
   }
  },
  {
   "cell_type": "code",
   "execution_count": null,
   "outputs": [],
   "source": [
    "col_maxin12oz = p12_avg2oz.max(axis=0)\n",
    "col_maxin12oz"
   ],
   "metadata": {
    "collapsed": false,
    "pycharm": {
     "name": "#%%\n"
    }
   }
  },
  {
   "cell_type": "code",
   "execution_count": null,
   "outputs": [],
   "source": [
    "data12 = pd.DataFrame({'pnumber' : ['12cong', '12incong'],\n",
    "       'fp1' : [col_maxc12fp1, col_maxin12fp1],\n",
    "        'pz' : [col_maxc12pz, col_maxin12pz],\n",
    "        'cz' : [col_maxc12cz, col_maxin12cz],\n",
    "        'oz' : [col_maxc12oz, col_maxin12oz]\n",
    "        })\n",
    "\n",
    "df12 = pd.DataFrame(data=data12)\n",
    "df12.head()"
   ],
   "metadata": {
    "collapsed": false,
    "pycharm": {
     "name": "#%%\n"
    }
   }
  },
  {
   "cell_type": "code",
   "execution_count": null,
   "outputs": [],
   "source": [
    "dataD = pd.concat([data1, data2, data3, data4, data5, data6, data7, data8, data9, data11, data12], axis=0, ignore_index=True)\n",
    "dfD = pd.DataFrame(data=dataD)\n",
    "dfD"
   ],
   "metadata": {
    "collapsed": false,
    "pycharm": {
     "name": "#%%\n"
    }
   }
  },
  {
   "cell_type": "markdown",
   "source": [
    "######################Participant 13###########"
   ],
   "metadata": {
    "collapsed": false,
    "pycharm": {
     "name": "#%% md\n"
    }
   }
  },
  {
   "cell_type": "code",
   "execution_count": null,
   "outputs": [],
   "source": [
    "path_to_file13 = \"P13_fp-epo.fif\"\n",
    "p13_data = mne.read_epochs(path_to_file13, proj=True, preload=True, verbose=None)\n",
    "p13_cong = p13_data[\"fp_congruent\"].get_data() * 1e6\n",
    "print(p13_cong.shape)\n",
    "p13_incong = p13_data[\"fp_incongruent\"].get_data() * 1e6\n",
    "print(p13_incong.shape)\n",
    "epochs13 = mne.read_epochs(path_to_file13, proj=True, preload=True, verbose=None)\n",
    "#\n",
    "ch_names13 = epochs11.info[\"ch_names\"]\n",
    "ch_idx131 = ch_names.index(\"Fp1\") #Pz, Cz, Oz\n",
    "ch_idx132 = ch_names.index(\"Pz\")\n",
    "ch_idx133 = ch_names.index(\"Cz\")\n",
    "ch_idx134 = ch_names.index(\"Oz\")\n",
    "\n",
    "p13_avg1fp1 = np.mean(p13_cong[:,ch_idx131,:],axis=0)\n",
    "p13_avg1pz = np.mean(p13_cong[:,ch_idx132,:],axis=0)\n",
    "p13_avg1cz = np.mean(p13_cong[:,ch_idx133,:],axis=0)\n",
    "p13_avg1oz = np.mean(p13_cong[:,ch_idx134,:],axis=0)\n",
    "print(p13_avg1fp1.shape)\n",
    "print(p13_avg1pz.shape)\n",
    "print(p13_avg1cz.shape)\n",
    "print(p13_avg1oz.shape)\n",
    "#\n",
    "p13_avg2fp1 = np.mean(p13_incong[:, ch_idx131, :], axis=0)\n",
    "p13_avg2pz = np.mean(p13_incong[:,ch_idx132,:],axis=0)\n",
    "p13_avg2cz = np.mean(p13_incong[:,ch_idx133,:],axis=0)\n",
    "p13_avg2oz = np.mean(p13_incong[:,ch_idx134,:],axis=0)\n",
    "print(p13_avg2fp1.shape)\n",
    "print(p13_avg2pz.shape)\n",
    "print(p13_avg2cz.shape)\n",
    "print(p13_avg2oz.shape)\n",
    "\n"
   ],
   "metadata": {
    "collapsed": false,
    "pycharm": {
     "name": "#%%\n"
    }
   }
  },
  {
   "cell_type": "code",
   "execution_count": null,
   "outputs": [],
   "source": [
    "plt.figure()\n",
    "plt.plot(p13_avg1fp1, color = \"blue\")\n",
    "plt.plot(p13_avg2fp1, color = \"red\")\n",
    "plt.show()"
   ],
   "metadata": {
    "collapsed": false,
    "pycharm": {
     "name": "#%%\n"
    }
   }
  },
  {
   "cell_type": "code",
   "execution_count": null,
   "outputs": [],
   "source": [
    "col_maxc13fp1 = p13_avg1fp1.max(axis=0)\n",
    "col_maxc13fp1"
   ],
   "metadata": {
    "collapsed": false,
    "pycharm": {
     "name": "#%%\n"
    }
   }
  },
  {
   "cell_type": "code",
   "execution_count": null,
   "outputs": [],
   "source": [
    "col_maxin13fp1 = p13_avg2fp1.max(axis=0)\n",
    "col_maxin13fp1"
   ],
   "metadata": {
    "collapsed": false,
    "pycharm": {
     "name": "#%%\n"
    }
   }
  },
  {
   "cell_type": "code",
   "execution_count": null,
   "outputs": [],
   "source": [
    "plt.figure()\n",
    "plt.plot(p13_avg1pz, color=\"blue\")\n",
    "plt.plot(p13_avg2pz, color=\"red\")\n",
    "plt.show()"
   ],
   "metadata": {
    "collapsed": false,
    "pycharm": {
     "name": "#%%\n"
    }
   }
  },
  {
   "cell_type": "code",
   "execution_count": null,
   "outputs": [],
   "source": [
    "col_maxc13pz = p13_avg1pz.max(axis=0)\n",
    "col_maxc13pz"
   ],
   "metadata": {
    "collapsed": false,
    "pycharm": {
     "name": "#%%\n"
    }
   }
  },
  {
   "cell_type": "code",
   "execution_count": null,
   "outputs": [],
   "source": [
    "col_maxin13pz = p13_avg2pz.max(axis=0)\n",
    "col_maxin13pz"
   ],
   "metadata": {
    "collapsed": false,
    "pycharm": {
     "name": "#%%\n"
    }
   }
  },
  {
   "cell_type": "code",
   "execution_count": null,
   "outputs": [],
   "source": [
    "plt.figure()\n",
    "plt.plot(p13_avg1cz, color=\"blue\")\n",
    "plt.plot(p13_avg2cz, color=\"red\")\n",
    "plt.show()"
   ],
   "metadata": {
    "collapsed": false,
    "pycharm": {
     "name": "#%%\n"
    }
   }
  },
  {
   "cell_type": "code",
   "execution_count": null,
   "outputs": [],
   "source": [
    "col_maxc13cz = p13_avg1cz.max(axis=0)\n",
    "col_maxc13cz"
   ],
   "metadata": {
    "collapsed": false,
    "pycharm": {
     "name": "#%%\n"
    }
   }
  },
  {
   "cell_type": "code",
   "execution_count": null,
   "outputs": [],
   "source": [
    "col_maxin13cz = p13_avg2cz.max(axis=0)\n",
    "col_maxin13cz"
   ],
   "metadata": {
    "collapsed": false,
    "pycharm": {
     "name": "#%%\n"
    }
   }
  },
  {
   "cell_type": "code",
   "execution_count": null,
   "outputs": [],
   "source": [
    "plt.figure()\n",
    "plt.plot(p13_avg1oz, color=\"blue\")\n",
    "plt.plot(p13_avg2oz, color=\"red\")\n",
    "plt.show()"
   ],
   "metadata": {
    "collapsed": false,
    "pycharm": {
     "name": "#%%\n"
    }
   }
  },
  {
   "cell_type": "code",
   "execution_count": null,
   "outputs": [],
   "source": [
    "col_maxc13oz = p13_avg1oz.max(axis=0)\n",
    "col_maxc13oz"
   ],
   "metadata": {
    "collapsed": false,
    "pycharm": {
     "name": "#%%\n"
    }
   }
  },
  {
   "cell_type": "code",
   "execution_count": null,
   "outputs": [],
   "source": [
    "col_maxin13oz = p13_avg2oz.max(axis=0)\n",
    "col_maxin13oz"
   ],
   "metadata": {
    "collapsed": false,
    "pycharm": {
     "name": "#%%\n"
    }
   }
  },
  {
   "cell_type": "code",
   "execution_count": null,
   "outputs": [],
   "source": [
    "data13 = pd.DataFrame({'pnumber' : ['13cong', '13incong'],\n",
    "       'fp1' : [col_maxc13fp1, col_maxin13fp1],\n",
    "        'pz' : [col_maxc13pz, col_maxin13pz],\n",
    "        'cz' : [col_maxc13cz, col_maxin13cz],\n",
    "        'oz' : [col_maxc13oz, col_maxin13oz]\n",
    "        })\n",
    "\n",
    "df13 = pd.DataFrame(data=data13)\n",
    "df13.head()"
   ],
   "metadata": {
    "collapsed": false,
    "pycharm": {
     "name": "#%%\n"
    }
   }
  },
  {
   "cell_type": "markdown",
   "source": [
    "################Participant 15#####################"
   ],
   "metadata": {
    "collapsed": false,
    "pycharm": {
     "name": "#%% md\n"
    }
   }
  },
  {
   "cell_type": "code",
   "execution_count": null,
   "outputs": [],
   "source": [
    "path_to_file15 = \"P15_fp-epo.fif\"\n",
    "p15_data = mne.read_epochs(path_to_file15, proj=True, preload=True, verbose=None)\n",
    "p15_cong = p15_data[\"fp_congruent\"].get_data() * 1e6\n",
    "print(p15_cong.shape)\n",
    "p15_incong = p15_data[\"fp_incongruent\"].get_data() * 1e6\n",
    "print(p15_incong.shape)\n",
    "epochs15 = mne.read_epochs(path_to_file15, proj=True, preload=True, verbose=None)\n",
    "#\n",
    "ch_names15 = epochs15.info[\"ch_names\"]\n",
    "ch_idx151 = ch_names.index(\"Fp1\") #Pz, Cz, Oz\n",
    "ch_idx152 = ch_names.index(\"Pz\")\n",
    "ch_idx153 = ch_names.index(\"Cz\")\n",
    "ch_idx154 = ch_names.index(\"Oz\")\n",
    "\n",
    "p15_avg1fp1 = np.mean(p15_cong[:,ch_idx151,:],axis=0)\n",
    "p15_avg1pz = np.mean(p15_cong[:,ch_idx152,:],axis=0)\n",
    "p15_avg1cz = np.mean(p15_cong[:,ch_idx153,:],axis=0)\n",
    "p15_avg1oz = np.mean(p15_cong[:,ch_idx154,:],axis=0)\n",
    "print(p15_avg1fp1.shape)\n",
    "print(p15_avg1pz.shape)\n",
    "print(p15_avg1cz.shape)\n",
    "print(p15_avg1oz.shape)\n",
    "#\n",
    "p15_avg2fp1 = np.mean(p15_incong[:, ch_idx151, :], axis=0)\n",
    "p15_avg2pz = np.mean(p15_incong[:,ch_idx152,:],axis=0)\n",
    "p15_avg2cz = np.mean(p15_incong[:,ch_idx153,:],axis=0)\n",
    "p15_avg2oz = np.mean(p15_incong[:,ch_idx154,:],axis=0)\n",
    "print(p15_avg2fp1.shape)\n",
    "print(p15_avg2pz.shape)\n",
    "print(p15_avg2cz.shape)\n",
    "print(p15_avg2oz.shape)\n",
    "\n",
    "\n"
   ],
   "metadata": {
    "collapsed": false,
    "pycharm": {
     "name": "#%%\n"
    }
   }
  },
  {
   "cell_type": "code",
   "execution_count": null,
   "outputs": [],
   "source": [
    "plt.figure()\n",
    "plt.plot(p15_avg1fp1, color=\"blue\")\n",
    "plt.plot(p15_avg2fp1, color=\"red\")\n",
    "plt.show()"
   ],
   "metadata": {
    "collapsed": false,
    "pycharm": {
     "name": "#%%\n"
    }
   }
  },
  {
   "cell_type": "code",
   "execution_count": null,
   "outputs": [],
   "source": [
    "col_maxc15fp1 = p15_avg1fp1.max(axis=0)\n",
    "col_maxc15fp1"
   ],
   "metadata": {
    "collapsed": false,
    "pycharm": {
     "name": "#%%\n"
    }
   }
  },
  {
   "cell_type": "code",
   "execution_count": null,
   "outputs": [],
   "source": [
    "col_maxin15fp1 = p15_avg2fp1.max(axis=0)\n",
    "col_maxin15fp1"
   ],
   "metadata": {
    "collapsed": false,
    "pycharm": {
     "name": "#%%\n"
    }
   }
  },
  {
   "cell_type": "code",
   "execution_count": null,
   "outputs": [],
   "source": [
    "plt.figure()\n",
    "plt.plot(p15_avg1pz, color=\"blue\")\n",
    "plt.plot(p15_avg2pz, color=\"red\")\n",
    "plt.show()"
   ],
   "metadata": {
    "collapsed": false,
    "pycharm": {
     "name": "#%%\n"
    }
   }
  },
  {
   "cell_type": "code",
   "execution_count": null,
   "outputs": [],
   "source": [
    "col_maxc15pz = p15_avg1pz.max(axis=0)\n",
    "col_maxc15pz"
   ],
   "metadata": {
    "collapsed": false,
    "pycharm": {
     "name": "#%%\n"
    }
   }
  },
  {
   "cell_type": "code",
   "execution_count": null,
   "outputs": [],
   "source": [
    "col_maxin15pz = p15_avg2pz.max(axis=0)\n",
    "col_maxin15pz"
   ],
   "metadata": {
    "collapsed": false,
    "pycharm": {
     "name": "#%%\n"
    }
   }
  },
  {
   "cell_type": "code",
   "execution_count": null,
   "outputs": [],
   "source": [
    "plt.figure()\n",
    "plt.plot(p15_avg1cz, color=\"blue\")\n",
    "plt.plot(p15_avg2cz, color=\"red\")\n",
    "plt.show()"
   ],
   "metadata": {
    "collapsed": false,
    "pycharm": {
     "name": "#%%\n"
    }
   }
  },
  {
   "cell_type": "code",
   "execution_count": null,
   "outputs": [],
   "source": [
    "col_maxc15cz = p15_avg1cz.max(axis=0)\n",
    "col_maxc15cz"
   ],
   "metadata": {
    "collapsed": false,
    "pycharm": {
     "name": "#%%\n"
    }
   }
  },
  {
   "cell_type": "code",
   "execution_count": null,
   "outputs": [],
   "source": [
    "col_maxin15cz = p15_avg2cz.max(axis=0)\n",
    "col_maxin15cz"
   ],
   "metadata": {
    "collapsed": false,
    "pycharm": {
     "name": "#%%\n"
    }
   }
  },
  {
   "cell_type": "code",
   "execution_count": null,
   "outputs": [],
   "source": [
    "plt.figure()\n",
    "plt.plot(p15_avg1oz, color=\"blue\")\n",
    "plt.plot(p15_avg2oz, color=\"red\")\n",
    "plt.show()"
   ],
   "metadata": {
    "collapsed": false,
    "pycharm": {
     "name": "#%%\n"
    }
   }
  },
  {
   "cell_type": "code",
   "execution_count": null,
   "outputs": [],
   "source": [
    "col_maxc15oz = p15_avg1oz.max(axis=0)\n",
    "col_maxc15oz"
   ],
   "metadata": {
    "collapsed": false,
    "pycharm": {
     "name": "#%%\n"
    }
   }
  },
  {
   "cell_type": "code",
   "execution_count": null,
   "outputs": [],
   "source": [
    "col_maxin15oz = p15_avg2oz.max(axis=0)\n",
    "col_maxin15oz"
   ],
   "metadata": {
    "collapsed": false,
    "pycharm": {
     "name": "#%%\n"
    }
   }
  },
  {
   "cell_type": "code",
   "execution_count": null,
   "outputs": [],
   "source": [
    "data15 = pd.DataFrame({'pnumber' : ['15cong', '15incong'],\n",
    "       'fp1' : [col_maxc15fp1, col_maxin15fp1],\n",
    "        'pz' : [col_maxc15pz, col_maxin15pz],\n",
    "        'cz' : [col_maxc15cz, col_maxin15cz],\n",
    "        'oz' : [col_maxc15oz, col_maxin15oz]\n",
    "        })\n",
    "\n",
    "df15 = pd.DataFrame(data=data15)\n",
    "df15.head()"
   ],
   "metadata": {
    "collapsed": false,
    "pycharm": {
     "name": "#%%\n"
    }
   }
  },
  {
   "cell_type": "markdown",
   "source": [
    "#################Participant 18##############"
   ],
   "metadata": {
    "collapsed": false,
    "pycharm": {
     "name": "#%% md\n"
    }
   }
  },
  {
   "cell_type": "code",
   "execution_count": null,
   "outputs": [],
   "source": [
    "path_to_file18 = \"P18_fp-epo.fif\"\n",
    "p18_data = mne.read_epochs(path_to_file18, proj=True, preload=True, verbose=None)\n",
    "p18_cong = p18_data[\"fp_congruent\"].get_data() * 1e6\n",
    "print(p18_cong.shape)\n",
    "p18_incong = p18_data[\"fp_incongruent\"].get_data() * 1e6\n",
    "print(p18_incong.shape)\n",
    "epochs18 = mne.read_epochs(path_to_file18, proj=True, preload=True, verbose=None)\n",
    "#\n",
    "ch_names18 = epochs18.info[\"ch_names\"]\n",
    "ch_idx181 = ch_names.index(\"Fp1\") #Pz, Cz, Oz\n",
    "ch_idx182 = ch_names.index(\"Pz\")\n",
    "ch_idx183 = ch_names.index(\"Cz\")\n",
    "ch_idx184 = ch_names.index(\"Oz\")\n",
    "\n",
    "p18_avg1fp1 = np.mean(p18_cong[:,ch_idx181,:],axis=0)\n",
    "p18_avg1pz = np.mean(p18_cong[:,ch_idx182,:],axis=0)\n",
    "p18_avg1cz = np.mean(p18_cong[:,ch_idx183,:],axis=0)\n",
    "p18_avg1oz = np.mean(p18_cong[:,ch_idx184,:],axis=0)\n",
    "print(p18_avg1fp1.shape)\n",
    "print(p18_avg1pz.shape)\n",
    "print(p18_avg1cz.shape)\n",
    "print(p18_avg1oz.shape)\n",
    "#\n",
    "p18_avg2fp1 = np.mean(p18_incong[:, ch_idx181, :], axis=0)\n",
    "p18_avg2pz = np.mean(p18_incong[:,ch_idx182,:],axis=0)\n",
    "p18_avg2cz = np.mean(p18_incong[:,ch_idx183,:],axis=0)\n",
    "p18_avg2oz = np.mean(p18_incong[:,ch_idx184,:],axis=0)\n",
    "print(p18_avg2fp1.shape)\n",
    "print(p18_avg2pz.shape)\n",
    "print(p18_avg2cz.shape)\n",
    "print(p18_avg2oz.shape)\n",
    "\n"
   ],
   "metadata": {
    "collapsed": false,
    "pycharm": {
     "name": "#%%\n"
    }
   }
  },
  {
   "cell_type": "code",
   "execution_count": null,
   "outputs": [],
   "source": [
    "plt.figure()\n",
    "plt.plot(p18_avg1fp1, color=\"blue\")\n",
    "plt.plot(p18_avg2fp1, color=\"red\")\n",
    "plt.show()"
   ],
   "metadata": {
    "collapsed": false,
    "pycharm": {
     "name": "#%%\n"
    }
   }
  },
  {
   "cell_type": "code",
   "execution_count": null,
   "outputs": [],
   "source": [
    "col_maxc18fp1 = p18_avg1fp1.max(axis=0)\n",
    "col_maxc18fp1"
   ],
   "metadata": {
    "collapsed": false,
    "pycharm": {
     "name": "#%%\n"
    }
   }
  },
  {
   "cell_type": "code",
   "execution_count": null,
   "outputs": [],
   "source": [
    "col_maxin18fp1 = p18_avg2fp1.max(axis=0)\n",
    "col_maxin18fp1"
   ],
   "metadata": {
    "collapsed": false,
    "pycharm": {
     "name": "#%%\n"
    }
   }
  },
  {
   "cell_type": "code",
   "execution_count": null,
   "outputs": [],
   "source": [
    "plt.figure()\n",
    "plt.plot(p18_avg1pz, color=\"blue\")\n",
    "plt.plot(p18_avg2pz, color=\"red\")\n",
    "plt.show()"
   ],
   "metadata": {
    "collapsed": false,
    "pycharm": {
     "name": "#%%\n"
    }
   }
  },
  {
   "cell_type": "code",
   "execution_count": null,
   "outputs": [],
   "source": [
    "col_maxc18pz = p18_avg1pz.max(axis=0)\n",
    "col_maxc18pz"
   ],
   "metadata": {
    "collapsed": false,
    "pycharm": {
     "name": "#%%\n"
    }
   }
  },
  {
   "cell_type": "code",
   "execution_count": null,
   "outputs": [],
   "source": [
    "col_maxin18pz = p18_avg2pz.max(axis=0)\n",
    "col_maxin18pz"
   ],
   "metadata": {
    "collapsed": false,
    "pycharm": {
     "name": "#%%\n"
    }
   }
  },
  {
   "cell_type": "code",
   "execution_count": null,
   "outputs": [],
   "source": [
    "plt.figure()\n",
    "plt.plot(p18_avg1cz, color=\"blue\")\n",
    "plt.plot(p18_avg2cz, color=\"red\")\n",
    "plt.show()"
   ],
   "metadata": {
    "collapsed": false,
    "pycharm": {
     "name": "#%%\n"
    }
   }
  },
  {
   "cell_type": "code",
   "execution_count": null,
   "outputs": [],
   "source": [
    "col_maxc18cz = p18_avg1cz.max(axis=0)\n",
    "col_maxc18cz"
   ],
   "metadata": {
    "collapsed": false,
    "pycharm": {
     "name": "#%%\n"
    }
   }
  },
  {
   "cell_type": "code",
   "execution_count": null,
   "outputs": [],
   "source": [
    "col_maxin18cz = p18_avg2cz.max(axis=0)\n",
    "col_maxin18cz"
   ],
   "metadata": {
    "collapsed": false,
    "pycharm": {
     "name": "#%%\n"
    }
   }
  },
  {
   "cell_type": "code",
   "execution_count": null,
   "outputs": [],
   "source": [
    "plt.figure()\n",
    "plt.plot(p18_avg1oz, color=\"blue\")\n",
    "plt.plot(p18_avg2oz, color=\"red\")\n",
    "plt.show()"
   ],
   "metadata": {
    "collapsed": false,
    "pycharm": {
     "name": "#%%\n"
    }
   }
  },
  {
   "cell_type": "code",
   "execution_count": null,
   "outputs": [],
   "source": [
    "col_maxc18oz = p18_avg1oz.max(axis=0)\n",
    "col_maxc18oz"
   ],
   "metadata": {
    "collapsed": false,
    "pycharm": {
     "name": "#%%\n"
    }
   }
  },
  {
   "cell_type": "code",
   "execution_count": null,
   "outputs": [],
   "source": [
    "col_maxin18oz = p18_avg2oz.max(axis=0)\n",
    "col_maxin18oz"
   ],
   "metadata": {
    "collapsed": false,
    "pycharm": {
     "name": "#%%\n"
    }
   }
  },
  {
   "cell_type": "code",
   "execution_count": null,
   "outputs": [],
   "source": [
    "data18 = pd.DataFrame({'pnumber' : ['18cong', '18incong'],\n",
    "       'fp1' : [col_maxc18fp1, col_maxin18fp1],\n",
    "        'pz' : [col_maxc18pz, col_maxin18pz],\n",
    "        'cz' : [col_maxc18cz, col_maxin18cz],\n",
    "        'oz' : [col_maxc18oz, col_maxin18oz]\n",
    "        })\n",
    "\n",
    "df18 = pd.DataFrame(data=data18)\n",
    "df18.head()"
   ],
   "metadata": {
    "collapsed": false,
    "pycharm": {
     "name": "#%%\n"
    }
   }
  },
  {
   "cell_type": "markdown",
   "source": [
    "###############Participant 19################"
   ],
   "metadata": {
    "collapsed": false,
    "pycharm": {
     "name": "#%% md\n"
    }
   }
  },
  {
   "cell_type": "code",
   "execution_count": null,
   "outputs": [],
   "source": [
    "path_to_file19 = \"P19_fp-epo.fif\"\n",
    "p19_data = mne.read_epochs(path_to_file19, proj=True, preload=True, verbose=None)\n",
    "p19_cong = p19_data[\"fp_congruent\"].get_data() * 1e6\n",
    "print(p19_cong.shape)\n",
    "p19_incong = p19_data[\"fp_incongruent\"].get_data() * 1e6\n",
    "print(p19_incong.shape)\n",
    "epochs19 = mne.read_epochs(path_to_file19, proj=True, preload=True, verbose=None)\n",
    "#\n",
    "ch_names19 = epochs19.info[\"ch_names\"]\n",
    "ch_idx191 = ch_names.index(\"Fp1\") #Pz, Cz, Oz\n",
    "ch_idx192 = ch_names.index(\"Pz\")\n",
    "ch_idx193 = ch_names.index(\"Cz\")\n",
    "ch_idx194 = ch_names.index(\"Oz\")\n",
    "\n",
    "p19_avg1fp1 = np.mean(p19_cong[:,ch_idx191,:],axis=0)\n",
    "p19_avg1pz = np.mean(p19_cong[:,ch_idx192,:],axis=0)\n",
    "p19_avg1cz = np.mean(p19_cong[:,ch_idx193,:],axis=0)\n",
    "p19_avg1oz = np.mean(p19_cong[:,ch_idx194,:],axis=0)\n",
    "print(p19_avg1fp1.shape)\n",
    "print(p19_avg1pz.shape)\n",
    "print(p19_avg1cz.shape)\n",
    "print(p19_avg1oz.shape)\n",
    "#\n",
    "p19_avg2fp1 = np.mean(p19_incong[:, ch_idx191, :], axis=0)\n",
    "p19_avg2pz = np.mean(p19_incong[:,ch_idx192,:],axis=0)\n",
    "p19_avg2cz = np.mean(p19_incong[:,ch_idx193,:],axis=0)\n",
    "p19_avg2oz = np.mean(p19_incong[:,ch_idx194,:],axis=0)\n",
    "print(p19_avg2fp1.shape)\n",
    "print(p19_avg2pz.shape)\n",
    "print(p19_avg2cz.shape)\n",
    "print(p19_avg2oz.shape)\n",
    "\n"
   ],
   "metadata": {
    "collapsed": false,
    "pycharm": {
     "name": "#%%\n"
    }
   }
  },
  {
   "cell_type": "code",
   "execution_count": null,
   "outputs": [],
   "source": [
    "plt.figure()\n",
    "plt.plot(p19_avg1fp1, color=\"blue\")\n",
    "plt.plot(p19_avg2fp1, color=\"red\")\n",
    "plt.show()"
   ],
   "metadata": {
    "collapsed": false,
    "pycharm": {
     "name": "#%%\n"
    }
   }
  },
  {
   "cell_type": "code",
   "execution_count": null,
   "outputs": [],
   "source": [
    "col_maxc19fp1 = p19_avg1fp1.max(axis=0)\n",
    "col_maxc19fp1"
   ],
   "metadata": {
    "collapsed": false,
    "pycharm": {
     "name": "#%%\n"
    }
   }
  },
  {
   "cell_type": "code",
   "execution_count": null,
   "outputs": [],
   "source": [
    "col_maxin19fp1 = p19_avg2fp1.max(axis=0)\n",
    "col_maxin19fp1"
   ],
   "metadata": {
    "collapsed": false,
    "pycharm": {
     "name": "#%%\n"
    }
   }
  },
  {
   "cell_type": "code",
   "execution_count": null,
   "outputs": [],
   "source": [
    "plt.figure()\n",
    "plt.plot(p19_avg1pz, color=\"blue\")\n",
    "plt.plot(p19_avg2pz, color=\"red\")\n",
    "plt.show()"
   ],
   "metadata": {
    "collapsed": false,
    "pycharm": {
     "name": "#%%\n"
    }
   }
  },
  {
   "cell_type": "code",
   "execution_count": null,
   "outputs": [],
   "source": [
    "col_maxc19pz = p19_avg1pz.max(axis=0)\n",
    "col_maxc19pz"
   ],
   "metadata": {
    "collapsed": false,
    "pycharm": {
     "name": "#%%\n"
    }
   }
  },
  {
   "cell_type": "code",
   "execution_count": null,
   "outputs": [],
   "source": [
    "col_maxin19pz = p19_avg2pz.max(axis=0)\n",
    "col_maxin19pz"
   ],
   "metadata": {
    "collapsed": false,
    "pycharm": {
     "name": "#%%\n"
    }
   }
  },
  {
   "cell_type": "code",
   "execution_count": null,
   "outputs": [],
   "source": [
    "plt.figure()\n",
    "plt.plot(p19_avg1cz, color=\"blue\")\n",
    "plt.plot(p19_avg2cz, color=\"red\")\n",
    "plt.show()"
   ],
   "metadata": {
    "collapsed": false,
    "pycharm": {
     "name": "#%%\n"
    }
   }
  },
  {
   "cell_type": "code",
   "execution_count": null,
   "outputs": [],
   "source": [
    "col_maxc19cz = p19_avg1cz.max(axis=0)\n",
    "col_maxc19cz"
   ],
   "metadata": {
    "collapsed": false,
    "pycharm": {
     "name": "#%%\n"
    }
   }
  },
  {
   "cell_type": "code",
   "execution_count": null,
   "outputs": [],
   "source": [
    "col_maxin19cz = p19_avg2cz.max(axis=0)\n",
    "col_maxin19cz"
   ],
   "metadata": {
    "collapsed": false,
    "pycharm": {
     "name": "#%%\n"
    }
   }
  },
  {
   "cell_type": "code",
   "execution_count": null,
   "outputs": [],
   "source": [
    "plt.figure()\n",
    "plt.plot(p19_avg1oz, color=\"blue\")\n",
    "plt.plot(p19_avg2oz, color=\"red\")\n",
    "plt.show()"
   ],
   "metadata": {
    "collapsed": false,
    "pycharm": {
     "name": "#%%\n"
    }
   }
  },
  {
   "cell_type": "code",
   "execution_count": null,
   "outputs": [],
   "source": [
    "col_maxc19oz = p19_avg1oz.max(axis=0)\n",
    "col_maxc19oz"
   ],
   "metadata": {
    "collapsed": false,
    "pycharm": {
     "name": "#%%\n"
    }
   }
  },
  {
   "cell_type": "code",
   "execution_count": null,
   "outputs": [],
   "source": [
    "col_maxin19oz = p19_avg2oz.max(axis=0)\n",
    "col_maxin19oz"
   ],
   "metadata": {
    "collapsed": false,
    "pycharm": {
     "name": "#%%\n"
    }
   }
  },
  {
   "cell_type": "code",
   "execution_count": null,
   "outputs": [],
   "source": [
    "data19 = pd.DataFrame({'pnumber' : ['19cong', '19incong'],\n",
    "       'fp1' : [col_maxc19fp1, col_maxin19fp1],\n",
    "        'pz' : [col_maxc19pz, col_maxin19pz],\n",
    "        'cz' : [col_maxc19cz, col_maxin19cz],\n",
    "        'oz' : [col_maxc19oz, col_maxin19oz]\n",
    "        })\n",
    "\n",
    "df19 = pd.DataFrame(data=data19)\n",
    "df19.head()"
   ],
   "metadata": {
    "collapsed": false,
    "pycharm": {
     "name": "#%%\n"
    }
   }
  },
  {
   "cell_type": "markdown",
   "source": [
    "####################Participant 20#################"
   ],
   "metadata": {
    "collapsed": false,
    "pycharm": {
     "name": "#%% md\n"
    }
   }
  },
  {
   "cell_type": "code",
   "execution_count": null,
   "outputs": [],
   "source": [
    "path_to_file20 = \"P20_fp-epo.fif\"\n",
    "p20_data = mne.read_epochs(path_to_file20, proj=True, preload=True, verbose=None)\n",
    "p20_cong = p20_data[\"fp_congruent\"].get_data() * 1e6\n",
    "print(p20_cong.shape)\n",
    "p20_incong = p20_data[\"fp_incongruent\"].get_data() * 1e6\n",
    "print(p20_incong.shape)\n",
    "epochs20 = mne.read_epochs(path_to_file20, proj=True, preload=True, verbose=None)\n",
    "#\n",
    "ch_names20 = epochs20.info[\"ch_names\"]\n",
    "ch_idx201 = ch_names.index(\"Fp1\") #Pz, Cz, Oz\n",
    "ch_idx202 = ch_names.index(\"Pz\")\n",
    "ch_idx203 = ch_names.index(\"Cz\")\n",
    "ch_idx204 = ch_names.index(\"Oz\")\n",
    "\n",
    "ch_idx2010 = ch_names.index(\"CP5\")\n",
    "p20_avg1fp1 = np.mean(p20_cong[:,ch_idx201,:],axis=0)\n",
    "p20_avg1pz = np.mean(p20_cong[:,ch_idx202,:],axis=0)\n",
    "p20_avg1cz = np.mean(p20_cong[:,ch_idx203,:],axis=0)\n",
    "p20_avg1oz = np.mean(p20_cong[:,ch_idx204,:],axis=0)\n",
    "print(p20_avg1fp1.shape)\n",
    "print(p20_avg1pz.shape)\n",
    "print(p20_avg1cz.shape)\n",
    "print(p20_avg1oz.shape)\n",
    "#\n",
    "p20_avg2fp1 = np.mean(p20_incong[:, ch_idx201,:],axis=0)\n",
    "p20_avg2pz = np.mean(p20_incong[:,ch_idx202,:],axis=0)\n",
    "p20_avg2cz = np.mean(p20_incong[:,ch_idx203,:],axis=0)\n",
    "p20_avg2oz = np.mean(p20_incong[:,ch_idx204,:],axis=0)\n",
    "print(p20_avg2fp1.shape)\n",
    "print(p20_avg2pz.shape)\n",
    "print(p20_avg2cz.shape)\n",
    "print(p20_avg2oz.shape)\n",
    "\n",
    "\n"
   ],
   "metadata": {
    "collapsed": false,
    "pycharm": {
     "name": "#%%\n"
    }
   }
  },
  {
   "cell_type": "code",
   "execution_count": null,
   "outputs": [],
   "source": [
    "plt.figure()\n",
    "plt.plot(p20_avg1fp1, color=\"blue\")\n",
    "plt.plot(p20_avg2fp1, color=\"red\")\n",
    "plt.show()"
   ],
   "metadata": {
    "collapsed": false,
    "pycharm": {
     "name": "#%%\n"
    }
   }
  },
  {
   "cell_type": "code",
   "execution_count": null,
   "outputs": [],
   "source": [
    "col_maxc20fp1 = p20_avg1fp1.max(axis=0)\n",
    "col_maxc20fp1"
   ],
   "metadata": {
    "collapsed": false,
    "pycharm": {
     "name": "#%%\n"
    }
   }
  },
  {
   "cell_type": "code",
   "execution_count": null,
   "outputs": [],
   "source": [
    "col_maxin20fp1 = p20_avg2fp1.max(axis=0)\n",
    "col_maxin20fp1"
   ],
   "metadata": {
    "collapsed": false,
    "pycharm": {
     "name": "#%%\n"
    }
   }
  },
  {
   "cell_type": "code",
   "execution_count": null,
   "outputs": [],
   "source": [
    "plt.figure()\n",
    "plt.plot(p20_avg1pz, color=\"blue\")\n",
    "plt.plot(p20_avg2pz, color=\"red\")\n",
    "plt.show()"
   ],
   "metadata": {
    "collapsed": false,
    "pycharm": {
     "name": "#%%\n"
    }
   }
  },
  {
   "cell_type": "code",
   "execution_count": null,
   "outputs": [],
   "source": [
    "col_maxc20pz = p20_avg1pz.max(axis=0)\n",
    "col_maxc20pz"
   ],
   "metadata": {
    "collapsed": false,
    "pycharm": {
     "name": "#%%\n"
    }
   }
  },
  {
   "cell_type": "code",
   "execution_count": null,
   "outputs": [],
   "source": [
    "col_maxin20pz = p20_avg2pz.max(axis=0)\n",
    "col_maxin20pz"
   ],
   "metadata": {
    "collapsed": false,
    "pycharm": {
     "name": "#%%\n"
    }
   }
  },
  {
   "cell_type": "code",
   "execution_count": null,
   "outputs": [],
   "source": [
    "plt.figure()\n",
    "plt.plot(p20_avg1cz, color=\"blue\")\n",
    "plt.plot(p20_avg2cz, color=\"red\")\n",
    "plt.show()"
   ],
   "metadata": {
    "collapsed": false,
    "pycharm": {
     "name": "#%%\n"
    }
   }
  },
  {
   "cell_type": "code",
   "execution_count": null,
   "outputs": [],
   "source": [
    "col_maxc20cz = p20_avg1cz.max(axis=0)\n",
    "col_maxc20cz"
   ],
   "metadata": {
    "collapsed": false,
    "pycharm": {
     "name": "#%%\n"
    }
   }
  },
  {
   "cell_type": "code",
   "execution_count": null,
   "outputs": [],
   "source": [
    "col_maxin20cz = p20_avg2cz.max(axis=0)\n",
    "col_maxin20cz"
   ],
   "metadata": {
    "collapsed": false,
    "pycharm": {
     "name": "#%%\n"
    }
   }
  },
  {
   "cell_type": "code",
   "execution_count": null,
   "outputs": [],
   "source": [
    "plt.figure()\n",
    "plt.plot(p20_avg1oz, color=\"blue\")\n",
    "plt.plot(p20_avg2oz, color=\"red\")\n",
    "plt.show()"
   ],
   "metadata": {
    "collapsed": false,
    "pycharm": {
     "name": "#%%\n"
    }
   }
  },
  {
   "cell_type": "code",
   "execution_count": null,
   "outputs": [],
   "source": [
    "col_maxc20oz = p20_avg1oz.max(axis=0)\n",
    "col_maxc20oz"
   ],
   "metadata": {
    "collapsed": false,
    "pycharm": {
     "name": "#%%\n"
    }
   }
  },
  {
   "cell_type": "code",
   "execution_count": null,
   "outputs": [],
   "source": [
    "col_maxin20oz = p20_avg2oz.max(axis=0)\n",
    "col_maxin20oz"
   ],
   "metadata": {
    "collapsed": false,
    "pycharm": {
     "name": "#%%\n"
    }
   }
  },
  {
   "cell_type": "code",
   "execution_count": null,
   "outputs": [],
   "source": [
    "data20 = pd.DataFrame({'pnumber' : ['20cong', '20incong'],\n",
    "       'fp1' : [col_maxc20fp1, col_maxin20fp1],\n",
    "        'pz' : [col_maxc20pz, col_maxin20pz],\n",
    "        'cz' : [col_maxc20cz, col_maxin20cz],\n",
    "        'oz' : [col_maxc20oz, col_maxin20oz]\n",
    "        })\n",
    "\n",
    "df20 = pd.DataFrame(data=data20)\n",
    "df20.head()"
   ],
   "metadata": {
    "collapsed": false,
    "pycharm": {
     "name": "#%%\n"
    }
   }
  },
  {
   "cell_type": "markdown",
   "source": [
    "##########################Participant 21############"
   ],
   "metadata": {
    "collapsed": false,
    "pycharm": {
     "name": "#%% md\n"
    }
   }
  },
  {
   "cell_type": "code",
   "execution_count": null,
   "outputs": [],
   "source": [
    "path_to_file21 = \"P21_fp-epo.fif\"\n",
    "p21_data = mne.read_epochs(path_to_file21, proj=True, preload=True, verbose=None)\n",
    "p21_cong = p21_data[\"fp_congruent\"].get_data() * 1e6\n",
    "print(p21_cong.shape)\n",
    "p21_incong = p21_data[\"fp_incongruent\"].get_data() * 1e6\n",
    "print(p21_incong.shape)\n",
    "epochs21 = mne.read_epochs(path_to_file21, proj=True, preload=True, verbose=None)\n",
    "#\n",
    "ch_names21 = epochs21.info[\"ch_names\"]\n",
    "ch_idx211 = ch_names.index(\"Fp1\") #Pz, Cz, Oz\n",
    "ch_idx212 = ch_names.index(\"Pz\")\n",
    "ch_idx213 = ch_names.index(\"Cz\")\n",
    "ch_idx214 = ch_names.index(\"Oz\")\n",
    "\n",
    "p21_avg1fp1 = np.mean(p21_cong[:,ch_idx211,:],axis=0)\n",
    "p21_avg1pz = np.mean(p21_cong[:,ch_idx212,:],axis=0)\n",
    "p21_avg1cz = np.mean(p21_cong[:,ch_idx213,:],axis=0)\n",
    "p21_avg1oz = np.mean(p21_cong[:,ch_idx214,:],axis=0)\n",
    "print(p21_avg1fp1.shape)\n",
    "print(p21_avg1pz.shape)\n",
    "print(p21_avg1cz.shape)\n",
    "print(p21_avg1oz.shape)\n",
    "#\n",
    "p21_avg2fp1 = np.mean(p21_incong[:, ch_idx211,:],axis=0)\n",
    "p21_avg2pz = np.mean(p21_incong[:,ch_idx212,:],axis=0)\n",
    "p21_avg2cz = np.mean(p21_incong[:,ch_idx213,:],axis=0)\n",
    "p21_avg2oz = np.mean(p21_incong[:,ch_idx214,:],axis=0)\n",
    "print(p21_avg2fp1.shape)\n",
    "print(p21_avg2pz.shape)\n",
    "print(p21_avg2cz.shape)\n",
    "print(p21_avg2oz.shape)\n",
    "\n"
   ],
   "metadata": {
    "collapsed": false,
    "pycharm": {
     "name": "#%%\n"
    }
   }
  },
  {
   "cell_type": "code",
   "execution_count": null,
   "outputs": [],
   "source": [
    "plt.figure()\n",
    "plt.plot(p21_avg1fp1, color=\"blue\")\n",
    "plt.plot(p21_avg2fp1, color=\"red\")\n",
    "plt.show()"
   ],
   "metadata": {
    "collapsed": false,
    "pycharm": {
     "name": "#%%\n"
    }
   }
  },
  {
   "cell_type": "code",
   "execution_count": null,
   "outputs": [],
   "source": [
    "col_maxc21fp1 = p21_avg1fp1.max(axis=0)\n",
    "col_maxc21fp1"
   ],
   "metadata": {
    "collapsed": false,
    "pycharm": {
     "name": "#%%\n"
    }
   }
  },
  {
   "cell_type": "code",
   "execution_count": null,
   "outputs": [],
   "source": [
    "col_maxin21fp1 = p21_avg2fp1.max(axis=0)\n",
    "col_maxin21fp1"
   ],
   "metadata": {
    "collapsed": false,
    "pycharm": {
     "name": "#%%\n"
    }
   }
  },
  {
   "cell_type": "code",
   "execution_count": null,
   "outputs": [],
   "source": [
    "plt.figure()\n",
    "plt.plot(p21_avg1pz, color=\"blue\")\n",
    "plt.plot(p21_avg2pz, color=\"red\")\n",
    "plt.show()"
   ],
   "metadata": {
    "collapsed": false,
    "pycharm": {
     "name": "#%%\n"
    }
   }
  },
  {
   "cell_type": "code",
   "execution_count": null,
   "outputs": [],
   "source": [
    "col_maxc21pz = p21_avg1pz.max(axis=0)\n",
    "col_maxc21pz"
   ],
   "metadata": {
    "collapsed": false,
    "pycharm": {
     "name": "#%%\n"
    }
   }
  },
  {
   "cell_type": "code",
   "execution_count": null,
   "outputs": [],
   "source": [
    "col_maxin21pz = p21_avg2pz.max(axis=0)\n",
    "col_maxin21pz"
   ],
   "metadata": {
    "collapsed": false,
    "pycharm": {
     "name": "#%%\n"
    }
   }
  },
  {
   "cell_type": "code",
   "execution_count": null,
   "outputs": [],
   "source": [
    "plt.figure()\n",
    "plt.plot(p21_avg1cz, color=\"blue\")\n",
    "plt.plot(p21_avg2cz, color=\"red\")\n",
    "plt.show()"
   ],
   "metadata": {
    "collapsed": false,
    "pycharm": {
     "name": "#%%\n"
    }
   }
  },
  {
   "cell_type": "code",
   "execution_count": null,
   "outputs": [],
   "source": [
    "col_maxc21cz = p21_avg1cz.max(axis=0)\n",
    "col_maxc21cz"
   ],
   "metadata": {
    "collapsed": false,
    "pycharm": {
     "name": "#%%\n"
    }
   }
  },
  {
   "cell_type": "code",
   "execution_count": null,
   "outputs": [],
   "source": [
    "col_maxin21cz = p21_avg2cz.max(axis=0)\n",
    "col_maxin21cz"
   ],
   "metadata": {
    "collapsed": false,
    "pycharm": {
     "name": "#%%\n"
    }
   }
  },
  {
   "cell_type": "code",
   "execution_count": null,
   "outputs": [],
   "source": [
    "plt.figure()\n",
    "plt.plot(p21_avg1oz, color=\"blue\")\n",
    "plt.plot(p21_avg2oz, color=\"red\")\n",
    "plt.show()"
   ],
   "metadata": {
    "collapsed": false,
    "pycharm": {
     "name": "#%%\n"
    }
   }
  },
  {
   "cell_type": "code",
   "execution_count": null,
   "outputs": [],
   "source": [
    "col_maxc21oz = p21_avg1oz.max(axis=0)\n",
    "col_maxc21oz"
   ],
   "metadata": {
    "collapsed": false,
    "pycharm": {
     "name": "#%%\n"
    }
   }
  },
  {
   "cell_type": "code",
   "execution_count": null,
   "outputs": [],
   "source": [
    "col_maxin21oz = p21_avg2oz.max(axis=0)\n",
    "col_maxin21oz"
   ],
   "metadata": {
    "collapsed": false,
    "pycharm": {
     "name": "#%%\n"
    }
   }
  },
  {
   "cell_type": "code",
   "execution_count": null,
   "outputs": [],
   "source": [
    "data21 = pd.DataFrame({'pnumber' : ['21cong', '21incong'],\n",
    "       'fp1' : [col_maxc21fp1, col_maxin21fp1],\n",
    "        'pz' : [col_maxc21pz, col_maxin21pz],\n",
    "        'cz' : [col_maxc21cz, col_maxin21cz],\n",
    "        'oz' : [col_maxc21oz, col_maxin21oz]\n",
    "        })\n",
    "\n",
    "df21 = pd.DataFrame(data=data21)\n",
    "df21.head()"
   ],
   "metadata": {
    "collapsed": false,
    "pycharm": {
     "name": "#%%\n"
    }
   }
  },
  {
   "cell_type": "markdown",
   "source": [
    "###############Participant 22###########"
   ],
   "metadata": {
    "collapsed": false,
    "pycharm": {
     "name": "#%% md\n"
    }
   }
  },
  {
   "cell_type": "code",
   "execution_count": null,
   "outputs": [],
   "source": [
    "path_to_file22 = \"P22_fp-epo.fif\"\n",
    "p22_data = mne.read_epochs(path_to_file22, proj=True, preload=True, verbose=None)\n",
    "p22_cong = p22_data[\"fp_congruent\"].get_data() * 1e6\n",
    "print(p22_cong.shape)\n",
    "p22_incong = p22_data[\"fp_incongruent\"].get_data() * 1e6\n",
    "print(p22_incong.shape)\n",
    "epochs22 = mne.read_epochs(path_to_file22, proj=True, preload=True, verbose=None)\n",
    "#\n",
    "ch_names22 = epochs22.info[\"ch_names\"]\n",
    "ch_idx221 = ch_names.index(\"Fp1\") #Pz, Cz, Oz\n",
    "ch_idx222 = ch_names.index(\"Pz\")\n",
    "ch_idx223 = ch_names.index(\"Cz\")\n",
    "ch_idx224 = ch_names.index(\"Oz\")\n",
    "\n",
    "p22_avg1fp1 = np.mean(p22_cong[:,ch_idx221,:],axis=0)\n",
    "p22_avg1pz = np.mean(p22_cong[:,ch_idx222,:],axis=0)\n",
    "p22_avg1cz = np.mean(p22_cong[:,ch_idx223,:],axis=0)\n",
    "p22_avg1oz = np.mean(p22_cong[:,ch_idx224,:],axis=0)\n",
    "print(p22_avg1fp1.shape)\n",
    "print(p22_avg1pz.shape)\n",
    "print(p22_avg1cz.shape)\n",
    "print(p22_avg1oz.shape)\n",
    "#\n",
    "p22_avg2fp1 = np.mean(p22_incong[:, ch_idx221,:],axis=0)\n",
    "p22_avg2pz = np.mean(p22_incong[:,ch_idx222,:],axis=0)\n",
    "p22_avg2cz = np.mean(p22_incong[:,ch_idx223,:],axis=0)\n",
    "p22_avg2oz = np.mean(p22_incong[:,ch_idx224,:],axis=0)\n",
    "print(p22_avg2fp1.shape)\n",
    "print(p22_avg2pz.shape)\n",
    "print(p22_avg2cz.shape)\n",
    "print(p22_avg2oz.shape)\n",
    "\n"
   ],
   "metadata": {
    "collapsed": false,
    "pycharm": {
     "name": "#%%\n"
    }
   }
  },
  {
   "cell_type": "code",
   "execution_count": null,
   "outputs": [],
   "source": [
    "plt.figure()\n",
    "plt.plot(p22_avg1fp1, color=\"blue\")\n",
    "plt.plot(p22_avg2fp1, color=\"red\")\n",
    "plt.show()"
   ],
   "metadata": {
    "collapsed": false,
    "pycharm": {
     "name": "#%%\n"
    }
   }
  },
  {
   "cell_type": "code",
   "execution_count": null,
   "outputs": [],
   "source": [
    "col_maxc22fp1 = p22_avg1fp1.max(axis=0)\n",
    "col_maxc22fp1"
   ],
   "metadata": {
    "collapsed": false,
    "pycharm": {
     "name": "#%%\n"
    }
   }
  },
  {
   "cell_type": "code",
   "execution_count": null,
   "outputs": [],
   "source": [
    "col_maxin22fp1 = p22_avg2fp1.max(axis=0)\n",
    "col_maxin22fp1"
   ],
   "metadata": {
    "collapsed": false,
    "pycharm": {
     "name": "#%%\n"
    }
   }
  },
  {
   "cell_type": "code",
   "execution_count": null,
   "outputs": [],
   "source": [
    "plt.figure()\n",
    "plt.plot(p22_avg1pz, color=\"blue\")\n",
    "plt.plot(p22_avg2pz, color=\"red\")\n",
    "plt.show()"
   ],
   "metadata": {
    "collapsed": false,
    "pycharm": {
     "name": "#%%\n"
    }
   }
  },
  {
   "cell_type": "code",
   "execution_count": null,
   "outputs": [],
   "source": [
    "col_maxc22pz = p22_avg1pz.max(axis=0)\n",
    "col_maxc22pz"
   ],
   "metadata": {
    "collapsed": false,
    "pycharm": {
     "name": "#%%\n"
    }
   }
  },
  {
   "cell_type": "code",
   "execution_count": null,
   "outputs": [],
   "source": [
    "col_maxin22pz = p22_avg2pz.max(axis=0)\n",
    "col_maxin22pz"
   ],
   "metadata": {
    "collapsed": false,
    "pycharm": {
     "name": "#%%\n"
    }
   }
  },
  {
   "cell_type": "code",
   "execution_count": null,
   "outputs": [],
   "source": [
    "plt.figure()\n",
    "plt.plot(p22_avg1cz, color=\"blue\")\n",
    "plt.plot(p22_avg2cz, color=\"red\")\n",
    "plt.show()"
   ],
   "metadata": {
    "collapsed": false,
    "pycharm": {
     "name": "#%%\n"
    }
   }
  },
  {
   "cell_type": "code",
   "execution_count": null,
   "outputs": [],
   "source": [
    "col_maxc22cz = p22_avg1cz.max(axis=0)\n",
    "col_maxc22cz"
   ],
   "metadata": {
    "collapsed": false,
    "pycharm": {
     "name": "#%%\n"
    }
   }
  },
  {
   "cell_type": "code",
   "execution_count": null,
   "outputs": [],
   "source": [
    "col_maxin22cz = p22_avg2cz.max(axis=0)\n",
    "col_maxin22cz"
   ],
   "metadata": {
    "collapsed": false,
    "pycharm": {
     "name": "#%%\n"
    }
   }
  },
  {
   "cell_type": "code",
   "execution_count": null,
   "outputs": [],
   "source": [
    "plt.figure()\n",
    "plt.plot(p22_avg1oz, color=\"blue\")\n",
    "plt.plot(p22_avg2oz, color=\"red\")\n",
    "plt.show()"
   ],
   "metadata": {
    "collapsed": false,
    "pycharm": {
     "name": "#%%\n"
    }
   }
  },
  {
   "cell_type": "code",
   "execution_count": null,
   "outputs": [],
   "source": [
    "col_maxc22oz = p22_avg1oz.max(axis=0)\n",
    "col_maxc22oz"
   ],
   "metadata": {
    "collapsed": false,
    "pycharm": {
     "name": "#%%\n"
    }
   }
  },
  {
   "cell_type": "code",
   "execution_count": null,
   "outputs": [],
   "source": [
    "col_maxin22oz = p22_avg2oz.max(axis=0)\n",
    "col_maxin22oz"
   ],
   "metadata": {
    "collapsed": false,
    "pycharm": {
     "name": "#%%\n"
    }
   }
  },
  {
   "cell_type": "code",
   "execution_count": null,
   "outputs": [],
   "source": [
    "data22 = pd.DataFrame({'pnumber' : ['22cong', '22incong'],\n",
    "       'fp1' : [col_maxc22fp1, col_maxin22fp1],\n",
    "        'pz' : [col_maxc22pz, col_maxin22pz],\n",
    "        'cz' : [col_maxc22cz, col_maxin22cz],\n",
    "        'oz' : [col_maxc22oz, col_maxin22oz]\n",
    "        })\n",
    "\n",
    "df22 = pd.DataFrame(data=data22)\n",
    "df22.head()"
   ],
   "metadata": {
    "collapsed": false,
    "pycharm": {
     "name": "#%%\n"
    }
   }
  },
  {
   "cell_type": "code",
   "execution_count": null,
   "outputs": [],
   "source": [
    "dataF = pd.concat([dataD, data13, data15, data18, data19, data20, data21, data22], axis=0, ignore_index=True)\n",
    "dfF = pd.DataFrame(data=dataF)\n",
    "dfF"
   ],
   "metadata": {
    "collapsed": false,
    "pycharm": {
     "name": "#%%\n"
    }
   }
  },
  {
   "cell_type": "code",
   "execution_count": null,
   "outputs": [],
   "source": [
    "dfFcong = dfF.drop([1,3,5,7,9,11,13,15,17,19,21,23,25,27,29,31,33,35])\n",
    "dfFcong"
   ],
   "metadata": {
    "collapsed": false,
    "pycharm": {
     "name": "#%%\n"
    }
   }
  },
  {
   "cell_type": "code",
   "execution_count": null,
   "outputs": [],
   "source": [
    "dfFincong = dfF.drop([0,2,4,6,8,10,12,14,16,18,20,22,24,26,28,30,32,34])\n",
    "dfFincong"
   ],
   "metadata": {
    "collapsed": false,
    "pycharm": {
     "name": "#%%\n"
    }
   }
  },
  {
   "cell_type": "code",
   "execution_count": null,
   "outputs": [],
   "source": [
    "from sklearn.model_selection import StratifiedKFold, cross_val_score\n",
    "from sklearn.model_selection import KFold\n",
    "from sklearn.linear_model import LogisticRegression\n",
    "from sklearn.preprocessing import StandardScaler\n",
    "from sklearn.pipeline import make_pipeline\n",
    "from sklearn.svm import SVC\n",
    "from sklearn import svm, preprocessing\n",
    "from mne.decoding import Scaler, Vectorizer, cross_val_multiscore\n",
    "from sklearn.model_selection import LeaveOneOut\n",
    "import time"
   ],
   "metadata": {
    "collapsed": false,
    "pycharm": {
     "name": "#%%\n"
    }
   }
  },
  {
   "cell_type": "code",
   "execution_count": null,
   "outputs": [],
   "source": [
    "dfF['congruency'] = [0,1,0,1,0,1,0,1,0,1,0,1,0,1,0,1,0,1,0,1,0,1,0,1,0,1,0,1,0,1,0,1,0,1,0,1]\n",
    "dfF.drop('pnumber',axis=1,inplace=True)\n",
    "dfF"
   ],
   "metadata": {
    "collapsed": false,
    "pycharm": {
     "name": "#%%\n"
    }
   }
  },
  {
   "cell_type": "code",
   "execution_count": null,
   "outputs": [],
   "source": [
    "X = dfF.drop(\"congruency\", axis=1).values\n",
    "\n",
    "\n",
    "y = dfF[\"congruency\"].values\n",
    "\n",
    "\n",
    "clf1 = make_pipeline(StandardScaler(), SVC(kernel='rbf', gamma='auto'))\n",
    "\n",
    "n_splits = 5\n",
    "scoring = 'roc_auc'\n",
    "cv = StratifiedKFold(n_splits=n_splits)\n",
    "scores1= cross_val_score(clf1, X=X, y=y, cv=cv, scoring=scoring)\n",
    "\n",
    "roc_auc_mean = round(np.mean(scores1), 3)\n",
    "roc_auc_std = round(np.std(scores1), 3)\n",
    "\n",
    "print(f'CV scores: {scores1}')\n",
    "print(f'Mean ROC AUC = {roc_auc_mean:.3f} (SD = {roc_auc_std:.3f})')"
   ],
   "metadata": {
    "collapsed": false,
    "pycharm": {
     "name": "#%%\n"
    }
   }
  },
  {
   "cell_type": "code",
   "execution_count": null,
   "outputs": [],
   "source": [
    "kf = KFold(n_splits=4)\n",
    "i = 1\n",
    "for train_set, test_set in kf.split(X=X):\n",
    "    print(\"fold\", i)\n",
    "    print(train_set, \"having:\" , len(train_set))\n",
    "    print(test_set, \"having:\" , len(train_set))\n",
    "    print(\"----------------\")\n",
    "    i +=1"
   ],
   "metadata": {
    "collapsed": false,
    "pycharm": {
     "name": "#%%\n"
    }
   }
  },
  {
   "cell_type": "code",
   "execution_count": null,
   "outputs": [],
   "source": [
    "\n",
    "X = dfF.drop(\"congruency\", axis=1).values\n",
    "\n",
    "\n",
    "y = dfF[\"congruency\"].values\n",
    "\n",
    "\n",
    "test_size = 20\n",
    "\n",
    "X_train1 = X[:-test_size]\n",
    "y_train1 = y[:-test_size]\n",
    "\n",
    "X_test1 = X[-test_size:]\n",
    "y_test1 = y[-test_size:]\n",
    "clf1= make_pipeline(StandardScaler(), SVC(kernel='rbf', gamma='auto'))\n",
    "clf1.fit(X_train1, y_train1)\n"
   ],
   "metadata": {
    "collapsed": false,
    "pycharm": {
     "name": "#%%\n"
    }
   }
  },
  {
   "cell_type": "code",
   "execution_count": null,
   "outputs": [],
   "source": [
    "clf1.score(X_test1, y_test1)"
   ],
   "metadata": {
    "collapsed": false,
    "pycharm": {
     "name": "#%%\n"
    }
   }
  },
  {
   "cell_type": "code",
   "execution_count": null,
   "outputs": [],
   "source": [
    "X = dfF.drop(\"congruency\", axis=1).values\n",
    "\n",
    "\n",
    "y = dfF[\"congruency\"].values\n",
    "\n",
    "\n",
    "clf2 = make_pipeline(StandardScaler(), SVC(kernel='rbf', gamma='scale'))\n",
    "\n",
    "n_splits = 5\n",
    "scoring = 'accuracy'\n",
    "cv = StratifiedKFold(n_splits=n_splits)\n",
    "scores2= cross_val_score(clf2, X=X, y=y, cv=cv, scoring=scoring)\n",
    "print(scores2)"
   ],
   "metadata": {
    "collapsed": false,
    "pycharm": {
     "name": "#%%\n"
    }
   }
  },
  {
   "cell_type": "code",
   "execution_count": null,
   "outputs": [],
   "source": [
    "fig, ax = plt.subplots()\n",
    "ax.boxplot(scores2,\n",
    "          showmeans=True,\n",
    "          whis=(0,35),\n",
    "          labels=['congruent vs incongruent'])\n",
    "ax.set_ylabel('Score')\n",
    "ax.set_title('Cross-Validation Scores')"
   ],
   "metadata": {
    "collapsed": false,
    "pycharm": {
     "name": "#%%\n"
    }
   }
  },
  {
   "cell_type": "code",
   "execution_count": null,
   "outputs": [],
   "source": [
    "X = dfF.drop(\"congruency\", axis=1).values\n",
    "\n",
    "\n",
    "y = dfF[\"congruency\"].values\n",
    "\n",
    "\n",
    "\n",
    "loo = LeaveOneOut()\n",
    "loo.get_n_splits(X)\n",
    "print(loo)\n",
    "\n",
    "\n",
    "scoring = 'accuracy'\n",
    "cv = LeaveOneOut()\n",
    "\n",
    "\n",
    "\n",
    "for train_index, test_index in loo.split(X):\n",
    "    X_train, X_test = X[train_index], X[test_index]\n",
    "    y_train, y_test = y[train_index], y[test_index]\n",
    "    clf3 = make_pipeline(StandardScaler(), SVC(kernel='linear', gamma='auto'))\n",
    "    clf3.fit(X_train, y_train)\n",
    "    \n",
    "    scores3 = clf3.score(X_test, y_test)\n",
    "    print(scores3)"
   ],
   "metadata": {
    "collapsed": false,
    "pycharm": {
     "name": "#%%\n"
    }
   }
  },
  {
   "cell_type": "code",
   "execution_count": null,
   "outputs": [],
   "source": [
    "X = dfF.drop(\"congruency\", axis=1).values\n",
    "\n",
    "\n",
    "y = dfF[\"congruency\"].values\n",
    "\n",
    "\n",
    "\n",
    "loo = LeaveOneOut()\n",
    "loo.get_n_splits(X)\n",
    "print(loo)\n",
    "\n",
    "\n",
    "scoring = 'accuracy'\n",
    "cv = LeaveOneOut()\n",
    "clf3 = make_pipeline(StandardScaler(), SVC(kernel='linear', gamma='scale'))\n",
    "scores7 = cross_val_score(clf3, X=X, y=y, cv=LeaveOneOut(), scoring='accuracy')\n",
    "print(scores7)"
   ],
   "metadata": {
    "collapsed": false,
    "pycharm": {
     "name": "#%%\n"
    }
   }
  },
  {
   "cell_type": "code",
   "execution_count": null,
   "outputs": [],
   "source": [
    "clf3 = make_pipeline(StandardScaler(), SVC(kernel='linear', gamma='scale'))\n",
    "clf3.fit(X_train, y_train)"
   ],
   "metadata": {
    "collapsed": false,
    "pycharm": {
     "name": "#%%\n"
    }
   }
  },
  {
   "cell_type": "code",
   "execution_count": null,
   "outputs": [],
   "source": [
    "print(clf3.score(X_test, y_test))\n",
    "for X,y in zip(X_test, y_test):\n",
    "    print(f\"Model: {clf3.predict([X])[0]}, Actual: {y}\")"
   ],
   "metadata": {
    "collapsed": false,
    "pycharm": {
     "name": "#%%\n"
    }
   }
  },
  {
   "cell_type": "code",
   "execution_count": 30,
   "id": "3ec5ee04",
   "metadata": {
    "pycharm": {
     "name": "#%%\n"
    }
   },
   "outputs": [
    {
     "data": {
      "text/plain": [
       "2.263753034623092"
      ]
     },
     "execution_count": 30,
     "metadata": {},
     "output_type": "execute_result"
    }
   ],
   "source": [
    "col_maxc2oz = p2_avg1oz.max(axis=0)\n",
    "col_maxc2oz"
   ]
  },
  {
   "cell_type": "code",
   "execution_count": 31,
   "id": "7e1cf836",
   "metadata": {
    "pycharm": {
     "name": "#%%\n"
    }
   },
   "outputs": [
    {
     "data": {
      "text/plain": [
       "2.667402757531985"
      ]
     },
     "execution_count": 31,
     "metadata": {},
     "output_type": "execute_result"
    }
   ],
   "source": [
    "col_maxin2oz = p2_avg2oz.max(axis=0)\n",
    "col_maxin2oz"
   ]
  },
  {
   "cell_type": "code",
   "execution_count": 32,
   "id": "93a756f4",
   "metadata": {
    "pycharm": {
     "name": "#%%\n"
    }
   },
   "outputs": [
    {
     "data": {
      "text/html": [
       "<div>\n",
       "<style scoped>\n",
       "    .dataframe tbody tr th:only-of-type {\n",
       "        vertical-align: middle;\n",
       "    }\n",
       "\n",
       "    .dataframe tbody tr th {\n",
       "        vertical-align: top;\n",
       "    }\n",
       "\n",
       "    .dataframe thead th {\n",
       "        text-align: right;\n",
       "    }\n",
       "</style>\n",
       "<table border=\"1\" class=\"dataframe\">\n",
       "  <thead>\n",
       "    <tr style=\"text-align: right;\">\n",
       "      <th></th>\n",
       "      <th>pnumber</th>\n",
       "      <th>fp1</th>\n",
       "      <th>pz</th>\n",
       "      <th>cz</th>\n",
       "      <th>oz</th>\n",
       "    </tr>\n",
       "  </thead>\n",
       "  <tbody>\n",
       "    <tr>\n",
       "      <th>0</th>\n",
       "      <td>2cong</td>\n",
       "      <td>6.663928</td>\n",
       "      <td>7.175555</td>\n",
       "      <td>6.175287</td>\n",
       "      <td>2.263753</td>\n",
       "    </tr>\n",
       "    <tr>\n",
       "      <th>1</th>\n",
       "      <td>2incong</td>\n",
       "      <td>11.249594</td>\n",
       "      <td>7.997137</td>\n",
       "      <td>5.500814</td>\n",
       "      <td>2.667403</td>\n",
       "    </tr>\n",
       "  </tbody>\n",
       "</table>\n",
       "</div>"
      ],
      "text/plain": [
       "   pnumber        fp1        pz        cz        oz\n",
       "0    2cong   6.663928  7.175555  6.175287  2.263753\n",
       "1  2incong  11.249594  7.997137  5.500814  2.667403"
      ]
     },
     "execution_count": 32,
     "metadata": {},
     "output_type": "execute_result"
    }
   ],
   "source": [
    "data2 = pd.DataFrame({'pnumber' : ['2cong', '2incong'],\n",
    "       'fp1' : [col_maxc2fp1, col_maxin2fp1],\n",
    "        'pz' : [col_maxc2pz, col_maxin2pz],\n",
    "        'cz' : [col_maxc2cz, col_maxin2cz],\n",
    "        'oz' : [col_maxc2oz, col_maxin2oz]\n",
    "        })\n",
    "\n",
    "df2 = pd.DataFrame(data=data2)\n",
    "df2.head()"
   ]
  },
  {
   "cell_type": "markdown",
   "id": "7dde6190",
   "metadata": {
    "pycharm": {
     "name": "#%% md\n"
    }
   },
   "source": [
    "##############Participant3##########"
   ]
  },
  {
   "cell_type": "code",
   "execution_count": 33,
   "id": "6d44712c",
   "metadata": {
    "pycharm": {
     "name": "#%%\n"
    }
   },
   "outputs": [
    {
     "name": "stdout",
     "output_type": "stream",
     "text": [
      "Reading C:\\Users\\mtu10\\PycharmProjects\\project1\\P03_fp-epo.fif ...\n",
      "    Found the data of interest:\n",
      "        t =     -60.00 ...    1000.00 ms\n",
      "        0 CTF compensation matrices available\n",
      "Not setting metadata\n",
      "265 matching events found\n",
      "No baseline correction applied\n",
      "0 projection items activated\n",
      "(119, 31, 1061)\n",
      "(91, 31, 1061)\n",
      "Reading C:\\Users\\mtu10\\PycharmProjects\\project1\\P03_fp-epo.fif ...\n",
      "    Found the data of interest:\n",
      "        t =     -60.00 ...    1000.00 ms\n",
      "        0 CTF compensation matrices available\n",
      "Not setting metadata\n",
      "265 matching events found\n",
      "No baseline correction applied\n",
      "0 projection items activated\n",
      "(1061,)\n",
      "(1061,)\n",
      "(1061,)\n",
      "(1061,)\n",
      "(1061,)\n",
      "(1061,)\n",
      "(1061,)\n",
      "(1061,)\n"
     ]
    }
   ],
   "source": [
    "path_to_file3 = \"P03_fp-epo.fif\"\n",
    "p3_data = mne.read_epochs(path_to_file3, proj=True, preload=True, verbose=None)\n",
    "p3_cong = p3_data[\"fp_congruent\"].get_data() * 1e6\n",
    "print(p3_cong.shape)\n",
    "p3_incong = p3_data[\"fp_incongruent\"].get_data() * 1e6\n",
    "print(p3_incong.shape)\n",
    "epochs3 = mne.read_epochs(path_to_file3, proj=True, preload=True, verbose=None)\n",
    "#\n",
    "ch_names = epochs3.info[\"ch_names\"]\n",
    "ch_idx31 = ch_names.index(\"Fp1\") #Pz, Cz, Oz\n",
    "ch_idx32 = ch_names.index(\"Pz\")\n",
    "ch_idx33 = ch_names.index(\"Cz\")\n",
    "ch_idx34 = ch_names.index(\"Oz\")\n",
    "\n",
    "\n",
    "\n",
    "p3_avg1fp1 = np.mean(p3_cong[:,ch_idx31,:],axis=0)\n",
    "p3_avg1pz = np.mean(p3_cong[:,ch_idx32,:],axis=0)\n",
    "p3_avg1cz = np.mean(p3_cong[:,ch_idx33,:],axis=0)\n",
    "p3_avg1oz = np.mean(p3_cong[:,ch_idx34,:],axis=0)\n",
    "print(p3_avg1fp1.shape)\n",
    "print(p3_avg1pz.shape)\n",
    "print(p3_avg1cz.shape)\n",
    "print(p3_avg1oz.shape)\n",
    "#\n",
    "p3_avg2fp1 = np.mean(p3_incong[:, ch_idx31, :], axis=0)\n",
    "p3_avg2pz = np.mean(p3_incong[:,ch_idx32,:],axis=0)\n",
    "p3_avg2cz = np.mean(p3_incong[:,ch_idx33,:],axis=0)\n",
    "p3_avg2oz = np.mean(p3_incong[:,ch_idx34,:],axis=0)\n",
    "print(p3_avg2fp1.shape)\n",
    "print(p3_avg2pz.shape)\n",
    "print(p3_avg2cz.shape)\n",
    "print(p3_avg2oz.shape)\n",
    "\n",
    "\n"
   ]
  },
  {
   "cell_type": "code",
   "execution_count": null,
   "id": "35a7f12c",
   "metadata": {
    "pycharm": {
     "name": "#%%\n"
    }
   },
   "outputs": [],
   "source": [
    "plt.figure()\n",
    "plt.plot(p3_avg1fp1, color = \"blue\")\n",
    "plt.plot(p3_avg2fp1, color = \"red\")\n",
    "plt.show()"
   ]
  },
  {
   "cell_type": "code",
   "execution_count": 34,
   "id": "49674e86",
   "metadata": {
    "pycharm": {
     "name": "#%%\n"
    }
   },
   "outputs": [
    {
     "data": {
      "text/plain": [
       "7.2266717027069305"
      ]
     },
     "execution_count": 34,
     "metadata": {},
     "output_type": "execute_result"
    }
   ],
   "source": [
    "col_maxc3fp1 = p3_avg1fp1.max(axis=0)\n",
    "col_maxc3fp1"
   ]
  },
  {
   "cell_type": "code",
   "execution_count": 35,
   "id": "88c68d88",
   "metadata": {
    "pycharm": {
     "name": "#%%\n"
    }
   },
   "outputs": [
    {
     "data": {
      "text/plain": [
       "5.943961131682904"
      ]
     },
     "execution_count": 35,
     "metadata": {},
     "output_type": "execute_result"
    }
   ],
   "source": [
    "col_maxin3fp1 = p3_avg2fp1.max(axis=0)\n",
    "col_maxin3fp1"
   ]
  },
  {
   "cell_type": "code",
   "execution_count": null,
   "id": "b7307737",
   "metadata": {
    "pycharm": {
     "name": "#%%\n"
    }
   },
   "outputs": [],
   "source": [
    "plt.figure()\n",
    "plt.plot(p3_avg1pz, color = \"blue\")\n",
    "plt.plot(p3_avg2pz, color = \"red\")\n",
    "plt.show()"
   ]
  },
  {
   "cell_type": "code",
   "execution_count": 36,
   "id": "7421d5b2",
   "metadata": {
    "pycharm": {
     "name": "#%%\n"
    }
   },
   "outputs": [
    {
     "data": {
      "text/plain": [
       "11.081849190750734"
      ]
     },
     "execution_count": 36,
     "metadata": {},
     "output_type": "execute_result"
    }
   ],
   "source": [
    "col_maxc3pz = p3_avg1pz.max(axis=0)\n",
    "col_maxc3pz"
   ]
  },
  {
   "cell_type": "code",
   "execution_count": 37,
   "id": "a67dd5a5",
   "metadata": {
    "pycharm": {
     "name": "#%%\n"
    }
   },
   "outputs": [
    {
     "data": {
      "text/plain": [
       "6.752050253112075"
      ]
     },
     "execution_count": 37,
     "metadata": {},
     "output_type": "execute_result"
    }
   ],
   "source": [
    "col_maxin3pz = p3_avg2pz.max(axis=0)\n",
    "col_maxin3pz"
   ]
  },
  {
   "cell_type": "code",
   "execution_count": null,
   "id": "b84933ed",
   "metadata": {
    "pycharm": {
     "name": "#%%\n"
    }
   },
   "outputs": [],
   "source": [
    "plt.figure()\n",
    "plt.plot(p3_avg1cz, color = \"blue\")\n",
    "plt.plot(p3_avg2cz, color = \"red\")\n",
    "plt.show()"
   ]
  },
  {
   "cell_type": "code",
   "execution_count": 38,
   "id": "44b43143",
   "metadata": {
    "pycharm": {
     "name": "#%%\n"
    }
   },
   "outputs": [
    {
     "data": {
      "text/plain": [
       "5.796563550304081"
      ]
     },
     "execution_count": 38,
     "metadata": {},
     "output_type": "execute_result"
    }
   ],
   "source": [
    "col_maxc3cz = p3_avg1cz.max(axis=0)\n",
    "col_maxc3cz"
   ]
  },
  {
   "cell_type": "code",
   "execution_count": 39,
   "id": "530d041c",
   "metadata": {
    "pycharm": {
     "name": "#%%\n"
    }
   },
   "outputs": [
    {
     "data": {
      "text/plain": [
       "2.322866596239735"
      ]
     },
     "execution_count": 39,
     "metadata": {},
     "output_type": "execute_result"
    }
   ],
   "source": [
    "col_maxin3cz = p3_avg2cz.max(axis=0)\n",
    "col_maxin3cz"
   ]
  },
  {
   "cell_type": "code",
   "execution_count": null,
   "id": "b7b734a1",
   "metadata": {
    "pycharm": {
     "name": "#%%\n"
    }
   },
   "outputs": [],
   "source": [
    "plt.figure()\n",
    "plt.plot(p3_avg1oz, color = \"blue\")\n",
    "plt.plot(p3_avg2oz, color = \"red\")\n",
    "plt.show()"
   ]
  },
  {
   "cell_type": "code",
   "execution_count": 40,
   "id": "2b5fb9f8",
   "metadata": {
    "pycharm": {
     "name": "#%%\n"
    }
   },
   "outputs": [
    {
     "data": {
      "text/plain": [
       "15.944927497290303"
      ]
     },
     "execution_count": 40,
     "metadata": {},
     "output_type": "execute_result"
    }
   ],
   "source": [
    "col_maxc3oz = p3_avg1oz.max(axis=0)\n",
    "col_maxc3oz"
   ]
  },
  {
   "cell_type": "code",
   "execution_count": 41,
   "id": "c061a98d",
   "metadata": {
    "pycharm": {
     "name": "#%%\n"
    }
   },
   "outputs": [
    {
     "data": {
      "text/plain": [
       "15.874005621647667"
      ]
     },
     "execution_count": 41,
     "metadata": {},
     "output_type": "execute_result"
    }
   ],
   "source": [
    "col_maxin3oz = p3_avg2oz.max(axis=0)\n",
    "col_maxin3oz"
   ]
  },
  {
   "cell_type": "code",
   "execution_count": 42,
   "id": "08707f81",
   "metadata": {
    "pycharm": {
     "name": "#%%\n"
    }
   },
   "outputs": [
    {
     "data": {
      "text/html": [
       "<div>\n",
       "<style scoped>\n",
       "    .dataframe tbody tr th:only-of-type {\n",
       "        vertical-align: middle;\n",
       "    }\n",
       "\n",
       "    .dataframe tbody tr th {\n",
       "        vertical-align: top;\n",
       "    }\n",
       "\n",
       "    .dataframe thead th {\n",
       "        text-align: right;\n",
       "    }\n",
       "</style>\n",
       "<table border=\"1\" class=\"dataframe\">\n",
       "  <thead>\n",
       "    <tr style=\"text-align: right;\">\n",
       "      <th></th>\n",
       "      <th>pnumber</th>\n",
       "      <th>fp1</th>\n",
       "      <th>pz</th>\n",
       "      <th>cz</th>\n",
       "      <th>oz</th>\n",
       "    </tr>\n",
       "  </thead>\n",
       "  <tbody>\n",
       "    <tr>\n",
       "      <th>0</th>\n",
       "      <td>3cong</td>\n",
       "      <td>7.226672</td>\n",
       "      <td>11.081849</td>\n",
       "      <td>5.796564</td>\n",
       "      <td>15.944927</td>\n",
       "    </tr>\n",
       "    <tr>\n",
       "      <th>1</th>\n",
       "      <td>3incong</td>\n",
       "      <td>5.943961</td>\n",
       "      <td>6.752050</td>\n",
       "      <td>2.322867</td>\n",
       "      <td>15.874006</td>\n",
       "    </tr>\n",
       "  </tbody>\n",
       "</table>\n",
       "</div>"
      ],
      "text/plain": [
       "   pnumber       fp1         pz        cz         oz\n",
       "0    3cong  7.226672  11.081849  5.796564  15.944927\n",
       "1  3incong  5.943961   6.752050  2.322867  15.874006"
      ]
     },
     "execution_count": 42,
     "metadata": {},
     "output_type": "execute_result"
    }
   ],
   "source": [
    "data3 = pd.DataFrame({'pnumber' : ['3cong', '3incong'],\n",
    "       'fp1' : [col_maxc3fp1, col_maxin3fp1],\n",
    "        'pz' : [col_maxc3pz, col_maxin3pz],\n",
    "        'cz' : [col_maxc3cz, col_maxin3cz],\n",
    "        'oz' : [col_maxc3oz, col_maxin3oz]\n",
    "        })\n",
    "\n",
    "df3 = pd.DataFrame(data=data3)\n",
    "df3.head()"
   ]
  },
  {
   "cell_type": "code",
   "execution_count": 43,
   "id": "2a65815f",
   "metadata": {
    "pycharm": {
     "name": "#%%\n"
    }
   },
   "outputs": [
    {
     "data": {
      "text/html": [
       "<div>\n",
       "<style scoped>\n",
       "    .dataframe tbody tr th:only-of-type {\n",
       "        vertical-align: middle;\n",
       "    }\n",
       "\n",
       "    .dataframe tbody tr th {\n",
       "        vertical-align: top;\n",
       "    }\n",
       "\n",
       "    .dataframe thead th {\n",
       "        text-align: right;\n",
       "    }\n",
       "</style>\n",
       "<table border=\"1\" class=\"dataframe\">\n",
       "  <thead>\n",
       "    <tr style=\"text-align: right;\">\n",
       "      <th></th>\n",
       "      <th>pnumber</th>\n",
       "      <th>fp1</th>\n",
       "      <th>pz</th>\n",
       "      <th>cz</th>\n",
       "      <th>oz</th>\n",
       "    </tr>\n",
       "  </thead>\n",
       "  <tbody>\n",
       "    <tr>\n",
       "      <th>0</th>\n",
       "      <td>2cong</td>\n",
       "      <td>6.663928</td>\n",
       "      <td>7.175555</td>\n",
       "      <td>6.175287</td>\n",
       "      <td>2.263753</td>\n",
       "    </tr>\n",
       "    <tr>\n",
       "      <th>1</th>\n",
       "      <td>2incong</td>\n",
       "      <td>11.249594</td>\n",
       "      <td>7.997137</td>\n",
       "      <td>5.500814</td>\n",
       "      <td>2.667403</td>\n",
       "    </tr>\n",
       "    <tr>\n",
       "      <th>2</th>\n",
       "      <td>3cong</td>\n",
       "      <td>7.226672</td>\n",
       "      <td>11.081849</td>\n",
       "      <td>5.796564</td>\n",
       "      <td>15.944927</td>\n",
       "    </tr>\n",
       "    <tr>\n",
       "      <th>3</th>\n",
       "      <td>3incong</td>\n",
       "      <td>5.943961</td>\n",
       "      <td>6.752050</td>\n",
       "      <td>2.322867</td>\n",
       "      <td>15.874006</td>\n",
       "    </tr>\n",
       "  </tbody>\n",
       "</table>\n",
       "</div>"
      ],
      "text/plain": [
       "   pnumber        fp1         pz        cz         oz\n",
       "0    2cong   6.663928   7.175555  6.175287   2.263753\n",
       "1  2incong  11.249594   7.997137  5.500814   2.667403\n",
       "2    3cong   7.226672  11.081849  5.796564  15.944927\n",
       "3  3incong   5.943961   6.752050  2.322867  15.874006"
      ]
     },
     "execution_count": 43,
     "metadata": {},
     "output_type": "execute_result"
    }
   ],
   "source": [
    "dataA = pd.concat([data2, data3], axis=0, ignore_index=True)\n",
    "dfA = pd.DataFrame(data=dataA)\n",
    "dfA.head()"
   ]
  },
  {
   "cell_type": "code",
   "execution_count": 44,
   "id": "e5c928da",
   "metadata": {
    "pycharm": {
     "name": "#%%\n"
    }
   },
   "outputs": [
    {
     "data": {
      "text/html": [
       "<div>\n",
       "<style scoped>\n",
       "    .dataframe tbody tr th:only-of-type {\n",
       "        vertical-align: middle;\n",
       "    }\n",
       "\n",
       "    .dataframe tbody tr th {\n",
       "        vertical-align: top;\n",
       "    }\n",
       "\n",
       "    .dataframe thead th {\n",
       "        text-align: right;\n",
       "    }\n",
       "</style>\n",
       "<table border=\"1\" class=\"dataframe\">\n",
       "  <thead>\n",
       "    <tr style=\"text-align: right;\">\n",
       "      <th></th>\n",
       "      <th>pnumber</th>\n",
       "      <th>fp1</th>\n",
       "      <th>pz</th>\n",
       "      <th>cz</th>\n",
       "      <th>oz</th>\n",
       "    </tr>\n",
       "  </thead>\n",
       "  <tbody>\n",
       "    <tr>\n",
       "      <th>0</th>\n",
       "      <td>1cong</td>\n",
       "      <td>13.816930</td>\n",
       "      <td>14.018267</td>\n",
       "      <td>15.386464</td>\n",
       "      <td>11.463013</td>\n",
       "    </tr>\n",
       "    <tr>\n",
       "      <th>1</th>\n",
       "      <td>1incong</td>\n",
       "      <td>8.925796</td>\n",
       "      <td>10.743274</td>\n",
       "      <td>10.827896</td>\n",
       "      <td>10.688902</td>\n",
       "    </tr>\n",
       "    <tr>\n",
       "      <th>2</th>\n",
       "      <td>2cong</td>\n",
       "      <td>6.663928</td>\n",
       "      <td>7.175555</td>\n",
       "      <td>6.175287</td>\n",
       "      <td>2.263753</td>\n",
       "    </tr>\n",
       "    <tr>\n",
       "      <th>3</th>\n",
       "      <td>2incong</td>\n",
       "      <td>11.249594</td>\n",
       "      <td>7.997137</td>\n",
       "      <td>5.500814</td>\n",
       "      <td>2.667403</td>\n",
       "    </tr>\n",
       "    <tr>\n",
       "      <th>4</th>\n",
       "      <td>3cong</td>\n",
       "      <td>7.226672</td>\n",
       "      <td>11.081849</td>\n",
       "      <td>5.796564</td>\n",
       "      <td>15.944927</td>\n",
       "    </tr>\n",
       "    <tr>\n",
       "      <th>5</th>\n",
       "      <td>3incong</td>\n",
       "      <td>5.943961</td>\n",
       "      <td>6.752050</td>\n",
       "      <td>2.322867</td>\n",
       "      <td>15.874006</td>\n",
       "    </tr>\n",
       "  </tbody>\n",
       "</table>\n",
       "</div>"
      ],
      "text/plain": [
       "   pnumber        fp1         pz         cz         oz\n",
       "0    1cong  13.816930  14.018267  15.386464  11.463013\n",
       "1  1incong   8.925796  10.743274  10.827896  10.688902\n",
       "2    2cong   6.663928   7.175555   6.175287   2.263753\n",
       "3  2incong  11.249594   7.997137   5.500814   2.667403\n",
       "4    3cong   7.226672  11.081849   5.796564  15.944927\n",
       "5  3incong   5.943961   6.752050   2.322867  15.874006"
      ]
     },
     "execution_count": 44,
     "metadata": {},
     "output_type": "execute_result"
    }
   ],
   "source": [
    "dataB = pd.concat([data1, dataA], axis=0, ignore_index=True)\n",
    "dfB = pd.DataFrame(data=dataB)\n",
    "dfB"
   ]
  },
  {
   "cell_type": "markdown",
   "id": "ab492fed",
   "metadata": {
    "pycharm": {
     "name": "#%% md\n"
    }
   },
   "source": [
    "###############Participant4############"
   ]
  },
  {
   "cell_type": "code",
   "execution_count": 45,
   "id": "7f70f443",
   "metadata": {
    "pycharm": {
     "name": "#%%\n"
    }
   },
   "outputs": [
    {
     "name": "stdout",
     "output_type": "stream",
     "text": [
      "Reading C:\\Users\\mtu10\\PycharmProjects\\project1\\P04_fp-epo.fif ...\n",
      "    Found the data of interest:\n",
      "        t =     -60.00 ...    1000.00 ms\n",
      "        0 CTF compensation matrices available\n",
      "Not setting metadata\n",
      "44 matching events found\n",
      "No baseline correction applied\n",
      "0 projection items activated\n",
      "(14, 31, 1061)\n",
      "(23, 31, 1061)\n",
      "Reading C:\\Users\\mtu10\\PycharmProjects\\project1\\P04_fp-epo.fif ...\n",
      "    Found the data of interest:\n",
      "        t =     -60.00 ...    1000.00 ms\n",
      "        0 CTF compensation matrices available\n",
      "Not setting metadata\n",
      "44 matching events found\n",
      "No baseline correction applied\n",
      "0 projection items activated\n",
      "(1061,)\n",
      "(1061,)\n",
      "(1061,)\n",
      "(1061,)\n",
      "(1061,)\n",
      "(1061,)\n",
      "(1061,)\n",
      "(1061,)\n"
     ]
    }
   ],
   "source": [
    "path_to_file4 = \"P04_fp-epo.fif\"\n",
    "p4_data = mne.read_epochs(path_to_file4, proj=True, preload=True, verbose=None)\n",
    "p4_cong = p4_data[\"fp_congruent\"].get_data() * 1e6\n",
    "print(p4_cong.shape)\n",
    "p4_incong = p4_data[\"fp_incongruent\"].get_data() * 1e6\n",
    "print(p4_incong.shape)\n",
    "epochs4 = mne.read_epochs(path_to_file4, proj=True, preload=True, verbose=None)\n",
    "#\n",
    "ch_names4 = epochs4.info[\"ch_names\"]\n",
    "ch_idx41 = ch_names.index(\"Fp1\") #Pz, Cz, Oz\n",
    "ch_idx42 = ch_names.index(\"Pz\")\n",
    "ch_idx43 = ch_names.index(\"Cz\")\n",
    "ch_idx44 = ch_names.index(\"Oz\")\n",
    "\n",
    "\n",
    "p4_avg1fp1 = np.mean(p4_cong[:,ch_idx41,:],axis=0)\n",
    "p4_avg1pz = np.mean(p4_cong[:,ch_idx42,:],axis=0)\n",
    "p4_avg1cz = np.mean(p4_cong[:,ch_idx43,:],axis=0)\n",
    "p4_avg1oz = np.mean(p4_cong[:,ch_idx44,:],axis=0)\n",
    "print(p4_avg1fp1.shape)\n",
    "print(p4_avg1pz.shape)\n",
    "print(p4_avg1cz.shape)\n",
    "print(p4_avg1oz.shape)\n",
    "#\n",
    "p4_avg2fp1 = np.mean(p4_incong[:, ch_idx41, :], axis=0)\n",
    "p4_avg2pz = np.mean(p4_incong[:,ch_idx42,:],axis=0)\n",
    "p4_avg2cz = np.mean(p4_incong[:,ch_idx43,:],axis=0)\n",
    "p4_avg2oz = np.mean(p4_incong[:,ch_idx44,:],axis=0)\n",
    "print(p4_avg2fp1.shape)\n",
    "print(p4_avg2pz.shape)\n",
    "print(p4_avg2cz.shape)\n",
    "print(p4_avg2oz.shape)\n"
   ]
  },
  {
   "cell_type": "code",
   "execution_count": null,
   "id": "a2b7d7dc",
   "metadata": {
    "pycharm": {
     "name": "#%%\n"
    }
   },
   "outputs": [],
   "source": [
    "plt.figure()\n",
    "plt.plot(p4_avg1fp1, color = \"blue\")\n",
    "plt.plot(p4_avg2fp1, color = \"red\")\n",
    "plt.show()"
   ]
  },
  {
   "cell_type": "code",
   "execution_count": 46,
   "id": "50581092",
   "metadata": {
    "pycharm": {
     "name": "#%%\n"
    }
   },
   "outputs": [
    {
     "data": {
      "text/plain": [
       "7.304755550126772"
      ]
     },
     "execution_count": 46,
     "metadata": {},
     "output_type": "execute_result"
    }
   ],
   "source": [
    "col_maxc4fp1 = p4_avg1fp1.max(axis=0)\n",
    "col_maxc4fp1"
   ]
  },
  {
   "cell_type": "code",
   "execution_count": 47,
   "id": "69168d9f",
   "metadata": {
    "pycharm": {
     "name": "#%%\n"
    }
   },
   "outputs": [
    {
     "data": {
      "text/plain": [
       "2.163967175412167"
      ]
     },
     "execution_count": 47,
     "metadata": {},
     "output_type": "execute_result"
    }
   ],
   "source": [
    "col_maxin4fp1 = p4_avg2fp1.max(axis=0)\n",
    "col_maxin4fp1"
   ]
  },
  {
   "cell_type": "code",
   "execution_count": null,
   "id": "ec6e671f",
   "metadata": {
    "pycharm": {
     "name": "#%%\n"
    }
   },
   "outputs": [],
   "source": [
    "plt.figure()\n",
    "plt.plot(p4_avg1pz, color = \"blue\")\n",
    "plt.plot(p4_avg2pz, color = \"red\")\n",
    "plt.show()"
   ]
  },
  {
   "cell_type": "code",
   "execution_count": 48,
   "id": "b2f42860",
   "metadata": {
    "pycharm": {
     "name": "#%%\n"
    }
   },
   "outputs": [
    {
     "data": {
      "text/plain": [
       "12.558059010744273"
      ]
     },
     "execution_count": 48,
     "metadata": {},
     "output_type": "execute_result"
    }
   ],
   "source": [
    "col_maxc4pz = p4_avg1pz.max(axis=0)\n",
    "col_maxc4pz"
   ]
  },
  {
   "cell_type": "code",
   "execution_count": 49,
   "id": "871a4c0d",
   "metadata": {
    "pycharm": {
     "name": "#%%\n"
    }
   },
   "outputs": [
    {
     "data": {
      "text/plain": [
       "17.764220132543954"
      ]
     },
     "execution_count": 49,
     "metadata": {},
     "output_type": "execute_result"
    }
   ],
   "source": [
    "col_maxin4pz = p4_avg2pz.max(axis=0)\n",
    "col_maxin4pz"
   ]
  },
  {
   "cell_type": "code",
   "execution_count": null,
   "id": "7ee6dd1c",
   "metadata": {
    "pycharm": {
     "name": "#%%\n"
    }
   },
   "outputs": [],
   "source": [
    "plt.figure()\n",
    "plt.plot(p4_avg1cz, color = \"blue\")\n",
    "plt.plot(p4_avg2cz, color = \"red\")\n",
    "plt.show()"
   ]
  },
  {
   "cell_type": "code",
   "execution_count": 50,
   "id": "86a9e5e0",
   "metadata": {
    "pycharm": {
     "name": "#%%\n"
    }
   },
   "outputs": [
    {
     "data": {
      "text/plain": [
       "6.859344664739846"
      ]
     },
     "execution_count": 50,
     "metadata": {},
     "output_type": "execute_result"
    }
   ],
   "source": [
    "col_maxc4cz = p4_avg1cz.max(axis=0)\n",
    "col_maxc4cz"
   ]
  },
  {
   "cell_type": "code",
   "execution_count": 51,
   "id": "54ad0144",
   "metadata": {
    "pycharm": {
     "name": "#%%\n"
    }
   },
   "outputs": [
    {
     "data": {
      "text/plain": [
       "12.130490847080424"
      ]
     },
     "execution_count": 51,
     "metadata": {},
     "output_type": "execute_result"
    }
   ],
   "source": [
    "col_maxin4cz = p4_avg2cz.max(axis=0)\n",
    "col_maxin4cz"
   ]
  },
  {
   "cell_type": "code",
   "execution_count": null,
   "id": "8326db57",
   "metadata": {
    "pycharm": {
     "name": "#%%\n"
    }
   },
   "outputs": [],
   "source": [
    "plt.figure()\n",
    "plt.plot(p4_avg1oz, color = \"blue\")\n",
    "plt.plot(p4_avg2oz, color = \"red\")\n",
    "plt.show()"
   ]
  },
  {
   "cell_type": "code",
   "execution_count": 52,
   "id": "7e04786c",
   "metadata": {
    "pycharm": {
     "name": "#%%\n"
    }
   },
   "outputs": [
    {
     "data": {
      "text/plain": [
       "9.204167939275747"
      ]
     },
     "execution_count": 52,
     "metadata": {},
     "output_type": "execute_result"
    }
   ],
   "source": [
    "col_maxc4oz = p4_avg1oz.max(axis=0)\n",
    "col_maxc4oz"
   ]
  },
  {
   "cell_type": "code",
   "execution_count": 53,
   "id": "c8894590",
   "metadata": {
    "pycharm": {
     "name": "#%%\n"
    }
   },
   "outputs": [
    {
     "data": {
      "text/plain": [
       "8.581689037339583"
      ]
     },
     "execution_count": 53,
     "metadata": {},
     "output_type": "execute_result"
    }
   ],
   "source": [
    "col_maxin4oz = p4_avg2oz.max(axis=0)\n",
    "col_maxin4oz"
   ]
  },
  {
   "cell_type": "code",
   "execution_count": 54,
   "id": "8b32461d",
   "metadata": {
    "pycharm": {
     "name": "#%%\n"
    }
   },
   "outputs": [
    {
     "data": {
      "text/html": [
       "<div>\n",
       "<style scoped>\n",
       "    .dataframe tbody tr th:only-of-type {\n",
       "        vertical-align: middle;\n",
       "    }\n",
       "\n",
       "    .dataframe tbody tr th {\n",
       "        vertical-align: top;\n",
       "    }\n",
       "\n",
       "    .dataframe thead th {\n",
       "        text-align: right;\n",
       "    }\n",
       "</style>\n",
       "<table border=\"1\" class=\"dataframe\">\n",
       "  <thead>\n",
       "    <tr style=\"text-align: right;\">\n",
       "      <th></th>\n",
       "      <th>pnumber</th>\n",
       "      <th>fp1</th>\n",
       "      <th>pz</th>\n",
       "      <th>cz</th>\n",
       "      <th>oz</th>\n",
       "    </tr>\n",
       "  </thead>\n",
       "  <tbody>\n",
       "    <tr>\n",
       "      <th>0</th>\n",
       "      <td>4cong</td>\n",
       "      <td>7.304756</td>\n",
       "      <td>12.558059</td>\n",
       "      <td>6.859345</td>\n",
       "      <td>9.204168</td>\n",
       "    </tr>\n",
       "    <tr>\n",
       "      <th>1</th>\n",
       "      <td>4incong</td>\n",
       "      <td>2.163967</td>\n",
       "      <td>17.764220</td>\n",
       "      <td>12.130491</td>\n",
       "      <td>8.581689</td>\n",
       "    </tr>\n",
       "  </tbody>\n",
       "</table>\n",
       "</div>"
      ],
      "text/plain": [
       "   pnumber       fp1         pz         cz        oz\n",
       "0    4cong  7.304756  12.558059   6.859345  9.204168\n",
       "1  4incong  2.163967  17.764220  12.130491  8.581689"
      ]
     },
     "execution_count": 54,
     "metadata": {},
     "output_type": "execute_result"
    }
   ],
   "source": [
    "data4 = pd.DataFrame({'pnumber' : ['4cong', '4incong'],\n",
    "       'fp1' : [col_maxc4fp1, col_maxin4fp1],\n",
    "        'pz' : [col_maxc4pz, col_maxin4pz],\n",
    "        'cz' : [col_maxc4cz, col_maxin4cz],\n",
    "        'oz' : [col_maxc4oz, col_maxin4oz]\n",
    "        })\n",
    "\n",
    "df4 = pd.DataFrame(data=data4)\n",
    "df4.head()"
   ]
  },
  {
   "cell_type": "code",
   "execution_count": 55,
   "id": "766376a3",
   "metadata": {
    "pycharm": {
     "name": "#%%\n"
    }
   },
   "outputs": [
    {
     "data": {
      "text/html": [
       "<div>\n",
       "<style scoped>\n",
       "    .dataframe tbody tr th:only-of-type {\n",
       "        vertical-align: middle;\n",
       "    }\n",
       "\n",
       "    .dataframe tbody tr th {\n",
       "        vertical-align: top;\n",
       "    }\n",
       "\n",
       "    .dataframe thead th {\n",
       "        text-align: right;\n",
       "    }\n",
       "</style>\n",
       "<table border=\"1\" class=\"dataframe\">\n",
       "  <thead>\n",
       "    <tr style=\"text-align: right;\">\n",
       "      <th></th>\n",
       "      <th>pnumber</th>\n",
       "      <th>fp1</th>\n",
       "      <th>pz</th>\n",
       "      <th>cz</th>\n",
       "      <th>oz</th>\n",
       "    </tr>\n",
       "  </thead>\n",
       "  <tbody>\n",
       "    <tr>\n",
       "      <th>0</th>\n",
       "      <td>1cong</td>\n",
       "      <td>13.816930</td>\n",
       "      <td>14.018267</td>\n",
       "      <td>15.386464</td>\n",
       "      <td>11.463013</td>\n",
       "    </tr>\n",
       "    <tr>\n",
       "      <th>1</th>\n",
       "      <td>1incong</td>\n",
       "      <td>8.925796</td>\n",
       "      <td>10.743274</td>\n",
       "      <td>10.827896</td>\n",
       "      <td>10.688902</td>\n",
       "    </tr>\n",
       "    <tr>\n",
       "      <th>2</th>\n",
       "      <td>2cong</td>\n",
       "      <td>6.663928</td>\n",
       "      <td>7.175555</td>\n",
       "      <td>6.175287</td>\n",
       "      <td>2.263753</td>\n",
       "    </tr>\n",
       "    <tr>\n",
       "      <th>3</th>\n",
       "      <td>2incong</td>\n",
       "      <td>11.249594</td>\n",
       "      <td>7.997137</td>\n",
       "      <td>5.500814</td>\n",
       "      <td>2.667403</td>\n",
       "    </tr>\n",
       "    <tr>\n",
       "      <th>4</th>\n",
       "      <td>3cong</td>\n",
       "      <td>7.226672</td>\n",
       "      <td>11.081849</td>\n",
       "      <td>5.796564</td>\n",
       "      <td>15.944927</td>\n",
       "    </tr>\n",
       "    <tr>\n",
       "      <th>5</th>\n",
       "      <td>3incong</td>\n",
       "      <td>5.943961</td>\n",
       "      <td>6.752050</td>\n",
       "      <td>2.322867</td>\n",
       "      <td>15.874006</td>\n",
       "    </tr>\n",
       "    <tr>\n",
       "      <th>6</th>\n",
       "      <td>4cong</td>\n",
       "      <td>7.304756</td>\n",
       "      <td>12.558059</td>\n",
       "      <td>6.859345</td>\n",
       "      <td>9.204168</td>\n",
       "    </tr>\n",
       "    <tr>\n",
       "      <th>7</th>\n",
       "      <td>4incong</td>\n",
       "      <td>2.163967</td>\n",
       "      <td>17.764220</td>\n",
       "      <td>12.130491</td>\n",
       "      <td>8.581689</td>\n",
       "    </tr>\n",
       "  </tbody>\n",
       "</table>\n",
       "</div>"
      ],
      "text/plain": [
       "   pnumber        fp1         pz         cz         oz\n",
       "0    1cong  13.816930  14.018267  15.386464  11.463013\n",
       "1  1incong   8.925796  10.743274  10.827896  10.688902\n",
       "2    2cong   6.663928   7.175555   6.175287   2.263753\n",
       "3  2incong  11.249594   7.997137   5.500814   2.667403\n",
       "4    3cong   7.226672  11.081849   5.796564  15.944927\n",
       "5  3incong   5.943961   6.752050   2.322867  15.874006\n",
       "6    4cong   7.304756  12.558059   6.859345   9.204168\n",
       "7  4incong   2.163967  17.764220  12.130491   8.581689"
      ]
     },
     "execution_count": 55,
     "metadata": {},
     "output_type": "execute_result"
    }
   ],
   "source": [
    "dataC = pd.concat([dataB, data4], axis=0, ignore_index=True)\n",
    "dfC = pd.DataFrame(data=dataC)\n",
    "dfC"
   ]
  },
  {
   "cell_type": "markdown",
   "id": "9315099f",
   "metadata": {
    "pycharm": {
     "name": "#%% md\n"
    }
   },
   "source": [
    "################Participant 5##############"
   ]
  },
  {
   "cell_type": "code",
   "execution_count": 56,
   "id": "7edffb2a",
   "metadata": {
    "pycharm": {
     "name": "#%%\n"
    }
   },
   "outputs": [
    {
     "name": "stdout",
     "output_type": "stream",
     "text": [
      "Reading C:\\Users\\mtu10\\PycharmProjects\\project1\\P05_fp-epo.fif ...\n",
      "    Found the data of interest:\n",
      "        t =     -60.00 ...    1000.00 ms\n",
      "        0 CTF compensation matrices available\n",
      "Not setting metadata\n",
      "258 matching events found\n",
      "No baseline correction applied\n",
      "0 projection items activated\n",
      "(116, 31, 1061)\n",
      "(97, 31, 1061)\n",
      "Reading C:\\Users\\mtu10\\PycharmProjects\\project1\\P05_fp-epo.fif ...\n",
      "    Found the data of interest:\n",
      "        t =     -60.00 ...    1000.00 ms\n",
      "        0 CTF compensation matrices available\n",
      "Not setting metadata\n",
      "258 matching events found\n",
      "No baseline correction applied\n",
      "0 projection items activated\n",
      "(1061,)\n",
      "(1061,)\n",
      "(1061,)\n",
      "(1061,)\n",
      "(1061,)\n",
      "(1061,)\n",
      "(1061,)\n",
      "(1061,)\n"
     ]
    }
   ],
   "source": [
    "path_to_file5 = \"P05_fp-epo.fif\"\n",
    "p5_data = mne.read_epochs(path_to_file5, proj=True, preload=True, verbose=None)\n",
    "p5_cong = p5_data[\"fp_congruent\"].get_data() * 1e6\n",
    "print(p5_cong.shape)\n",
    "p5_incong = p5_data[\"fp_incongruent\"].get_data() * 1e6\n",
    "print(p5_incong.shape)\n",
    "epochs5 = mne.read_epochs(path_to_file5, proj=True, preload=True, verbose=None)\n",
    "#\n",
    "ch_names5 = epochs5.info[\"ch_names\"]\n",
    "ch_idx51 = ch_names.index(\"Fp1\") #Pz, Cz, Oz\n",
    "ch_idx52 = ch_names.index(\"Pz\")\n",
    "ch_idx53 = ch_names.index(\"Cz\")\n",
    "ch_idx54 = ch_names.index(\"Oz\")\n",
    "\n",
    "p5_avg1fp1 = np.mean(p5_cong[:,ch_idx51,:],axis=0)\n",
    "p5_avg1pz = np.mean(p5_cong[:,ch_idx52,:],axis=0)\n",
    "p5_avg1cz = np.mean(p5_cong[:,ch_idx53,:],axis=0)\n",
    "p5_avg1oz = np.mean(p5_cong[:,ch_idx54,:],axis=0)\n",
    "\n",
    "print(p5_avg1fp1.shape)\n",
    "print(p5_avg1pz.shape)\n",
    "print(p5_avg1cz.shape)\n",
    "print(p5_avg1oz.shape)\n",
    "#\n",
    "p5_avg2fp1 = np.mean(p5_incong[:, ch_idx51, :], axis=0)\n",
    "p5_avg2pz = np.mean(p5_incong[:,ch_idx52,:],axis=0)\n",
    "p5_avg2cz = np.mean(p5_incong[:,ch_idx53,:],axis=0)\n",
    "p5_avg2oz = np.mean(p5_incong[:,ch_idx54,:],axis=0)\n",
    "print(p5_avg2fp1.shape)\n",
    "print(p5_avg2pz.shape)\n",
    "print(p5_avg2cz.shape)\n",
    "print(p5_avg2oz.shape)\n",
    "\n"
   ]
  },
  {
   "cell_type": "code",
   "execution_count": null,
   "id": "d9da015c",
   "metadata": {
    "pycharm": {
     "name": "#%%\n"
    }
   },
   "outputs": [],
   "source": [
    "plt.figure()\n",
    "plt.plot(p5_avg1fp1, color = \"blue\")\n",
    "plt.plot(p5_avg2fp1, color = \"red\")\n",
    "plt.show()"
   ]
  },
  {
   "cell_type": "code",
   "execution_count": 57,
   "id": "0863b8bf",
   "metadata": {
    "pycharm": {
     "name": "#%%\n"
    }
   },
   "outputs": [
    {
     "data": {
      "text/plain": [
       "2.861293674208227"
      ]
     },
     "execution_count": 57,
     "metadata": {},
     "output_type": "execute_result"
    }
   ],
   "source": [
    "col_maxc5fp1 = p5_avg1fp1.max(axis=0)\n",
    "col_maxc5fp1"
   ]
  },
  {
   "cell_type": "code",
   "execution_count": 58,
   "id": "71f4e0c6",
   "metadata": {
    "pycharm": {
     "name": "#%%\n"
    }
   },
   "outputs": [
    {
     "data": {
      "text/plain": [
       "1.1289211256985772"
      ]
     },
     "execution_count": 58,
     "metadata": {},
     "output_type": "execute_result"
    }
   ],
   "source": [
    "col_maxin5fp1 = p5_avg2fp1.max(axis=0)\n",
    "col_maxin5fp1"
   ]
  },
  {
   "cell_type": "code",
   "execution_count": null,
   "id": "0de4521d",
   "metadata": {
    "pycharm": {
     "name": "#%%\n"
    }
   },
   "outputs": [],
   "source": [
    "plt.figure()\n",
    "plt.plot(p5_avg1pz, color = \"blue\")\n",
    "plt.plot(p5_avg2pz, color = \"red\")\n",
    "plt.show()"
   ]
  },
  {
   "cell_type": "code",
   "execution_count": 59,
   "id": "6b033e2d",
   "metadata": {
    "pycharm": {
     "name": "#%%\n"
    }
   },
   "outputs": [
    {
     "data": {
      "text/plain": [
       "13.552890262408862"
      ]
     },
     "execution_count": 59,
     "metadata": {},
     "output_type": "execute_result"
    }
   ],
   "source": [
    "col_maxc5pz = p5_avg1pz.max(axis=0)\n",
    "col_maxc5pz"
   ]
  },
  {
   "cell_type": "code",
   "execution_count": 60,
   "id": "098d4e7b",
   "metadata": {
    "pycharm": {
     "name": "#%%\n"
    }
   },
   "outputs": [
    {
     "data": {
      "text/plain": [
       "11.674442258092666"
      ]
     },
     "execution_count": 60,
     "metadata": {},
     "output_type": "execute_result"
    }
   ],
   "source": [
    "col_maxin5pz = p5_avg2pz.max(axis=0)\n",
    "col_maxin5pz"
   ]
  },
  {
   "cell_type": "code",
   "execution_count": null,
   "id": "b2523254",
   "metadata": {
    "pycharm": {
     "name": "#%%\n"
    }
   },
   "outputs": [],
   "source": [
    "plt.figure()\n",
    "plt.plot(p5_avg1cz, color = \"blue\")\n",
    "plt.plot(p5_avg2cz, color = \"red\")\n",
    "plt.show()"
   ]
  },
  {
   "cell_type": "code",
   "execution_count": 61,
   "id": "a0aecd83",
   "metadata": {
    "pycharm": {
     "name": "#%%\n"
    }
   },
   "outputs": [
    {
     "data": {
      "text/plain": [
       "6.967180144973535"
      ]
     },
     "execution_count": 61,
     "metadata": {},
     "output_type": "execute_result"
    }
   ],
   "source": [
    "col_maxc5cz = p5_avg1cz.max(axis=0)\n",
    "col_maxc5cz"
   ]
  },
  {
   "cell_type": "code",
   "execution_count": 62,
   "id": "2aebeaad",
   "metadata": {
    "pycharm": {
     "name": "#%%\n"
    }
   },
   "outputs": [
    {
     "data": {
      "text/plain": [
       "6.757028969052972"
      ]
     },
     "execution_count": 62,
     "metadata": {},
     "output_type": "execute_result"
    }
   ],
   "source": [
    "col_maxin5cz = p5_avg2cz.max(axis=0)\n",
    "col_maxin5cz"
   ]
  },
  {
   "cell_type": "code",
   "execution_count": null,
   "id": "adb2a27f",
   "metadata": {
    "pycharm": {
     "name": "#%%\n"
    }
   },
   "outputs": [],
   "source": [
    "plt.figure()\n",
    "plt.plot(p5_avg1oz, color = \"blue\")\n",
    "plt.plot(p5_avg2oz, color = \"red\")\n",
    "plt.show()"
   ]
  },
  {
   "cell_type": "code",
   "execution_count": 63,
   "id": "f5720813",
   "metadata": {
    "pycharm": {
     "name": "#%%\n"
    }
   },
   "outputs": [
    {
     "data": {
      "text/plain": [
       "13.128479086495298"
      ]
     },
     "execution_count": 63,
     "metadata": {},
     "output_type": "execute_result"
    }
   ],
   "source": [
    "col_maxc5oz = p5_avg1oz.max(axis=0)\n",
    "col_maxc5oz"
   ]
  },
  {
   "cell_type": "code",
   "execution_count": 64,
   "id": "0b09602e",
   "metadata": {
    "pycharm": {
     "name": "#%%\n"
    }
   },
   "outputs": [
    {
     "data": {
      "text/plain": [
       "11.188298679477773"
      ]
     },
     "execution_count": 64,
     "metadata": {},
     "output_type": "execute_result"
    }
   ],
   "source": [
    "col_maxin5oz = p5_avg2oz.max(axis=0)\n",
    "col_maxin5oz"
   ]
  },
  {
   "cell_type": "code",
   "execution_count": 65,
   "id": "606f2d93",
   "metadata": {
    "pycharm": {
     "name": "#%%\n"
    }
   },
   "outputs": [
    {
     "data": {
      "text/html": [
       "<div>\n",
       "<style scoped>\n",
       "    .dataframe tbody tr th:only-of-type {\n",
       "        vertical-align: middle;\n",
       "    }\n",
       "\n",
       "    .dataframe tbody tr th {\n",
       "        vertical-align: top;\n",
       "    }\n",
       "\n",
       "    .dataframe thead th {\n",
       "        text-align: right;\n",
       "    }\n",
       "</style>\n",
       "<table border=\"1\" class=\"dataframe\">\n",
       "  <thead>\n",
       "    <tr style=\"text-align: right;\">\n",
       "      <th></th>\n",
       "      <th>pnumber</th>\n",
       "      <th>fp1</th>\n",
       "      <th>pz</th>\n",
       "      <th>cz</th>\n",
       "      <th>oz</th>\n",
       "    </tr>\n",
       "  </thead>\n",
       "  <tbody>\n",
       "    <tr>\n",
       "      <th>0</th>\n",
       "      <td>5cong</td>\n",
       "      <td>2.861294</td>\n",
       "      <td>13.552890</td>\n",
       "      <td>6.967180</td>\n",
       "      <td>13.128479</td>\n",
       "    </tr>\n",
       "    <tr>\n",
       "      <th>1</th>\n",
       "      <td>5incong</td>\n",
       "      <td>1.128921</td>\n",
       "      <td>11.674442</td>\n",
       "      <td>6.757029</td>\n",
       "      <td>11.188299</td>\n",
       "    </tr>\n",
       "  </tbody>\n",
       "</table>\n",
       "</div>"
      ],
      "text/plain": [
       "   pnumber       fp1         pz        cz         oz\n",
       "0    5cong  2.861294  13.552890  6.967180  13.128479\n",
       "1  5incong  1.128921  11.674442  6.757029  11.188299"
      ]
     },
     "execution_count": 65,
     "metadata": {},
     "output_type": "execute_result"
    }
   ],
   "source": [
    "data5 = pd.DataFrame({'pnumber' : ['5cong', '5incong'],\n",
    "       'fp1' : [col_maxc5fp1, col_maxin5fp1],\n",
    "        'pz' : [col_maxc5pz, col_maxin5pz],\n",
    "        'cz' : [col_maxc5cz, col_maxin5cz],\n",
    "        'oz' : [col_maxc5oz, col_maxin5oz]\n",
    "        })\n",
    "\n",
    "df5 = pd.DataFrame(data=data5)\n",
    "df5.head()"
   ]
  },
  {
   "cell_type": "markdown",
   "id": "5c069908",
   "metadata": {
    "pycharm": {
     "name": "#%% md\n"
    }
   },
   "source": [
    "##################Participant 6#########"
   ]
  },
  {
   "cell_type": "code",
   "execution_count": 66,
   "id": "01a153ca",
   "metadata": {
    "pycharm": {
     "name": "#%%\n"
    }
   },
   "outputs": [
    {
     "name": "stdout",
     "output_type": "stream",
     "text": [
      "Reading C:\\Users\\mtu10\\PycharmProjects\\project1\\P06_fp-epo.fif ...\n",
      "    Found the data of interest:\n",
      "        t =     -60.00 ...     500.00 ms\n",
      "        0 CTF compensation matrices available\n",
      "Not setting metadata\n",
      "338 matching events found\n",
      "No baseline correction applied\n",
      "0 projection items activated\n",
      "(144, 31, 561)\n",
      "(117, 31, 561)\n",
      "Reading C:\\Users\\mtu10\\PycharmProjects\\project1\\P06_fp-epo.fif ...\n",
      "    Found the data of interest:\n",
      "        t =     -60.00 ...     500.00 ms\n",
      "        0 CTF compensation matrices available\n",
      "Not setting metadata\n",
      "338 matching events found\n",
      "No baseline correction applied\n",
      "0 projection items activated\n",
      "(561,)\n",
      "(561,)\n",
      "(561,)\n",
      "(561,)\n",
      "(561,)\n",
      "(561,)\n",
      "(561,)\n",
      "(561,)\n"
     ]
    }
   ],
   "source": [
    "path_to_file6 = \"P06_fp-epo.fif\"\n",
    "p6_data = mne.read_epochs(path_to_file6, proj=True, preload=True, verbose=None)\n",
    "p6_cong = p6_data[\"fp_congruent\"].get_data() * 1e6\n",
    "print(p6_cong.shape)\n",
    "p6_incong = p6_data[\"fp_incongruent\"].get_data() * 1e6\n",
    "print(p6_incong.shape)\n",
    "epochs6 = mne.read_epochs(path_to_file6, proj=True, preload=True, verbose=None)\n",
    "#\n",
    "ch_names6 = epochs6.info[\"ch_names\"]\n",
    "ch_idx61 = ch_names.index(\"Fp1\") #Pz, Cz, Oz\n",
    "ch_idx62 = ch_names.index(\"Pz\")\n",
    "ch_idx63 = ch_names.index(\"Cz\")\n",
    "ch_idx64 = ch_names.index(\"Oz\")\n",
    "\n",
    "p6_avg1fp1 = np.mean(p6_cong[:,ch_idx61,:],axis=0)\n",
    "p6_avg1pz = np.mean(p6_cong[:,ch_idx62,:],axis=0)\n",
    "p6_avg1cz = np.mean(p6_cong[:,ch_idx63,:],axis=0)\n",
    "p6_avg1oz = np.mean(p6_cong[:,ch_idx64,:],axis=0)\n",
    "print(p6_avg1fp1.shape)\n",
    "print(p6_avg1pz.shape)\n",
    "print(p6_avg1cz.shape)\n",
    "print(p6_avg1oz.shape)\n",
    "#\n",
    "p6_avg2fp1 = np.mean(p6_incong[:, ch_idx61, :], axis=0)\n",
    "p6_avg2pz = np.mean(p6_incong[:,ch_idx62,:],axis=0)\n",
    "p6_avg2cz = np.mean(p6_incong[:,ch_idx63,:],axis=0)\n",
    "p6_avg2oz = np.mean(p6_incong[:,ch_idx64,:],axis=0)\n",
    "print(p6_avg2fp1.shape)\n",
    "print(p6_avg2pz.shape)\n",
    "print(p6_avg2cz.shape)\n",
    "print(p6_avg2oz.shape)\n",
    "\n"
   ]
  },
  {
   "cell_type": "code",
   "execution_count": null,
   "id": "e07777d5",
   "metadata": {
    "pycharm": {
     "name": "#%%\n"
    }
   },
   "outputs": [],
   "source": [
    "plt.figure()\n",
    "plt.plot(p6_avg1fp1, color = \"blue\")\n",
    "plt.plot(p6_avg2fp1, color = \"red\")\n",
    "plt.show()"
   ]
  },
  {
   "cell_type": "code",
   "execution_count": 67,
   "id": "a72924dd",
   "metadata": {
    "pycharm": {
     "name": "#%%\n"
    }
   },
   "outputs": [
    {
     "data": {
      "text/plain": [
       "4.214744604156335"
      ]
     },
     "execution_count": 67,
     "metadata": {},
     "output_type": "execute_result"
    }
   ],
   "source": [
    "col_maxc6fp1 = p6_avg1fp1.max(axis=0)\n",
    "col_maxc6fp1"
   ]
  },
  {
   "cell_type": "code",
   "execution_count": 68,
   "id": "196a58b0",
   "metadata": {
    "pycharm": {
     "name": "#%%\n"
    }
   },
   "outputs": [
    {
     "data": {
      "text/plain": [
       "4.727759277426017"
      ]
     },
     "execution_count": 68,
     "metadata": {},
     "output_type": "execute_result"
    }
   ],
   "source": [
    "col_maxin6fp1 = p6_avg2fp1.max(axis=0)\n",
    "col_maxin6fp1"
   ]
  },
  {
   "cell_type": "code",
   "execution_count": null,
   "id": "73f42344",
   "metadata": {
    "pycharm": {
     "name": "#%%\n"
    }
   },
   "outputs": [],
   "source": [
    "plt.figure()\n",
    "plt.plot(p6_avg1pz, color = \"blue\")\n",
    "plt.plot(p6_avg2pz, color = \"red\")\n",
    "plt.show()"
   ]
  },
  {
   "cell_type": "code",
   "execution_count": 69,
   "id": "bb10d8a0",
   "metadata": {
    "pycharm": {
     "name": "#%%\n"
    }
   },
   "outputs": [
    {
     "data": {
      "text/plain": [
       "4.2899618507831665"
      ]
     },
     "execution_count": 69,
     "metadata": {},
     "output_type": "execute_result"
    }
   ],
   "source": [
    "col_maxc6pz = p6_avg1pz.max(axis=0)\n",
    "col_maxc6pz"
   ]
  },
  {
   "cell_type": "code",
   "execution_count": 70,
   "id": "e56b1c09",
   "metadata": {
    "pycharm": {
     "name": "#%%\n"
    }
   },
   "outputs": [
    {
     "data": {
      "text/plain": [
       "3.4883882554559"
      ]
     },
     "execution_count": 70,
     "metadata": {},
     "output_type": "execute_result"
    }
   ],
   "source": [
    "col_maxin6pz = p6_avg2pz.max(axis=0)\n",
    "col_maxin6pz"
   ]
  },
  {
   "cell_type": "code",
   "execution_count": null,
   "id": "8f89223d",
   "metadata": {
    "pycharm": {
     "name": "#%%\n"
    }
   },
   "outputs": [],
   "source": [
    "plt.figure()\n",
    "plt.plot(p6_avg1cz, color = \"blue\")\n",
    "plt.plot(p6_avg2cz, color = \"red\")\n",
    "plt.show()"
   ]
  },
  {
   "cell_type": "code",
   "execution_count": 71,
   "id": "40cfa468",
   "metadata": {
    "pycharm": {
     "name": "#%%\n"
    }
   },
   "outputs": [
    {
     "data": {
      "text/plain": [
       "4.936979879031525"
      ]
     },
     "execution_count": 71,
     "metadata": {},
     "output_type": "execute_result"
    }
   ],
   "source": [
    "col_maxc6cz = p6_avg1cz.max(axis=0)\n",
    "col_maxc6cz"
   ]
  },
  {
   "cell_type": "code",
   "execution_count": 72,
   "id": "168fdf63",
   "metadata": {
    "pycharm": {
     "name": "#%%\n"
    }
   },
   "outputs": [
    {
     "data": {
      "text/plain": [
       "5.117213047523869"
      ]
     },
     "execution_count": 72,
     "metadata": {},
     "output_type": "execute_result"
    }
   ],
   "source": [
    "col_maxin6cz = p6_avg2cz.max(axis=0)\n",
    "col_maxin6cz"
   ]
  },
  {
   "cell_type": "code",
   "execution_count": null,
   "id": "b9023a48",
   "metadata": {
    "pycharm": {
     "name": "#%%\n"
    }
   },
   "outputs": [],
   "source": [
    "plt.figure()\n",
    "plt.plot(p6_avg1oz, color = \"blue\")\n",
    "plt.plot(p6_avg2oz, color = \"red\")\n",
    "plt.show()"
   ]
  },
  {
   "cell_type": "code",
   "execution_count": 73,
   "id": "9f669914",
   "metadata": {
    "pycharm": {
     "name": "#%%\n"
    }
   },
   "outputs": [
    {
     "data": {
      "text/plain": [
       "11.670329404002869"
      ]
     },
     "execution_count": 73,
     "metadata": {},
     "output_type": "execute_result"
    }
   ],
   "source": [
    "col_maxc6oz = p6_avg1oz.max(axis=0)\n",
    "col_maxc6oz"
   ]
  },
  {
   "cell_type": "code",
   "execution_count": 74,
   "id": "86cb58eb",
   "metadata": {
    "pycharm": {
     "name": "#%%\n"
    }
   },
   "outputs": [
    {
     "data": {
      "text/plain": [
       "12.057481035210648"
      ]
     },
     "execution_count": 74,
     "metadata": {},
     "output_type": "execute_result"
    }
   ],
   "source": [
    "col_maxin6oz = p6_avg2oz.max(axis=0)\n",
    "col_maxin6oz"
   ]
  },
  {
   "cell_type": "code",
   "execution_count": 75,
   "id": "b62e9e1f",
   "metadata": {
    "pycharm": {
     "name": "#%%\n"
    }
   },
   "outputs": [
    {
     "data": {
      "text/html": [
       "<div>\n",
       "<style scoped>\n",
       "    .dataframe tbody tr th:only-of-type {\n",
       "        vertical-align: middle;\n",
       "    }\n",
       "\n",
       "    .dataframe tbody tr th {\n",
       "        vertical-align: top;\n",
       "    }\n",
       "\n",
       "    .dataframe thead th {\n",
       "        text-align: right;\n",
       "    }\n",
       "</style>\n",
       "<table border=\"1\" class=\"dataframe\">\n",
       "  <thead>\n",
       "    <tr style=\"text-align: right;\">\n",
       "      <th></th>\n",
       "      <th>pnumber</th>\n",
       "      <th>fp1</th>\n",
       "      <th>pz</th>\n",
       "      <th>cz</th>\n",
       "      <th>oz</th>\n",
       "    </tr>\n",
       "  </thead>\n",
       "  <tbody>\n",
       "    <tr>\n",
       "      <th>0</th>\n",
       "      <td>6cong</td>\n",
       "      <td>4.214745</td>\n",
       "      <td>4.289962</td>\n",
       "      <td>4.936980</td>\n",
       "      <td>11.670329</td>\n",
       "    </tr>\n",
       "    <tr>\n",
       "      <th>1</th>\n",
       "      <td>6incong</td>\n",
       "      <td>4.727759</td>\n",
       "      <td>3.488388</td>\n",
       "      <td>5.117213</td>\n",
       "      <td>12.057481</td>\n",
       "    </tr>\n",
       "  </tbody>\n",
       "</table>\n",
       "</div>"
      ],
      "text/plain": [
       "   pnumber       fp1        pz        cz         oz\n",
       "0    6cong  4.214745  4.289962  4.936980  11.670329\n",
       "1  6incong  4.727759  3.488388  5.117213  12.057481"
      ]
     },
     "execution_count": 75,
     "metadata": {},
     "output_type": "execute_result"
    }
   ],
   "source": [
    "data6 = pd.DataFrame({'pnumber' : ['6cong', '6incong'],\n",
    "       'fp1' : [col_maxc6fp1, col_maxin6fp1],\n",
    "        'pz' : [col_maxc6pz, col_maxin6pz],\n",
    "        'cz' : [col_maxc6cz, col_maxin6cz],\n",
    "        'oz' : [col_maxc6oz, col_maxin6oz]\n",
    "        })\n",
    "\n",
    "df6 = pd.DataFrame(data=data6)\n",
    "df6.head()"
   ]
  },
  {
   "cell_type": "markdown",
   "id": "2dac6f0c",
   "metadata": {
    "pycharm": {
     "name": "#%% md\n"
    }
   },
   "source": [
    "#################Participant 7#######"
   ]
  },
  {
   "cell_type": "code",
   "execution_count": 76,
   "id": "646883ec",
   "metadata": {
    "pycharm": {
     "name": "#%%\n"
    }
   },
   "outputs": [
    {
     "name": "stdout",
     "output_type": "stream",
     "text": [
      "Reading C:\\Users\\mtu10\\PycharmProjects\\project1\\P07_fp-epo.fif ...\n",
      "    Found the data of interest:\n",
      "        t =     -60.00 ...    1000.00 ms\n",
      "        0 CTF compensation matrices available\n",
      "Not setting metadata\n",
      "251 matching events found\n",
      "No baseline correction applied\n",
      "0 projection items activated\n",
      "(99, 31, 1061)\n",
      "(103, 31, 1061)\n",
      "Reading C:\\Users\\mtu10\\PycharmProjects\\project1\\P07_fp-epo.fif ...\n",
      "    Found the data of interest:\n",
      "        t =     -60.00 ...    1000.00 ms\n",
      "        0 CTF compensation matrices available\n",
      "Not setting metadata\n",
      "251 matching events found\n",
      "No baseline correction applied\n",
      "0 projection items activated\n",
      "(1061,)\n",
      "(1061,)\n",
      "(1061,)\n",
      "(1061,)\n",
      "(1061,)\n",
      "(1061,)\n",
      "(1061,)\n",
      "(1061,)\n"
     ]
    }
   ],
   "source": [
    "path_to_file7 = \"P07_fp-epo.fif\"\n",
    "p7_data = mne.read_epochs(path_to_file7, proj=True, preload=True, verbose=None)\n",
    "p7_cong = p7_data[\"fp_congruent\"].get_data() * 1e6\n",
    "print(p7_cong.shape)\n",
    "p7_incong = p7_data[\"fp_incongruent\"].get_data() * 1e6\n",
    "print(p7_incong.shape)\n",
    "epochs7 = mne.read_epochs(path_to_file7, proj=True, preload=True, verbose=None)\n",
    "#\n",
    "ch_names7 = epochs7.info[\"ch_names\"]\n",
    "ch_idx71 = ch_names.index(\"Fp1\") #Pz, Cz, Oz\n",
    "ch_idx72 = ch_names.index(\"Pz\")\n",
    "ch_idx73 = ch_names.index(\"Cz\")\n",
    "ch_idx74 = ch_names.index(\"Oz\")\n",
    "\n",
    "p7_avg1fp1 = np.mean(p7_cong[:,ch_idx71,:],axis=0)\n",
    "p7_avg1pz = np.mean(p7_cong[:,ch_idx72,:],axis=0)\n",
    "p7_avg1cz = np.mean(p7_cong[:,ch_idx73,:],axis=0)\n",
    "p7_avg1oz = np.mean(p7_cong[:,ch_idx74,:],axis=0)\n",
    "print(p7_avg1fp1.shape)\n",
    "print(p7_avg1pz.shape)\n",
    "print(p7_avg1cz.shape)\n",
    "print(p7_avg1oz.shape)\n",
    "#\n",
    "p7_avg2fp1 = np.mean(p7_incong[:, ch_idx71, :], axis=0)\n",
    "p7_avg2pz = np.mean(p7_incong[:,ch_idx72,:],axis=0)\n",
    "p7_avg2cz = np.mean(p7_incong[:,ch_idx73,:],axis=0)\n",
    "p7_avg2oz = np.mean(p7_incong[:,ch_idx74,:],axis=0)\n",
    "print(p7_avg2fp1.shape)\n",
    "print(p7_avg2pz.shape)\n",
    "print(p7_avg2cz.shape)\n",
    "print(p7_avg2oz.shape)\n",
    "\n",
    "\n"
   ]
  },
  {
   "cell_type": "code",
   "execution_count": null,
   "id": "b4ea43e0",
   "metadata": {
    "pycharm": {
     "name": "#%%\n"
    }
   },
   "outputs": [],
   "source": [
    "plt.figure()\n",
    "plt.plot(p7_avg1fp1, color = \"blue\")\n",
    "plt.plot(p7_avg2fp1, color = \"red\")\n",
    "plt.show()"
   ]
  },
  {
   "cell_type": "code",
   "execution_count": 77,
   "id": "081c85c6",
   "metadata": {
    "pycharm": {
     "name": "#%%\n"
    }
   },
   "outputs": [
    {
     "data": {
      "text/plain": [
       "10.190780382389276"
      ]
     },
     "execution_count": 77,
     "metadata": {},
     "output_type": "execute_result"
    }
   ],
   "source": [
    "col_maxc7fp1 = p7_avg1fp1.max(axis=0)\n",
    "col_maxc7fp1"
   ]
  },
  {
   "cell_type": "code",
   "execution_count": 78,
   "id": "37f4a557",
   "metadata": {
    "pycharm": {
     "name": "#%%\n"
    }
   },
   "outputs": [
    {
     "data": {
      "text/plain": [
       "12.695022286936167"
      ]
     },
     "execution_count": 78,
     "metadata": {},
     "output_type": "execute_result"
    }
   ],
   "source": [
    "col_maxin7fp1 = p7_avg2fp1.max(axis=0)\n",
    "col_maxin7fp1"
   ]
  },
  {
   "cell_type": "code",
   "execution_count": null,
   "id": "9a305878",
   "metadata": {
    "pycharm": {
     "name": "#%%\n"
    }
   },
   "outputs": [],
   "source": [
    "plt.figure()\n",
    "plt.plot(p7_avg1pz, color = \"blue\")\n",
    "plt.plot(p7_avg2pz, color = \"red\")\n",
    "plt.show()"
   ]
  },
  {
   "cell_type": "code",
   "execution_count": 79,
   "id": "2a534ccc",
   "metadata": {
    "pycharm": {
     "name": "#%%\n"
    }
   },
   "outputs": [
    {
     "data": {
      "text/plain": [
       "14.725433029350338"
      ]
     },
     "execution_count": 79,
     "metadata": {},
     "output_type": "execute_result"
    }
   ],
   "source": [
    "col_maxc7pz = p7_avg1pz.max(axis=0)\n",
    "col_maxc7pz"
   ]
  },
  {
   "cell_type": "code",
   "execution_count": 80,
   "id": "60210bcf",
   "metadata": {
    "pycharm": {
     "name": "#%%\n"
    }
   },
   "outputs": [
    {
     "data": {
      "text/plain": [
       "15.403276786289817"
      ]
     },
     "execution_count": 80,
     "metadata": {},
     "output_type": "execute_result"
    }
   ],
   "source": [
    "col_maxin7pz = p7_avg2pz.max(axis=0)\n",
    "col_maxin7pz"
   ]
  },
  {
   "cell_type": "code",
   "execution_count": null,
   "id": "9dafe314",
   "metadata": {
    "pycharm": {
     "name": "#%%\n"
    }
   },
   "outputs": [],
   "source": [
    "plt.figure()\n",
    "plt.plot(p7_avg1cz, color = \"blue\")\n",
    "plt.plot(p7_avg2cz, color = \"red\")\n",
    "plt.show()"
   ]
  },
  {
   "cell_type": "code",
   "execution_count": 81,
   "id": "6f3deea2",
   "metadata": {
    "pycharm": {
     "name": "#%%\n"
    }
   },
   "outputs": [
    {
     "data": {
      "text/plain": [
       "7.607219194631065"
      ]
     },
     "execution_count": 81,
     "metadata": {},
     "output_type": "execute_result"
    }
   ],
   "source": [
    "col_maxc7cz = p7_avg1cz.max(axis=0)\n",
    "col_maxc7cz"
   ]
  },
  {
   "cell_type": "code",
   "execution_count": 82,
   "id": "6b762114",
   "metadata": {
    "pycharm": {
     "name": "#%%\n"
    }
   },
   "outputs": [
    {
     "data": {
      "text/plain": [
       "11.495856632294696"
      ]
     },
     "execution_count": 82,
     "metadata": {},
     "output_type": "execute_result"
    }
   ],
   "source": [
    "col_maxin7cz = p7_avg2cz.max(axis=0)\n",
    "col_maxin7cz"
   ]
  },
  {
   "cell_type": "code",
   "execution_count": null,
   "id": "8553c7da",
   "metadata": {
    "pycharm": {
     "name": "#%%\n"
    }
   },
   "outputs": [],
   "source": [
    "plt.figure()\n",
    "plt.plot(p7_avg1oz, color = \"blue\")\n",
    "plt.plot(p7_avg2oz, color = \"red\")\n",
    "plt.show()"
   ]
  },
  {
   "cell_type": "code",
   "execution_count": 83,
   "id": "434d3ec5",
   "metadata": {
    "pycharm": {
     "name": "#%%\n"
    }
   },
   "outputs": [
    {
     "data": {
      "text/plain": [
       "11.500836877903922"
      ]
     },
     "execution_count": 83,
     "metadata": {},
     "output_type": "execute_result"
    }
   ],
   "source": [
    "col_maxc7oz = p7_avg1oz.max(axis=0)\n",
    "col_maxc7oz"
   ]
  },
  {
   "cell_type": "code",
   "execution_count": 84,
   "id": "f60dfd08",
   "metadata": {
    "pycharm": {
     "name": "#%%\n"
    }
   },
   "outputs": [
    {
     "data": {
      "text/plain": [
       "12.750445944120214"
      ]
     },
     "execution_count": 84,
     "metadata": {},
     "output_type": "execute_result"
    }
   ],
   "source": [
    "col_maxin7oz = p7_avg2oz.max(axis=0)\n",
    "col_maxin7oz"
   ]
  },
  {
   "cell_type": "code",
   "execution_count": 85,
   "id": "4b89f287",
   "metadata": {
    "pycharm": {
     "name": "#%%\n"
    }
   },
   "outputs": [
    {
     "data": {
      "text/html": [
       "<div>\n",
       "<style scoped>\n",
       "    .dataframe tbody tr th:only-of-type {\n",
       "        vertical-align: middle;\n",
       "    }\n",
       "\n",
       "    .dataframe tbody tr th {\n",
       "        vertical-align: top;\n",
       "    }\n",
       "\n",
       "    .dataframe thead th {\n",
       "        text-align: right;\n",
       "    }\n",
       "</style>\n",
       "<table border=\"1\" class=\"dataframe\">\n",
       "  <thead>\n",
       "    <tr style=\"text-align: right;\">\n",
       "      <th></th>\n",
       "      <th>pnumber</th>\n",
       "      <th>fp1</th>\n",
       "      <th>pz</th>\n",
       "      <th>cz</th>\n",
       "      <th>oz</th>\n",
       "    </tr>\n",
       "  </thead>\n",
       "  <tbody>\n",
       "    <tr>\n",
       "      <th>0</th>\n",
       "      <td>7cong</td>\n",
       "      <td>10.190780</td>\n",
       "      <td>14.725433</td>\n",
       "      <td>7.607219</td>\n",
       "      <td>11.500837</td>\n",
       "    </tr>\n",
       "    <tr>\n",
       "      <th>1</th>\n",
       "      <td>7incong</td>\n",
       "      <td>12.695022</td>\n",
       "      <td>15.403277</td>\n",
       "      <td>11.495857</td>\n",
       "      <td>12.750446</td>\n",
       "    </tr>\n",
       "  </tbody>\n",
       "</table>\n",
       "</div>"
      ],
      "text/plain": [
       "   pnumber        fp1         pz         cz         oz\n",
       "0    7cong  10.190780  14.725433   7.607219  11.500837\n",
       "1  7incong  12.695022  15.403277  11.495857  12.750446"
      ]
     },
     "execution_count": 85,
     "metadata": {},
     "output_type": "execute_result"
    }
   ],
   "source": [
    "data7 = pd.DataFrame({'pnumber' : ['7cong', '7incong'],\n",
    "       'fp1' : [col_maxc7fp1, col_maxin7fp1],\n",
    "        'pz' : [col_maxc7pz, col_maxin7pz],\n",
    "        'cz' : [col_maxc7cz, col_maxin7cz],\n",
    "        'oz' : [col_maxc7oz, col_maxin7oz]\n",
    "        })\n",
    "\n",
    "df7 = pd.DataFrame(data=data7)\n",
    "df7.head()"
   ]
  },
  {
   "cell_type": "markdown",
   "id": "2d6444af",
   "metadata": {
    "pycharm": {
     "name": "#%% md\n"
    }
   },
   "source": [
    "#######################Participant 8#####################"
   ]
  },
  {
   "cell_type": "code",
   "execution_count": 86,
   "id": "c786808b",
   "metadata": {
    "pycharm": {
     "name": "#%%\n"
    }
   },
   "outputs": [
    {
     "name": "stdout",
     "output_type": "stream",
     "text": [
      "Reading C:\\Users\\mtu10\\PycharmProjects\\project1\\P08_fp-epo.fif ...\n",
      "    Found the data of interest:\n",
      "        t =     -60.00 ...    1000.00 ms\n",
      "        0 CTF compensation matrices available\n",
      "Not setting metadata\n",
      "147 matching events found\n",
      "No baseline correction applied\n",
      "0 projection items activated\n",
      "(52, 31, 1061)\n",
      "(76, 31, 1061)\n",
      "Reading C:\\Users\\mtu10\\PycharmProjects\\project1\\P08_fp-epo.fif ...\n",
      "    Found the data of interest:\n",
      "        t =     -60.00 ...    1000.00 ms\n",
      "        0 CTF compensation matrices available\n",
      "Not setting metadata\n",
      "147 matching events found\n",
      "No baseline correction applied\n",
      "0 projection items activated\n",
      "(1061,)\n",
      "(1061,)\n",
      "(1061,)\n",
      "(1061,)\n",
      "(1061,)\n",
      "(1061,)\n",
      "(1061,)\n",
      "(1061,)\n"
     ]
    }
   ],
   "source": [
    "path_to_file8 = \"P08_fp-epo.fif\"\n",
    "p8_data = mne.read_epochs(path_to_file8, proj=True, preload=True, verbose=None)\n",
    "p8_cong = p8_data[\"fp_congruent\"].get_data() * 1e6\n",
    "print(p8_cong.shape)\n",
    "p8_incong = p8_data[\"fp_incongruent\"].get_data() * 1e6\n",
    "print(p8_incong.shape)\n",
    "epochs8 = mne.read_epochs(path_to_file8, proj=True, preload=True, verbose=None)\n",
    "#\n",
    "ch_names8 = epochs8.info[\"ch_names\"]\n",
    "ch_idx81 = ch_names.index(\"Fp1\") #Pz, Cz, Oz\n",
    "ch_idx82 = ch_names.index(\"Pz\")\n",
    "ch_idx83 = ch_names.index(\"Cz\")\n",
    "ch_idx84 = ch_names.index(\"Oz\")\n",
    "\n",
    "p8_avg1fp1 = np.mean(p8_cong[:,ch_idx81,:],axis=0)\n",
    "p8_avg1pz = np.mean(p8_cong[:,ch_idx82,:],axis=0)\n",
    "p8_avg1cz = np.mean(p8_cong[:,ch_idx83,:],axis=0)\n",
    "p8_avg1oz = np.mean(p8_cong[:,ch_idx84,:],axis=0)\n",
    "print(p8_avg1fp1.shape)\n",
    "print(p8_avg1pz.shape)\n",
    "print(p8_avg1cz.shape)\n",
    "print(p8_avg1oz.shape)\n",
    "#\n",
    "p8_avg2fp1 = np.mean(p8_incong[:, ch_idx81, :], axis=0)\n",
    "p8_avg2pz = np.mean(p8_incong[:,ch_idx82,:],axis=0)\n",
    "p8_avg2cz = np.mean(p8_incong[:,ch_idx83,:],axis=0)\n",
    "p8_avg2oz = np.mean(p8_incong[:,ch_idx84,:],axis=0)\n",
    "print(p8_avg2fp1.shape)\n",
    "print(p8_avg2pz.shape)\n",
    "print(p8_avg2cz.shape)\n",
    "print(p8_avg2oz.shape)\n"
   ]
  },
  {
   "cell_type": "code",
   "execution_count": null,
   "id": "e9af45d7",
   "metadata": {
    "pycharm": {
     "name": "#%%\n"
    }
   },
   "outputs": [],
   "source": [
    "plt.figure()\n",
    "plt.plot(p8_avg1fp1, color = \"blue\")\n",
    "plt.plot(p8_avg2fp1, color = \"red\")\n",
    "plt.show()"
   ]
  },
  {
   "cell_type": "code",
   "execution_count": 87,
   "id": "aa3e6cc8",
   "metadata": {
    "pycharm": {
     "name": "#%%\n"
    }
   },
   "outputs": [
    {
     "data": {
      "text/plain": [
       "10.795593124576184"
      ]
     },
     "execution_count": 87,
     "metadata": {},
     "output_type": "execute_result"
    }
   ],
   "source": [
    "col_maxc8fp1 = p8_avg1fp1.max(axis=0)\n",
    "col_maxc8fp1"
   ]
  },
  {
   "cell_type": "code",
   "execution_count": 88,
   "id": "916fd7dc",
   "metadata": {
    "pycharm": {
     "name": "#%%\n"
    }
   },
   "outputs": [
    {
     "data": {
      "text/plain": [
       "5.355542433034855"
      ]
     },
     "execution_count": 88,
     "metadata": {},
     "output_type": "execute_result"
    }
   ],
   "source": [
    "col_maxin8fp1 = p8_avg2fp1.max(axis=0)\n",
    "col_maxin8fp1"
   ]
  },
  {
   "cell_type": "code",
   "execution_count": null,
   "id": "24ac6d91",
   "metadata": {
    "pycharm": {
     "name": "#%%\n"
    }
   },
   "outputs": [],
   "source": [
    "plt.figure()\n",
    "plt.plot(p8_avg1pz, color = \"blue\")\n",
    "plt.plot(p8_avg2pz, color = \"red\")\n",
    "plt.show()"
   ]
  },
  {
   "cell_type": "code",
   "execution_count": 89,
   "id": "a93f0a7b",
   "metadata": {
    "pycharm": {
     "name": "#%%\n"
    }
   },
   "outputs": [
    {
     "data": {
      "text/plain": [
       "25.29490437099565"
      ]
     },
     "execution_count": 89,
     "metadata": {},
     "output_type": "execute_result"
    }
   ],
   "source": [
    "col_maxc8pz = p8_avg1pz.max(axis=0)\n",
    "col_maxc8pz"
   ]
  },
  {
   "cell_type": "code",
   "execution_count": 90,
   "id": "0c283666",
   "metadata": {
    "pycharm": {
     "name": "#%%\n"
    }
   },
   "outputs": [
    {
     "data": {
      "text/plain": [
       "24.324399203184868"
      ]
     },
     "execution_count": 90,
     "metadata": {},
     "output_type": "execute_result"
    }
   ],
   "source": [
    "col_maxin8pz = p8_avg2pz.max(axis=0)\n",
    "col_maxin8pz"
   ]
  },
  {
   "cell_type": "code",
   "execution_count": null,
   "id": "f9af9657",
   "metadata": {
    "pycharm": {
     "name": "#%%\n"
    }
   },
   "outputs": [],
   "source": [
    "plt.figure()\n",
    "plt.plot(p8_avg1cz, color = \"blue\")\n",
    "plt.plot(p8_avg2cz, color = \"red\")\n",
    "plt.show()"
   ]
  },
  {
   "cell_type": "code",
   "execution_count": 91,
   "id": "3953247b",
   "metadata": {
    "pycharm": {
     "name": "#%%\n"
    }
   },
   "outputs": [
    {
     "data": {
      "text/plain": [
       "25.4441867844748"
      ]
     },
     "execution_count": 91,
     "metadata": {},
     "output_type": "execute_result"
    }
   ],
   "source": [
    "col_maxc8cz = p8_avg1cz.max(axis=0)\n",
    "col_maxc8cz"
   ]
  },
  {
   "cell_type": "code",
   "execution_count": 92,
   "id": "4511b76d",
   "metadata": {
    "pycharm": {
     "name": "#%%\n"
    }
   },
   "outputs": [
    {
     "data": {
      "text/plain": [
       "25.07149230207854"
      ]
     },
     "execution_count": 92,
     "metadata": {},
     "output_type": "execute_result"
    }
   ],
   "source": [
    "col_maxin8cz = p8_avg2cz.max(axis=0)\n",
    "col_maxin8cz"
   ]
  },
  {
   "cell_type": "code",
   "execution_count": null,
   "id": "fb6eea80",
   "metadata": {
    "pycharm": {
     "name": "#%%\n"
    }
   },
   "outputs": [],
   "source": [
    "plt.figure()\n",
    "plt.plot(p8_avg1oz, color = \"blue\")\n",
    "plt.plot(p8_avg2oz, color = \"red\")\n",
    "plt.show()"
   ]
  },
  {
   "cell_type": "code",
   "execution_count": 93,
   "id": "5be49dd0",
   "metadata": {
    "pycharm": {
     "name": "#%%\n"
    }
   },
   "outputs": [
    {
     "data": {
      "text/plain": [
       "16.618227495667288"
      ]
     },
     "execution_count": 93,
     "metadata": {},
     "output_type": "execute_result"
    }
   ],
   "source": [
    "col_maxc8oz = p8_avg1oz.max(axis=0)\n",
    "col_maxc8oz"
   ]
  },
  {
   "cell_type": "code",
   "execution_count": 94,
   "id": "987133f4",
   "metadata": {
    "pycharm": {
     "name": "#%%\n"
    }
   },
   "outputs": [
    {
     "data": {
      "text/plain": [
       "15.503192146199446"
      ]
     },
     "execution_count": 94,
     "metadata": {},
     "output_type": "execute_result"
    }
   ],
   "source": [
    "col_maxin8oz = p8_avg2oz.max(axis=0)\n",
    "col_maxin8oz"
   ]
  },
  {
   "cell_type": "code",
   "execution_count": 95,
   "id": "c6e9ca68",
   "metadata": {
    "pycharm": {
     "name": "#%%\n"
    }
   },
   "outputs": [
    {
     "data": {
      "text/html": [
       "<div>\n",
       "<style scoped>\n",
       "    .dataframe tbody tr th:only-of-type {\n",
       "        vertical-align: middle;\n",
       "    }\n",
       "\n",
       "    .dataframe tbody tr th {\n",
       "        vertical-align: top;\n",
       "    }\n",
       "\n",
       "    .dataframe thead th {\n",
       "        text-align: right;\n",
       "    }\n",
       "</style>\n",
       "<table border=\"1\" class=\"dataframe\">\n",
       "  <thead>\n",
       "    <tr style=\"text-align: right;\">\n",
       "      <th></th>\n",
       "      <th>pnumber</th>\n",
       "      <th>fp1</th>\n",
       "      <th>pz</th>\n",
       "      <th>cz</th>\n",
       "      <th>oz</th>\n",
       "    </tr>\n",
       "  </thead>\n",
       "  <tbody>\n",
       "    <tr>\n",
       "      <th>0</th>\n",
       "      <td>8cong</td>\n",
       "      <td>10.795593</td>\n",
       "      <td>25.294904</td>\n",
       "      <td>25.444187</td>\n",
       "      <td>16.618227</td>\n",
       "    </tr>\n",
       "    <tr>\n",
       "      <th>1</th>\n",
       "      <td>8incong</td>\n",
       "      <td>5.355542</td>\n",
       "      <td>24.324399</td>\n",
       "      <td>25.071492</td>\n",
       "      <td>15.503192</td>\n",
       "    </tr>\n",
       "  </tbody>\n",
       "</table>\n",
       "</div>"
      ],
      "text/plain": [
       "   pnumber        fp1         pz         cz         oz\n",
       "0    8cong  10.795593  25.294904  25.444187  16.618227\n",
       "1  8incong   5.355542  24.324399  25.071492  15.503192"
      ]
     },
     "execution_count": 95,
     "metadata": {},
     "output_type": "execute_result"
    }
   ],
   "source": [
    "data8 = pd.DataFrame({'pnumber' : ['8cong', '8incong'],\n",
    "       'fp1' : [col_maxc8fp1, col_maxin8fp1],\n",
    "        'pz' : [col_maxc8pz, col_maxin8pz],\n",
    "        'cz' : [col_maxc8cz, col_maxin8cz],\n",
    "        'oz' : [col_maxc8oz, col_maxin8oz]\n",
    "        })\n",
    "\n",
    "df8 = pd.DataFrame(data=data8)\n",
    "df8.head()"
   ]
  },
  {
   "cell_type": "markdown",
   "id": "4cee9a42",
   "metadata": {
    "pycharm": {
     "name": "#%% md\n"
    }
   },
   "source": [
    "#########################Participant 9##################"
   ]
  },
  {
   "cell_type": "code",
   "execution_count": 96,
   "id": "183fddf2",
   "metadata": {
    "pycharm": {
     "name": "#%%\n"
    }
   },
   "outputs": [
    {
     "name": "stdout",
     "output_type": "stream",
     "text": [
      "Reading C:\\Users\\mtu10\\PycharmProjects\\project1\\P09_fp-epo.fif ...\n",
      "    Found the data of interest:\n",
      "        t =     -60.00 ...    1000.00 ms\n",
      "        0 CTF compensation matrices available\n",
      "Not setting metadata\n",
      "320 matching events found\n",
      "No baseline correction applied\n",
      "0 projection items activated\n",
      "(126, 31, 1061)\n",
      "(129, 31, 1061)\n",
      "Reading C:\\Users\\mtu10\\PycharmProjects\\project1\\P09_fp-epo.fif ...\n",
      "    Found the data of interest:\n",
      "        t =     -60.00 ...    1000.00 ms\n",
      "        0 CTF compensation matrices available\n",
      "Not setting metadata\n",
      "320 matching events found\n",
      "No baseline correction applied\n",
      "0 projection items activated\n",
      "(1061,)\n",
      "(1061,)\n",
      "(1061,)\n",
      "(1061,)\n",
      "(1061,)\n",
      "(1061,)\n",
      "(1061,)\n",
      "(1061,)\n"
     ]
    }
   ],
   "source": [
    "path_to_file9 = \"P09_fp-epo.fif\"\n",
    "p9_data = mne.read_epochs(path_to_file9, proj=True, preload=True, verbose=None)\n",
    "p9_cong = p9_data[\"fp_congruent\"].get_data() * 1e6\n",
    "print(p9_cong.shape)\n",
    "p9_incong = p9_data[\"fp_incongruent\"].get_data() * 1e6\n",
    "print(p9_incong.shape)\n",
    "epochs9 = mne.read_epochs(path_to_file9, proj=True, preload=True, verbose=None)\n",
    "#\n",
    "ch_names9 = epochs8.info[\"ch_names\"]\n",
    "ch_idx91 = ch_names.index(\"Fp1\") #Pz, Cz, Oz\n",
    "ch_idx92 = ch_names.index(\"Pz\")\n",
    "ch_idx93 = ch_names.index(\"Cz\")\n",
    "ch_idx94 = ch_names.index(\"Oz\")\n",
    "\n",
    "p9_avg1fp1 = np.mean(p9_cong[:,ch_idx91,:],axis=0)\n",
    "p9_avg1pz = np.mean(p9_cong[:,ch_idx92,:],axis=0)\n",
    "p9_avg1cz = np.mean(p9_cong[:,ch_idx93,:],axis=0)\n",
    "p9_avg1oz = np.mean(p9_cong[:,ch_idx94,:],axis=0)\n",
    "print(p9_avg1fp1.shape)\n",
    "print(p9_avg1pz.shape)\n",
    "print(p9_avg1cz.shape)\n",
    "print(p9_avg1oz.shape)\n",
    "#\n",
    "p9_avg2fp1 = np.mean(p9_incong[:, ch_idx91, :], axis=0)\n",
    "p9_avg2pz = np.mean(p9_incong[:,ch_idx92,:],axis=0)\n",
    "p9_avg2cz = np.mean(p9_incong[:,ch_idx93,:],axis=0)\n",
    "p9_avg2oz = np.mean(p9_incong[:,ch_idx94,:],axis=0)\n",
    "print(p9_avg2fp1.shape)\n",
    "print(p9_avg2pz.shape)\n",
    "print(p9_avg2cz.shape)\n",
    "print(p9_avg2oz.shape)\n",
    "\n"
   ]
  },
  {
   "cell_type": "code",
   "execution_count": null,
   "id": "f2d5d788",
   "metadata": {
    "pycharm": {
     "name": "#%%\n"
    }
   },
   "outputs": [],
   "source": [
    "plt.figure()\n",
    "plt.plot(p9_avg1fp1, color = \"blue\")\n",
    "plt.plot(p9_avg2fp1, color = \"red\")\n",
    "plt.show()"
   ]
  },
  {
   "cell_type": "code",
   "execution_count": 97,
   "id": "a772736a",
   "metadata": {
    "pycharm": {
     "name": "#%%\n"
    }
   },
   "outputs": [
    {
     "data": {
      "text/plain": [
       "7.293102711347198"
      ]
     },
     "execution_count": 97,
     "metadata": {},
     "output_type": "execute_result"
    }
   ],
   "source": [
    "col_maxc9fp1 = p9_avg1fp1.max(axis=0)\n",
    "col_maxc9fp1"
   ]
  },
  {
   "cell_type": "code",
   "execution_count": 98,
   "id": "e8f04e78",
   "metadata": {
    "pycharm": {
     "name": "#%%\n"
    }
   },
   "outputs": [
    {
     "data": {
      "text/plain": [
       "10.034466104238117"
      ]
     },
     "execution_count": 98,
     "metadata": {},
     "output_type": "execute_result"
    }
   ],
   "source": [
    "col_maxin9fp1 = p9_avg2fp1.max(axis=0)\n",
    "col_maxin9fp1"
   ]
  },
  {
   "cell_type": "code",
   "execution_count": null,
   "id": "76985d7f",
   "metadata": {
    "pycharm": {
     "name": "#%%\n"
    }
   },
   "outputs": [],
   "source": [
    "plt.figure()\n",
    "plt.plot(p9_avg1pz, color = \"blue\")\n",
    "plt.plot(p9_avg2pz, color = \"red\")\n",
    "plt.show()"
   ]
  },
  {
   "cell_type": "code",
   "execution_count": 99,
   "id": "3799b1d5",
   "metadata": {
    "pycharm": {
     "name": "#%%\n"
    }
   },
   "outputs": [
    {
     "data": {
      "text/plain": [
       "11.554655183494717"
      ]
     },
     "execution_count": 99,
     "metadata": {},
     "output_type": "execute_result"
    }
   ],
   "source": [
    "col_maxc9pz = p9_avg1pz.max(axis=0)\n",
    "col_maxc9pz"
   ]
  },
  {
   "cell_type": "code",
   "execution_count": 100,
   "id": "756ed87a",
   "metadata": {
    "pycharm": {
     "name": "#%%\n"
    }
   },
   "outputs": [
    {
     "data": {
      "text/plain": [
       "12.870482072339302"
      ]
     },
     "execution_count": 100,
     "metadata": {},
     "output_type": "execute_result"
    }
   ],
   "source": [
    "col_maxin9pz = p9_avg2pz.max(axis=0)\n",
    "col_maxin9pz"
   ]
  },
  {
   "cell_type": "code",
   "execution_count": null,
   "id": "f16b30e5",
   "metadata": {
    "pycharm": {
     "name": "#%%\n"
    }
   },
   "outputs": [],
   "source": [
    "plt.figure()\n",
    "plt.plot(p9_avg1cz, color = \"blue\")\n",
    "plt.plot(p9_avg2cz, color = \"red\")\n",
    "plt.show()"
   ]
  },
  {
   "cell_type": "code",
   "execution_count": 101,
   "id": "e67ed2ad",
   "metadata": {
    "pycharm": {
     "name": "#%%\n"
    }
   },
   "outputs": [
    {
     "data": {
      "text/plain": [
       "11.034864063955443"
      ]
     },
     "execution_count": 101,
     "metadata": {},
     "output_type": "execute_result"
    }
   ],
   "source": [
    "col_maxc9cz = p9_avg1cz.max(axis=0)\n",
    "col_maxc9cz"
   ]
  },
  {
   "cell_type": "code",
   "execution_count": 102,
   "id": "988d711a",
   "metadata": {
    "pycharm": {
     "name": "#%%\n"
    }
   },
   "outputs": [
    {
     "data": {
      "text/plain": [
       "12.039417713412275"
      ]
     },
     "execution_count": 102,
     "metadata": {},
     "output_type": "execute_result"
    }
   ],
   "source": [
    "col_maxin9cz = p9_avg2cz.max(axis=0)\n",
    "col_maxin9cz"
   ]
  },
  {
   "cell_type": "code",
   "execution_count": null,
   "id": "f3972631",
   "metadata": {
    "pycharm": {
     "name": "#%%\n"
    }
   },
   "outputs": [],
   "source": [
    "plt.figure()\n",
    "plt.plot(p9_avg1oz, color = \"blue\")\n",
    "plt.plot(p9_avg2oz, color = \"red\")\n",
    "plt.show()"
   ]
  },
  {
   "cell_type": "code",
   "execution_count": 103,
   "id": "a275dd91",
   "metadata": {
    "pycharm": {
     "name": "#%%\n"
    }
   },
   "outputs": [
    {
     "data": {
      "text/plain": [
       "11.719506928520536"
      ]
     },
     "execution_count": 103,
     "metadata": {},
     "output_type": "execute_result"
    }
   ],
   "source": [
    "col_maxc9oz = p9_avg1oz.max(axis=0)\n",
    "col_maxc9oz"
   ]
  },
  {
   "cell_type": "code",
   "execution_count": 104,
   "id": "fe76b883",
   "metadata": {
    "pycharm": {
     "name": "#%%\n"
    }
   },
   "outputs": [
    {
     "data": {
      "text/plain": [
       "11.132753783792378"
      ]
     },
     "execution_count": 104,
     "metadata": {},
     "output_type": "execute_result"
    }
   ],
   "source": [
    "col_maxin9oz = p9_avg2oz.max(axis=0)\n",
    "col_maxin9oz"
   ]
  },
  {
   "cell_type": "code",
   "execution_count": 105,
   "id": "89f422bc",
   "metadata": {
    "pycharm": {
     "name": "#%%\n"
    }
   },
   "outputs": [
    {
     "data": {
      "text/html": [
       "<div>\n",
       "<style scoped>\n",
       "    .dataframe tbody tr th:only-of-type {\n",
       "        vertical-align: middle;\n",
       "    }\n",
       "\n",
       "    .dataframe tbody tr th {\n",
       "        vertical-align: top;\n",
       "    }\n",
       "\n",
       "    .dataframe thead th {\n",
       "        text-align: right;\n",
       "    }\n",
       "</style>\n",
       "<table border=\"1\" class=\"dataframe\">\n",
       "  <thead>\n",
       "    <tr style=\"text-align: right;\">\n",
       "      <th></th>\n",
       "      <th>pnumber</th>\n",
       "      <th>fp1</th>\n",
       "      <th>pz</th>\n",
       "      <th>cz</th>\n",
       "      <th>oz</th>\n",
       "    </tr>\n",
       "  </thead>\n",
       "  <tbody>\n",
       "    <tr>\n",
       "      <th>0</th>\n",
       "      <td>9cong</td>\n",
       "      <td>7.293103</td>\n",
       "      <td>11.554655</td>\n",
       "      <td>11.034864</td>\n",
       "      <td>11.719507</td>\n",
       "    </tr>\n",
       "    <tr>\n",
       "      <th>1</th>\n",
       "      <td>9incong</td>\n",
       "      <td>10.034466</td>\n",
       "      <td>12.870482</td>\n",
       "      <td>12.039418</td>\n",
       "      <td>11.132754</td>\n",
       "    </tr>\n",
       "  </tbody>\n",
       "</table>\n",
       "</div>"
      ],
      "text/plain": [
       "   pnumber        fp1         pz         cz         oz\n",
       "0    9cong   7.293103  11.554655  11.034864  11.719507\n",
       "1  9incong  10.034466  12.870482  12.039418  11.132754"
      ]
     },
     "execution_count": 105,
     "metadata": {},
     "output_type": "execute_result"
    }
   ],
   "source": [
    "data9 = pd.DataFrame({'pnumber' : ['9cong', '9incong'],\n",
    "       'fp1' : [col_maxc9fp1, col_maxin9fp1],\n",
    "        'pz' : [col_maxc9pz, col_maxin9pz],\n",
    "        'cz' : [col_maxc9cz, col_maxin9cz],\n",
    "        'oz' : [col_maxc9oz, col_maxin9oz]\n",
    "        })\n",
    "\n",
    "df9 = pd.DataFrame(data=data9)\n",
    "df9.head()"
   ]
  },
  {
   "cell_type": "markdown",
   "id": "66785e52",
   "metadata": {
    "pycharm": {
     "name": "#%% md\n"
    }
   },
   "source": [
    "#########################Participant 11##############"
   ]
  },
  {
   "cell_type": "code",
   "execution_count": 106,
   "id": "988b4275",
   "metadata": {
    "pycharm": {
     "name": "#%%\n"
    }
   },
   "outputs": [
    {
     "name": "stdout",
     "output_type": "stream",
     "text": [
      "Reading C:\\Users\\mtu10\\PycharmProjects\\project1\\P11_fp-epo.fif ...\n",
      "    Found the data of interest:\n",
      "        t =     -60.00 ...    1000.00 ms\n",
      "        0 CTF compensation matrices available\n",
      "Not setting metadata\n",
      "226 matching events found\n",
      "No baseline correction applied\n",
      "0 projection items activated\n",
      "(69, 31, 1061)\n",
      "(98, 31, 1061)\n",
      "Reading C:\\Users\\mtu10\\PycharmProjects\\project1\\P11_fp-epo.fif ...\n",
      "    Found the data of interest:\n",
      "        t =     -60.00 ...    1000.00 ms\n",
      "        0 CTF compensation matrices available\n",
      "Not setting metadata\n",
      "226 matching events found\n",
      "No baseline correction applied\n",
      "0 projection items activated\n",
      "(1061,)\n",
      "(1061,)\n",
      "(1061,)\n",
      "(1061,)\n",
      "(1061,)\n",
      "(1061,)\n",
      "(1061,)\n",
      "(1061,)\n"
     ]
    }
   ],
   "source": [
    "path_to_file11 = \"P11_fp-epo.fif\"\n",
    "p11_data = mne.read_epochs(path_to_file11, proj=True, preload=True, verbose=None)\n",
    "p11_cong = p11_data[\"fp_congruent\"].get_data() * 1e6\n",
    "print(p11_cong.shape)\n",
    "p11_incong = p11_data[\"fp_incongruent\"].get_data() * 1e6\n",
    "print(p11_incong.shape)\n",
    "epochs11 = mne.read_epochs(path_to_file11, proj=True, preload=True, verbose=None)\n",
    "#\n",
    "ch_names11 = epochs11.info[\"ch_names\"]\n",
    "ch_idx111 = ch_names.index(\"Fp1\") #Pz, Cz, Oz\n",
    "ch_idx112 = ch_names.index(\"Pz\")\n",
    "ch_idx113 = ch_names.index(\"Cz\")\n",
    "ch_idx114 = ch_names.index(\"Oz\")\n",
    "\n",
    "p11_avg1fp1 = np.mean(p11_cong[:,ch_idx111,:],axis=0)\n",
    "p11_avg1pz = np.mean(p11_cong[:,ch_idx112,:],axis=0)\n",
    "p11_avg1cz = np.mean(p11_cong[:,ch_idx113,:],axis=0)\n",
    "p11_avg1oz = np.mean(p11_cong[:,ch_idx114,:],axis=0)\n",
    "print(p11_avg1fp1.shape)\n",
    "print(p11_avg1pz.shape)\n",
    "print(p11_avg1cz.shape)\n",
    "print(p11_avg1oz.shape)\n",
    "#\n",
    "p11_avg2fp1 = np.mean(p11_incong[:, ch_idx111, :], axis=0)\n",
    "p11_avg2pz = np.mean(p11_incong[:,ch_idx112,:],axis=0)\n",
    "p11_avg2cz = np.mean(p11_incong[:,ch_idx113,:],axis=0)\n",
    "p11_avg2oz = np.mean(p11_incong[:,ch_idx114,:],axis=0)\n",
    "print(p11_avg2fp1.shape)\n",
    "print(p11_avg2pz.shape)\n",
    "print(p11_avg2cz.shape)\n",
    "print(p11_avg2oz.shape)\n",
    "\n",
    "\n"
   ]
  },
  {
   "cell_type": "code",
   "execution_count": null,
   "id": "45020cd7",
   "metadata": {
    "pycharm": {
     "name": "#%%\n"
    }
   },
   "outputs": [],
   "source": [
    "plt.figure()\n",
    "plt.plot(p11_avg1fp1, color = \"blue\")\n",
    "plt.plot(p11_avg2fp1, color = \"red\")\n",
    "plt.show()"
   ]
  },
  {
   "cell_type": "code",
   "execution_count": 107,
   "id": "be423f61",
   "metadata": {
    "pycharm": {
     "name": "#%%\n"
    }
   },
   "outputs": [
    {
     "data": {
      "text/plain": [
       "1.2847693558128344"
      ]
     },
     "execution_count": 107,
     "metadata": {},
     "output_type": "execute_result"
    }
   ],
   "source": [
    "col_maxc11fp1 = p11_avg1fp1.max(axis=0)\n",
    "col_maxc11fp1"
   ]
  },
  {
   "cell_type": "code",
   "execution_count": 108,
   "id": "b060ca5d",
   "metadata": {
    "pycharm": {
     "name": "#%%\n"
    }
   },
   "outputs": [
    {
     "data": {
      "text/plain": [
       "1.3528025887338384"
      ]
     },
     "execution_count": 108,
     "metadata": {},
     "output_type": "execute_result"
    }
   ],
   "source": [
    "col_maxin11fp1 = p11_avg2fp1.max(axis=0)\n",
    "col_maxin11fp1"
   ]
  },
  {
   "cell_type": "code",
   "execution_count": null,
   "id": "50f1e759",
   "metadata": {
    "pycharm": {
     "name": "#%%\n"
    }
   },
   "outputs": [],
   "source": [
    "plt.figure()\n",
    "plt.plot(p11_avg1pz, color = \"blue\")\n",
    "plt.plot(p11_avg2pz, color = \"red\")\n",
    "plt.show()"
   ]
  },
  {
   "cell_type": "code",
   "execution_count": 109,
   "id": "c430e1e9",
   "metadata": {
    "pycharm": {
     "name": "#%%\n"
    }
   },
   "outputs": [
    {
     "data": {
      "text/plain": [
       "5.745491557693313"
      ]
     },
     "execution_count": 109,
     "metadata": {},
     "output_type": "execute_result"
    }
   ],
   "source": [
    "col_maxc11pz = p11_avg1pz.max(axis=0)\n",
    "col_maxc11pz"
   ]
  },
  {
   "cell_type": "code",
   "execution_count": 110,
   "id": "b7589a6e",
   "metadata": {
    "pycharm": {
     "name": "#%%\n"
    }
   },
   "outputs": [
    {
     "data": {
      "text/plain": [
       "2.2818888981105445"
      ]
     },
     "execution_count": 110,
     "metadata": {},
     "output_type": "execute_result"
    }
   ],
   "source": [
    "col_maxin11pz = p11_avg2pz.max(axis=0)\n",
    "col_maxin11pz"
   ]
  },
  {
   "cell_type": "code",
   "execution_count": null,
   "id": "5452766d",
   "metadata": {
    "pycharm": {
     "name": "#%%\n"
    }
   },
   "outputs": [],
   "source": [
    "plt.figure()\n",
    "plt.plot(p11_avg1cz, color = \"blue\")\n",
    "plt.plot(p11_avg2cz, color = \"red\")\n",
    "plt.show()"
   ]
  },
  {
   "cell_type": "code",
   "execution_count": 111,
   "id": "6175d85e",
   "metadata": {
    "pycharm": {
     "name": "#%%\n"
    }
   },
   "outputs": [
    {
     "data": {
      "text/plain": [
       "5.570832593544997"
      ]
     },
     "execution_count": 111,
     "metadata": {},
     "output_type": "execute_result"
    }
   ],
   "source": [
    "col_maxc11cz = p11_avg1cz.max(axis=0)\n",
    "col_maxc11cz"
   ]
  },
  {
   "cell_type": "code",
   "execution_count": 112,
   "id": "8bcd0957",
   "metadata": {
    "pycharm": {
     "name": "#%%\n"
    }
   },
   "outputs": [
    {
     "data": {
      "text/plain": [
       "1.4161194058876163"
      ]
     },
     "execution_count": 112,
     "metadata": {},
     "output_type": "execute_result"
    }
   ],
   "source": [
    "col_maxin11cz = p11_avg2cz.max(axis=0)\n",
    "col_maxin11cz"
   ]
  },
  {
   "cell_type": "code",
   "execution_count": null,
   "id": "d4ce0a4c",
   "metadata": {
    "pycharm": {
     "name": "#%%\n"
    }
   },
   "outputs": [],
   "source": [
    "plt.figure()\n",
    "plt.plot(p11_avg1oz, color = \"blue\")\n",
    "plt.plot(p11_avg2oz, color = \"red\")\n",
    "plt.show()"
   ]
  },
  {
   "cell_type": "code",
   "execution_count": 113,
   "id": "2bbb4d86",
   "metadata": {
    "pycharm": {
     "name": "#%%\n"
    }
   },
   "outputs": [
    {
     "data": {
      "text/plain": [
       "8.514448093316334"
      ]
     },
     "execution_count": 113,
     "metadata": {},
     "output_type": "execute_result"
    }
   ],
   "source": [
    "col_maxc11oz = p11_avg1oz.max(axis=0)\n",
    "col_maxc11oz"
   ]
  },
  {
   "cell_type": "code",
   "execution_count": 114,
   "id": "39683381",
   "metadata": {
    "pycharm": {
     "name": "#%%\n"
    }
   },
   "outputs": [
    {
     "data": {
      "text/plain": [
       "8.421806115444198"
      ]
     },
     "execution_count": 114,
     "metadata": {},
     "output_type": "execute_result"
    }
   ],
   "source": [
    "col_maxin11oz = p11_avg2oz.max(axis=0)\n",
    "col_maxin11oz"
   ]
  },
  {
   "cell_type": "code",
   "execution_count": 115,
   "id": "0bef9afe",
   "metadata": {
    "pycharm": {
     "name": "#%%\n"
    }
   },
   "outputs": [
    {
     "data": {
      "text/html": [
       "<div>\n",
       "<style scoped>\n",
       "    .dataframe tbody tr th:only-of-type {\n",
       "        vertical-align: middle;\n",
       "    }\n",
       "\n",
       "    .dataframe tbody tr th {\n",
       "        vertical-align: top;\n",
       "    }\n",
       "\n",
       "    .dataframe thead th {\n",
       "        text-align: right;\n",
       "    }\n",
       "</style>\n",
       "<table border=\"1\" class=\"dataframe\">\n",
       "  <thead>\n",
       "    <tr style=\"text-align: right;\">\n",
       "      <th></th>\n",
       "      <th>pnumber</th>\n",
       "      <th>fp1</th>\n",
       "      <th>pz</th>\n",
       "      <th>cz</th>\n",
       "      <th>oz</th>\n",
       "    </tr>\n",
       "  </thead>\n",
       "  <tbody>\n",
       "    <tr>\n",
       "      <th>0</th>\n",
       "      <td>11cong</td>\n",
       "      <td>1.284769</td>\n",
       "      <td>5.745492</td>\n",
       "      <td>5.570833</td>\n",
       "      <td>8.514448</td>\n",
       "    </tr>\n",
       "    <tr>\n",
       "      <th>1</th>\n",
       "      <td>11incong</td>\n",
       "      <td>1.352803</td>\n",
       "      <td>2.281889</td>\n",
       "      <td>1.416119</td>\n",
       "      <td>8.421806</td>\n",
       "    </tr>\n",
       "  </tbody>\n",
       "</table>\n",
       "</div>"
      ],
      "text/plain": [
       "    pnumber       fp1        pz        cz        oz\n",
       "0    11cong  1.284769  5.745492  5.570833  8.514448\n",
       "1  11incong  1.352803  2.281889  1.416119  8.421806"
      ]
     },
     "execution_count": 115,
     "metadata": {},
     "output_type": "execute_result"
    }
   ],
   "source": [
    "data11 = pd.DataFrame({'pnumber' : ['11cong', '11incong'],\n",
    "       'fp1' : [col_maxc11fp1, col_maxin11fp1],\n",
    "        'pz' : [col_maxc11pz, col_maxin11pz],\n",
    "        'cz' : [col_maxc11cz, col_maxin11cz],\n",
    "        'oz' : [col_maxc11oz, col_maxin11oz]\n",
    "        })\n",
    "\n",
    "df11 = pd.DataFrame(data=data11)\n",
    "df11.head()"
   ]
  },
  {
   "cell_type": "markdown",
   "id": "47fa2f71",
   "metadata": {
    "pycharm": {
     "name": "#%% md\n"
    }
   },
   "source": [
    "#################Participant 12############"
   ]
  },
  {
   "cell_type": "code",
   "execution_count": 116,
   "id": "1ef6f250",
   "metadata": {
    "pycharm": {
     "name": "#%%\n"
    }
   },
   "outputs": [
    {
     "name": "stdout",
     "output_type": "stream",
     "text": [
      "Reading C:\\Users\\mtu10\\PycharmProjects\\project1\\P12_fp-epo.fif ...\n",
      "    Found the data of interest:\n",
      "        t =     -60.00 ...    1000.00 ms\n",
      "        0 CTF compensation matrices available\n",
      "Not setting metadata\n",
      "316 matching events found\n",
      "No baseline correction applied\n",
      "0 projection items activated\n",
      "(135, 31, 1061)\n",
      "(124, 31, 1061)\n",
      "Reading C:\\Users\\mtu10\\PycharmProjects\\project1\\P12_fp-epo.fif ...\n",
      "    Found the data of interest:\n",
      "        t =     -60.00 ...    1000.00 ms\n",
      "        0 CTF compensation matrices available\n",
      "Not setting metadata\n",
      "316 matching events found\n",
      "No baseline correction applied\n",
      "0 projection items activated\n",
      "(1061,)\n",
      "(1061,)\n",
      "(1061,)\n",
      "(1061,)\n",
      "(1061,)\n",
      "(1061,)\n",
      "(1061,)\n",
      "(1061,)\n"
     ]
    }
   ],
   "source": [
    "path_to_file12 = \"P12_fp-epo.fif\"\n",
    "p12_data = mne.read_epochs(path_to_file12, proj=True, preload=True, verbose=None)\n",
    "p12_cong = p12_data[\"fp_congruent\"].get_data() * 1e6\n",
    "print(p12_cong.shape)\n",
    "p12_incong = p12_data[\"fp_incongruent\"].get_data() * 1e6\n",
    "print(p12_incong.shape)\n",
    "epochs12 = mne.read_epochs(path_to_file12, proj=True, preload=True, verbose=None)\n",
    "#\n",
    "ch_names12 = epochs11.info[\"ch_names\"]\n",
    "ch_idx121 = ch_names.index(\"Fp1\") #Pz, Cz, Oz\n",
    "ch_idx122 = ch_names.index(\"Pz\")\n",
    "ch_idx123 = ch_names.index(\"Cz\")\n",
    "ch_idx124 = ch_names.index(\"Oz\")\n",
    "\n",
    "p12_avg1fp1 = np.mean(p12_cong[:,ch_idx121,:],axis=0)\n",
    "p12_avg1pz = np.mean(p12_cong[:,ch_idx122,:],axis=0)\n",
    "p12_avg1cz = np.mean(p12_cong[:,ch_idx123,:],axis=0)\n",
    "p12_avg1oz = np.mean(p12_cong[:,ch_idx124,:],axis=0)\n",
    "print(p12_avg1fp1.shape)\n",
    "print(p12_avg1pz.shape)\n",
    "print(p12_avg1cz.shape)\n",
    "print(p12_avg1oz.shape)\n",
    "#\n",
    "p12_avg2fp1 = np.mean(p12_incong[:, ch_idx121, :], axis=0)\n",
    "p12_avg2pz = np.mean(p12_incong[:,ch_idx122,:],axis=0)\n",
    "p12_avg2cz = np.mean(p12_incong[:,ch_idx123,:],axis=0)\n",
    "p12_avg2oz = np.mean(p12_incong[:,ch_idx124,:],axis=0)\n",
    "print(p12_avg2fp1.shape)\n",
    "print(p12_avg2pz.shape)\n",
    "print(p12_avg2cz.shape)\n",
    "print(p12_avg2oz.shape)\n",
    "\n"
   ]
  },
  {
   "cell_type": "code",
   "execution_count": null,
   "id": "4bbdcee7",
   "metadata": {
    "pycharm": {
     "name": "#%%\n"
    }
   },
   "outputs": [],
   "source": [
    "plt.figure()\n",
    "plt.plot(p12_avg1fp1, color = \"blue\")\n",
    "plt.plot(p12_avg2fp1, color = \"red\")\n",
    "plt.show()"
   ]
  },
  {
   "cell_type": "code",
   "execution_count": 117,
   "id": "eb5de6d3",
   "metadata": {
    "pycharm": {
     "name": "#%%\n"
    }
   },
   "outputs": [
    {
     "data": {
      "text/plain": [
       "2.2648411512182034"
      ]
     },
     "execution_count": 117,
     "metadata": {},
     "output_type": "execute_result"
    }
   ],
   "source": [
    "col_maxc12fp1 = p12_avg1fp1.max(axis=0)\n",
    "col_maxc12fp1"
   ]
  },
  {
   "cell_type": "code",
   "execution_count": 118,
   "id": "45cf5f58",
   "metadata": {
    "pycharm": {
     "name": "#%%\n"
    }
   },
   "outputs": [
    {
     "data": {
      "text/plain": [
       "0.7334116743852113"
      ]
     },
     "execution_count": 118,
     "metadata": {},
     "output_type": "execute_result"
    }
   ],
   "source": [
    "col_maxin12fp1 = p12_avg2fp1.max(axis=0)\n",
    "col_maxin12fp1"
   ]
  },
  {
   "cell_type": "code",
   "execution_count": null,
   "id": "721334b2",
   "metadata": {
    "pycharm": {
     "name": "#%%\n"
    }
   },
   "outputs": [],
   "source": [
    "plt.figure()\n",
    "plt.plot(p12_avg1pz, color = \"blue\")\n",
    "plt.plot(p12_avg2pz, color = \"red\")\n",
    "plt.show()"
   ]
  },
  {
   "cell_type": "code",
   "execution_count": 119,
   "id": "49dc42d0",
   "metadata": {
    "pycharm": {
     "name": "#%%\n"
    }
   },
   "outputs": [
    {
     "data": {
      "text/plain": [
       "10.371024907309621"
      ]
     },
     "execution_count": 119,
     "metadata": {},
     "output_type": "execute_result"
    }
   ],
   "source": [
    "col_maxc12pz = p12_avg1pz.max(axis=0)\n",
    "col_maxc12pz"
   ]
  },
  {
   "cell_type": "code",
   "execution_count": 120,
   "id": "0fe63fe7",
   "metadata": {
    "pycharm": {
     "name": "#%%\n"
    }
   },
   "outputs": [
    {
     "data": {
      "text/plain": [
       "11.610332557736806"
      ]
     },
     "execution_count": 120,
     "metadata": {},
     "output_type": "execute_result"
    }
   ],
   "source": [
    "col_maxin12pz = p12_avg2pz.max(axis=0)\n",
    "col_maxin12pz"
   ]
  },
  {
   "cell_type": "code",
   "execution_count": null,
   "id": "14f96cbb",
   "metadata": {
    "pycharm": {
     "name": "#%%\n"
    }
   },
   "outputs": [],
   "source": [
    "plt.figure()\n",
    "plt.plot(p12_avg1cz, color = \"blue\")\n",
    "plt.plot(p12_avg2cz, color = \"red\")\n",
    "plt.show()"
   ]
  },
  {
   "cell_type": "code",
   "execution_count": 121,
   "id": "443854b0",
   "metadata": {
    "pycharm": {
     "name": "#%%\n"
    }
   },
   "outputs": [
    {
     "data": {
      "text/plain": [
       "5.461530881483741"
      ]
     },
     "execution_count": 121,
     "metadata": {},
     "output_type": "execute_result"
    }
   ],
   "source": [
    "col_maxc12cz = p12_avg1cz.max(axis=0)\n",
    "col_maxc12cz"
   ]
  },
  {
   "cell_type": "code",
   "execution_count": 122,
   "id": "5bd386da",
   "metadata": {
    "pycharm": {
     "name": "#%%\n"
    }
   },
   "outputs": [
    {
     "data": {
      "text/plain": [
       "6.902361789514624"
      ]
     },
     "execution_count": 122,
     "metadata": {},
     "output_type": "execute_result"
    }
   ],
   "source": [
    "col_maxin12cz = p12_avg2cz.max(axis=0)\n",
    "col_maxin12cz"
   ]
  },
  {
   "cell_type": "code",
   "execution_count": null,
   "id": "c5c517b8",
   "metadata": {
    "pycharm": {
     "name": "#%%\n"
    }
   },
   "outputs": [],
   "source": [
    "plt.figure()\n",
    "plt.plot(p12_avg1oz, color = \"blue\")\n",
    "plt.plot(p12_avg2oz, color = \"red\")\n",
    "plt.show()"
   ]
  },
  {
   "cell_type": "code",
   "execution_count": 123,
   "id": "9a64ddd2",
   "metadata": {
    "pycharm": {
     "name": "#%%\n"
    }
   },
   "outputs": [
    {
     "data": {
      "text/plain": [
       "12.1341787261474"
      ]
     },
     "execution_count": 123,
     "metadata": {},
     "output_type": "execute_result"
    }
   ],
   "source": [
    "col_maxc12oz = p12_avg1oz.max(axis=0)\n",
    "col_maxc12oz"
   ]
  },
  {
   "cell_type": "code",
   "execution_count": 124,
   "id": "eb8dcf26",
   "metadata": {
    "pycharm": {
     "name": "#%%\n"
    }
   },
   "outputs": [
    {
     "data": {
      "text/plain": [
       "14.957397928409662"
      ]
     },
     "execution_count": 124,
     "metadata": {},
     "output_type": "execute_result"
    }
   ],
   "source": [
    "col_maxin12oz = p12_avg2oz.max(axis=0)\n",
    "col_maxin12oz"
   ]
  },
  {
   "cell_type": "code",
   "execution_count": 125,
   "id": "f8684e1c",
   "metadata": {
    "pycharm": {
     "name": "#%%\n"
    }
   },
   "outputs": [
    {
     "data": {
      "text/html": [
       "<div>\n",
       "<style scoped>\n",
       "    .dataframe tbody tr th:only-of-type {\n",
       "        vertical-align: middle;\n",
       "    }\n",
       "\n",
       "    .dataframe tbody tr th {\n",
       "        vertical-align: top;\n",
       "    }\n",
       "\n",
       "    .dataframe thead th {\n",
       "        text-align: right;\n",
       "    }\n",
       "</style>\n",
       "<table border=\"1\" class=\"dataframe\">\n",
       "  <thead>\n",
       "    <tr style=\"text-align: right;\">\n",
       "      <th></th>\n",
       "      <th>pnumber</th>\n",
       "      <th>fp1</th>\n",
       "      <th>pz</th>\n",
       "      <th>cz</th>\n",
       "      <th>oz</th>\n",
       "    </tr>\n",
       "  </thead>\n",
       "  <tbody>\n",
       "    <tr>\n",
       "      <th>0</th>\n",
       "      <td>12cong</td>\n",
       "      <td>2.264841</td>\n",
       "      <td>10.371025</td>\n",
       "      <td>5.461531</td>\n",
       "      <td>12.134179</td>\n",
       "    </tr>\n",
       "    <tr>\n",
       "      <th>1</th>\n",
       "      <td>12incong</td>\n",
       "      <td>0.733412</td>\n",
       "      <td>11.610333</td>\n",
       "      <td>6.902362</td>\n",
       "      <td>14.957398</td>\n",
       "    </tr>\n",
       "  </tbody>\n",
       "</table>\n",
       "</div>"
      ],
      "text/plain": [
       "    pnumber       fp1         pz        cz         oz\n",
       "0    12cong  2.264841  10.371025  5.461531  12.134179\n",
       "1  12incong  0.733412  11.610333  6.902362  14.957398"
      ]
     },
     "execution_count": 125,
     "metadata": {},
     "output_type": "execute_result"
    }
   ],
   "source": [
    "data12 = pd.DataFrame({'pnumber' : ['12cong', '12incong'],\n",
    "       'fp1' : [col_maxc12fp1, col_maxin12fp1],\n",
    "        'pz' : [col_maxc12pz, col_maxin12pz],\n",
    "        'cz' : [col_maxc12cz, col_maxin12cz],\n",
    "        'oz' : [col_maxc12oz, col_maxin12oz]\n",
    "        })\n",
    "\n",
    "df12 = pd.DataFrame(data=data12)\n",
    "df12.head()"
   ]
  },
  {
   "cell_type": "code",
   "execution_count": 126,
   "id": "f7db142e",
   "metadata": {
    "pycharm": {
     "name": "#%%\n"
    }
   },
   "outputs": [
    {
     "data": {
      "text/html": [
       "<div>\n",
       "<style scoped>\n",
       "    .dataframe tbody tr th:only-of-type {\n",
       "        vertical-align: middle;\n",
       "    }\n",
       "\n",
       "    .dataframe tbody tr th {\n",
       "        vertical-align: top;\n",
       "    }\n",
       "\n",
       "    .dataframe thead th {\n",
       "        text-align: right;\n",
       "    }\n",
       "</style>\n",
       "<table border=\"1\" class=\"dataframe\">\n",
       "  <thead>\n",
       "    <tr style=\"text-align: right;\">\n",
       "      <th></th>\n",
       "      <th>pnumber</th>\n",
       "      <th>fp1</th>\n",
       "      <th>pz</th>\n",
       "      <th>cz</th>\n",
       "      <th>oz</th>\n",
       "    </tr>\n",
       "  </thead>\n",
       "  <tbody>\n",
       "    <tr>\n",
       "      <th>0</th>\n",
       "      <td>1cong</td>\n",
       "      <td>13.816930</td>\n",
       "      <td>14.018267</td>\n",
       "      <td>15.386464</td>\n",
       "      <td>11.463013</td>\n",
       "    </tr>\n",
       "    <tr>\n",
       "      <th>1</th>\n",
       "      <td>1incong</td>\n",
       "      <td>8.925796</td>\n",
       "      <td>10.743274</td>\n",
       "      <td>10.827896</td>\n",
       "      <td>10.688902</td>\n",
       "    </tr>\n",
       "    <tr>\n",
       "      <th>2</th>\n",
       "      <td>2cong</td>\n",
       "      <td>6.663928</td>\n",
       "      <td>7.175555</td>\n",
       "      <td>6.175287</td>\n",
       "      <td>2.263753</td>\n",
       "    </tr>\n",
       "    <tr>\n",
       "      <th>3</th>\n",
       "      <td>2incong</td>\n",
       "      <td>11.249594</td>\n",
       "      <td>7.997137</td>\n",
       "      <td>5.500814</td>\n",
       "      <td>2.667403</td>\n",
       "    </tr>\n",
       "    <tr>\n",
       "      <th>4</th>\n",
       "      <td>3cong</td>\n",
       "      <td>7.226672</td>\n",
       "      <td>11.081849</td>\n",
       "      <td>5.796564</td>\n",
       "      <td>15.944927</td>\n",
       "    </tr>\n",
       "    <tr>\n",
       "      <th>5</th>\n",
       "      <td>3incong</td>\n",
       "      <td>5.943961</td>\n",
       "      <td>6.752050</td>\n",
       "      <td>2.322867</td>\n",
       "      <td>15.874006</td>\n",
       "    </tr>\n",
       "    <tr>\n",
       "      <th>6</th>\n",
       "      <td>4cong</td>\n",
       "      <td>7.304756</td>\n",
       "      <td>12.558059</td>\n",
       "      <td>6.859345</td>\n",
       "      <td>9.204168</td>\n",
       "    </tr>\n",
       "    <tr>\n",
       "      <th>7</th>\n",
       "      <td>4incong</td>\n",
       "      <td>2.163967</td>\n",
       "      <td>17.764220</td>\n",
       "      <td>12.130491</td>\n",
       "      <td>8.581689</td>\n",
       "    </tr>\n",
       "    <tr>\n",
       "      <th>8</th>\n",
       "      <td>5cong</td>\n",
       "      <td>2.861294</td>\n",
       "      <td>13.552890</td>\n",
       "      <td>6.967180</td>\n",
       "      <td>13.128479</td>\n",
       "    </tr>\n",
       "    <tr>\n",
       "      <th>9</th>\n",
       "      <td>5incong</td>\n",
       "      <td>1.128921</td>\n",
       "      <td>11.674442</td>\n",
       "      <td>6.757029</td>\n",
       "      <td>11.188299</td>\n",
       "    </tr>\n",
       "    <tr>\n",
       "      <th>10</th>\n",
       "      <td>6cong</td>\n",
       "      <td>4.214745</td>\n",
       "      <td>4.289962</td>\n",
       "      <td>4.936980</td>\n",
       "      <td>11.670329</td>\n",
       "    </tr>\n",
       "    <tr>\n",
       "      <th>11</th>\n",
       "      <td>6incong</td>\n",
       "      <td>4.727759</td>\n",
       "      <td>3.488388</td>\n",
       "      <td>5.117213</td>\n",
       "      <td>12.057481</td>\n",
       "    </tr>\n",
       "    <tr>\n",
       "      <th>12</th>\n",
       "      <td>7cong</td>\n",
       "      <td>10.190780</td>\n",
       "      <td>14.725433</td>\n",
       "      <td>7.607219</td>\n",
       "      <td>11.500837</td>\n",
       "    </tr>\n",
       "    <tr>\n",
       "      <th>13</th>\n",
       "      <td>7incong</td>\n",
       "      <td>12.695022</td>\n",
       "      <td>15.403277</td>\n",
       "      <td>11.495857</td>\n",
       "      <td>12.750446</td>\n",
       "    </tr>\n",
       "    <tr>\n",
       "      <th>14</th>\n",
       "      <td>8cong</td>\n",
       "      <td>10.795593</td>\n",
       "      <td>25.294904</td>\n",
       "      <td>25.444187</td>\n",
       "      <td>16.618227</td>\n",
       "    </tr>\n",
       "    <tr>\n",
       "      <th>15</th>\n",
       "      <td>8incong</td>\n",
       "      <td>5.355542</td>\n",
       "      <td>24.324399</td>\n",
       "      <td>25.071492</td>\n",
       "      <td>15.503192</td>\n",
       "    </tr>\n",
       "    <tr>\n",
       "      <th>16</th>\n",
       "      <td>9cong</td>\n",
       "      <td>7.293103</td>\n",
       "      <td>11.554655</td>\n",
       "      <td>11.034864</td>\n",
       "      <td>11.719507</td>\n",
       "    </tr>\n",
       "    <tr>\n",
       "      <th>17</th>\n",
       "      <td>9incong</td>\n",
       "      <td>10.034466</td>\n",
       "      <td>12.870482</td>\n",
       "      <td>12.039418</td>\n",
       "      <td>11.132754</td>\n",
       "    </tr>\n",
       "    <tr>\n",
       "      <th>18</th>\n",
       "      <td>11cong</td>\n",
       "      <td>1.284769</td>\n",
       "      <td>5.745492</td>\n",
       "      <td>5.570833</td>\n",
       "      <td>8.514448</td>\n",
       "    </tr>\n",
       "    <tr>\n",
       "      <th>19</th>\n",
       "      <td>11incong</td>\n",
       "      <td>1.352803</td>\n",
       "      <td>2.281889</td>\n",
       "      <td>1.416119</td>\n",
       "      <td>8.421806</td>\n",
       "    </tr>\n",
       "    <tr>\n",
       "      <th>20</th>\n",
       "      <td>12cong</td>\n",
       "      <td>2.264841</td>\n",
       "      <td>10.371025</td>\n",
       "      <td>5.461531</td>\n",
       "      <td>12.134179</td>\n",
       "    </tr>\n",
       "    <tr>\n",
       "      <th>21</th>\n",
       "      <td>12incong</td>\n",
       "      <td>0.733412</td>\n",
       "      <td>11.610333</td>\n",
       "      <td>6.902362</td>\n",
       "      <td>14.957398</td>\n",
       "    </tr>\n",
       "  </tbody>\n",
       "</table>\n",
       "</div>"
      ],
      "text/plain": [
       "     pnumber        fp1         pz         cz         oz\n",
       "0      1cong  13.816930  14.018267  15.386464  11.463013\n",
       "1    1incong   8.925796  10.743274  10.827896  10.688902\n",
       "2      2cong   6.663928   7.175555   6.175287   2.263753\n",
       "3    2incong  11.249594   7.997137   5.500814   2.667403\n",
       "4      3cong   7.226672  11.081849   5.796564  15.944927\n",
       "5    3incong   5.943961   6.752050   2.322867  15.874006\n",
       "6      4cong   7.304756  12.558059   6.859345   9.204168\n",
       "7    4incong   2.163967  17.764220  12.130491   8.581689\n",
       "8      5cong   2.861294  13.552890   6.967180  13.128479\n",
       "9    5incong   1.128921  11.674442   6.757029  11.188299\n",
       "10     6cong   4.214745   4.289962   4.936980  11.670329\n",
       "11   6incong   4.727759   3.488388   5.117213  12.057481\n",
       "12     7cong  10.190780  14.725433   7.607219  11.500837\n",
       "13   7incong  12.695022  15.403277  11.495857  12.750446\n",
       "14     8cong  10.795593  25.294904  25.444187  16.618227\n",
       "15   8incong   5.355542  24.324399  25.071492  15.503192\n",
       "16     9cong   7.293103  11.554655  11.034864  11.719507\n",
       "17   9incong  10.034466  12.870482  12.039418  11.132754\n",
       "18    11cong   1.284769   5.745492   5.570833   8.514448\n",
       "19  11incong   1.352803   2.281889   1.416119   8.421806\n",
       "20    12cong   2.264841  10.371025   5.461531  12.134179\n",
       "21  12incong   0.733412  11.610333   6.902362  14.957398"
      ]
     },
     "execution_count": 126,
     "metadata": {},
     "output_type": "execute_result"
    }
   ],
   "source": [
    "dataD = pd.concat([data1, data2, data3, data4, data5, data6, data7, data8, data9, data11, data12], axis=0, ignore_index=True)\n",
    "dfD = pd.DataFrame(data=dataD)\n",
    "dfD"
   ]
  },
  {
   "cell_type": "markdown",
   "id": "5036564d",
   "metadata": {
    "pycharm": {
     "name": "#%% md\n"
    }
   },
   "source": [
    "######################Participant 13###########"
   ]
  },
  {
   "cell_type": "code",
   "execution_count": 127,
   "id": "a4e3edee",
   "metadata": {
    "pycharm": {
     "name": "#%%\n"
    }
   },
   "outputs": [
    {
     "name": "stdout",
     "output_type": "stream",
     "text": [
      "Reading C:\\Users\\mtu10\\PycharmProjects\\project1\\P13_fp-epo.fif ...\n",
      "    Found the data of interest:\n",
      "        t =     -60.00 ...    1000.00 ms\n",
      "        0 CTF compensation matrices available\n",
      "Not setting metadata\n",
      "237 matching events found\n",
      "No baseline correction applied\n",
      "0 projection items activated\n",
      "(94, 31, 1061)\n",
      "(99, 31, 1061)\n",
      "Reading C:\\Users\\mtu10\\PycharmProjects\\project1\\P13_fp-epo.fif ...\n",
      "    Found the data of interest:\n",
      "        t =     -60.00 ...    1000.00 ms\n",
      "        0 CTF compensation matrices available\n",
      "Not setting metadata\n",
      "237 matching events found\n",
      "No baseline correction applied\n",
      "0 projection items activated\n",
      "(1061,)\n",
      "(1061,)\n",
      "(1061,)\n",
      "(1061,)\n",
      "(1061,)\n",
      "(1061,)\n",
      "(1061,)\n",
      "(1061,)\n"
     ]
    }
   ],
   "source": [
    "path_to_file13 = \"P13_fp-epo.fif\"\n",
    "p13_data = mne.read_epochs(path_to_file13, proj=True, preload=True, verbose=None)\n",
    "p13_cong = p13_data[\"fp_congruent\"].get_data() * 1e6\n",
    "print(p13_cong.shape)\n",
    "p13_incong = p13_data[\"fp_incongruent\"].get_data() * 1e6\n",
    "print(p13_incong.shape)\n",
    "epochs13 = mne.read_epochs(path_to_file13, proj=True, preload=True, verbose=None)\n",
    "#\n",
    "ch_names13 = epochs11.info[\"ch_names\"]\n",
    "ch_idx131 = ch_names.index(\"Fp1\") #Pz, Cz, Oz\n",
    "ch_idx132 = ch_names.index(\"Pz\")\n",
    "ch_idx133 = ch_names.index(\"Cz\")\n",
    "ch_idx134 = ch_names.index(\"Oz\")\n",
    "\n",
    "p13_avg1fp1 = np.mean(p13_cong[:,ch_idx131,:],axis=0)\n",
    "p13_avg1pz = np.mean(p13_cong[:,ch_idx132,:],axis=0)\n",
    "p13_avg1cz = np.mean(p13_cong[:,ch_idx133,:],axis=0)\n",
    "p13_avg1oz = np.mean(p13_cong[:,ch_idx134,:],axis=0)\n",
    "print(p13_avg1fp1.shape)\n",
    "print(p13_avg1pz.shape)\n",
    "print(p13_avg1cz.shape)\n",
    "print(p13_avg1oz.shape)\n",
    "#\n",
    "p13_avg2fp1 = np.mean(p13_incong[:, ch_idx131, :], axis=0)\n",
    "p13_avg2pz = np.mean(p13_incong[:,ch_idx132,:],axis=0)\n",
    "p13_avg2cz = np.mean(p13_incong[:,ch_idx133,:],axis=0)\n",
    "p13_avg2oz = np.mean(p13_incong[:,ch_idx134,:],axis=0)\n",
    "print(p13_avg2fp1.shape)\n",
    "print(p13_avg2pz.shape)\n",
    "print(p13_avg2cz.shape)\n",
    "print(p13_avg2oz.shape)\n",
    "\n"
   ]
  },
  {
   "cell_type": "code",
   "execution_count": null,
   "id": "8a87427a",
   "metadata": {
    "pycharm": {
     "name": "#%%\n"
    }
   },
   "outputs": [],
   "source": [
    "plt.figure()\n",
    "plt.plot(p13_avg1fp1, color = \"blue\")\n",
    "plt.plot(p13_avg2fp1, color = \"red\")\n",
    "plt.show()"
   ]
  },
  {
   "cell_type": "code",
   "execution_count": 128,
   "id": "654364d9",
   "metadata": {
    "pycharm": {
     "name": "#%%\n"
    }
   },
   "outputs": [
    {
     "data": {
      "text/plain": [
       "32.83191576463019"
      ]
     },
     "execution_count": 128,
     "metadata": {},
     "output_type": "execute_result"
    }
   ],
   "source": [
    "col_maxc13fp1 = p13_avg1fp1.max(axis=0)\n",
    "col_maxc13fp1"
   ]
  },
  {
   "cell_type": "code",
   "execution_count": 129,
   "id": "4517f6ab",
   "metadata": {
    "pycharm": {
     "name": "#%%\n"
    }
   },
   "outputs": [
    {
     "data": {
      "text/plain": [
       "26.086737314421985"
      ]
     },
     "execution_count": 129,
     "metadata": {},
     "output_type": "execute_result"
    }
   ],
   "source": [
    "col_maxin13fp1 = p13_avg2fp1.max(axis=0)\n",
    "col_maxin13fp1"
   ]
  },
  {
   "cell_type": "code",
   "execution_count": null,
   "id": "c46d5288",
   "metadata": {
    "pycharm": {
     "name": "#%%\n"
    }
   },
   "outputs": [],
   "source": [
    "plt.figure()\n",
    "plt.plot(p13_avg1pz, color=\"blue\")\n",
    "plt.plot(p13_avg2pz, color=\"red\")\n",
    "plt.show()"
   ]
  },
  {
   "cell_type": "code",
   "execution_count": 130,
   "id": "4b5e9771",
   "metadata": {
    "pycharm": {
     "name": "#%%\n"
    }
   },
   "outputs": [
    {
     "data": {
      "text/plain": [
       "17.68220540529723"
      ]
     },
     "execution_count": 130,
     "metadata": {},
     "output_type": "execute_result"
    }
   ],
   "source": [
    "col_maxc13pz = p13_avg1pz.max(axis=0)\n",
    "col_maxc13pz"
   ]
  },
  {
   "cell_type": "code",
   "execution_count": 131,
   "id": "52ce8a9c",
   "metadata": {
    "pycharm": {
     "name": "#%%\n"
    }
   },
   "outputs": [
    {
     "data": {
      "text/plain": [
       "16.909061000159504"
      ]
     },
     "execution_count": 131,
     "metadata": {},
     "output_type": "execute_result"
    }
   ],
   "source": [
    "col_maxin13pz = p13_avg2pz.max(axis=0)\n",
    "col_maxin13pz"
   ]
  },
  {
   "cell_type": "code",
   "execution_count": null,
   "id": "6d37a143",
   "metadata": {
    "pycharm": {
     "name": "#%%\n"
    }
   },
   "outputs": [],
   "source": [
    "plt.figure()\n",
    "plt.plot(p13_avg1cz, color=\"blue\")\n",
    "plt.plot(p13_avg2cz, color=\"red\")\n",
    "plt.show()"
   ]
  },
  {
   "cell_type": "code",
   "execution_count": 132,
   "id": "1c9a83fc",
   "metadata": {
    "pycharm": {
     "name": "#%%\n"
    }
   },
   "outputs": [
    {
     "data": {
      "text/plain": [
       "14.242643314190728"
      ]
     },
     "execution_count": 132,
     "metadata": {},
     "output_type": "execute_result"
    }
   ],
   "source": [
    "col_maxc13cz = p13_avg1cz.max(axis=0)\n",
    "col_maxc13cz"
   ]
  },
  {
   "cell_type": "code",
   "execution_count": 133,
   "id": "e9c636cb",
   "metadata": {
    "pycharm": {
     "name": "#%%\n"
    }
   },
   "outputs": [
    {
     "data": {
      "text/plain": [
       "14.716883800316731"
      ]
     },
     "execution_count": 133,
     "metadata": {},
     "output_type": "execute_result"
    }
   ],
   "source": [
    "col_maxin13cz = p13_avg2cz.max(axis=0)\n",
    "col_maxin13cz"
   ]
  },
  {
   "cell_type": "code",
   "execution_count": null,
   "id": "03f83dd5",
   "metadata": {
    "pycharm": {
     "name": "#%%\n"
    }
   },
   "outputs": [],
   "source": [
    "plt.figure()\n",
    "plt.plot(p13_avg1oz, color=\"blue\")\n",
    "plt.plot(p13_avg2oz, color=\"red\")\n",
    "plt.show()"
   ]
  },
  {
   "cell_type": "code",
   "execution_count": 134,
   "id": "aa361cd5",
   "metadata": {
    "pycharm": {
     "name": "#%%\n"
    }
   },
   "outputs": [
    {
     "data": {
      "text/plain": [
       "6.360357751127433"
      ]
     },
     "execution_count": 134,
     "metadata": {},
     "output_type": "execute_result"
    }
   ],
   "source": [
    "col_maxc13oz = p13_avg1oz.max(axis=0)\n",
    "col_maxc13oz"
   ]
  },
  {
   "cell_type": "code",
   "execution_count": 135,
   "id": "03fa17ef",
   "metadata": {
    "pycharm": {
     "name": "#%%\n"
    }
   },
   "outputs": [
    {
     "data": {
      "text/plain": [
       "7.1725826708170635"
      ]
     },
     "execution_count": 135,
     "metadata": {},
     "output_type": "execute_result"
    }
   ],
   "source": [
    "col_maxin13oz = p13_avg2oz.max(axis=0)\n",
    "col_maxin13oz"
   ]
  },
  {
   "cell_type": "code",
   "execution_count": 136,
   "id": "da621bd7",
   "metadata": {
    "pycharm": {
     "name": "#%%\n"
    }
   },
   "outputs": [
    {
     "data": {
      "text/html": [
       "<div>\n",
       "<style scoped>\n",
       "    .dataframe tbody tr th:only-of-type {\n",
       "        vertical-align: middle;\n",
       "    }\n",
       "\n",
       "    .dataframe tbody tr th {\n",
       "        vertical-align: top;\n",
       "    }\n",
       "\n",
       "    .dataframe thead th {\n",
       "        text-align: right;\n",
       "    }\n",
       "</style>\n",
       "<table border=\"1\" class=\"dataframe\">\n",
       "  <thead>\n",
       "    <tr style=\"text-align: right;\">\n",
       "      <th></th>\n",
       "      <th>pnumber</th>\n",
       "      <th>fp1</th>\n",
       "      <th>pz</th>\n",
       "      <th>cz</th>\n",
       "      <th>oz</th>\n",
       "    </tr>\n",
       "  </thead>\n",
       "  <tbody>\n",
       "    <tr>\n",
       "      <th>0</th>\n",
       "      <td>13cong</td>\n",
       "      <td>32.831916</td>\n",
       "      <td>17.682205</td>\n",
       "      <td>14.242643</td>\n",
       "      <td>6.360358</td>\n",
       "    </tr>\n",
       "    <tr>\n",
       "      <th>1</th>\n",
       "      <td>13incong</td>\n",
       "      <td>26.086737</td>\n",
       "      <td>16.909061</td>\n",
       "      <td>14.716884</td>\n",
       "      <td>7.172583</td>\n",
       "    </tr>\n",
       "  </tbody>\n",
       "</table>\n",
       "</div>"
      ],
      "text/plain": [
       "    pnumber        fp1         pz         cz        oz\n",
       "0    13cong  32.831916  17.682205  14.242643  6.360358\n",
       "1  13incong  26.086737  16.909061  14.716884  7.172583"
      ]
     },
     "execution_count": 136,
     "metadata": {},
     "output_type": "execute_result"
    }
   ],
   "source": [
    "data13 = pd.DataFrame({'pnumber' : ['13cong', '13incong'],\n",
    "       'fp1' : [col_maxc13fp1, col_maxin13fp1],\n",
    "        'pz' : [col_maxc13pz, col_maxin13pz],\n",
    "        'cz' : [col_maxc13cz, col_maxin13cz],\n",
    "        'oz' : [col_maxc13oz, col_maxin13oz]\n",
    "        })\n",
    "\n",
    "df13 = pd.DataFrame(data=data13)\n",
    "df13.head()"
   ]
  },
  {
   "cell_type": "markdown",
   "id": "02f5c2b9",
   "metadata": {
    "pycharm": {
     "name": "#%% md\n"
    }
   },
   "source": [
    "################Participant 15#####################"
   ]
  },
  {
   "cell_type": "code",
   "execution_count": 137,
   "id": "81449f99",
   "metadata": {
    "pycharm": {
     "name": "#%%\n"
    }
   },
   "outputs": [
    {
     "name": "stdout",
     "output_type": "stream",
     "text": [
      "Reading C:\\Users\\mtu10\\PycharmProjects\\project1\\P15_fp-epo.fif ...\n",
      "    Found the data of interest:\n",
      "        t =     -60.00 ...    1000.00 ms\n",
      "        0 CTF compensation matrices available\n",
      "Not setting metadata\n",
      "68 matching events found\n",
      "No baseline correction applied\n",
      "0 projection items activated\n",
      "(24, 31, 1061)\n",
      "(26, 31, 1061)\n",
      "Reading C:\\Users\\mtu10\\PycharmProjects\\project1\\P15_fp-epo.fif ...\n",
      "    Found the data of interest:\n",
      "        t =     -60.00 ...    1000.00 ms\n",
      "        0 CTF compensation matrices available\n",
      "Not setting metadata\n",
      "68 matching events found\n",
      "No baseline correction applied\n",
      "0 projection items activated\n",
      "(1061,)\n",
      "(1061,)\n",
      "(1061,)\n",
      "(1061,)\n",
      "(1061,)\n",
      "(1061,)\n",
      "(1061,)\n",
      "(1061,)\n"
     ]
    }
   ],
   "source": [
    "path_to_file15 = \"P15_fp-epo.fif\"\n",
    "p15_data = mne.read_epochs(path_to_file15, proj=True, preload=True, verbose=None)\n",
    "p15_cong = p15_data[\"fp_congruent\"].get_data() * 1e6\n",
    "print(p15_cong.shape)\n",
    "p15_incong = p15_data[\"fp_incongruent\"].get_data() * 1e6\n",
    "print(p15_incong.shape)\n",
    "epochs15 = mne.read_epochs(path_to_file15, proj=True, preload=True, verbose=None)\n",
    "#\n",
    "ch_names15 = epochs15.info[\"ch_names\"]\n",
    "ch_idx151 = ch_names.index(\"Fp1\") #Pz, Cz, Oz\n",
    "ch_idx152 = ch_names.index(\"Pz\")\n",
    "ch_idx153 = ch_names.index(\"Cz\")\n",
    "ch_idx154 = ch_names.index(\"Oz\")\n",
    "\n",
    "p15_avg1fp1 = np.mean(p15_cong[:,ch_idx151,:],axis=0)\n",
    "p15_avg1pz = np.mean(p15_cong[:,ch_idx152,:],axis=0)\n",
    "p15_avg1cz = np.mean(p15_cong[:,ch_idx153,:],axis=0)\n",
    "p15_avg1oz = np.mean(p15_cong[:,ch_idx154,:],axis=0)\n",
    "print(p15_avg1fp1.shape)\n",
    "print(p15_avg1pz.shape)\n",
    "print(p15_avg1cz.shape)\n",
    "print(p15_avg1oz.shape)\n",
    "#\n",
    "p15_avg2fp1 = np.mean(p15_incong[:, ch_idx151, :], axis=0)\n",
    "p15_avg2pz = np.mean(p15_incong[:,ch_idx152,:],axis=0)\n",
    "p15_avg2cz = np.mean(p15_incong[:,ch_idx153,:],axis=0)\n",
    "p15_avg2oz = np.mean(p15_incong[:,ch_idx154,:],axis=0)\n",
    "print(p15_avg2fp1.shape)\n",
    "print(p15_avg2pz.shape)\n",
    "print(p15_avg2cz.shape)\n",
    "print(p15_avg2oz.shape)\n",
    "\n",
    "\n"
   ]
  },
  {
   "cell_type": "code",
   "execution_count": null,
   "id": "fd13ae3e",
   "metadata": {
    "pycharm": {
     "name": "#%%\n"
    }
   },
   "outputs": [],
   "source": [
    "plt.figure()\n",
    "plt.plot(p15_avg1fp1, color=\"blue\")\n",
    "plt.plot(p15_avg2fp1, color=\"red\")\n",
    "plt.show()"
   ]
  },
  {
   "cell_type": "code",
   "execution_count": 138,
   "id": "fa5ffe0c",
   "metadata": {
    "pycharm": {
     "name": "#%%\n"
    }
   },
   "outputs": [
    {
     "data": {
      "text/plain": [
       "12.232413310899263"
      ]
     },
     "execution_count": 138,
     "metadata": {},
     "output_type": "execute_result"
    }
   ],
   "source": [
    "col_maxc15fp1 = p15_avg1fp1.max(axis=0)\n",
    "col_maxc15fp1"
   ]
  },
  {
   "cell_type": "code",
   "execution_count": 139,
   "id": "e58d375f",
   "metadata": {
    "pycharm": {
     "name": "#%%\n"
    }
   },
   "outputs": [
    {
     "data": {
      "text/plain": [
       "8.34070543585496"
      ]
     },
     "execution_count": 139,
     "metadata": {},
     "output_type": "execute_result"
    }
   ],
   "source": [
    "col_maxin15fp1 = p15_avg2fp1.max(axis=0)\n",
    "col_maxin15fp1"
   ]
  },
  {
   "cell_type": "code",
   "execution_count": null,
   "id": "a6797f3e",
   "metadata": {
    "pycharm": {
     "name": "#%%\n"
    }
   },
   "outputs": [],
   "source": [
    "plt.figure()\n",
    "plt.plot(p15_avg1pz, color=\"blue\")\n",
    "plt.plot(p15_avg2pz, color=\"red\")\n",
    "plt.show()"
   ]
  },
  {
   "cell_type": "code",
   "execution_count": 140,
   "id": "7bac79c6",
   "metadata": {
    "pycharm": {
     "name": "#%%\n"
    }
   },
   "outputs": [
    {
     "data": {
      "text/plain": [
       "12.652584550791678"
      ]
     },
     "execution_count": 140,
     "metadata": {},
     "output_type": "execute_result"
    }
   ],
   "source": [
    "col_maxc15pz = p15_avg1pz.max(axis=0)\n",
    "col_maxc15pz"
   ]
  },
  {
   "cell_type": "code",
   "execution_count": 141,
   "id": "b7692ee8",
   "metadata": {
    "pycharm": {
     "name": "#%%\n"
    }
   },
   "outputs": [
    {
     "data": {
      "text/plain": [
       "11.61770133420121"
      ]
     },
     "execution_count": 141,
     "metadata": {},
     "output_type": "execute_result"
    }
   ],
   "source": [
    "col_maxin15pz = p15_avg2pz.max(axis=0)\n",
    "col_maxin15pz"
   ]
  },
  {
   "cell_type": "code",
   "execution_count": null,
   "id": "0da1f9cc",
   "metadata": {
    "pycharm": {
     "name": "#%%\n"
    }
   },
   "outputs": [],
   "source": [
    "plt.figure()\n",
    "plt.plot(p15_avg1cz, color=\"blue\")\n",
    "plt.plot(p15_avg2cz, color=\"red\")\n",
    "plt.show()"
   ]
  },
  {
   "cell_type": "code",
   "execution_count": 142,
   "id": "e5094fc8",
   "metadata": {
    "pycharm": {
     "name": "#%%\n"
    }
   },
   "outputs": [
    {
     "data": {
      "text/plain": [
       "8.172595163964393"
      ]
     },
     "execution_count": 142,
     "metadata": {},
     "output_type": "execute_result"
    }
   ],
   "source": [
    "col_maxc15cz = p15_avg1cz.max(axis=0)\n",
    "col_maxc15cz"
   ]
  },
  {
   "cell_type": "code",
   "execution_count": 143,
   "id": "4225251c",
   "metadata": {
    "pycharm": {
     "name": "#%%\n"
    }
   },
   "outputs": [
    {
     "data": {
      "text/plain": [
       "7.434075193998323"
      ]
     },
     "execution_count": 143,
     "metadata": {},
     "output_type": "execute_result"
    }
   ],
   "source": [
    "col_maxin15cz = p15_avg2cz.max(axis=0)\n",
    "col_maxin15cz"
   ]
  },
  {
   "cell_type": "code",
   "execution_count": null,
   "id": "1ab3aea9",
   "metadata": {
    "pycharm": {
     "name": "#%%\n"
    }
   },
   "outputs": [],
   "source": [
    "plt.figure()\n",
    "plt.plot(p15_avg1oz, color=\"blue\")\n",
    "plt.plot(p15_avg2oz, color=\"red\")\n",
    "plt.show()"
   ]
  },
  {
   "cell_type": "code",
   "execution_count": 144,
   "id": "72f552e6",
   "metadata": {
    "pycharm": {
     "name": "#%%\n"
    }
   },
   "outputs": [
    {
     "data": {
      "text/plain": [
       "10.851801242665223"
      ]
     },
     "execution_count": 144,
     "metadata": {},
     "output_type": "execute_result"
    }
   ],
   "source": [
    "col_maxc15oz = p15_avg1oz.max(axis=0)\n",
    "col_maxc15oz"
   ]
  },
  {
   "cell_type": "code",
   "execution_count": 145,
   "id": "5b90a8d8",
   "metadata": {
    "pycharm": {
     "name": "#%%\n"
    }
   },
   "outputs": [
    {
     "data": {
      "text/plain": [
       "8.1997650005809"
      ]
     },
     "execution_count": 145,
     "metadata": {},
     "output_type": "execute_result"
    }
   ],
   "source": [
    "col_maxin15oz = p15_avg2oz.max(axis=0)\n",
    "col_maxin15oz"
   ]
  },
  {
   "cell_type": "code",
   "execution_count": 146,
   "id": "90ecedc9",
   "metadata": {
    "pycharm": {
     "name": "#%%\n"
    }
   },
   "outputs": [
    {
     "data": {
      "text/html": [
       "<div>\n",
       "<style scoped>\n",
       "    .dataframe tbody tr th:only-of-type {\n",
       "        vertical-align: middle;\n",
       "    }\n",
       "\n",
       "    .dataframe tbody tr th {\n",
       "        vertical-align: top;\n",
       "    }\n",
       "\n",
       "    .dataframe thead th {\n",
       "        text-align: right;\n",
       "    }\n",
       "</style>\n",
       "<table border=\"1\" class=\"dataframe\">\n",
       "  <thead>\n",
       "    <tr style=\"text-align: right;\">\n",
       "      <th></th>\n",
       "      <th>pnumber</th>\n",
       "      <th>fp1</th>\n",
       "      <th>pz</th>\n",
       "      <th>cz</th>\n",
       "      <th>oz</th>\n",
       "    </tr>\n",
       "  </thead>\n",
       "  <tbody>\n",
       "    <tr>\n",
       "      <th>0</th>\n",
       "      <td>15cong</td>\n",
       "      <td>12.232413</td>\n",
       "      <td>12.652585</td>\n",
       "      <td>8.172595</td>\n",
       "      <td>10.851801</td>\n",
       "    </tr>\n",
       "    <tr>\n",
       "      <th>1</th>\n",
       "      <td>15incong</td>\n",
       "      <td>8.340705</td>\n",
       "      <td>11.617701</td>\n",
       "      <td>7.434075</td>\n",
       "      <td>8.199765</td>\n",
       "    </tr>\n",
       "  </tbody>\n",
       "</table>\n",
       "</div>"
      ],
      "text/plain": [
       "    pnumber        fp1         pz        cz         oz\n",
       "0    15cong  12.232413  12.652585  8.172595  10.851801\n",
       "1  15incong   8.340705  11.617701  7.434075   8.199765"
      ]
     },
     "execution_count": 146,
     "metadata": {},
     "output_type": "execute_result"
    }
   ],
   "source": [
    "data15 = pd.DataFrame({'pnumber' : ['15cong', '15incong'],\n",
    "       'fp1' : [col_maxc15fp1, col_maxin15fp1],\n",
    "        'pz' : [col_maxc15pz, col_maxin15pz],\n",
    "        'cz' : [col_maxc15cz, col_maxin15cz],\n",
    "        'oz' : [col_maxc15oz, col_maxin15oz]\n",
    "        })\n",
    "\n",
    "df15 = pd.DataFrame(data=data15)\n",
    "df15.head()"
   ]
  },
  {
   "cell_type": "markdown",
   "id": "38a2ba92",
   "metadata": {
    "pycharm": {
     "name": "#%% md\n"
    }
   },
   "source": [
    "#################Participant 18##############"
   ]
  },
  {
   "cell_type": "code",
   "execution_count": 147,
   "id": "7cb92bcc",
   "metadata": {
    "pycharm": {
     "name": "#%%\n"
    }
   },
   "outputs": [
    {
     "name": "stdout",
     "output_type": "stream",
     "text": [
      "Reading C:\\Users\\mtu10\\PycharmProjects\\project1\\P18_fp-epo.fif ...\n",
      "    Found the data of interest:\n",
      "        t =     -60.00 ...    1000.00 ms\n",
      "        0 CTF compensation matrices available\n",
      "Not setting metadata\n",
      "310 matching events found\n",
      "No baseline correction applied\n",
      "0 projection items activated\n",
      "(115, 31, 1061)\n",
      "(133, 31, 1061)\n",
      "Reading C:\\Users\\mtu10\\PycharmProjects\\project1\\P18_fp-epo.fif ...\n",
      "    Found the data of interest:\n",
      "        t =     -60.00 ...    1000.00 ms\n",
      "        0 CTF compensation matrices available\n",
      "Not setting metadata\n",
      "310 matching events found\n",
      "No baseline correction applied\n",
      "0 projection items activated\n",
      "(1061,)\n",
      "(1061,)\n",
      "(1061,)\n",
      "(1061,)\n",
      "(1061,)\n",
      "(1061,)\n",
      "(1061,)\n",
      "(1061,)\n"
     ]
    }
   ],
   "source": [
    "path_to_file18 = \"P18_fp-epo.fif\"\n",
    "p18_data = mne.read_epochs(path_to_file18, proj=True, preload=True, verbose=None)\n",
    "p18_cong = p18_data[\"fp_congruent\"].get_data() * 1e6\n",
    "print(p18_cong.shape)\n",
    "p18_incong = p18_data[\"fp_incongruent\"].get_data() * 1e6\n",
    "print(p18_incong.shape)\n",
    "epochs18 = mne.read_epochs(path_to_file18, proj=True, preload=True, verbose=None)\n",
    "#\n",
    "ch_names18 = epochs18.info[\"ch_names\"]\n",
    "ch_idx181 = ch_names.index(\"Fp1\") #Pz, Cz, Oz\n",
    "ch_idx182 = ch_names.index(\"Pz\")\n",
    "ch_idx183 = ch_names.index(\"Cz\")\n",
    "ch_idx184 = ch_names.index(\"Oz\")\n",
    "\n",
    "p18_avg1fp1 = np.mean(p18_cong[:,ch_idx181,:],axis=0)\n",
    "p18_avg1pz = np.mean(p18_cong[:,ch_idx182,:],axis=0)\n",
    "p18_avg1cz = np.mean(p18_cong[:,ch_idx183,:],axis=0)\n",
    "p18_avg1oz = np.mean(p18_cong[:,ch_idx184,:],axis=0)\n",
    "print(p18_avg1fp1.shape)\n",
    "print(p18_avg1pz.shape)\n",
    "print(p18_avg1cz.shape)\n",
    "print(p18_avg1oz.shape)\n",
    "#\n",
    "p18_avg2fp1 = np.mean(p18_incong[:, ch_idx181, :], axis=0)\n",
    "p18_avg2pz = np.mean(p18_incong[:,ch_idx182,:],axis=0)\n",
    "p18_avg2cz = np.mean(p18_incong[:,ch_idx183,:],axis=0)\n",
    "p18_avg2oz = np.mean(p18_incong[:,ch_idx184,:],axis=0)\n",
    "print(p18_avg2fp1.shape)\n",
    "print(p18_avg2pz.shape)\n",
    "print(p18_avg2cz.shape)\n",
    "print(p18_avg2oz.shape)\n",
    "\n"
   ]
  },
  {
   "cell_type": "code",
   "execution_count": null,
   "id": "f16f2514",
   "metadata": {
    "pycharm": {
     "name": "#%%\n"
    }
   },
   "outputs": [],
   "source": [
    "plt.figure()\n",
    "plt.plot(p18_avg1fp1, color=\"blue\")\n",
    "plt.plot(p18_avg2fp1, color=\"red\")\n",
    "plt.show()"
   ]
  },
  {
   "cell_type": "code",
   "execution_count": 148,
   "id": "2ea68688",
   "metadata": {
    "pycharm": {
     "name": "#%%\n"
    }
   },
   "outputs": [
    {
     "data": {
      "text/plain": [
       "20.167086600809387"
      ]
     },
     "execution_count": 148,
     "metadata": {},
     "output_type": "execute_result"
    }
   ],
   "source": [
    "col_maxc18fp1 = p18_avg1fp1.max(axis=0)\n",
    "col_maxc18fp1"
   ]
  },
  {
   "cell_type": "code",
   "execution_count": 149,
   "id": "92d67e78",
   "metadata": {
    "pycharm": {
     "name": "#%%\n"
    }
   },
   "outputs": [
    {
     "data": {
      "text/plain": [
       "21.343640279559178"
      ]
     },
     "execution_count": 149,
     "metadata": {},
     "output_type": "execute_result"
    }
   ],
   "source": [
    "col_maxin18fp1 = p18_avg2fp1.max(axis=0)\n",
    "col_maxin18fp1"
   ]
  },
  {
   "cell_type": "code",
   "execution_count": null,
   "id": "a071a501",
   "metadata": {
    "pycharm": {
     "name": "#%%\n"
    }
   },
   "outputs": [],
   "source": [
    "plt.figure()\n",
    "plt.plot(p18_avg1pz, color=\"blue\")\n",
    "plt.plot(p18_avg2pz, color=\"red\")\n",
    "plt.show()"
   ]
  },
  {
   "cell_type": "code",
   "execution_count": 150,
   "id": "6505ee58",
   "metadata": {
    "pycharm": {
     "name": "#%%\n"
    }
   },
   "outputs": [
    {
     "data": {
      "text/plain": [
       "10.803244933541306"
      ]
     },
     "execution_count": 150,
     "metadata": {},
     "output_type": "execute_result"
    }
   ],
   "source": [
    "col_maxc18pz = p18_avg1pz.max(axis=0)\n",
    "col_maxc18pz"
   ]
  },
  {
   "cell_type": "code",
   "execution_count": 151,
   "id": "2af07f3a",
   "metadata": {
    "pycharm": {
     "name": "#%%\n"
    }
   },
   "outputs": [
    {
     "data": {
      "text/plain": [
       "13.007528376763767"
      ]
     },
     "execution_count": 151,
     "metadata": {},
     "output_type": "execute_result"
    }
   ],
   "source": [
    "col_maxin18pz = p18_avg2pz.max(axis=0)\n",
    "col_maxin18pz"
   ]
  },
  {
   "cell_type": "code",
   "execution_count": null,
   "id": "93c935b0",
   "metadata": {
    "pycharm": {
     "name": "#%%\n"
    }
   },
   "outputs": [],
   "source": [
    "plt.figure()\n",
    "plt.plot(p18_avg1cz, color=\"blue\")\n",
    "plt.plot(p18_avg2cz, color=\"red\")\n",
    "plt.show()"
   ]
  },
  {
   "cell_type": "code",
   "execution_count": 152,
   "id": "c508206c",
   "metadata": {
    "pycharm": {
     "name": "#%%\n"
    }
   },
   "outputs": [
    {
     "data": {
      "text/plain": [
       "11.714670960951167"
      ]
     },
     "execution_count": 152,
     "metadata": {},
     "output_type": "execute_result"
    }
   ],
   "source": [
    "col_maxc18cz = p18_avg1cz.max(axis=0)\n",
    "col_maxc18cz"
   ]
  },
  {
   "cell_type": "code",
   "execution_count": 153,
   "id": "d70b2d8c",
   "metadata": {
    "pycharm": {
     "name": "#%%\n"
    }
   },
   "outputs": [
    {
     "data": {
      "text/plain": [
       "12.90149564428441"
      ]
     },
     "execution_count": 153,
     "metadata": {},
     "output_type": "execute_result"
    }
   ],
   "source": [
    "col_maxin18cz = p18_avg2cz.max(axis=0)\n",
    "col_maxin18cz"
   ]
  },
  {
   "cell_type": "code",
   "execution_count": null,
   "id": "1bf07048",
   "metadata": {
    "pycharm": {
     "name": "#%%\n"
    }
   },
   "outputs": [],
   "source": [
    "plt.figure()\n",
    "plt.plot(p18_avg1oz, color=\"blue\")\n",
    "plt.plot(p18_avg2oz, color=\"red\")\n",
    "plt.show()"
   ]
  },
  {
   "cell_type": "code",
   "execution_count": 154,
   "id": "4a615673",
   "metadata": {
    "pycharm": {
     "name": "#%%\n"
    }
   },
   "outputs": [
    {
     "data": {
      "text/plain": [
       "4.072917564366648"
      ]
     },
     "execution_count": 154,
     "metadata": {},
     "output_type": "execute_result"
    }
   ],
   "source": [
    "col_maxc18oz = p18_avg1oz.max(axis=0)\n",
    "col_maxc18oz"
   ]
  },
  {
   "cell_type": "code",
   "execution_count": 155,
   "id": "2105057b",
   "metadata": {
    "pycharm": {
     "name": "#%%\n"
    }
   },
   "outputs": [
    {
     "data": {
      "text/plain": [
       "7.523927780348037"
      ]
     },
     "execution_count": 155,
     "metadata": {},
     "output_type": "execute_result"
    }
   ],
   "source": [
    "col_maxin18oz = p18_avg2oz.max(axis=0)\n",
    "col_maxin18oz"
   ]
  },
  {
   "cell_type": "code",
   "execution_count": 156,
   "id": "69a2a1b0",
   "metadata": {
    "pycharm": {
     "name": "#%%\n"
    }
   },
   "outputs": [
    {
     "data": {
      "text/html": [
       "<div>\n",
       "<style scoped>\n",
       "    .dataframe tbody tr th:only-of-type {\n",
       "        vertical-align: middle;\n",
       "    }\n",
       "\n",
       "    .dataframe tbody tr th {\n",
       "        vertical-align: top;\n",
       "    }\n",
       "\n",
       "    .dataframe thead th {\n",
       "        text-align: right;\n",
       "    }\n",
       "</style>\n",
       "<table border=\"1\" class=\"dataframe\">\n",
       "  <thead>\n",
       "    <tr style=\"text-align: right;\">\n",
       "      <th></th>\n",
       "      <th>pnumber</th>\n",
       "      <th>fp1</th>\n",
       "      <th>pz</th>\n",
       "      <th>cz</th>\n",
       "      <th>oz</th>\n",
       "    </tr>\n",
       "  </thead>\n",
       "  <tbody>\n",
       "    <tr>\n",
       "      <th>0</th>\n",
       "      <td>18cong</td>\n",
       "      <td>20.167087</td>\n",
       "      <td>10.803245</td>\n",
       "      <td>11.714671</td>\n",
       "      <td>4.072918</td>\n",
       "    </tr>\n",
       "    <tr>\n",
       "      <th>1</th>\n",
       "      <td>18incong</td>\n",
       "      <td>21.343640</td>\n",
       "      <td>13.007528</td>\n",
       "      <td>12.901496</td>\n",
       "      <td>7.523928</td>\n",
       "    </tr>\n",
       "  </tbody>\n",
       "</table>\n",
       "</div>"
      ],
      "text/plain": [
       "    pnumber        fp1         pz         cz        oz\n",
       "0    18cong  20.167087  10.803245  11.714671  4.072918\n",
       "1  18incong  21.343640  13.007528  12.901496  7.523928"
      ]
     },
     "execution_count": 156,
     "metadata": {},
     "output_type": "execute_result"
    }
   ],
   "source": [
    "data18 = pd.DataFrame({'pnumber' : ['18cong', '18incong'],\n",
    "       'fp1' : [col_maxc18fp1, col_maxin18fp1],\n",
    "        'pz' : [col_maxc18pz, col_maxin18pz],\n",
    "        'cz' : [col_maxc18cz, col_maxin18cz],\n",
    "        'oz' : [col_maxc18oz, col_maxin18oz]\n",
    "        })\n",
    "\n",
    "df18 = pd.DataFrame(data=data18)\n",
    "df18.head()"
   ]
  },
  {
   "cell_type": "markdown",
   "id": "74216a37",
   "metadata": {
    "pycharm": {
     "name": "#%% md\n"
    }
   },
   "source": [
    "###############Participant 19################"
   ]
  },
  {
   "cell_type": "code",
   "execution_count": 157,
   "id": "ac58670e",
   "metadata": {
    "pycharm": {
     "name": "#%%\n"
    }
   },
   "outputs": [
    {
     "name": "stdout",
     "output_type": "stream",
     "text": [
      "Reading C:\\Users\\mtu10\\PycharmProjects\\project1\\P19_fp-epo.fif ...\n",
      "    Found the data of interest:\n",
      "        t =     -60.00 ...    1000.00 ms\n",
      "        0 CTF compensation matrices available\n",
      "Not setting metadata\n",
      "309 matching events found\n",
      "No baseline correction applied\n",
      "0 projection items activated\n",
      "(125, 31, 1061)\n",
      "(122, 31, 1061)\n",
      "Reading C:\\Users\\mtu10\\PycharmProjects\\project1\\P19_fp-epo.fif ...\n",
      "    Found the data of interest:\n",
      "        t =     -60.00 ...    1000.00 ms\n",
      "        0 CTF compensation matrices available\n",
      "Not setting metadata\n",
      "309 matching events found\n",
      "No baseline correction applied\n",
      "0 projection items activated\n",
      "(1061,)\n",
      "(1061,)\n",
      "(1061,)\n",
      "(1061,)\n",
      "(1061,)\n",
      "(1061,)\n",
      "(1061,)\n",
      "(1061,)\n"
     ]
    }
   ],
   "source": [
    "path_to_file19 = \"P19_fp-epo.fif\"\n",
    "p19_data = mne.read_epochs(path_to_file19, proj=True, preload=True, verbose=None)\n",
    "p19_cong = p19_data[\"fp_congruent\"].get_data() * 1e6\n",
    "print(p19_cong.shape)\n",
    "p19_incong = p19_data[\"fp_incongruent\"].get_data() * 1e6\n",
    "print(p19_incong.shape)\n",
    "epochs19 = mne.read_epochs(path_to_file19, proj=True, preload=True, verbose=None)\n",
    "#\n",
    "ch_names19 = epochs19.info[\"ch_names\"]\n",
    "ch_idx191 = ch_names.index(\"Fp1\") #Pz, Cz, Oz\n",
    "ch_idx192 = ch_names.index(\"Pz\")\n",
    "ch_idx193 = ch_names.index(\"Cz\")\n",
    "ch_idx194 = ch_names.index(\"Oz\")\n",
    "\n",
    "p19_avg1fp1 = np.mean(p19_cong[:,ch_idx191,:],axis=0)\n",
    "p19_avg1pz = np.mean(p19_cong[:,ch_idx192,:],axis=0)\n",
    "p19_avg1cz = np.mean(p19_cong[:,ch_idx193,:],axis=0)\n",
    "p19_avg1oz = np.mean(p19_cong[:,ch_idx194,:],axis=0)\n",
    "print(p19_avg1fp1.shape)\n",
    "print(p19_avg1pz.shape)\n",
    "print(p19_avg1cz.shape)\n",
    "print(p19_avg1oz.shape)\n",
    "#\n",
    "p19_avg2fp1 = np.mean(p19_incong[:, ch_idx191, :], axis=0)\n",
    "p19_avg2pz = np.mean(p19_incong[:,ch_idx192,:],axis=0)\n",
    "p19_avg2cz = np.mean(p19_incong[:,ch_idx193,:],axis=0)\n",
    "p19_avg2oz = np.mean(p19_incong[:,ch_idx194,:],axis=0)\n",
    "print(p19_avg2fp1.shape)\n",
    "print(p19_avg2pz.shape)\n",
    "print(p19_avg2cz.shape)\n",
    "print(p19_avg2oz.shape)\n",
    "\n"
   ]
  },
  {
   "cell_type": "code",
   "execution_count": null,
   "id": "1ae3c9d0",
   "metadata": {
    "pycharm": {
     "name": "#%%\n"
    }
   },
   "outputs": [],
   "source": [
    "plt.figure()\n",
    "plt.plot(p19_avg1fp1, color=\"blue\")\n",
    "plt.plot(p19_avg2fp1, color=\"red\")\n",
    "plt.show()"
   ]
  },
  {
   "cell_type": "code",
   "execution_count": 158,
   "id": "4595e8d4",
   "metadata": {
    "pycharm": {
     "name": "#%%\n"
    }
   },
   "outputs": [
    {
     "data": {
      "text/plain": [
       "11.569862399688267"
      ]
     },
     "execution_count": 158,
     "metadata": {},
     "output_type": "execute_result"
    }
   ],
   "source": [
    "col_maxc19fp1 = p19_avg1fp1.max(axis=0)\n",
    "col_maxc19fp1"
   ]
  },
  {
   "cell_type": "code",
   "execution_count": 159,
   "id": "d188a44a",
   "metadata": {
    "pycharm": {
     "name": "#%%\n"
    }
   },
   "outputs": [
    {
     "data": {
      "text/plain": [
       "7.117317743861159"
      ]
     },
     "execution_count": 159,
     "metadata": {},
     "output_type": "execute_result"
    }
   ],
   "source": [
    "col_maxin19fp1 = p19_avg2fp1.max(axis=0)\n",
    "col_maxin19fp1"
   ]
  },
  {
   "cell_type": "code",
   "execution_count": null,
   "id": "dcf024c4",
   "metadata": {
    "pycharm": {
     "name": "#%%\n"
    }
   },
   "outputs": [],
   "source": [
    "plt.figure()\n",
    "plt.plot(p19_avg1pz, color=\"blue\")\n",
    "plt.plot(p19_avg2pz, color=\"red\")\n",
    "plt.show()"
   ]
  },
  {
   "cell_type": "code",
   "execution_count": 160,
   "id": "cc11c121",
   "metadata": {
    "pycharm": {
     "name": "#%%\n"
    }
   },
   "outputs": [
    {
     "data": {
      "text/plain": [
       "8.040727636200193"
      ]
     },
     "execution_count": 160,
     "metadata": {},
     "output_type": "execute_result"
    }
   ],
   "source": [
    "col_maxc19pz = p19_avg1pz.max(axis=0)\n",
    "col_maxc19pz"
   ]
  },
  {
   "cell_type": "code",
   "execution_count": 161,
   "id": "113e3846",
   "metadata": {
    "pycharm": {
     "name": "#%%\n"
    }
   },
   "outputs": [
    {
     "data": {
      "text/plain": [
       "7.930350473444407"
      ]
     },
     "execution_count": 161,
     "metadata": {},
     "output_type": "execute_result"
    }
   ],
   "source": [
    "col_maxin19pz = p19_avg2pz.max(axis=0)\n",
    "col_maxin19pz"
   ]
  },
  {
   "cell_type": "code",
   "execution_count": null,
   "id": "9f5654c5",
   "metadata": {
    "pycharm": {
     "name": "#%%\n"
    }
   },
   "outputs": [],
   "source": [
    "plt.figure()\n",
    "plt.plot(p19_avg1cz, color=\"blue\")\n",
    "plt.plot(p19_avg2cz, color=\"red\")\n",
    "plt.show()"
   ]
  },
  {
   "cell_type": "code",
   "execution_count": 162,
   "id": "bc961c50",
   "metadata": {
    "pycharm": {
     "name": "#%%\n"
    }
   },
   "outputs": [
    {
     "data": {
      "text/plain": [
       "8.171697716002196"
      ]
     },
     "execution_count": 162,
     "metadata": {},
     "output_type": "execute_result"
    }
   ],
   "source": [
    "col_maxc19cz = p19_avg1cz.max(axis=0)\n",
    "col_maxc19cz"
   ]
  },
  {
   "cell_type": "code",
   "execution_count": 163,
   "id": "2e571c96",
   "metadata": {
    "pycharm": {
     "name": "#%%\n"
    }
   },
   "outputs": [
    {
     "data": {
      "text/plain": [
       "8.207551803112846"
      ]
     },
     "execution_count": 163,
     "metadata": {},
     "output_type": "execute_result"
    }
   ],
   "source": [
    "col_maxin19cz = p19_avg2cz.max(axis=0)\n",
    "col_maxin19cz"
   ]
  },
  {
   "cell_type": "code",
   "execution_count": null,
   "id": "82faa984",
   "metadata": {
    "pycharm": {
     "name": "#%%\n"
    }
   },
   "outputs": [],
   "source": [
    "plt.figure()\n",
    "plt.plot(p19_avg1oz, color=\"blue\")\n",
    "plt.plot(p19_avg2oz, color=\"red\")\n",
    "plt.show()"
   ]
  },
  {
   "cell_type": "code",
   "execution_count": 164,
   "id": "42ecc6c4",
   "metadata": {
    "pycharm": {
     "name": "#%%\n"
    }
   },
   "outputs": [
    {
     "data": {
      "text/plain": [
       "11.08040011974739"
      ]
     },
     "execution_count": 164,
     "metadata": {},
     "output_type": "execute_result"
    }
   ],
   "source": [
    "col_maxc19oz = p19_avg1oz.max(axis=0)\n",
    "col_maxc19oz"
   ]
  },
  {
   "cell_type": "code",
   "execution_count": 165,
   "id": "ed9b4627",
   "metadata": {
    "pycharm": {
     "name": "#%%\n"
    }
   },
   "outputs": [
    {
     "data": {
      "text/plain": [
       "11.04075696456802"
      ]
     },
     "execution_count": 165,
     "metadata": {},
     "output_type": "execute_result"
    }
   ],
   "source": [
    "col_maxin19oz = p19_avg2oz.max(axis=0)\n",
    "col_maxin19oz"
   ]
  },
  {
   "cell_type": "code",
   "execution_count": 166,
   "id": "20b9f1f3",
   "metadata": {
    "pycharm": {
     "name": "#%%\n"
    }
   },
   "outputs": [
    {
     "data": {
      "text/html": [
       "<div>\n",
       "<style scoped>\n",
       "    .dataframe tbody tr th:only-of-type {\n",
       "        vertical-align: middle;\n",
       "    }\n",
       "\n",
       "    .dataframe tbody tr th {\n",
       "        vertical-align: top;\n",
       "    }\n",
       "\n",
       "    .dataframe thead th {\n",
       "        text-align: right;\n",
       "    }\n",
       "</style>\n",
       "<table border=\"1\" class=\"dataframe\">\n",
       "  <thead>\n",
       "    <tr style=\"text-align: right;\">\n",
       "      <th></th>\n",
       "      <th>pnumber</th>\n",
       "      <th>fp1</th>\n",
       "      <th>pz</th>\n",
       "      <th>cz</th>\n",
       "      <th>oz</th>\n",
       "    </tr>\n",
       "  </thead>\n",
       "  <tbody>\n",
       "    <tr>\n",
       "      <th>0</th>\n",
       "      <td>19cong</td>\n",
       "      <td>11.569862</td>\n",
       "      <td>8.040728</td>\n",
       "      <td>8.171698</td>\n",
       "      <td>11.080400</td>\n",
       "    </tr>\n",
       "    <tr>\n",
       "      <th>1</th>\n",
       "      <td>19incong</td>\n",
       "      <td>7.117318</td>\n",
       "      <td>7.930350</td>\n",
       "      <td>8.207552</td>\n",
       "      <td>11.040757</td>\n",
       "    </tr>\n",
       "  </tbody>\n",
       "</table>\n",
       "</div>"
      ],
      "text/plain": [
       "    pnumber        fp1        pz        cz         oz\n",
       "0    19cong  11.569862  8.040728  8.171698  11.080400\n",
       "1  19incong   7.117318  7.930350  8.207552  11.040757"
      ]
     },
     "execution_count": 166,
     "metadata": {},
     "output_type": "execute_result"
    }
   ],
   "source": [
    "data19 = pd.DataFrame({'pnumber' : ['19cong', '19incong'],\n",
    "       'fp1' : [col_maxc19fp1, col_maxin19fp1],\n",
    "        'pz' : [col_maxc19pz, col_maxin19pz],\n",
    "        'cz' : [col_maxc19cz, col_maxin19cz],\n",
    "        'oz' : [col_maxc19oz, col_maxin19oz]\n",
    "        })\n",
    "\n",
    "df19 = pd.DataFrame(data=data19)\n",
    "df19.head()"
   ]
  },
  {
   "cell_type": "markdown",
   "id": "be2b5fd0",
   "metadata": {
    "pycharm": {
     "name": "#%% md\n"
    }
   },
   "source": [
    "####################Participant 20#################"
   ]
  },
  {
   "cell_type": "code",
   "execution_count": 167,
   "id": "7a45f178",
   "metadata": {
    "pycharm": {
     "name": "#%%\n"
    }
   },
   "outputs": [
    {
     "name": "stdout",
     "output_type": "stream",
     "text": [
      "Reading C:\\Users\\mtu10\\PycharmProjects\\project1\\P20_fp-epo.fif ...\n",
      "    Found the data of interest:\n",
      "        t =     -60.00 ...    1000.00 ms\n",
      "        0 CTF compensation matrices available\n",
      "Not setting metadata\n",
      "313 matching events found\n",
      "No baseline correction applied\n",
      "0 projection items activated\n",
      "(130, 31, 1061)\n",
      "(124, 31, 1061)\n",
      "Reading C:\\Users\\mtu10\\PycharmProjects\\project1\\P20_fp-epo.fif ...\n",
      "    Found the data of interest:\n",
      "        t =     -60.00 ...    1000.00 ms\n",
      "        0 CTF compensation matrices available\n",
      "Not setting metadata\n",
      "313 matching events found\n",
      "No baseline correction applied\n",
      "0 projection items activated\n",
      "(1061,)\n",
      "(1061,)\n",
      "(1061,)\n",
      "(1061,)\n",
      "(1061,)\n",
      "(1061,)\n",
      "(1061,)\n",
      "(1061,)\n"
     ]
    }
   ],
   "source": [
    "path_to_file20 = \"P20_fp-epo.fif\"\n",
    "p20_data = mne.read_epochs(path_to_file20, proj=True, preload=True, verbose=None)\n",
    "p20_cong = p20_data[\"fp_congruent\"].get_data() * 1e6\n",
    "print(p20_cong.shape)\n",
    "p20_incong = p20_data[\"fp_incongruent\"].get_data() * 1e6\n",
    "print(p20_incong.shape)\n",
    "epochs20 = mne.read_epochs(path_to_file20, proj=True, preload=True, verbose=None)\n",
    "#\n",
    "ch_names20 = epochs20.info[\"ch_names\"]\n",
    "ch_idx201 = ch_names.index(\"Fp1\") #Pz, Cz, Oz\n",
    "ch_idx202 = ch_names.index(\"Pz\")\n",
    "ch_idx203 = ch_names.index(\"Cz\")\n",
    "ch_idx204 = ch_names.index(\"Oz\")\n",
    "\n",
    "ch_idx2010 = ch_names.index(\"CP5\")\n",
    "p20_avg1fp1 = np.mean(p20_cong[:,ch_idx201,:],axis=0)\n",
    "p20_avg1pz = np.mean(p20_cong[:,ch_idx202,:],axis=0)\n",
    "p20_avg1cz = np.mean(p20_cong[:,ch_idx203,:],axis=0)\n",
    "p20_avg1oz = np.mean(p20_cong[:,ch_idx204,:],axis=0)\n",
    "print(p20_avg1fp1.shape)\n",
    "print(p20_avg1pz.shape)\n",
    "print(p20_avg1cz.shape)\n",
    "print(p20_avg1oz.shape)\n",
    "#\n",
    "p20_avg2fp1 = np.mean(p20_incong[:, ch_idx201,:],axis=0)\n",
    "p20_avg2pz = np.mean(p20_incong[:,ch_idx202,:],axis=0)\n",
    "p20_avg2cz = np.mean(p20_incong[:,ch_idx203,:],axis=0)\n",
    "p20_avg2oz = np.mean(p20_incong[:,ch_idx204,:],axis=0)\n",
    "print(p20_avg2fp1.shape)\n",
    "print(p20_avg2pz.shape)\n",
    "print(p20_avg2cz.shape)\n",
    "print(p20_avg2oz.shape)\n",
    "\n",
    "\n"
   ]
  },
  {
   "cell_type": "code",
   "execution_count": null,
   "id": "d29441d5",
   "metadata": {
    "pycharm": {
     "name": "#%%\n"
    }
   },
   "outputs": [],
   "source": [
    "plt.figure()\n",
    "plt.plot(p20_avg1fp1, color=\"blue\")\n",
    "plt.plot(p20_avg2fp1, color=\"red\")\n",
    "plt.show()"
   ]
  },
  {
   "cell_type": "code",
   "execution_count": 168,
   "id": "a870a533",
   "metadata": {
    "pycharm": {
     "name": "#%%\n"
    }
   },
   "outputs": [
    {
     "data": {
      "text/plain": [
       "35.09309289454524"
      ]
     },
     "execution_count": 168,
     "metadata": {},
     "output_type": "execute_result"
    }
   ],
   "source": [
    "col_maxc20fp1 = p20_avg1fp1.max(axis=0)\n",
    "col_maxc20fp1"
   ]
  },
  {
   "cell_type": "code",
   "execution_count": 169,
   "id": "1f819d94",
   "metadata": {
    "pycharm": {
     "name": "#%%\n"
    }
   },
   "outputs": [
    {
     "data": {
      "text/plain": [
       "31.68988228143089"
      ]
     },
     "execution_count": 169,
     "metadata": {},
     "output_type": "execute_result"
    }
   ],
   "source": [
    "col_maxin20fp1 = p20_avg2fp1.max(axis=0)\n",
    "col_maxin20fp1"
   ]
  },
  {
   "cell_type": "code",
   "execution_count": null,
   "id": "e4f4fca1",
   "metadata": {
    "pycharm": {
     "name": "#%%\n"
    }
   },
   "outputs": [],
   "source": [
    "plt.figure()\n",
    "plt.plot(p20_avg1pz, color=\"blue\")\n",
    "plt.plot(p20_avg2pz, color=\"red\")\n",
    "plt.show()"
   ]
  },
  {
   "cell_type": "code",
   "execution_count": 170,
   "id": "d7ecba9a",
   "metadata": {
    "pycharm": {
     "name": "#%%\n"
    }
   },
   "outputs": [
    {
     "data": {
      "text/plain": [
       "16.71874670899681"
      ]
     },
     "execution_count": 170,
     "metadata": {},
     "output_type": "execute_result"
    }
   ],
   "source": [
    "col_maxc20pz = p20_avg1pz.max(axis=0)\n",
    "col_maxc20pz"
   ]
  },
  {
   "cell_type": "code",
   "execution_count": 171,
   "id": "2dbe2eb7",
   "metadata": {
    "pycharm": {
     "name": "#%%\n"
    }
   },
   "outputs": [
    {
     "data": {
      "text/plain": [
       "16.6957126439867"
      ]
     },
     "execution_count": 171,
     "metadata": {},
     "output_type": "execute_result"
    }
   ],
   "source": [
    "col_maxin20pz = p20_avg2pz.max(axis=0)\n",
    "col_maxin20pz"
   ]
  },
  {
   "cell_type": "code",
   "execution_count": null,
   "id": "d3a5941c",
   "metadata": {
    "pycharm": {
     "name": "#%%\n"
    }
   },
   "outputs": [],
   "source": [
    "plt.figure()\n",
    "plt.plot(p20_avg1cz, color=\"blue\")\n",
    "plt.plot(p20_avg2cz, color=\"red\")\n",
    "plt.show()"
   ]
  },
  {
   "cell_type": "code",
   "execution_count": 172,
   "id": "d7f05d88",
   "metadata": {
    "pycharm": {
     "name": "#%%\n"
    }
   },
   "outputs": [
    {
     "data": {
      "text/plain": [
       "16.58144379005814"
      ]
     },
     "execution_count": 172,
     "metadata": {},
     "output_type": "execute_result"
    }
   ],
   "source": [
    "col_maxc20cz = p20_avg1cz.max(axis=0)\n",
    "col_maxc20cz"
   ]
  },
  {
   "cell_type": "code",
   "execution_count": 173,
   "id": "4ba8cd6e",
   "metadata": {
    "pycharm": {
     "name": "#%%\n"
    }
   },
   "outputs": [
    {
     "data": {
      "text/plain": [
       "15.724415315008493"
      ]
     },
     "execution_count": 173,
     "metadata": {},
     "output_type": "execute_result"
    }
   ],
   "source": [
    "col_maxin20cz = p20_avg2cz.max(axis=0)\n",
    "col_maxin20cz"
   ]
  },
  {
   "cell_type": "code",
   "execution_count": null,
   "id": "028bb2d3",
   "metadata": {
    "pycharm": {
     "name": "#%%\n"
    }
   },
   "outputs": [],
   "source": [
    "plt.figure()\n",
    "plt.plot(p20_avg1oz, color=\"blue\")\n",
    "plt.plot(p20_avg2oz, color=\"red\")\n",
    "plt.show()"
   ]
  },
  {
   "cell_type": "code",
   "execution_count": 174,
   "id": "92c25ad4",
   "metadata": {
    "pycharm": {
     "name": "#%%\n"
    }
   },
   "outputs": [
    {
     "data": {
      "text/plain": [
       "19.498792749041716"
      ]
     },
     "execution_count": 174,
     "metadata": {},
     "output_type": "execute_result"
    }
   ],
   "source": [
    "col_maxc20oz = p20_avg1oz.max(axis=0)\n",
    "col_maxc20oz"
   ]
  },
  {
   "cell_type": "code",
   "execution_count": 175,
   "id": "1cd7cf80",
   "metadata": {
    "pycharm": {
     "name": "#%%\n"
    }
   },
   "outputs": [
    {
     "data": {
      "text/plain": [
       "19.313249610264585"
      ]
     },
     "execution_count": 175,
     "metadata": {},
     "output_type": "execute_result"
    }
   ],
   "source": [
    "col_maxin20oz = p20_avg2oz.max(axis=0)\n",
    "col_maxin20oz"
   ]
  },
  {
   "cell_type": "code",
   "execution_count": 176,
   "id": "27c2c185",
   "metadata": {
    "pycharm": {
     "name": "#%%\n"
    }
   },
   "outputs": [
    {
     "data": {
      "text/html": [
       "<div>\n",
       "<style scoped>\n",
       "    .dataframe tbody tr th:only-of-type {\n",
       "        vertical-align: middle;\n",
       "    }\n",
       "\n",
       "    .dataframe tbody tr th {\n",
       "        vertical-align: top;\n",
       "    }\n",
       "\n",
       "    .dataframe thead th {\n",
       "        text-align: right;\n",
       "    }\n",
       "</style>\n",
       "<table border=\"1\" class=\"dataframe\">\n",
       "  <thead>\n",
       "    <tr style=\"text-align: right;\">\n",
       "      <th></th>\n",
       "      <th>pnumber</th>\n",
       "      <th>fp1</th>\n",
       "      <th>pz</th>\n",
       "      <th>cz</th>\n",
       "      <th>oz</th>\n",
       "    </tr>\n",
       "  </thead>\n",
       "  <tbody>\n",
       "    <tr>\n",
       "      <th>0</th>\n",
       "      <td>20cong</td>\n",
       "      <td>35.093093</td>\n",
       "      <td>16.718747</td>\n",
       "      <td>16.581444</td>\n",
       "      <td>19.498793</td>\n",
       "    </tr>\n",
       "    <tr>\n",
       "      <th>1</th>\n",
       "      <td>20incong</td>\n",
       "      <td>31.689882</td>\n",
       "      <td>16.695713</td>\n",
       "      <td>15.724415</td>\n",
       "      <td>19.313250</td>\n",
       "    </tr>\n",
       "  </tbody>\n",
       "</table>\n",
       "</div>"
      ],
      "text/plain": [
       "    pnumber        fp1         pz         cz         oz\n",
       "0    20cong  35.093093  16.718747  16.581444  19.498793\n",
       "1  20incong  31.689882  16.695713  15.724415  19.313250"
      ]
     },
     "execution_count": 176,
     "metadata": {},
     "output_type": "execute_result"
    }
   ],
   "source": [
    "data20 = pd.DataFrame({'pnumber' : ['20cong', '20incong'],\n",
    "       'fp1' : [col_maxc20fp1, col_maxin20fp1],\n",
    "        'pz' : [col_maxc20pz, col_maxin20pz],\n",
    "        'cz' : [col_maxc20cz, col_maxin20cz],\n",
    "        'oz' : [col_maxc20oz, col_maxin20oz]\n",
    "        })\n",
    "\n",
    "df20 = pd.DataFrame(data=data20)\n",
    "df20.head()"
   ]
  },
  {
   "cell_type": "markdown",
   "id": "2d53df3d",
   "metadata": {
    "pycharm": {
     "name": "#%% md\n"
    }
   },
   "source": [
    "##########################Participant 21############"
   ]
  },
  {
   "cell_type": "code",
   "execution_count": 177,
   "id": "4b589d51",
   "metadata": {
    "pycharm": {
     "name": "#%%\n"
    }
   },
   "outputs": [
    {
     "name": "stdout",
     "output_type": "stream",
     "text": [
      "Reading C:\\Users\\mtu10\\PycharmProjects\\project1\\P21_fp-epo.fif ...\n",
      "    Found the data of interest:\n",
      "        t =     -60.00 ...    1000.00 ms\n",
      "        0 CTF compensation matrices available\n",
      "Not setting metadata\n",
      "369 matching events found\n",
      "No baseline correction applied\n",
      "0 projection items activated\n",
      "(156, 31, 1061)\n",
      "(139, 31, 1061)\n",
      "Reading C:\\Users\\mtu10\\PycharmProjects\\project1\\P21_fp-epo.fif ...\n",
      "    Found the data of interest:\n",
      "        t =     -60.00 ...    1000.00 ms\n",
      "        0 CTF compensation matrices available\n",
      "Not setting metadata\n",
      "369 matching events found\n",
      "No baseline correction applied\n",
      "0 projection items activated\n",
      "(1061,)\n",
      "(1061,)\n",
      "(1061,)\n",
      "(1061,)\n",
      "(1061,)\n",
      "(1061,)\n",
      "(1061,)\n",
      "(1061,)\n"
     ]
    }
   ],
   "source": [
    "path_to_file21 = \"P21_fp-epo.fif\"\n",
    "p21_data = mne.read_epochs(path_to_file21, proj=True, preload=True, verbose=None)\n",
    "p21_cong = p21_data[\"fp_congruent\"].get_data() * 1e6\n",
    "print(p21_cong.shape)\n",
    "p21_incong = p21_data[\"fp_incongruent\"].get_data() * 1e6\n",
    "print(p21_incong.shape)\n",
    "epochs21 = mne.read_epochs(path_to_file21, proj=True, preload=True, verbose=None)\n",
    "#\n",
    "ch_names21 = epochs21.info[\"ch_names\"]\n",
    "ch_idx211 = ch_names.index(\"Fp1\") #Pz, Cz, Oz\n",
    "ch_idx212 = ch_names.index(\"Pz\")\n",
    "ch_idx213 = ch_names.index(\"Cz\")\n",
    "ch_idx214 = ch_names.index(\"Oz\")\n",
    "\n",
    "p21_avg1fp1 = np.mean(p21_cong[:,ch_idx211,:],axis=0)\n",
    "p21_avg1pz = np.mean(p21_cong[:,ch_idx212,:],axis=0)\n",
    "p21_avg1cz = np.mean(p21_cong[:,ch_idx213,:],axis=0)\n",
    "p21_avg1oz = np.mean(p21_cong[:,ch_idx214,:],axis=0)\n",
    "print(p21_avg1fp1.shape)\n",
    "print(p21_avg1pz.shape)\n",
    "print(p21_avg1cz.shape)\n",
    "print(p21_avg1oz.shape)\n",
    "#\n",
    "p21_avg2fp1 = np.mean(p21_incong[:, ch_idx211,:],axis=0)\n",
    "p21_avg2pz = np.mean(p21_incong[:,ch_idx212,:],axis=0)\n",
    "p21_avg2cz = np.mean(p21_incong[:,ch_idx213,:],axis=0)\n",
    "p21_avg2oz = np.mean(p21_incong[:,ch_idx214,:],axis=0)\n",
    "print(p21_avg2fp1.shape)\n",
    "print(p21_avg2pz.shape)\n",
    "print(p21_avg2cz.shape)\n",
    "print(p21_avg2oz.shape)\n",
    "\n"
   ]
  },
  {
   "cell_type": "code",
   "execution_count": null,
   "id": "168e80a1",
   "metadata": {
    "pycharm": {
     "name": "#%%\n"
    }
   },
   "outputs": [],
   "source": [
    "plt.figure()\n",
    "plt.plot(p21_avg1fp1, color=\"blue\")\n",
    "plt.plot(p21_avg2fp1, color=\"red\")\n",
    "plt.show()"
   ]
  },
  {
   "cell_type": "code",
   "execution_count": 178,
   "id": "8d47e5d2",
   "metadata": {
    "pycharm": {
     "name": "#%%\n"
    }
   },
   "outputs": [
    {
     "data": {
      "text/plain": [
       "8.981572016942064"
      ]
     },
     "execution_count": 178,
     "metadata": {},
     "output_type": "execute_result"
    }
   ],
   "source": [
    "col_maxc21fp1 = p21_avg1fp1.max(axis=0)\n",
    "col_maxc21fp1"
   ]
  },
  {
   "cell_type": "code",
   "execution_count": 179,
   "id": "abf2b617",
   "metadata": {
    "pycharm": {
     "name": "#%%\n"
    }
   },
   "outputs": [
    {
     "data": {
      "text/plain": [
       "6.061409339915342"
      ]
     },
     "execution_count": 179,
     "metadata": {},
     "output_type": "execute_result"
    }
   ],
   "source": [
    "col_maxin21fp1 = p21_avg2fp1.max(axis=0)\n",
    "col_maxin21fp1"
   ]
  },
  {
   "cell_type": "code",
   "execution_count": null,
   "id": "20ed30dd",
   "metadata": {
    "pycharm": {
     "name": "#%%\n"
    }
   },
   "outputs": [],
   "source": [
    "plt.figure()\n",
    "plt.plot(p21_avg1pz, color=\"blue\")\n",
    "plt.plot(p21_avg2pz, color=\"red\")\n",
    "plt.show()"
   ]
  },
  {
   "cell_type": "code",
   "execution_count": 180,
   "id": "fc556d94",
   "metadata": {
    "pycharm": {
     "name": "#%%\n"
    }
   },
   "outputs": [
    {
     "data": {
      "text/plain": [
       "15.640368576047827"
      ]
     },
     "execution_count": 180,
     "metadata": {},
     "output_type": "execute_result"
    }
   ],
   "source": [
    "col_maxc21pz = p21_avg1pz.max(axis=0)\n",
    "col_maxc21pz"
   ]
  },
  {
   "cell_type": "code",
   "execution_count": 181,
   "id": "fbd62a94",
   "metadata": {
    "pycharm": {
     "name": "#%%\n"
    }
   },
   "outputs": [
    {
     "data": {
      "text/plain": [
       "16.60521004557313"
      ]
     },
     "execution_count": 181,
     "metadata": {},
     "output_type": "execute_result"
    }
   ],
   "source": [
    "col_maxin21pz = p21_avg2pz.max(axis=0)\n",
    "col_maxin21pz"
   ]
  },
  {
   "cell_type": "code",
   "execution_count": null,
   "id": "fd4b55b4",
   "metadata": {
    "pycharm": {
     "name": "#%%\n"
    }
   },
   "outputs": [],
   "source": [
    "plt.figure()\n",
    "plt.plot(p21_avg1cz, color=\"blue\")\n",
    "plt.plot(p21_avg2cz, color=\"red\")\n",
    "plt.show()"
   ]
  },
  {
   "cell_type": "code",
   "execution_count": 182,
   "id": "f59c8627",
   "metadata": {
    "pycharm": {
     "name": "#%%\n"
    }
   },
   "outputs": [
    {
     "data": {
      "text/plain": [
       "6.398255746758267"
      ]
     },
     "execution_count": 182,
     "metadata": {},
     "output_type": "execute_result"
    }
   ],
   "source": [
    "col_maxc21cz = p21_avg1cz.max(axis=0)\n",
    "col_maxc21cz"
   ]
  },
  {
   "cell_type": "code",
   "execution_count": 183,
   "id": "46ac63a3",
   "metadata": {
    "pycharm": {
     "name": "#%%\n"
    }
   },
   "outputs": [
    {
     "data": {
      "text/plain": [
       "5.675654525557958"
      ]
     },
     "execution_count": 183,
     "metadata": {},
     "output_type": "execute_result"
    }
   ],
   "source": [
    "col_maxin21cz = p21_avg2cz.max(axis=0)\n",
    "col_maxin21cz"
   ]
  },
  {
   "cell_type": "code",
   "execution_count": null,
   "id": "e6b96c2f",
   "metadata": {
    "pycharm": {
     "name": "#%%\n"
    }
   },
   "outputs": [],
   "source": [
    "plt.figure()\n",
    "plt.plot(p21_avg1oz, color=\"blue\")\n",
    "plt.plot(p21_avg2oz, color=\"red\")\n",
    "plt.show()"
   ]
  },
  {
   "cell_type": "code",
   "execution_count": 184,
   "id": "43629fdb",
   "metadata": {
    "pycharm": {
     "name": "#%%\n"
    }
   },
   "outputs": [
    {
     "data": {
      "text/plain": [
       "25.802267356855076"
      ]
     },
     "execution_count": 184,
     "metadata": {},
     "output_type": "execute_result"
    }
   ],
   "source": [
    "col_maxc21oz = p21_avg1oz.max(axis=0)\n",
    "col_maxc21oz"
   ]
  },
  {
   "cell_type": "code",
   "execution_count": 185,
   "id": "b1f6cc73",
   "metadata": {
    "pycharm": {
     "name": "#%%\n"
    }
   },
   "outputs": [
    {
     "data": {
      "text/plain": [
       "27.040349856049595"
      ]
     },
     "execution_count": 185,
     "metadata": {},
     "output_type": "execute_result"
    }
   ],
   "source": [
    "col_maxin21oz = p21_avg2oz.max(axis=0)\n",
    "col_maxin21oz"
   ]
  },
  {
   "cell_type": "code",
   "execution_count": 186,
   "id": "ae4a32b0",
   "metadata": {
    "pycharm": {
     "name": "#%%\n"
    }
   },
   "outputs": [
    {
     "data": {
      "text/html": [
       "<div>\n",
       "<style scoped>\n",
       "    .dataframe tbody tr th:only-of-type {\n",
       "        vertical-align: middle;\n",
       "    }\n",
       "\n",
       "    .dataframe tbody tr th {\n",
       "        vertical-align: top;\n",
       "    }\n",
       "\n",
       "    .dataframe thead th {\n",
       "        text-align: right;\n",
       "    }\n",
       "</style>\n",
       "<table border=\"1\" class=\"dataframe\">\n",
       "  <thead>\n",
       "    <tr style=\"text-align: right;\">\n",
       "      <th></th>\n",
       "      <th>pnumber</th>\n",
       "      <th>fp1</th>\n",
       "      <th>pz</th>\n",
       "      <th>cz</th>\n",
       "      <th>oz</th>\n",
       "    </tr>\n",
       "  </thead>\n",
       "  <tbody>\n",
       "    <tr>\n",
       "      <th>0</th>\n",
       "      <td>21cong</td>\n",
       "      <td>8.981572</td>\n",
       "      <td>15.640369</td>\n",
       "      <td>6.398256</td>\n",
       "      <td>25.802267</td>\n",
       "    </tr>\n",
       "    <tr>\n",
       "      <th>1</th>\n",
       "      <td>21incong</td>\n",
       "      <td>6.061409</td>\n",
       "      <td>16.605210</td>\n",
       "      <td>5.675655</td>\n",
       "      <td>27.040350</td>\n",
       "    </tr>\n",
       "  </tbody>\n",
       "</table>\n",
       "</div>"
      ],
      "text/plain": [
       "    pnumber       fp1         pz        cz         oz\n",
       "0    21cong  8.981572  15.640369  6.398256  25.802267\n",
       "1  21incong  6.061409  16.605210  5.675655  27.040350"
      ]
     },
     "execution_count": 186,
     "metadata": {},
     "output_type": "execute_result"
    }
   ],
   "source": [
    "data21 = pd.DataFrame({'pnumber' : ['21cong', '21incong'],\n",
    "       'fp1' : [col_maxc21fp1, col_maxin21fp1],\n",
    "        'pz' : [col_maxc21pz, col_maxin21pz],\n",
    "        'cz' : [col_maxc21cz, col_maxin21cz],\n",
    "        'oz' : [col_maxc21oz, col_maxin21oz]\n",
    "        })\n",
    "\n",
    "df21 = pd.DataFrame(data=data21)\n",
    "df21.head()"
   ]
  },
  {
   "cell_type": "markdown",
   "id": "0fa47051",
   "metadata": {
    "pycharm": {
     "name": "#%% md\n"
    }
   },
   "source": [
    "###############Participant 22###########"
   ]
  },
  {
   "cell_type": "code",
   "execution_count": 188,
   "id": "3b605706",
   "metadata": {
    "pycharm": {
     "name": "#%%\n"
    }
   },
   "outputs": [
    {
     "name": "stdout",
     "output_type": "stream",
     "text": [
      "Reading C:\\Users\\mtu10\\PycharmProjects\\project1\\P22_fp-epo.fif ...\n",
      "    Found the data of interest:\n",
      "        t =     -60.00 ...    1000.00 ms\n",
      "        0 CTF compensation matrices available\n",
      "Not setting metadata\n",
      "91 matching events found\n",
      "No baseline correction applied\n",
      "0 projection items activated\n",
      "(30, 31, 1061)\n",
      "(40, 31, 1061)\n",
      "Reading C:\\Users\\mtu10\\PycharmProjects\\project1\\P22_fp-epo.fif ...\n",
      "    Found the data of interest:\n",
      "        t =     -60.00 ...    1000.00 ms\n",
      "        0 CTF compensation matrices available\n",
      "Not setting metadata\n",
      "91 matching events found\n",
      "No baseline correction applied\n",
      "0 projection items activated\n",
      "(1061,)\n",
      "(1061,)\n",
      "(1061,)\n",
      "(1061,)\n",
      "(1061,)\n",
      "(1061,)\n",
      "(1061,)\n",
      "(1061,)\n"
     ]
    }
   ],
   "source": [
    "path_to_file22 = \"P22_fp-epo.fif\"\n",
    "p22_data = mne.read_epochs(path_to_file22, proj=True, preload=True, verbose=None)\n",
    "p22_cong = p22_data[\"fp_congruent\"].get_data() * 1e6\n",
    "print(p22_cong.shape)\n",
    "p22_incong = p22_data[\"fp_incongruent\"].get_data() * 1e6\n",
    "print(p22_incong.shape)\n",
    "epochs22 = mne.read_epochs(path_to_file22, proj=True, preload=True, verbose=None)\n",
    "#\n",
    "ch_names22 = epochs22.info[\"ch_names\"]\n",
    "ch_idx221 = ch_names.index(\"Fp1\") #Pz, Cz, Oz\n",
    "ch_idx222 = ch_names.index(\"Pz\")\n",
    "ch_idx223 = ch_names.index(\"Cz\")\n",
    "ch_idx224 = ch_names.index(\"Oz\")\n",
    "\n",
    "p22_avg1fp1 = np.mean(p22_cong[:,ch_idx221,:],axis=0)\n",
    "p22_avg1pz = np.mean(p22_cong[:,ch_idx222,:],axis=0)\n",
    "p22_avg1cz = np.mean(p22_cong[:,ch_idx223,:],axis=0)\n",
    "p22_avg1oz = np.mean(p22_cong[:,ch_idx224,:],axis=0)\n",
    "print(p22_avg1fp1.shape)\n",
    "print(p22_avg1pz.shape)\n",
    "print(p22_avg1cz.shape)\n",
    "print(p22_avg1oz.shape)\n",
    "#\n",
    "p22_avg2fp1 = np.mean(p22_incong[:, ch_idx221,:],axis=0)\n",
    "p22_avg2pz = np.mean(p22_incong[:,ch_idx222,:],axis=0)\n",
    "p22_avg2cz = np.mean(p22_incong[:,ch_idx223,:],axis=0)\n",
    "p22_avg2oz = np.mean(p22_incong[:,ch_idx224,:],axis=0)\n",
    "print(p22_avg2fp1.shape)\n",
    "print(p22_avg2pz.shape)\n",
    "print(p22_avg2cz.shape)\n",
    "print(p22_avg2oz.shape)\n",
    "\n"
   ]
  },
  {
   "cell_type": "code",
   "execution_count": null,
   "id": "eb91ec1e",
   "metadata": {
    "pycharm": {
     "name": "#%%\n"
    }
   },
   "outputs": [],
   "source": [
    "plt.figure()\n",
    "plt.plot(p22_avg1fp1, color=\"blue\")\n",
    "plt.plot(p22_avg2fp1, color=\"red\")\n",
    "plt.show()"
   ]
  },
  {
   "cell_type": "code",
   "execution_count": 189,
   "id": "76e2f8e4",
   "metadata": {
    "pycharm": {
     "name": "#%%\n"
    }
   },
   "outputs": [
    {
     "data": {
      "text/plain": [
       "9.83432754193759"
      ]
     },
     "execution_count": 189,
     "metadata": {},
     "output_type": "execute_result"
    }
   ],
   "source": [
    "col_maxc22fp1 = p22_avg1fp1.max(axis=0)\n",
    "col_maxc22fp1"
   ]
  },
  {
   "cell_type": "code",
   "execution_count": 190,
   "id": "386b7bf2",
   "metadata": {
    "pycharm": {
     "name": "#%%\n"
    }
   },
   "outputs": [
    {
     "data": {
      "text/plain": [
       "6.9068881420154025"
      ]
     },
     "execution_count": 190,
     "metadata": {},
     "output_type": "execute_result"
    }
   ],
   "source": [
    "col_maxin22fp1 = p22_avg2fp1.max(axis=0)\n",
    "col_maxin22fp1"
   ]
  },
  {
   "cell_type": "code",
   "execution_count": null,
   "id": "95af154e",
   "metadata": {
    "pycharm": {
     "name": "#%%\n"
    }
   },
   "outputs": [],
   "source": [
    "plt.figure()\n",
    "plt.plot(p22_avg1pz, color=\"blue\")\n",
    "plt.plot(p22_avg2pz, color=\"red\")\n",
    "plt.show()"
   ]
  },
  {
   "cell_type": "code",
   "execution_count": 191,
   "id": "40a9f987",
   "metadata": {
    "pycharm": {
     "name": "#%%\n"
    }
   },
   "outputs": [
    {
     "data": {
      "text/plain": [
       "8.81044462777191"
      ]
     },
     "execution_count": 191,
     "metadata": {},
     "output_type": "execute_result"
    }
   ],
   "source": [
    "col_maxc22pz = p22_avg1pz.max(axis=0)\n",
    "col_maxc22pz"
   ]
  },
  {
   "cell_type": "code",
   "execution_count": 192,
   "id": "692a678a",
   "metadata": {
    "pycharm": {
     "name": "#%%\n"
    }
   },
   "outputs": [
    {
     "data": {
      "text/plain": [
       "7.415457259789203"
      ]
     },
     "execution_count": 192,
     "metadata": {},
     "output_type": "execute_result"
    }
   ],
   "source": [
    "col_maxin22pz = p22_avg2pz.max(axis=0)\n",
    "col_maxin22pz"
   ]
  },
  {
   "cell_type": "code",
   "execution_count": null,
   "id": "700da31b",
   "metadata": {
    "pycharm": {
     "name": "#%%\n"
    }
   },
   "outputs": [],
   "source": [
    "plt.figure()\n",
    "plt.plot(p22_avg1cz, color=\"blue\")\n",
    "plt.plot(p22_avg2cz, color=\"red\")\n",
    "plt.show()"
   ]
  },
  {
   "cell_type": "code",
   "execution_count": 193,
   "id": "90cc4209",
   "metadata": {
    "pycharm": {
     "name": "#%%\n"
    }
   },
   "outputs": [
    {
     "data": {
      "text/plain": [
       "7.747436415220695"
      ]
     },
     "execution_count": 193,
     "metadata": {},
     "output_type": "execute_result"
    }
   ],
   "source": [
    "col_maxc22cz = p22_avg1cz.max(axis=0)\n",
    "col_maxc22cz"
   ]
  },
  {
   "cell_type": "code",
   "execution_count": 194,
   "id": "f254fb4c",
   "metadata": {
    "pycharm": {
     "name": "#%%\n"
    }
   },
   "outputs": [
    {
     "data": {
      "text/plain": [
       "8.66985038476578"
      ]
     },
     "execution_count": 194,
     "metadata": {},
     "output_type": "execute_result"
    }
   ],
   "source": [
    "col_maxin22cz = p22_avg2cz.max(axis=0)\n",
    "col_maxin22cz"
   ]
  },
  {
   "cell_type": "code",
   "execution_count": null,
   "id": "4ba3f6a7",
   "metadata": {
    "pycharm": {
     "name": "#%%\n"
    }
   },
   "outputs": [],
   "source": [
    "plt.figure()\n",
    "plt.plot(p22_avg1oz, color=\"blue\")\n",
    "plt.plot(p22_avg2oz, color=\"red\")\n",
    "plt.show()"
   ]
  },
  {
   "cell_type": "code",
   "execution_count": 195,
   "id": "ecb8bda8",
   "metadata": {
    "pycharm": {
     "name": "#%%\n"
    }
   },
   "outputs": [
    {
     "data": {
      "text/plain": [
       "6.805867177379079"
      ]
     },
     "execution_count": 195,
     "metadata": {},
     "output_type": "execute_result"
    }
   ],
   "source": [
    "col_maxc22oz = p22_avg1oz.max(axis=0)\n",
    "col_maxc22oz"
   ]
  },
  {
   "cell_type": "code",
   "execution_count": 196,
   "id": "50145a6e",
   "metadata": {
    "pycharm": {
     "name": "#%%\n"
    }
   },
   "outputs": [
    {
     "data": {
      "text/plain": [
       "3.342283523543395"
      ]
     },
     "execution_count": 196,
     "metadata": {},
     "output_type": "execute_result"
    }
   ],
   "source": [
    "col_maxin22oz = p22_avg2oz.max(axis=0)\n",
    "col_maxin22oz"
   ]
  },
  {
   "cell_type": "code",
   "execution_count": 197,
   "id": "0511bcf4",
   "metadata": {
    "pycharm": {
     "name": "#%%\n"
    }
   },
   "outputs": [
    {
     "data": {
      "text/html": [
       "<div>\n",
       "<style scoped>\n",
       "    .dataframe tbody tr th:only-of-type {\n",
       "        vertical-align: middle;\n",
       "    }\n",
       "\n",
       "    .dataframe tbody tr th {\n",
       "        vertical-align: top;\n",
       "    }\n",
       "\n",
       "    .dataframe thead th {\n",
       "        text-align: right;\n",
       "    }\n",
       "</style>\n",
       "<table border=\"1\" class=\"dataframe\">\n",
       "  <thead>\n",
       "    <tr style=\"text-align: right;\">\n",
       "      <th></th>\n",
       "      <th>pnumber</th>\n",
       "      <th>fp1</th>\n",
       "      <th>pz</th>\n",
       "      <th>cz</th>\n",
       "      <th>oz</th>\n",
       "    </tr>\n",
       "  </thead>\n",
       "  <tbody>\n",
       "    <tr>\n",
       "      <th>0</th>\n",
       "      <td>22cong</td>\n",
       "      <td>9.834328</td>\n",
       "      <td>8.810445</td>\n",
       "      <td>7.747436</td>\n",
       "      <td>6.805867</td>\n",
       "    </tr>\n",
       "    <tr>\n",
       "      <th>1</th>\n",
       "      <td>22incong</td>\n",
       "      <td>6.906888</td>\n",
       "      <td>7.415457</td>\n",
       "      <td>8.669850</td>\n",
       "      <td>3.342284</td>\n",
       "    </tr>\n",
       "  </tbody>\n",
       "</table>\n",
       "</div>"
      ],
      "text/plain": [
       "    pnumber       fp1        pz        cz        oz\n",
       "0    22cong  9.834328  8.810445  7.747436  6.805867\n",
       "1  22incong  6.906888  7.415457  8.669850  3.342284"
      ]
     },
     "execution_count": 197,
     "metadata": {},
     "output_type": "execute_result"
    }
   ],
   "source": [
    "data22 = pd.DataFrame({'pnumber' : ['22cong', '22incong'],\n",
    "       'fp1' : [col_maxc22fp1, col_maxin22fp1],\n",
    "        'pz' : [col_maxc22pz, col_maxin22pz],\n",
    "        'cz' : [col_maxc22cz, col_maxin22cz],\n",
    "        'oz' : [col_maxc22oz, col_maxin22oz]\n",
    "        })\n",
    "\n",
    "df22 = pd.DataFrame(data=data22)\n",
    "df22.head()"
   ]
  },
  {
   "cell_type": "code",
   "execution_count": 198,
   "id": "9f41f340",
   "metadata": {
    "pycharm": {
     "name": "#%%\n"
    }
   },
   "outputs": [
    {
     "data": {
      "text/html": [
       "<div>\n",
       "<style scoped>\n",
       "    .dataframe tbody tr th:only-of-type {\n",
       "        vertical-align: middle;\n",
       "    }\n",
       "\n",
       "    .dataframe tbody tr th {\n",
       "        vertical-align: top;\n",
       "    }\n",
       "\n",
       "    .dataframe thead th {\n",
       "        text-align: right;\n",
       "    }\n",
       "</style>\n",
       "<table border=\"1\" class=\"dataframe\">\n",
       "  <thead>\n",
       "    <tr style=\"text-align: right;\">\n",
       "      <th></th>\n",
       "      <th>pnumber</th>\n",
       "      <th>fp1</th>\n",
       "      <th>pz</th>\n",
       "      <th>cz</th>\n",
       "      <th>oz</th>\n",
       "    </tr>\n",
       "  </thead>\n",
       "  <tbody>\n",
       "    <tr>\n",
       "      <th>0</th>\n",
       "      <td>1cong</td>\n",
       "      <td>13.816930</td>\n",
       "      <td>14.018267</td>\n",
       "      <td>15.386464</td>\n",
       "      <td>11.463013</td>\n",
       "    </tr>\n",
       "    <tr>\n",
       "      <th>1</th>\n",
       "      <td>1incong</td>\n",
       "      <td>8.925796</td>\n",
       "      <td>10.743274</td>\n",
       "      <td>10.827896</td>\n",
       "      <td>10.688902</td>\n",
       "    </tr>\n",
       "    <tr>\n",
       "      <th>2</th>\n",
       "      <td>2cong</td>\n",
       "      <td>6.663928</td>\n",
       "      <td>7.175555</td>\n",
       "      <td>6.175287</td>\n",
       "      <td>2.263753</td>\n",
       "    </tr>\n",
       "    <tr>\n",
       "      <th>3</th>\n",
       "      <td>2incong</td>\n",
       "      <td>11.249594</td>\n",
       "      <td>7.997137</td>\n",
       "      <td>5.500814</td>\n",
       "      <td>2.667403</td>\n",
       "    </tr>\n",
       "    <tr>\n",
       "      <th>4</th>\n",
       "      <td>3cong</td>\n",
       "      <td>7.226672</td>\n",
       "      <td>11.081849</td>\n",
       "      <td>5.796564</td>\n",
       "      <td>15.944927</td>\n",
       "    </tr>\n",
       "    <tr>\n",
       "      <th>5</th>\n",
       "      <td>3incong</td>\n",
       "      <td>5.943961</td>\n",
       "      <td>6.752050</td>\n",
       "      <td>2.322867</td>\n",
       "      <td>15.874006</td>\n",
       "    </tr>\n",
       "    <tr>\n",
       "      <th>6</th>\n",
       "      <td>4cong</td>\n",
       "      <td>7.304756</td>\n",
       "      <td>12.558059</td>\n",
       "      <td>6.859345</td>\n",
       "      <td>9.204168</td>\n",
       "    </tr>\n",
       "    <tr>\n",
       "      <th>7</th>\n",
       "      <td>4incong</td>\n",
       "      <td>2.163967</td>\n",
       "      <td>17.764220</td>\n",
       "      <td>12.130491</td>\n",
       "      <td>8.581689</td>\n",
       "    </tr>\n",
       "    <tr>\n",
       "      <th>8</th>\n",
       "      <td>5cong</td>\n",
       "      <td>2.861294</td>\n",
       "      <td>13.552890</td>\n",
       "      <td>6.967180</td>\n",
       "      <td>13.128479</td>\n",
       "    </tr>\n",
       "    <tr>\n",
       "      <th>9</th>\n",
       "      <td>5incong</td>\n",
       "      <td>1.128921</td>\n",
       "      <td>11.674442</td>\n",
       "      <td>6.757029</td>\n",
       "      <td>11.188299</td>\n",
       "    </tr>\n",
       "    <tr>\n",
       "      <th>10</th>\n",
       "      <td>6cong</td>\n",
       "      <td>4.214745</td>\n",
       "      <td>4.289962</td>\n",
       "      <td>4.936980</td>\n",
       "      <td>11.670329</td>\n",
       "    </tr>\n",
       "    <tr>\n",
       "      <th>11</th>\n",
       "      <td>6incong</td>\n",
       "      <td>4.727759</td>\n",
       "      <td>3.488388</td>\n",
       "      <td>5.117213</td>\n",
       "      <td>12.057481</td>\n",
       "    </tr>\n",
       "    <tr>\n",
       "      <th>12</th>\n",
       "      <td>7cong</td>\n",
       "      <td>10.190780</td>\n",
       "      <td>14.725433</td>\n",
       "      <td>7.607219</td>\n",
       "      <td>11.500837</td>\n",
       "    </tr>\n",
       "    <tr>\n",
       "      <th>13</th>\n",
       "      <td>7incong</td>\n",
       "      <td>12.695022</td>\n",
       "      <td>15.403277</td>\n",
       "      <td>11.495857</td>\n",
       "      <td>12.750446</td>\n",
       "    </tr>\n",
       "    <tr>\n",
       "      <th>14</th>\n",
       "      <td>8cong</td>\n",
       "      <td>10.795593</td>\n",
       "      <td>25.294904</td>\n",
       "      <td>25.444187</td>\n",
       "      <td>16.618227</td>\n",
       "    </tr>\n",
       "    <tr>\n",
       "      <th>15</th>\n",
       "      <td>8incong</td>\n",
       "      <td>5.355542</td>\n",
       "      <td>24.324399</td>\n",
       "      <td>25.071492</td>\n",
       "      <td>15.503192</td>\n",
       "    </tr>\n",
       "    <tr>\n",
       "      <th>16</th>\n",
       "      <td>9cong</td>\n",
       "      <td>7.293103</td>\n",
       "      <td>11.554655</td>\n",
       "      <td>11.034864</td>\n",
       "      <td>11.719507</td>\n",
       "    </tr>\n",
       "    <tr>\n",
       "      <th>17</th>\n",
       "      <td>9incong</td>\n",
       "      <td>10.034466</td>\n",
       "      <td>12.870482</td>\n",
       "      <td>12.039418</td>\n",
       "      <td>11.132754</td>\n",
       "    </tr>\n",
       "    <tr>\n",
       "      <th>18</th>\n",
       "      <td>11cong</td>\n",
       "      <td>1.284769</td>\n",
       "      <td>5.745492</td>\n",
       "      <td>5.570833</td>\n",
       "      <td>8.514448</td>\n",
       "    </tr>\n",
       "    <tr>\n",
       "      <th>19</th>\n",
       "      <td>11incong</td>\n",
       "      <td>1.352803</td>\n",
       "      <td>2.281889</td>\n",
       "      <td>1.416119</td>\n",
       "      <td>8.421806</td>\n",
       "    </tr>\n",
       "    <tr>\n",
       "      <th>20</th>\n",
       "      <td>12cong</td>\n",
       "      <td>2.264841</td>\n",
       "      <td>10.371025</td>\n",
       "      <td>5.461531</td>\n",
       "      <td>12.134179</td>\n",
       "    </tr>\n",
       "    <tr>\n",
       "      <th>21</th>\n",
       "      <td>12incong</td>\n",
       "      <td>0.733412</td>\n",
       "      <td>11.610333</td>\n",
       "      <td>6.902362</td>\n",
       "      <td>14.957398</td>\n",
       "    </tr>\n",
       "    <tr>\n",
       "      <th>22</th>\n",
       "      <td>13cong</td>\n",
       "      <td>32.831916</td>\n",
       "      <td>17.682205</td>\n",
       "      <td>14.242643</td>\n",
       "      <td>6.360358</td>\n",
       "    </tr>\n",
       "    <tr>\n",
       "      <th>23</th>\n",
       "      <td>13incong</td>\n",
       "      <td>26.086737</td>\n",
       "      <td>16.909061</td>\n",
       "      <td>14.716884</td>\n",
       "      <td>7.172583</td>\n",
       "    </tr>\n",
       "    <tr>\n",
       "      <th>24</th>\n",
       "      <td>15cong</td>\n",
       "      <td>12.232413</td>\n",
       "      <td>12.652585</td>\n",
       "      <td>8.172595</td>\n",
       "      <td>10.851801</td>\n",
       "    </tr>\n",
       "    <tr>\n",
       "      <th>25</th>\n",
       "      <td>15incong</td>\n",
       "      <td>8.340705</td>\n",
       "      <td>11.617701</td>\n",
       "      <td>7.434075</td>\n",
       "      <td>8.199765</td>\n",
       "    </tr>\n",
       "    <tr>\n",
       "      <th>26</th>\n",
       "      <td>18cong</td>\n",
       "      <td>20.167087</td>\n",
       "      <td>10.803245</td>\n",
       "      <td>11.714671</td>\n",
       "      <td>4.072918</td>\n",
       "    </tr>\n",
       "    <tr>\n",
       "      <th>27</th>\n",
       "      <td>18incong</td>\n",
       "      <td>21.343640</td>\n",
       "      <td>13.007528</td>\n",
       "      <td>12.901496</td>\n",
       "      <td>7.523928</td>\n",
       "    </tr>\n",
       "    <tr>\n",
       "      <th>28</th>\n",
       "      <td>19cong</td>\n",
       "      <td>11.569862</td>\n",
       "      <td>8.040728</td>\n",
       "      <td>8.171698</td>\n",
       "      <td>11.080400</td>\n",
       "    </tr>\n",
       "    <tr>\n",
       "      <th>29</th>\n",
       "      <td>19incong</td>\n",
       "      <td>7.117318</td>\n",
       "      <td>7.930350</td>\n",
       "      <td>8.207552</td>\n",
       "      <td>11.040757</td>\n",
       "    </tr>\n",
       "    <tr>\n",
       "      <th>30</th>\n",
       "      <td>20cong</td>\n",
       "      <td>35.093093</td>\n",
       "      <td>16.718747</td>\n",
       "      <td>16.581444</td>\n",
       "      <td>19.498793</td>\n",
       "    </tr>\n",
       "    <tr>\n",
       "      <th>31</th>\n",
       "      <td>20incong</td>\n",
       "      <td>31.689882</td>\n",
       "      <td>16.695713</td>\n",
       "      <td>15.724415</td>\n",
       "      <td>19.313250</td>\n",
       "    </tr>\n",
       "    <tr>\n",
       "      <th>32</th>\n",
       "      <td>21cong</td>\n",
       "      <td>8.981572</td>\n",
       "      <td>15.640369</td>\n",
       "      <td>6.398256</td>\n",
       "      <td>25.802267</td>\n",
       "    </tr>\n",
       "    <tr>\n",
       "      <th>33</th>\n",
       "      <td>21incong</td>\n",
       "      <td>6.061409</td>\n",
       "      <td>16.605210</td>\n",
       "      <td>5.675655</td>\n",
       "      <td>27.040350</td>\n",
       "    </tr>\n",
       "    <tr>\n",
       "      <th>34</th>\n",
       "      <td>22cong</td>\n",
       "      <td>9.834328</td>\n",
       "      <td>8.810445</td>\n",
       "      <td>7.747436</td>\n",
       "      <td>6.805867</td>\n",
       "    </tr>\n",
       "    <tr>\n",
       "      <th>35</th>\n",
       "      <td>22incong</td>\n",
       "      <td>6.906888</td>\n",
       "      <td>7.415457</td>\n",
       "      <td>8.669850</td>\n",
       "      <td>3.342284</td>\n",
       "    </tr>\n",
       "  </tbody>\n",
       "</table>\n",
       "</div>"
      ],
      "text/plain": [
       "     pnumber        fp1         pz         cz         oz\n",
       "0      1cong  13.816930  14.018267  15.386464  11.463013\n",
       "1    1incong   8.925796  10.743274  10.827896  10.688902\n",
       "2      2cong   6.663928   7.175555   6.175287   2.263753\n",
       "3    2incong  11.249594   7.997137   5.500814   2.667403\n",
       "4      3cong   7.226672  11.081849   5.796564  15.944927\n",
       "5    3incong   5.943961   6.752050   2.322867  15.874006\n",
       "6      4cong   7.304756  12.558059   6.859345   9.204168\n",
       "7    4incong   2.163967  17.764220  12.130491   8.581689\n",
       "8      5cong   2.861294  13.552890   6.967180  13.128479\n",
       "9    5incong   1.128921  11.674442   6.757029  11.188299\n",
       "10     6cong   4.214745   4.289962   4.936980  11.670329\n",
       "11   6incong   4.727759   3.488388   5.117213  12.057481\n",
       "12     7cong  10.190780  14.725433   7.607219  11.500837\n",
       "13   7incong  12.695022  15.403277  11.495857  12.750446\n",
       "14     8cong  10.795593  25.294904  25.444187  16.618227\n",
       "15   8incong   5.355542  24.324399  25.071492  15.503192\n",
       "16     9cong   7.293103  11.554655  11.034864  11.719507\n",
       "17   9incong  10.034466  12.870482  12.039418  11.132754\n",
       "18    11cong   1.284769   5.745492   5.570833   8.514448\n",
       "19  11incong   1.352803   2.281889   1.416119   8.421806\n",
       "20    12cong   2.264841  10.371025   5.461531  12.134179\n",
       "21  12incong   0.733412  11.610333   6.902362  14.957398\n",
       "22    13cong  32.831916  17.682205  14.242643   6.360358\n",
       "23  13incong  26.086737  16.909061  14.716884   7.172583\n",
       "24    15cong  12.232413  12.652585   8.172595  10.851801\n",
       "25  15incong   8.340705  11.617701   7.434075   8.199765\n",
       "26    18cong  20.167087  10.803245  11.714671   4.072918\n",
       "27  18incong  21.343640  13.007528  12.901496   7.523928\n",
       "28    19cong  11.569862   8.040728   8.171698  11.080400\n",
       "29  19incong   7.117318   7.930350   8.207552  11.040757\n",
       "30    20cong  35.093093  16.718747  16.581444  19.498793\n",
       "31  20incong  31.689882  16.695713  15.724415  19.313250\n",
       "32    21cong   8.981572  15.640369   6.398256  25.802267\n",
       "33  21incong   6.061409  16.605210   5.675655  27.040350\n",
       "34    22cong   9.834328   8.810445   7.747436   6.805867\n",
       "35  22incong   6.906888   7.415457   8.669850   3.342284"
      ]
     },
     "execution_count": 198,
     "metadata": {},
     "output_type": "execute_result"
    }
   ],
   "source": [
    "dataF = pd.concat([dataD, data13, data15, data18, data19, data20, data21, data22], axis=0, ignore_index=True)\n",
    "dfF = pd.DataFrame(data=dataF)\n",
    "dfF"
   ]
  },
  {
   "cell_type": "code",
   "execution_count": 199,
   "id": "c32a4dd3",
   "metadata": {
    "pycharm": {
     "name": "#%%\n"
    }
   },
   "outputs": [
    {
     "data": {
      "text/html": [
       "<div>\n",
       "<style scoped>\n",
       "    .dataframe tbody tr th:only-of-type {\n",
       "        vertical-align: middle;\n",
       "    }\n",
       "\n",
       "    .dataframe tbody tr th {\n",
       "        vertical-align: top;\n",
       "    }\n",
       "\n",
       "    .dataframe thead th {\n",
       "        text-align: right;\n",
       "    }\n",
       "</style>\n",
       "<table border=\"1\" class=\"dataframe\">\n",
       "  <thead>\n",
       "    <tr style=\"text-align: right;\">\n",
       "      <th></th>\n",
       "      <th>pnumber</th>\n",
       "      <th>fp1</th>\n",
       "      <th>pz</th>\n",
       "      <th>cz</th>\n",
       "      <th>oz</th>\n",
       "    </tr>\n",
       "  </thead>\n",
       "  <tbody>\n",
       "    <tr>\n",
       "      <th>0</th>\n",
       "      <td>1cong</td>\n",
       "      <td>13.816930</td>\n",
       "      <td>14.018267</td>\n",
       "      <td>15.386464</td>\n",
       "      <td>11.463013</td>\n",
       "    </tr>\n",
       "    <tr>\n",
       "      <th>2</th>\n",
       "      <td>2cong</td>\n",
       "      <td>6.663928</td>\n",
       "      <td>7.175555</td>\n",
       "      <td>6.175287</td>\n",
       "      <td>2.263753</td>\n",
       "    </tr>\n",
       "    <tr>\n",
       "      <th>4</th>\n",
       "      <td>3cong</td>\n",
       "      <td>7.226672</td>\n",
       "      <td>11.081849</td>\n",
       "      <td>5.796564</td>\n",
       "      <td>15.944927</td>\n",
       "    </tr>\n",
       "    <tr>\n",
       "      <th>6</th>\n",
       "      <td>4cong</td>\n",
       "      <td>7.304756</td>\n",
       "      <td>12.558059</td>\n",
       "      <td>6.859345</td>\n",
       "      <td>9.204168</td>\n",
       "    </tr>\n",
       "    <tr>\n",
       "      <th>8</th>\n",
       "      <td>5cong</td>\n",
       "      <td>2.861294</td>\n",
       "      <td>13.552890</td>\n",
       "      <td>6.967180</td>\n",
       "      <td>13.128479</td>\n",
       "    </tr>\n",
       "    <tr>\n",
       "      <th>10</th>\n",
       "      <td>6cong</td>\n",
       "      <td>4.214745</td>\n",
       "      <td>4.289962</td>\n",
       "      <td>4.936980</td>\n",
       "      <td>11.670329</td>\n",
       "    </tr>\n",
       "    <tr>\n",
       "      <th>12</th>\n",
       "      <td>7cong</td>\n",
       "      <td>10.190780</td>\n",
       "      <td>14.725433</td>\n",
       "      <td>7.607219</td>\n",
       "      <td>11.500837</td>\n",
       "    </tr>\n",
       "    <tr>\n",
       "      <th>14</th>\n",
       "      <td>8cong</td>\n",
       "      <td>10.795593</td>\n",
       "      <td>25.294904</td>\n",
       "      <td>25.444187</td>\n",
       "      <td>16.618227</td>\n",
       "    </tr>\n",
       "    <tr>\n",
       "      <th>16</th>\n",
       "      <td>9cong</td>\n",
       "      <td>7.293103</td>\n",
       "      <td>11.554655</td>\n",
       "      <td>11.034864</td>\n",
       "      <td>11.719507</td>\n",
       "    </tr>\n",
       "    <tr>\n",
       "      <th>18</th>\n",
       "      <td>11cong</td>\n",
       "      <td>1.284769</td>\n",
       "      <td>5.745492</td>\n",
       "      <td>5.570833</td>\n",
       "      <td>8.514448</td>\n",
       "    </tr>\n",
       "    <tr>\n",
       "      <th>20</th>\n",
       "      <td>12cong</td>\n",
       "      <td>2.264841</td>\n",
       "      <td>10.371025</td>\n",
       "      <td>5.461531</td>\n",
       "      <td>12.134179</td>\n",
       "    </tr>\n",
       "    <tr>\n",
       "      <th>22</th>\n",
       "      <td>13cong</td>\n",
       "      <td>32.831916</td>\n",
       "      <td>17.682205</td>\n",
       "      <td>14.242643</td>\n",
       "      <td>6.360358</td>\n",
       "    </tr>\n",
       "    <tr>\n",
       "      <th>24</th>\n",
       "      <td>15cong</td>\n",
       "      <td>12.232413</td>\n",
       "      <td>12.652585</td>\n",
       "      <td>8.172595</td>\n",
       "      <td>10.851801</td>\n",
       "    </tr>\n",
       "    <tr>\n",
       "      <th>26</th>\n",
       "      <td>18cong</td>\n",
       "      <td>20.167087</td>\n",
       "      <td>10.803245</td>\n",
       "      <td>11.714671</td>\n",
       "      <td>4.072918</td>\n",
       "    </tr>\n",
       "    <tr>\n",
       "      <th>28</th>\n",
       "      <td>19cong</td>\n",
       "      <td>11.569862</td>\n",
       "      <td>8.040728</td>\n",
       "      <td>8.171698</td>\n",
       "      <td>11.080400</td>\n",
       "    </tr>\n",
       "    <tr>\n",
       "      <th>30</th>\n",
       "      <td>20cong</td>\n",
       "      <td>35.093093</td>\n",
       "      <td>16.718747</td>\n",
       "      <td>16.581444</td>\n",
       "      <td>19.498793</td>\n",
       "    </tr>\n",
       "    <tr>\n",
       "      <th>32</th>\n",
       "      <td>21cong</td>\n",
       "      <td>8.981572</td>\n",
       "      <td>15.640369</td>\n",
       "      <td>6.398256</td>\n",
       "      <td>25.802267</td>\n",
       "    </tr>\n",
       "    <tr>\n",
       "      <th>34</th>\n",
       "      <td>22cong</td>\n",
       "      <td>9.834328</td>\n",
       "      <td>8.810445</td>\n",
       "      <td>7.747436</td>\n",
       "      <td>6.805867</td>\n",
       "    </tr>\n",
       "  </tbody>\n",
       "</table>\n",
       "</div>"
      ],
      "text/plain": [
       "   pnumber        fp1         pz         cz         oz\n",
       "0    1cong  13.816930  14.018267  15.386464  11.463013\n",
       "2    2cong   6.663928   7.175555   6.175287   2.263753\n",
       "4    3cong   7.226672  11.081849   5.796564  15.944927\n",
       "6    4cong   7.304756  12.558059   6.859345   9.204168\n",
       "8    5cong   2.861294  13.552890   6.967180  13.128479\n",
       "10   6cong   4.214745   4.289962   4.936980  11.670329\n",
       "12   7cong  10.190780  14.725433   7.607219  11.500837\n",
       "14   8cong  10.795593  25.294904  25.444187  16.618227\n",
       "16   9cong   7.293103  11.554655  11.034864  11.719507\n",
       "18  11cong   1.284769   5.745492   5.570833   8.514448\n",
       "20  12cong   2.264841  10.371025   5.461531  12.134179\n",
       "22  13cong  32.831916  17.682205  14.242643   6.360358\n",
       "24  15cong  12.232413  12.652585   8.172595  10.851801\n",
       "26  18cong  20.167087  10.803245  11.714671   4.072918\n",
       "28  19cong  11.569862   8.040728   8.171698  11.080400\n",
       "30  20cong  35.093093  16.718747  16.581444  19.498793\n",
       "32  21cong   8.981572  15.640369   6.398256  25.802267\n",
       "34  22cong   9.834328   8.810445   7.747436   6.805867"
      ]
     },
     "execution_count": 199,
     "metadata": {},
     "output_type": "execute_result"
    }
   ],
   "source": [
    "dfFcong = dfF.drop([1,3,5,7,9,11,13,15,17,19,21,23,25,27,29,31,33,35])\n",
    "dfFcong"
   ]
  },
  {
   "cell_type": "code",
   "execution_count": 200,
   "id": "95f32c99",
   "metadata": {
    "pycharm": {
     "name": "#%%\n"
    }
   },
   "outputs": [
    {
     "data": {
      "text/html": [
       "<div>\n",
       "<style scoped>\n",
       "    .dataframe tbody tr th:only-of-type {\n",
       "        vertical-align: middle;\n",
       "    }\n",
       "\n",
       "    .dataframe tbody tr th {\n",
       "        vertical-align: top;\n",
       "    }\n",
       "\n",
       "    .dataframe thead th {\n",
       "        text-align: right;\n",
       "    }\n",
       "</style>\n",
       "<table border=\"1\" class=\"dataframe\">\n",
       "  <thead>\n",
       "    <tr style=\"text-align: right;\">\n",
       "      <th></th>\n",
       "      <th>pnumber</th>\n",
       "      <th>fp1</th>\n",
       "      <th>pz</th>\n",
       "      <th>cz</th>\n",
       "      <th>oz</th>\n",
       "    </tr>\n",
       "  </thead>\n",
       "  <tbody>\n",
       "    <tr>\n",
       "      <th>1</th>\n",
       "      <td>1incong</td>\n",
       "      <td>8.925796</td>\n",
       "      <td>10.743274</td>\n",
       "      <td>10.827896</td>\n",
       "      <td>10.688902</td>\n",
       "    </tr>\n",
       "    <tr>\n",
       "      <th>3</th>\n",
       "      <td>2incong</td>\n",
       "      <td>11.249594</td>\n",
       "      <td>7.997137</td>\n",
       "      <td>5.500814</td>\n",
       "      <td>2.667403</td>\n",
       "    </tr>\n",
       "    <tr>\n",
       "      <th>5</th>\n",
       "      <td>3incong</td>\n",
       "      <td>5.943961</td>\n",
       "      <td>6.752050</td>\n",
       "      <td>2.322867</td>\n",
       "      <td>15.874006</td>\n",
       "    </tr>\n",
       "    <tr>\n",
       "      <th>7</th>\n",
       "      <td>4incong</td>\n",
       "      <td>2.163967</td>\n",
       "      <td>17.764220</td>\n",
       "      <td>12.130491</td>\n",
       "      <td>8.581689</td>\n",
       "    </tr>\n",
       "    <tr>\n",
       "      <th>9</th>\n",
       "      <td>5incong</td>\n",
       "      <td>1.128921</td>\n",
       "      <td>11.674442</td>\n",
       "      <td>6.757029</td>\n",
       "      <td>11.188299</td>\n",
       "    </tr>\n",
       "    <tr>\n",
       "      <th>11</th>\n",
       "      <td>6incong</td>\n",
       "      <td>4.727759</td>\n",
       "      <td>3.488388</td>\n",
       "      <td>5.117213</td>\n",
       "      <td>12.057481</td>\n",
       "    </tr>\n",
       "    <tr>\n",
       "      <th>13</th>\n",
       "      <td>7incong</td>\n",
       "      <td>12.695022</td>\n",
       "      <td>15.403277</td>\n",
       "      <td>11.495857</td>\n",
       "      <td>12.750446</td>\n",
       "    </tr>\n",
       "    <tr>\n",
       "      <th>15</th>\n",
       "      <td>8incong</td>\n",
       "      <td>5.355542</td>\n",
       "      <td>24.324399</td>\n",
       "      <td>25.071492</td>\n",
       "      <td>15.503192</td>\n",
       "    </tr>\n",
       "    <tr>\n",
       "      <th>17</th>\n",
       "      <td>9incong</td>\n",
       "      <td>10.034466</td>\n",
       "      <td>12.870482</td>\n",
       "      <td>12.039418</td>\n",
       "      <td>11.132754</td>\n",
       "    </tr>\n",
       "    <tr>\n",
       "      <th>19</th>\n",
       "      <td>11incong</td>\n",
       "      <td>1.352803</td>\n",
       "      <td>2.281889</td>\n",
       "      <td>1.416119</td>\n",
       "      <td>8.421806</td>\n",
       "    </tr>\n",
       "    <tr>\n",
       "      <th>21</th>\n",
       "      <td>12incong</td>\n",
       "      <td>0.733412</td>\n",
       "      <td>11.610333</td>\n",
       "      <td>6.902362</td>\n",
       "      <td>14.957398</td>\n",
       "    </tr>\n",
       "    <tr>\n",
       "      <th>23</th>\n",
       "      <td>13incong</td>\n",
       "      <td>26.086737</td>\n",
       "      <td>16.909061</td>\n",
       "      <td>14.716884</td>\n",
       "      <td>7.172583</td>\n",
       "    </tr>\n",
       "    <tr>\n",
       "      <th>25</th>\n",
       "      <td>15incong</td>\n",
       "      <td>8.340705</td>\n",
       "      <td>11.617701</td>\n",
       "      <td>7.434075</td>\n",
       "      <td>8.199765</td>\n",
       "    </tr>\n",
       "    <tr>\n",
       "      <th>27</th>\n",
       "      <td>18incong</td>\n",
       "      <td>21.343640</td>\n",
       "      <td>13.007528</td>\n",
       "      <td>12.901496</td>\n",
       "      <td>7.523928</td>\n",
       "    </tr>\n",
       "    <tr>\n",
       "      <th>29</th>\n",
       "      <td>19incong</td>\n",
       "      <td>7.117318</td>\n",
       "      <td>7.930350</td>\n",
       "      <td>8.207552</td>\n",
       "      <td>11.040757</td>\n",
       "    </tr>\n",
       "    <tr>\n",
       "      <th>31</th>\n",
       "      <td>20incong</td>\n",
       "      <td>31.689882</td>\n",
       "      <td>16.695713</td>\n",
       "      <td>15.724415</td>\n",
       "      <td>19.313250</td>\n",
       "    </tr>\n",
       "    <tr>\n",
       "      <th>33</th>\n",
       "      <td>21incong</td>\n",
       "      <td>6.061409</td>\n",
       "      <td>16.605210</td>\n",
       "      <td>5.675655</td>\n",
       "      <td>27.040350</td>\n",
       "    </tr>\n",
       "    <tr>\n",
       "      <th>35</th>\n",
       "      <td>22incong</td>\n",
       "      <td>6.906888</td>\n",
       "      <td>7.415457</td>\n",
       "      <td>8.669850</td>\n",
       "      <td>3.342284</td>\n",
       "    </tr>\n",
       "  </tbody>\n",
       "</table>\n",
       "</div>"
      ],
      "text/plain": [
       "     pnumber        fp1         pz         cz         oz\n",
       "1    1incong   8.925796  10.743274  10.827896  10.688902\n",
       "3    2incong  11.249594   7.997137   5.500814   2.667403\n",
       "5    3incong   5.943961   6.752050   2.322867  15.874006\n",
       "7    4incong   2.163967  17.764220  12.130491   8.581689\n",
       "9    5incong   1.128921  11.674442   6.757029  11.188299\n",
       "11   6incong   4.727759   3.488388   5.117213  12.057481\n",
       "13   7incong  12.695022  15.403277  11.495857  12.750446\n",
       "15   8incong   5.355542  24.324399  25.071492  15.503192\n",
       "17   9incong  10.034466  12.870482  12.039418  11.132754\n",
       "19  11incong   1.352803   2.281889   1.416119   8.421806\n",
       "21  12incong   0.733412  11.610333   6.902362  14.957398\n",
       "23  13incong  26.086737  16.909061  14.716884   7.172583\n",
       "25  15incong   8.340705  11.617701   7.434075   8.199765\n",
       "27  18incong  21.343640  13.007528  12.901496   7.523928\n",
       "29  19incong   7.117318   7.930350   8.207552  11.040757\n",
       "31  20incong  31.689882  16.695713  15.724415  19.313250\n",
       "33  21incong   6.061409  16.605210   5.675655  27.040350\n",
       "35  22incong   6.906888   7.415457   8.669850   3.342284"
      ]
     },
     "execution_count": 200,
     "metadata": {},
     "output_type": "execute_result"
    }
   ],
   "source": [
    "dfFincong = dfF.drop([0,2,4,6,8,10,12,14,16,18,20,22,24,26,28,30,32,34])\n",
    "dfFincong"
   ]
  },
  {
   "cell_type": "code",
   "execution_count": 201,
   "id": "fe83ed70",
   "metadata": {
    "pycharm": {
     "name": "#%%\n"
    }
   },
   "outputs": [],
   "source": [
    "from sklearn.model_selection import StratifiedKFold, cross_val_score\n",
    "from sklearn.model_selection import KFold\n",
    "from sklearn.linear_model import LogisticRegression\n",
    "from sklearn.preprocessing import StandardScaler\n",
    "from sklearn.pipeline import make_pipeline\n",
    "from sklearn.svm import SVC\n",
    "from sklearn import svm, preprocessing\n",
    "from mne.decoding import Scaler, Vectorizer, cross_val_multiscore\n",
    "from sklearn.model_selection import LeaveOneOut\n",
    "import time"
   ]
  },
  {
   "cell_type": "code",
   "execution_count": 202,
   "id": "c57fbab7",
   "metadata": {
    "pycharm": {
     "name": "#%%\n"
    }
   },
   "outputs": [
    {
     "data": {
      "text/html": [
       "<div>\n",
       "<style scoped>\n",
       "    .dataframe tbody tr th:only-of-type {\n",
       "        vertical-align: middle;\n",
       "    }\n",
       "\n",
       "    .dataframe tbody tr th {\n",
       "        vertical-align: top;\n",
       "    }\n",
       "\n",
       "    .dataframe thead th {\n",
       "        text-align: right;\n",
       "    }\n",
       "</style>\n",
       "<table border=\"1\" class=\"dataframe\">\n",
       "  <thead>\n",
       "    <tr style=\"text-align: right;\">\n",
       "      <th></th>\n",
       "      <th>fp1</th>\n",
       "      <th>pz</th>\n",
       "      <th>cz</th>\n",
       "      <th>oz</th>\n",
       "      <th>congruency</th>\n",
       "    </tr>\n",
       "  </thead>\n",
       "  <tbody>\n",
       "    <tr>\n",
       "      <th>0</th>\n",
       "      <td>13.816930</td>\n",
       "      <td>14.018267</td>\n",
       "      <td>15.386464</td>\n",
       "      <td>11.463013</td>\n",
       "      <td>0</td>\n",
       "    </tr>\n",
       "    <tr>\n",
       "      <th>1</th>\n",
       "      <td>8.925796</td>\n",
       "      <td>10.743274</td>\n",
       "      <td>10.827896</td>\n",
       "      <td>10.688902</td>\n",
       "      <td>1</td>\n",
       "    </tr>\n",
       "    <tr>\n",
       "      <th>2</th>\n",
       "      <td>6.663928</td>\n",
       "      <td>7.175555</td>\n",
       "      <td>6.175287</td>\n",
       "      <td>2.263753</td>\n",
       "      <td>0</td>\n",
       "    </tr>\n",
       "    <tr>\n",
       "      <th>3</th>\n",
       "      <td>11.249594</td>\n",
       "      <td>7.997137</td>\n",
       "      <td>5.500814</td>\n",
       "      <td>2.667403</td>\n",
       "      <td>1</td>\n",
       "    </tr>\n",
       "    <tr>\n",
       "      <th>4</th>\n",
       "      <td>7.226672</td>\n",
       "      <td>11.081849</td>\n",
       "      <td>5.796564</td>\n",
       "      <td>15.944927</td>\n",
       "      <td>0</td>\n",
       "    </tr>\n",
       "    <tr>\n",
       "      <th>5</th>\n",
       "      <td>5.943961</td>\n",
       "      <td>6.752050</td>\n",
       "      <td>2.322867</td>\n",
       "      <td>15.874006</td>\n",
       "      <td>1</td>\n",
       "    </tr>\n",
       "    <tr>\n",
       "      <th>6</th>\n",
       "      <td>7.304756</td>\n",
       "      <td>12.558059</td>\n",
       "      <td>6.859345</td>\n",
       "      <td>9.204168</td>\n",
       "      <td>0</td>\n",
       "    </tr>\n",
       "    <tr>\n",
       "      <th>7</th>\n",
       "      <td>2.163967</td>\n",
       "      <td>17.764220</td>\n",
       "      <td>12.130491</td>\n",
       "      <td>8.581689</td>\n",
       "      <td>1</td>\n",
       "    </tr>\n",
       "    <tr>\n",
       "      <th>8</th>\n",
       "      <td>2.861294</td>\n",
       "      <td>13.552890</td>\n",
       "      <td>6.967180</td>\n",
       "      <td>13.128479</td>\n",
       "      <td>0</td>\n",
       "    </tr>\n",
       "    <tr>\n",
       "      <th>9</th>\n",
       "      <td>1.128921</td>\n",
       "      <td>11.674442</td>\n",
       "      <td>6.757029</td>\n",
       "      <td>11.188299</td>\n",
       "      <td>1</td>\n",
       "    </tr>\n",
       "    <tr>\n",
       "      <th>10</th>\n",
       "      <td>4.214745</td>\n",
       "      <td>4.289962</td>\n",
       "      <td>4.936980</td>\n",
       "      <td>11.670329</td>\n",
       "      <td>0</td>\n",
       "    </tr>\n",
       "    <tr>\n",
       "      <th>11</th>\n",
       "      <td>4.727759</td>\n",
       "      <td>3.488388</td>\n",
       "      <td>5.117213</td>\n",
       "      <td>12.057481</td>\n",
       "      <td>1</td>\n",
       "    </tr>\n",
       "    <tr>\n",
       "      <th>12</th>\n",
       "      <td>10.190780</td>\n",
       "      <td>14.725433</td>\n",
       "      <td>7.607219</td>\n",
       "      <td>11.500837</td>\n",
       "      <td>0</td>\n",
       "    </tr>\n",
       "    <tr>\n",
       "      <th>13</th>\n",
       "      <td>12.695022</td>\n",
       "      <td>15.403277</td>\n",
       "      <td>11.495857</td>\n",
       "      <td>12.750446</td>\n",
       "      <td>1</td>\n",
       "    </tr>\n",
       "    <tr>\n",
       "      <th>14</th>\n",
       "      <td>10.795593</td>\n",
       "      <td>25.294904</td>\n",
       "      <td>25.444187</td>\n",
       "      <td>16.618227</td>\n",
       "      <td>0</td>\n",
       "    </tr>\n",
       "    <tr>\n",
       "      <th>15</th>\n",
       "      <td>5.355542</td>\n",
       "      <td>24.324399</td>\n",
       "      <td>25.071492</td>\n",
       "      <td>15.503192</td>\n",
       "      <td>1</td>\n",
       "    </tr>\n",
       "    <tr>\n",
       "      <th>16</th>\n",
       "      <td>7.293103</td>\n",
       "      <td>11.554655</td>\n",
       "      <td>11.034864</td>\n",
       "      <td>11.719507</td>\n",
       "      <td>0</td>\n",
       "    </tr>\n",
       "    <tr>\n",
       "      <th>17</th>\n",
       "      <td>10.034466</td>\n",
       "      <td>12.870482</td>\n",
       "      <td>12.039418</td>\n",
       "      <td>11.132754</td>\n",
       "      <td>1</td>\n",
       "    </tr>\n",
       "    <tr>\n",
       "      <th>18</th>\n",
       "      <td>1.284769</td>\n",
       "      <td>5.745492</td>\n",
       "      <td>5.570833</td>\n",
       "      <td>8.514448</td>\n",
       "      <td>0</td>\n",
       "    </tr>\n",
       "    <tr>\n",
       "      <th>19</th>\n",
       "      <td>1.352803</td>\n",
       "      <td>2.281889</td>\n",
       "      <td>1.416119</td>\n",
       "      <td>8.421806</td>\n",
       "      <td>1</td>\n",
       "    </tr>\n",
       "    <tr>\n",
       "      <th>20</th>\n",
       "      <td>2.264841</td>\n",
       "      <td>10.371025</td>\n",
       "      <td>5.461531</td>\n",
       "      <td>12.134179</td>\n",
       "      <td>0</td>\n",
       "    </tr>\n",
       "    <tr>\n",
       "      <th>21</th>\n",
       "      <td>0.733412</td>\n",
       "      <td>11.610333</td>\n",
       "      <td>6.902362</td>\n",
       "      <td>14.957398</td>\n",
       "      <td>1</td>\n",
       "    </tr>\n",
       "    <tr>\n",
       "      <th>22</th>\n",
       "      <td>32.831916</td>\n",
       "      <td>17.682205</td>\n",
       "      <td>14.242643</td>\n",
       "      <td>6.360358</td>\n",
       "      <td>0</td>\n",
       "    </tr>\n",
       "    <tr>\n",
       "      <th>23</th>\n",
       "      <td>26.086737</td>\n",
       "      <td>16.909061</td>\n",
       "      <td>14.716884</td>\n",
       "      <td>7.172583</td>\n",
       "      <td>1</td>\n",
       "    </tr>\n",
       "    <tr>\n",
       "      <th>24</th>\n",
       "      <td>12.232413</td>\n",
       "      <td>12.652585</td>\n",
       "      <td>8.172595</td>\n",
       "      <td>10.851801</td>\n",
       "      <td>0</td>\n",
       "    </tr>\n",
       "    <tr>\n",
       "      <th>25</th>\n",
       "      <td>8.340705</td>\n",
       "      <td>11.617701</td>\n",
       "      <td>7.434075</td>\n",
       "      <td>8.199765</td>\n",
       "      <td>1</td>\n",
       "    </tr>\n",
       "    <tr>\n",
       "      <th>26</th>\n",
       "      <td>20.167087</td>\n",
       "      <td>10.803245</td>\n",
       "      <td>11.714671</td>\n",
       "      <td>4.072918</td>\n",
       "      <td>0</td>\n",
       "    </tr>\n",
       "    <tr>\n",
       "      <th>27</th>\n",
       "      <td>21.343640</td>\n",
       "      <td>13.007528</td>\n",
       "      <td>12.901496</td>\n",
       "      <td>7.523928</td>\n",
       "      <td>1</td>\n",
       "    </tr>\n",
       "    <tr>\n",
       "      <th>28</th>\n",
       "      <td>11.569862</td>\n",
       "      <td>8.040728</td>\n",
       "      <td>8.171698</td>\n",
       "      <td>11.080400</td>\n",
       "      <td>0</td>\n",
       "    </tr>\n",
       "    <tr>\n",
       "      <th>29</th>\n",
       "      <td>7.117318</td>\n",
       "      <td>7.930350</td>\n",
       "      <td>8.207552</td>\n",
       "      <td>11.040757</td>\n",
       "      <td>1</td>\n",
       "    </tr>\n",
       "    <tr>\n",
       "      <th>30</th>\n",
       "      <td>35.093093</td>\n",
       "      <td>16.718747</td>\n",
       "      <td>16.581444</td>\n",
       "      <td>19.498793</td>\n",
       "      <td>0</td>\n",
       "    </tr>\n",
       "    <tr>\n",
       "      <th>31</th>\n",
       "      <td>31.689882</td>\n",
       "      <td>16.695713</td>\n",
       "      <td>15.724415</td>\n",
       "      <td>19.313250</td>\n",
       "      <td>1</td>\n",
       "    </tr>\n",
       "    <tr>\n",
       "      <th>32</th>\n",
       "      <td>8.981572</td>\n",
       "      <td>15.640369</td>\n",
       "      <td>6.398256</td>\n",
       "      <td>25.802267</td>\n",
       "      <td>0</td>\n",
       "    </tr>\n",
       "    <tr>\n",
       "      <th>33</th>\n",
       "      <td>6.061409</td>\n",
       "      <td>16.605210</td>\n",
       "      <td>5.675655</td>\n",
       "      <td>27.040350</td>\n",
       "      <td>1</td>\n",
       "    </tr>\n",
       "    <tr>\n",
       "      <th>34</th>\n",
       "      <td>9.834328</td>\n",
       "      <td>8.810445</td>\n",
       "      <td>7.747436</td>\n",
       "      <td>6.805867</td>\n",
       "      <td>0</td>\n",
       "    </tr>\n",
       "    <tr>\n",
       "      <th>35</th>\n",
       "      <td>6.906888</td>\n",
       "      <td>7.415457</td>\n",
       "      <td>8.669850</td>\n",
       "      <td>3.342284</td>\n",
       "      <td>1</td>\n",
       "    </tr>\n",
       "  </tbody>\n",
       "</table>\n",
       "</div>"
      ],
      "text/plain": [
       "          fp1         pz         cz         oz  congruency\n",
       "0   13.816930  14.018267  15.386464  11.463013           0\n",
       "1    8.925796  10.743274  10.827896  10.688902           1\n",
       "2    6.663928   7.175555   6.175287   2.263753           0\n",
       "3   11.249594   7.997137   5.500814   2.667403           1\n",
       "4    7.226672  11.081849   5.796564  15.944927           0\n",
       "5    5.943961   6.752050   2.322867  15.874006           1\n",
       "6    7.304756  12.558059   6.859345   9.204168           0\n",
       "7    2.163967  17.764220  12.130491   8.581689           1\n",
       "8    2.861294  13.552890   6.967180  13.128479           0\n",
       "9    1.128921  11.674442   6.757029  11.188299           1\n",
       "10   4.214745   4.289962   4.936980  11.670329           0\n",
       "11   4.727759   3.488388   5.117213  12.057481           1\n",
       "12  10.190780  14.725433   7.607219  11.500837           0\n",
       "13  12.695022  15.403277  11.495857  12.750446           1\n",
       "14  10.795593  25.294904  25.444187  16.618227           0\n",
       "15   5.355542  24.324399  25.071492  15.503192           1\n",
       "16   7.293103  11.554655  11.034864  11.719507           0\n",
       "17  10.034466  12.870482  12.039418  11.132754           1\n",
       "18   1.284769   5.745492   5.570833   8.514448           0\n",
       "19   1.352803   2.281889   1.416119   8.421806           1\n",
       "20   2.264841  10.371025   5.461531  12.134179           0\n",
       "21   0.733412  11.610333   6.902362  14.957398           1\n",
       "22  32.831916  17.682205  14.242643   6.360358           0\n",
       "23  26.086737  16.909061  14.716884   7.172583           1\n",
       "24  12.232413  12.652585   8.172595  10.851801           0\n",
       "25   8.340705  11.617701   7.434075   8.199765           1\n",
       "26  20.167087  10.803245  11.714671   4.072918           0\n",
       "27  21.343640  13.007528  12.901496   7.523928           1\n",
       "28  11.569862   8.040728   8.171698  11.080400           0\n",
       "29   7.117318   7.930350   8.207552  11.040757           1\n",
       "30  35.093093  16.718747  16.581444  19.498793           0\n",
       "31  31.689882  16.695713  15.724415  19.313250           1\n",
       "32   8.981572  15.640369   6.398256  25.802267           0\n",
       "33   6.061409  16.605210   5.675655  27.040350           1\n",
       "34   9.834328   8.810445   7.747436   6.805867           0\n",
       "35   6.906888   7.415457   8.669850   3.342284           1"
      ]
     },
     "execution_count": 202,
     "metadata": {},
     "output_type": "execute_result"
    }
   ],
   "source": [
    "dfF['congruency'] = [0,1,0,1,0,1,0,1,0,1,0,1,0,1,0,1,0,1,0,1,0,1,0,1,0,1,0,1,0,1,0,1,0,1,0,1]\n",
    "dfF.drop('pnumber',axis=1,inplace=True)\n",
    "dfF"
   ]
  },
  {
   "cell_type": "code",
   "execution_count": 203,
   "id": "6dd269a7",
   "metadata": {
    "pycharm": {
     "name": "#%%\n"
    }
   },
   "outputs": [
    {
     "name": "stdout",
     "output_type": "stream",
     "text": [
      "CV scores: [0.5625     0.5        0.16666667 0.25       0.41666667]\n",
      "Mean ROC AUC = 0.379 (SD = 0.149)\n"
     ]
    }
   ],
   "source": [
    "X = dfF.drop(\"congruency\", axis=1).values\n",
    "\n",
    "\n",
    "y = dfF[\"congruency\"].values\n",
    "\n",
    "\n",
    "clf1 = make_pipeline(StandardScaler(), SVC(kernel='rbf', gamma='auto'))\n",
    "\n",
    "n_splits = 5\n",
    "scoring = 'roc_auc'\n",
    "cv = StratifiedKFold(n_splits=n_splits)\n",
    "scores1= cross_val_score(clf1, X=X, y=y, cv=cv, scoring=scoring)\n",
    "\n",
    "roc_auc_mean = round(np.mean(scores1), 3)\n",
    "roc_auc_std = round(np.std(scores1), 3)\n",
    "\n",
    "print(f'CV scores: {scores1}')\n",
    "print(f'Mean ROC AUC = {roc_auc_mean:.3f} (SD = {roc_auc_std:.3f})')"
   ]
  },
  {
   "cell_type": "code",
   "execution_count": 204,
   "id": "22ab94f5",
   "metadata": {
    "pycharm": {
     "name": "#%%\n"
    }
   },
   "outputs": [
    {
     "name": "stdout",
     "output_type": "stream",
     "text": [
      "fold 1\n",
      "[ 9 10 11 12 13 14 15 16 17 18 19 20 21 22 23 24 25 26 27 28 29 30 31 32\n",
      " 33 34 35] having: 27\n",
      "[0 1 2 3 4 5 6 7 8] having: 27\n",
      "----------------\n",
      "fold 2\n",
      "[ 0  1  2  3  4  5  6  7  8 18 19 20 21 22 23 24 25 26 27 28 29 30 31 32\n",
      " 33 34 35] having: 27\n",
      "[ 9 10 11 12 13 14 15 16 17] having: 27\n",
      "----------------\n",
      "fold 3\n",
      "[ 0  1  2  3  4  5  6  7  8  9 10 11 12 13 14 15 16 17 27 28 29 30 31 32\n",
      " 33 34 35] having: 27\n",
      "[18 19 20 21 22 23 24 25 26] having: 27\n",
      "----------------\n",
      "fold 4\n",
      "[ 0  1  2  3  4  5  6  7  8  9 10 11 12 13 14 15 16 17 18 19 20 21 22 23\n",
      " 24 25 26] having: 27\n",
      "[27 28 29 30 31 32 33 34 35] having: 27\n",
      "----------------\n"
     ]
    }
   ],
   "source": [
    "kf = KFold(n_splits=4)\n",
    "i = 1\n",
    "for train_set, test_set in kf.split(X=X):\n",
    "    print(\"fold\", i)\n",
    "    print(train_set, \"having:\" , len(train_set))\n",
    "    print(test_set, \"having:\" , len(train_set))\n",
    "    print(\"----------------\")\n",
    "    i +=1"
   ]
  },
  {
   "cell_type": "code",
   "execution_count": 205,
   "id": "3da9469b",
   "metadata": {
    "pycharm": {
     "name": "#%%\n"
    }
   },
   "outputs": [
    {
     "data": {
      "text/html": [
       "<style>#sk-container-id-1 {color: black;background-color: white;}#sk-container-id-1 pre{padding: 0;}#sk-container-id-1 div.sk-toggleable {background-color: white;}#sk-container-id-1 label.sk-toggleable__label {cursor: pointer;display: block;width: 100%;margin-bottom: 0;padding: 0.3em;box-sizing: border-box;text-align: center;}#sk-container-id-1 label.sk-toggleable__label-arrow:before {content: \"▸\";float: left;margin-right: 0.25em;color: #696969;}#sk-container-id-1 label.sk-toggleable__label-arrow:hover:before {color: black;}#sk-container-id-1 div.sk-estimator:hover label.sk-toggleable__label-arrow:before {color: black;}#sk-container-id-1 div.sk-toggleable__content {max-height: 0;max-width: 0;overflow: hidden;text-align: left;background-color: #f0f8ff;}#sk-container-id-1 div.sk-toggleable__content pre {margin: 0.2em;color: black;border-radius: 0.25em;background-color: #f0f8ff;}#sk-container-id-1 input.sk-toggleable__control:checked~div.sk-toggleable__content {max-height: 200px;max-width: 100%;overflow: auto;}#sk-container-id-1 input.sk-toggleable__control:checked~label.sk-toggleable__label-arrow:before {content: \"▾\";}#sk-container-id-1 div.sk-estimator input.sk-toggleable__control:checked~label.sk-toggleable__label {background-color: #d4ebff;}#sk-container-id-1 div.sk-label input.sk-toggleable__control:checked~label.sk-toggleable__label {background-color: #d4ebff;}#sk-container-id-1 input.sk-hidden--visually {border: 0;clip: rect(1px 1px 1px 1px);clip: rect(1px, 1px, 1px, 1px);height: 1px;margin: -1px;overflow: hidden;padding: 0;position: absolute;width: 1px;}#sk-container-id-1 div.sk-estimator {font-family: monospace;background-color: #f0f8ff;border: 1px dotted black;border-radius: 0.25em;box-sizing: border-box;margin-bottom: 0.5em;}#sk-container-id-1 div.sk-estimator:hover {background-color: #d4ebff;}#sk-container-id-1 div.sk-parallel-item::after {content: \"\";width: 100%;border-bottom: 1px solid gray;flex-grow: 1;}#sk-container-id-1 div.sk-label:hover label.sk-toggleable__label {background-color: #d4ebff;}#sk-container-id-1 div.sk-serial::before {content: \"\";position: absolute;border-left: 1px solid gray;box-sizing: border-box;top: 0;bottom: 0;left: 50%;z-index: 0;}#sk-container-id-1 div.sk-serial {display: flex;flex-direction: column;align-items: center;background-color: white;padding-right: 0.2em;padding-left: 0.2em;position: relative;}#sk-container-id-1 div.sk-item {position: relative;z-index: 1;}#sk-container-id-1 div.sk-parallel {display: flex;align-items: stretch;justify-content: center;background-color: white;position: relative;}#sk-container-id-1 div.sk-item::before, #sk-container-id-1 div.sk-parallel-item::before {content: \"\";position: absolute;border-left: 1px solid gray;box-sizing: border-box;top: 0;bottom: 0;left: 50%;z-index: -1;}#sk-container-id-1 div.sk-parallel-item {display: flex;flex-direction: column;z-index: 1;position: relative;background-color: white;}#sk-container-id-1 div.sk-parallel-item:first-child::after {align-self: flex-end;width: 50%;}#sk-container-id-1 div.sk-parallel-item:last-child::after {align-self: flex-start;width: 50%;}#sk-container-id-1 div.sk-parallel-item:only-child::after {width: 0;}#sk-container-id-1 div.sk-dashed-wrapped {border: 1px dashed gray;margin: 0 0.4em 0.5em 0.4em;box-sizing: border-box;padding-bottom: 0.4em;background-color: white;}#sk-container-id-1 div.sk-label label {font-family: monospace;font-weight: bold;display: inline-block;line-height: 1.2em;}#sk-container-id-1 div.sk-label-container {text-align: center;}#sk-container-id-1 div.sk-container {/* jupyter's `normalize.less` sets `[hidden] { display: none; }` but bootstrap.min.css set `[hidden] { display: none !important; }` so we also need the `!important` here to be able to override the default hidden behavior on the sphinx rendered scikit-learn.org. See: https://github.com/scikit-learn/scikit-learn/issues/21755 */display: inline-block !important;position: relative;}#sk-container-id-1 div.sk-text-repr-fallback {display: none;}</style><div id=\"sk-container-id-1\" class=\"sk-top-container\"><div class=\"sk-text-repr-fallback\"><pre>Pipeline(steps=[(&#x27;standardscaler&#x27;, StandardScaler()),\n",
       "                (&#x27;svc&#x27;, SVC(gamma=&#x27;auto&#x27;))])</pre><b>In a Jupyter environment, please rerun this cell to show the HTML representation or trust the notebook. <br />On GitHub, the HTML representation is unable to render, please try loading this page with nbviewer.org.</b></div><div class=\"sk-container\" hidden><div class=\"sk-item sk-dashed-wrapped\"><div class=\"sk-label-container\"><div class=\"sk-label sk-toggleable\"><input class=\"sk-toggleable__control sk-hidden--visually\" id=\"sk-estimator-id-1\" type=\"checkbox\" ><label for=\"sk-estimator-id-1\" class=\"sk-toggleable__label sk-toggleable__label-arrow\">Pipeline</label><div class=\"sk-toggleable__content\"><pre>Pipeline(steps=[(&#x27;standardscaler&#x27;, StandardScaler()),\n",
       "                (&#x27;svc&#x27;, SVC(gamma=&#x27;auto&#x27;))])</pre></div></div></div><div class=\"sk-serial\"><div class=\"sk-item\"><div class=\"sk-estimator sk-toggleable\"><input class=\"sk-toggleable__control sk-hidden--visually\" id=\"sk-estimator-id-2\" type=\"checkbox\" ><label for=\"sk-estimator-id-2\" class=\"sk-toggleable__label sk-toggleable__label-arrow\">StandardScaler</label><div class=\"sk-toggleable__content\"><pre>StandardScaler()</pre></div></div></div><div class=\"sk-item\"><div class=\"sk-estimator sk-toggleable\"><input class=\"sk-toggleable__control sk-hidden--visually\" id=\"sk-estimator-id-3\" type=\"checkbox\" ><label for=\"sk-estimator-id-3\" class=\"sk-toggleable__label sk-toggleable__label-arrow\">SVC</label><div class=\"sk-toggleable__content\"><pre>SVC(gamma=&#x27;auto&#x27;)</pre></div></div></div></div></div></div></div>"
      ],
      "text/plain": [
       "Pipeline(steps=[('standardscaler', StandardScaler()),\n",
       "                ('svc', SVC(gamma='auto'))])"
      ]
     },
     "execution_count": 205,
     "metadata": {},
     "output_type": "execute_result"
    }
   ],
   "source": [
    "\n",
    "X = dfF.drop(\"congruency\", axis=1).values\n",
    "\n",
    "\n",
    "y = dfF[\"congruency\"].values\n",
    "\n",
    "\n",
    "test_size = 20\n",
    "\n",
    "X_train1 = X[:-test_size]\n",
    "y_train1 = y[:-test_size]\n",
    "\n",
    "X_test1 = X[-test_size:]\n",
    "y_test1 = y[-test_size:]\n",
    "clf1= make_pipeline(StandardScaler(), SVC(kernel='rbf', gamma='auto'))\n",
    "clf1.fit(X_train1, y_train1)\n"
   ]
  },
  {
   "cell_type": "code",
   "execution_count": 206,
   "id": "507c25fb",
   "metadata": {
    "pycharm": {
     "name": "#%%\n"
    }
   },
   "outputs": [
    {
     "data": {
      "text/plain": [
       "0.5"
      ]
     },
     "execution_count": 206,
     "metadata": {},
     "output_type": "execute_result"
    }
   ],
   "source": [
    "clf1.score(X_test1, y_test1)"
   ]
  },
  {
   "cell_type": "code",
   "execution_count": 207,
   "id": "1c855564",
   "metadata": {
    "pycharm": {
     "name": "#%%\n"
    }
   },
   "outputs": [
    {
     "name": "stdout",
     "output_type": "stream",
     "text": [
      "[0.375      0.57142857 0.28571429 0.42857143 0.42857143]\n"
     ]
    }
   ],
   "source": [
    "X = dfF.drop(\"congruency\", axis=1).values\n",
    "\n",
    "\n",
    "y = dfF[\"congruency\"].values\n",
    "\n",
    "\n",
    "clf2 = make_pipeline(StandardScaler(), SVC(kernel='rbf', gamma='scale'))\n",
    "\n",
    "n_splits = 5\n",
    "scoring = 'accuracy'\n",
    "cv = StratifiedKFold(n_splits=n_splits)\n",
    "scores2= cross_val_score(clf2, X=X, y=y, cv=cv, scoring=scoring)\n",
    "print(scores2)"
   ]
  },
  {
   "cell_type": "code",
   "execution_count": null,
   "id": "89e54503",
   "metadata": {
    "pycharm": {
     "name": "#%%\n"
    }
   },
   "outputs": [],
   "source": [
    "fig, ax = plt.subplots()\n",
    "ax.boxplot(scores2,\n",
    "          showmeans=True,\n",
    "          whis=(0,35),\n",
    "          labels=['congruent vs incongruent'])\n",
    "ax.set_ylabel('Score')\n",
    "ax.set_title('Cross-Validation Scores')"
   ]
  },
  {
   "cell_type": "code",
   "execution_count": null,
   "id": "5f27eba4",
   "metadata": {
    "pycharm": {
     "name": "#%%\n"
    }
   },
   "outputs": [],
   "source": [
    "X = dfF.drop(\"congruency\", axis=1).values\n",
    "\n",
    "\n",
    "y = dfF[\"congruency\"].values\n",
    "\n",
    "\n",
    "\n",
    "loo = LeaveOneOut()\n",
    "loo.get_n_splits(X)\n",
    "print(loo)\n",
    "\n",
    "\n",
    "scoring = 'accuracy'\n",
    "cv = LeaveOneOut()\n",
    "\n",
    "\n",
    "\n",
    "for train_index, test_index in loo.split(X):\n",
    "    X_train, X_test = X[train_index], X[test_index]\n",
    "    y_train, y_test = y[train_index], y[test_index]\n",
    "    clf3 = make_pipeline(StandardScaler(), SVC(kernel='linear', gamma='auto'))\n",
    "    clf3.fit(X_train, y_train)\n",
    "    \n",
    "    scores3 = clf3.score(X_test, y_test)\n",
    "    print(scores3)"
   ]
  },
  {
   "cell_type": "code",
   "execution_count": null,
   "id": "b23dac39",
   "metadata": {
    "pycharm": {
     "name": "#%%\n"
    }
   },
   "outputs": [],
   "source": [
    "X = dfF.drop(\"congruency\", axis=1).values\n",
    "\n",
    "\n",
    "y = dfF[\"congruency\"].values\n",
    "\n",
    "\n",
    "\n",
    "loo = LeaveOneOut()\n",
    "loo.get_n_splits(X)\n",
    "print(loo)\n",
    "\n",
    "\n",
    "scoring = 'accuracy'\n",
    "cv = LeaveOneOut()\n",
    "clf3 = make_pipeline(StandardScaler(), SVC(kernel='linear', gamma='scale'))\n",
    "scores7 = cross_val_score(clf3, X=X, y=y, cv=LeaveOneOut(), scoring='accuracy')\n",
    "print(scores7)"
   ]
  },
  {
   "cell_type": "code",
   "execution_count": null,
   "id": "d26718ac",
   "metadata": {
    "pycharm": {
     "name": "#%%\n"
    }
   },
   "outputs": [],
   "source": [
    "clf3 = make_pipeline(StandardScaler(), SVC(kernel='linear', gamma='scale'))\n",
    "clf3.fit(X_train, y_train)"
   ]
  },
  {
   "cell_type": "code",
   "execution_count": null,
   "id": "7c8d63fd",
   "metadata": {
    "pycharm": {
     "name": "#%%\n"
    }
   },
   "outputs": [],
   "source": [
    "print(clf3.score(X_test, y_test))\n",
    "for X,y in zip(X_test, y_test):\n",
    "    print(f\"Model: {clf3.predict([X])[0]}, Actual: {y}\")"
   ]
  },
  {
   "cell_type": "code",
   "execution_count": null,
   "id": "6a0bf770",
   "metadata": {
    "pycharm": {
     "name": "#%%\n"
    }
   },
   "outputs": [],
   "source": []
  }
 ],
 "metadata": {
  "kernelspec": {
   "display_name": "Python 3 (ipykernel)",
   "language": "python",
   "name": "python3"
  },
  "language_info": {
   "codemirror_mode": {
    "name": "ipython",
    "version": 3
   },
   "file_extension": ".py",
   "mimetype": "text/x-python",
   "name": "python",
   "nbconvert_exporter": "python",
   "pygments_lexer": "ipython3",
   "version": "3.10.6"
  }
 },
 "nbformat": 4,
 "nbformat_minor": 5
}